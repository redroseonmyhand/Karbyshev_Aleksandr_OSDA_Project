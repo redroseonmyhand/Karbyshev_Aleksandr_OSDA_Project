{
 "cells": [
  {
   "cell_type": "code",
   "execution_count": 2,
   "id": "6c815161",
   "metadata": {},
   "outputs": [],
   "source": [
    "import pandas as pd"
   ]
  },
  {
   "cell_type": "markdown",
   "id": "a93349e8",
   "metadata": {},
   "source": [
    "My dataset is about oranges, their features and the target variable is a quality of an orange\n",
    "\n",
    "https://www.kaggle.com/datasets/shruthiiiee/orange-quality?select=Orange+Quality+Data.csv"
   ]
  },
  {
   "cell_type": "code",
   "execution_count": 3,
   "id": "8fec47d1",
   "metadata": {},
   "outputs": [
    {
     "data": {
      "text/html": [
       "<div>\n",
       "<style scoped>\n",
       "    .dataframe tbody tr th:only-of-type {\n",
       "        vertical-align: middle;\n",
       "    }\n",
       "\n",
       "    .dataframe tbody tr th {\n",
       "        vertical-align: top;\n",
       "    }\n",
       "\n",
       "    .dataframe thead th {\n",
       "        text-align: right;\n",
       "    }\n",
       "</style>\n",
       "<table border=\"1\" class=\"dataframe\">\n",
       "  <thead>\n",
       "    <tr style=\"text-align: right;\">\n",
       "      <th></th>\n",
       "      <th>Size (cm)</th>\n",
       "      <th>Weight (g)</th>\n",
       "      <th>Brix (Sweetness)</th>\n",
       "      <th>pH (Acidity)</th>\n",
       "      <th>Softness (1-5)</th>\n",
       "      <th>HarvestTime (days)</th>\n",
       "      <th>Ripeness (1-5)</th>\n",
       "      <th>Color</th>\n",
       "      <th>Variety</th>\n",
       "      <th>Blemishes (Y/N)</th>\n",
       "      <th>Quality (1-5)</th>\n",
       "    </tr>\n",
       "  </thead>\n",
       "  <tbody>\n",
       "    <tr>\n",
       "      <th>0</th>\n",
       "      <td>7.5</td>\n",
       "      <td>180</td>\n",
       "      <td>12.0</td>\n",
       "      <td>3.2</td>\n",
       "      <td>2.0</td>\n",
       "      <td>10</td>\n",
       "      <td>4.0</td>\n",
       "      <td>Orange</td>\n",
       "      <td>Valencia</td>\n",
       "      <td>N</td>\n",
       "      <td>4.0</td>\n",
       "    </tr>\n",
       "    <tr>\n",
       "      <th>1</th>\n",
       "      <td>8.2</td>\n",
       "      <td>220</td>\n",
       "      <td>10.5</td>\n",
       "      <td>3.4</td>\n",
       "      <td>3.0</td>\n",
       "      <td>14</td>\n",
       "      <td>4.5</td>\n",
       "      <td>Deep Orange</td>\n",
       "      <td>Navel</td>\n",
       "      <td>N</td>\n",
       "      <td>4.5</td>\n",
       "    </tr>\n",
       "    <tr>\n",
       "      <th>2</th>\n",
       "      <td>6.8</td>\n",
       "      <td>150</td>\n",
       "      <td>14.0</td>\n",
       "      <td>3.0</td>\n",
       "      <td>1.0</td>\n",
       "      <td>7</td>\n",
       "      <td>5.0</td>\n",
       "      <td>Light Orange</td>\n",
       "      <td>Cara Cara</td>\n",
       "      <td>N</td>\n",
       "      <td>5.0</td>\n",
       "    </tr>\n",
       "    <tr>\n",
       "      <th>3</th>\n",
       "      <td>9.0</td>\n",
       "      <td>250</td>\n",
       "      <td>8.5</td>\n",
       "      <td>3.8</td>\n",
       "      <td>4.0</td>\n",
       "      <td>21</td>\n",
       "      <td>3.5</td>\n",
       "      <td>Orange-Red</td>\n",
       "      <td>Blood Orange</td>\n",
       "      <td>N</td>\n",
       "      <td>3.5</td>\n",
       "    </tr>\n",
       "    <tr>\n",
       "      <th>4</th>\n",
       "      <td>8.5</td>\n",
       "      <td>210</td>\n",
       "      <td>11.5</td>\n",
       "      <td>3.3</td>\n",
       "      <td>2.5</td>\n",
       "      <td>12</td>\n",
       "      <td>5.0</td>\n",
       "      <td>Orange</td>\n",
       "      <td>Hamlin</td>\n",
       "      <td>Y (Minor)</td>\n",
       "      <td>4.5</td>\n",
       "    </tr>\n",
       "    <tr>\n",
       "      <th>...</th>\n",
       "      <td>...</td>\n",
       "      <td>...</td>\n",
       "      <td>...</td>\n",
       "      <td>...</td>\n",
       "      <td>...</td>\n",
       "      <td>...</td>\n",
       "      <td>...</td>\n",
       "      <td>...</td>\n",
       "      <td>...</td>\n",
       "      <td>...</td>\n",
       "      <td>...</td>\n",
       "    </tr>\n",
       "    <tr>\n",
       "      <th>236</th>\n",
       "      <td>8.0</td>\n",
       "      <td>194</td>\n",
       "      <td>10.9</td>\n",
       "      <td>3.6</td>\n",
       "      <td>5.0</td>\n",
       "      <td>13</td>\n",
       "      <td>1.0</td>\n",
       "      <td>Orange-Red</td>\n",
       "      <td>Tangerine</td>\n",
       "      <td>Y (Scars)</td>\n",
       "      <td>5.0</td>\n",
       "    </tr>\n",
       "    <tr>\n",
       "      <th>237</th>\n",
       "      <td>7.4</td>\n",
       "      <td>275</td>\n",
       "      <td>8.5</td>\n",
       "      <td>3.5</td>\n",
       "      <td>5.0</td>\n",
       "      <td>20</td>\n",
       "      <td>5.0</td>\n",
       "      <td>Light Orange</td>\n",
       "      <td>Minneola (Hybrid)</td>\n",
       "      <td>N</td>\n",
       "      <td>4.0</td>\n",
       "    </tr>\n",
       "    <tr>\n",
       "      <th>238</th>\n",
       "      <td>7.5</td>\n",
       "      <td>196</td>\n",
       "      <td>15.7</td>\n",
       "      <td>3.0</td>\n",
       "      <td>3.0</td>\n",
       "      <td>13</td>\n",
       "      <td>3.0</td>\n",
       "      <td>Deep Orange</td>\n",
       "      <td>Temple</td>\n",
       "      <td>Y (Minor Insect Damage)</td>\n",
       "      <td>5.0</td>\n",
       "    </tr>\n",
       "    <tr>\n",
       "      <th>239</th>\n",
       "      <td>7.2</td>\n",
       "      <td>251</td>\n",
       "      <td>9.8</td>\n",
       "      <td>4.3</td>\n",
       "      <td>3.0</td>\n",
       "      <td>23</td>\n",
       "      <td>1.0</td>\n",
       "      <td>Light Orange</td>\n",
       "      <td>Moro (Blood)</td>\n",
       "      <td>Y (Minor Insect Damage)</td>\n",
       "      <td>3.0</td>\n",
       "    </tr>\n",
       "    <tr>\n",
       "      <th>240</th>\n",
       "      <td>7.3</td>\n",
       "      <td>282</td>\n",
       "      <td>10.5</td>\n",
       "      <td>2.9</td>\n",
       "      <td>4.0</td>\n",
       "      <td>21</td>\n",
       "      <td>2.0</td>\n",
       "      <td>Orange-Red</td>\n",
       "      <td>Jaffa</td>\n",
       "      <td>Y (Minor)</td>\n",
       "      <td>4.0</td>\n",
       "    </tr>\n",
       "  </tbody>\n",
       "</table>\n",
       "<p>241 rows × 11 columns</p>\n",
       "</div>"
      ],
      "text/plain": [
       "     Size (cm)  Weight (g)  Brix (Sweetness)  pH (Acidity)  Softness (1-5)  \\\n",
       "0          7.5         180              12.0           3.2             2.0   \n",
       "1          8.2         220              10.5           3.4             3.0   \n",
       "2          6.8         150              14.0           3.0             1.0   \n",
       "3          9.0         250               8.5           3.8             4.0   \n",
       "4          8.5         210              11.5           3.3             2.5   \n",
       "..         ...         ...               ...           ...             ...   \n",
       "236        8.0         194              10.9           3.6             5.0   \n",
       "237        7.4         275               8.5           3.5             5.0   \n",
       "238        7.5         196              15.7           3.0             3.0   \n",
       "239        7.2         251               9.8           4.3             3.0   \n",
       "240        7.3         282              10.5           2.9             4.0   \n",
       "\n",
       "     HarvestTime (days)  Ripeness (1-5)         Color            Variety  \\\n",
       "0                    10             4.0        Orange           Valencia   \n",
       "1                    14             4.5   Deep Orange              Navel   \n",
       "2                     7             5.0  Light Orange          Cara Cara   \n",
       "3                    21             3.5    Orange-Red       Blood Orange   \n",
       "4                    12             5.0        Orange             Hamlin   \n",
       "..                  ...             ...           ...                ...   \n",
       "236                  13             1.0    Orange-Red          Tangerine   \n",
       "237                  20             5.0  Light Orange  Minneola (Hybrid)   \n",
       "238                  13             3.0   Deep Orange             Temple   \n",
       "239                  23             1.0  Light Orange       Moro (Blood)   \n",
       "240                  21             2.0    Orange-Red              Jaffa   \n",
       "\n",
       "             Blemishes (Y/N)  Quality (1-5)  \n",
       "0                          N            4.0  \n",
       "1                          N            4.5  \n",
       "2                          N            5.0  \n",
       "3                          N            3.5  \n",
       "4                  Y (Minor)            4.5  \n",
       "..                       ...            ...  \n",
       "236                Y (Scars)            5.0  \n",
       "237                        N            4.0  \n",
       "238  Y (Minor Insect Damage)            5.0  \n",
       "239  Y (Minor Insect Damage)            3.0  \n",
       "240                Y (Minor)            4.0  \n",
       "\n",
       "[241 rows x 11 columns]"
      ]
     },
     "execution_count": 3,
     "metadata": {},
     "output_type": "execute_result"
    }
   ],
   "source": [
    "data = pd.read_csv('orange_quality_data.csv')\n",
    "data"
   ]
  },
  {
   "cell_type": "markdown",
   "id": "97e87f5f",
   "metadata": {},
   "source": [
    "At first I looked at ranges and percentiles of numeric variables to determine trashholds for ordinal scale"
   ]
  },
  {
   "cell_type": "code",
   "execution_count": 4,
   "id": "b797ff9a",
   "metadata": {},
   "outputs": [
    {
     "data": {
      "text/html": [
       "<div>\n",
       "<style scoped>\n",
       "    .dataframe tbody tr th:only-of-type {\n",
       "        vertical-align: middle;\n",
       "    }\n",
       "\n",
       "    .dataframe tbody tr th {\n",
       "        vertical-align: top;\n",
       "    }\n",
       "\n",
       "    .dataframe thead th {\n",
       "        text-align: right;\n",
       "    }\n",
       "</style>\n",
       "<table border=\"1\" class=\"dataframe\">\n",
       "  <thead>\n",
       "    <tr style=\"text-align: right;\">\n",
       "      <th></th>\n",
       "      <th>Size (cm)</th>\n",
       "      <th>Weight (g)</th>\n",
       "      <th>Brix (Sweetness)</th>\n",
       "      <th>pH (Acidity)</th>\n",
       "      <th>Softness (1-5)</th>\n",
       "      <th>HarvestTime (days)</th>\n",
       "      <th>Ripeness (1-5)</th>\n",
       "      <th>Quality (1-5)</th>\n",
       "    </tr>\n",
       "  </thead>\n",
       "  <tbody>\n",
       "    <tr>\n",
       "      <th>count</th>\n",
       "      <td>241.000000</td>\n",
       "      <td>241.000000</td>\n",
       "      <td>241.000000</td>\n",
       "      <td>241.000000</td>\n",
       "      <td>241.000000</td>\n",
       "      <td>241.000000</td>\n",
       "      <td>241.000000</td>\n",
       "      <td>241.000000</td>\n",
       "    </tr>\n",
       "    <tr>\n",
       "      <th>mean</th>\n",
       "      <td>7.844813</td>\n",
       "      <td>205.128631</td>\n",
       "      <td>10.907884</td>\n",
       "      <td>3.473900</td>\n",
       "      <td>3.072614</td>\n",
       "      <td>15.344398</td>\n",
       "      <td>3.599585</td>\n",
       "      <td>3.817427</td>\n",
       "    </tr>\n",
       "    <tr>\n",
       "      <th>std</th>\n",
       "      <td>1.086002</td>\n",
       "      <td>56.461012</td>\n",
       "      <td>2.760446</td>\n",
       "      <td>0.421007</td>\n",
       "      <td>1.323630</td>\n",
       "      <td>5.323852</td>\n",
       "      <td>1.205214</td>\n",
       "      <td>1.014410</td>\n",
       "    </tr>\n",
       "    <tr>\n",
       "      <th>min</th>\n",
       "      <td>6.000000</td>\n",
       "      <td>100.000000</td>\n",
       "      <td>5.500000</td>\n",
       "      <td>2.800000</td>\n",
       "      <td>1.000000</td>\n",
       "      <td>4.000000</td>\n",
       "      <td>1.000000</td>\n",
       "      <td>1.000000</td>\n",
       "    </tr>\n",
       "    <tr>\n",
       "      <th>25%</th>\n",
       "      <td>6.900000</td>\n",
       "      <td>155.000000</td>\n",
       "      <td>8.500000</td>\n",
       "      <td>3.200000</td>\n",
       "      <td>2.000000</td>\n",
       "      <td>11.000000</td>\n",
       "      <td>3.000000</td>\n",
       "      <td>3.000000</td>\n",
       "    </tr>\n",
       "    <tr>\n",
       "      <th>50%</th>\n",
       "      <td>7.800000</td>\n",
       "      <td>205.000000</td>\n",
       "      <td>11.000000</td>\n",
       "      <td>3.400000</td>\n",
       "      <td>3.000000</td>\n",
       "      <td>15.000000</td>\n",
       "      <td>4.000000</td>\n",
       "      <td>4.000000</td>\n",
       "    </tr>\n",
       "    <tr>\n",
       "      <th>75%</th>\n",
       "      <td>8.700000</td>\n",
       "      <td>252.000000</td>\n",
       "      <td>13.400000</td>\n",
       "      <td>3.800000</td>\n",
       "      <td>4.000000</td>\n",
       "      <td>20.000000</td>\n",
       "      <td>4.500000</td>\n",
       "      <td>4.500000</td>\n",
       "    </tr>\n",
       "    <tr>\n",
       "      <th>max</th>\n",
       "      <td>10.000000</td>\n",
       "      <td>300.000000</td>\n",
       "      <td>16.000000</td>\n",
       "      <td>4.400000</td>\n",
       "      <td>5.000000</td>\n",
       "      <td>25.000000</td>\n",
       "      <td>5.000000</td>\n",
       "      <td>5.000000</td>\n",
       "    </tr>\n",
       "  </tbody>\n",
       "</table>\n",
       "</div>"
      ],
      "text/plain": [
       "        Size (cm)  Weight (g)  Brix (Sweetness)  pH (Acidity)  Softness (1-5)  \\\n",
       "count  241.000000  241.000000        241.000000    241.000000      241.000000   \n",
       "mean     7.844813  205.128631         10.907884      3.473900        3.072614   \n",
       "std      1.086002   56.461012          2.760446      0.421007        1.323630   \n",
       "min      6.000000  100.000000          5.500000      2.800000        1.000000   \n",
       "25%      6.900000  155.000000          8.500000      3.200000        2.000000   \n",
       "50%      7.800000  205.000000         11.000000      3.400000        3.000000   \n",
       "75%      8.700000  252.000000         13.400000      3.800000        4.000000   \n",
       "max     10.000000  300.000000         16.000000      4.400000        5.000000   \n",
       "\n",
       "       HarvestTime (days)  Ripeness (1-5)  Quality (1-5)  \n",
       "count          241.000000      241.000000     241.000000  \n",
       "mean            15.344398        3.599585       3.817427  \n",
       "std              5.323852        1.205214       1.014410  \n",
       "min              4.000000        1.000000       1.000000  \n",
       "25%             11.000000        3.000000       3.000000  \n",
       "50%             15.000000        4.000000       4.000000  \n",
       "75%             20.000000        4.500000       4.500000  \n",
       "max             25.000000        5.000000       5.000000  "
      ]
     },
     "execution_count": 4,
     "metadata": {},
     "output_type": "execute_result"
    }
   ],
   "source": [
    "data.describe()"
   ]
  },
  {
   "cell_type": "markdown",
   "id": "059abc1b",
   "metadata": {},
   "source": [
    "Then I renamed columns for comfortable work"
   ]
  },
  {
   "cell_type": "code",
   "execution_count": 5,
   "id": "f7c18a6f",
   "metadata": {},
   "outputs": [
    {
     "data": {
      "text/html": [
       "<div>\n",
       "<style scoped>\n",
       "    .dataframe tbody tr th:only-of-type {\n",
       "        vertical-align: middle;\n",
       "    }\n",
       "\n",
       "    .dataframe tbody tr th {\n",
       "        vertical-align: top;\n",
       "    }\n",
       "\n",
       "    .dataframe thead th {\n",
       "        text-align: right;\n",
       "    }\n",
       "</style>\n",
       "<table border=\"1\" class=\"dataframe\">\n",
       "  <thead>\n",
       "    <tr style=\"text-align: right;\">\n",
       "      <th></th>\n",
       "      <th>size</th>\n",
       "      <th>weight</th>\n",
       "      <th>brix</th>\n",
       "      <th>ph</th>\n",
       "      <th>softness</th>\n",
       "      <th>harvest_time</th>\n",
       "      <th>ripeness</th>\n",
       "      <th>color</th>\n",
       "      <th>variety</th>\n",
       "      <th>has_blemishes</th>\n",
       "      <th>quality</th>\n",
       "    </tr>\n",
       "  </thead>\n",
       "  <tbody>\n",
       "    <tr>\n",
       "      <th>0</th>\n",
       "      <td>7.5</td>\n",
       "      <td>180</td>\n",
       "      <td>12.0</td>\n",
       "      <td>3.2</td>\n",
       "      <td>2.0</td>\n",
       "      <td>10</td>\n",
       "      <td>4.0</td>\n",
       "      <td>Orange</td>\n",
       "      <td>Valencia</td>\n",
       "      <td>N</td>\n",
       "      <td>4.0</td>\n",
       "    </tr>\n",
       "    <tr>\n",
       "      <th>1</th>\n",
       "      <td>8.2</td>\n",
       "      <td>220</td>\n",
       "      <td>10.5</td>\n",
       "      <td>3.4</td>\n",
       "      <td>3.0</td>\n",
       "      <td>14</td>\n",
       "      <td>4.5</td>\n",
       "      <td>Deep Orange</td>\n",
       "      <td>Navel</td>\n",
       "      <td>N</td>\n",
       "      <td>4.5</td>\n",
       "    </tr>\n",
       "    <tr>\n",
       "      <th>2</th>\n",
       "      <td>6.8</td>\n",
       "      <td>150</td>\n",
       "      <td>14.0</td>\n",
       "      <td>3.0</td>\n",
       "      <td>1.0</td>\n",
       "      <td>7</td>\n",
       "      <td>5.0</td>\n",
       "      <td>Light Orange</td>\n",
       "      <td>Cara Cara</td>\n",
       "      <td>N</td>\n",
       "      <td>5.0</td>\n",
       "    </tr>\n",
       "    <tr>\n",
       "      <th>3</th>\n",
       "      <td>9.0</td>\n",
       "      <td>250</td>\n",
       "      <td>8.5</td>\n",
       "      <td>3.8</td>\n",
       "      <td>4.0</td>\n",
       "      <td>21</td>\n",
       "      <td>3.5</td>\n",
       "      <td>Orange-Red</td>\n",
       "      <td>Blood Orange</td>\n",
       "      <td>N</td>\n",
       "      <td>3.5</td>\n",
       "    </tr>\n",
       "    <tr>\n",
       "      <th>4</th>\n",
       "      <td>8.5</td>\n",
       "      <td>210</td>\n",
       "      <td>11.5</td>\n",
       "      <td>3.3</td>\n",
       "      <td>2.5</td>\n",
       "      <td>12</td>\n",
       "      <td>5.0</td>\n",
       "      <td>Orange</td>\n",
       "      <td>Hamlin</td>\n",
       "      <td>Y (Minor)</td>\n",
       "      <td>4.5</td>\n",
       "    </tr>\n",
       "  </tbody>\n",
       "</table>\n",
       "</div>"
      ],
      "text/plain": [
       "   size  weight  brix   ph  softness  harvest_time  ripeness         color  \\\n",
       "0   7.5     180  12.0  3.2       2.0            10       4.0        Orange   \n",
       "1   8.2     220  10.5  3.4       3.0            14       4.5   Deep Orange   \n",
       "2   6.8     150  14.0  3.0       1.0             7       5.0  Light Orange   \n",
       "3   9.0     250   8.5  3.8       4.0            21       3.5    Orange-Red   \n",
       "4   8.5     210  11.5  3.3       2.5            12       5.0        Orange   \n",
       "\n",
       "        variety has_blemishes  quality  \n",
       "0      Valencia             N      4.0  \n",
       "1         Navel             N      4.5  \n",
       "2     Cara Cara             N      5.0  \n",
       "3  Blood Orange             N      3.5  \n",
       "4        Hamlin     Y (Minor)      4.5  "
      ]
     },
     "execution_count": 5,
     "metadata": {},
     "output_type": "execute_result"
    }
   ],
   "source": [
    "data = data.rename(columns = {'Size (cm)':'size', \\\n",
    "                    'Weight (g)':'weight', \\\n",
    "                    'Brix (Sweetness)':'brix', \\\n",
    "                     'pH (Acidity)':'ph', \\\n",
    "                     'Softness (1-5)':'softness', \\\n",
    "                      'HarvestTime (days)':'harvest_time', \\\n",
    "                      'Ripeness (1-5)':'ripeness', \\\n",
    "                      'Color':'color', \\\n",
    "                       'Variety':'variety', \\\n",
    "                      'Blemishes (Y/N)':'has_blemishes', \\\n",
    "                       'Quality (1-5)':'quality'})\n",
    "data.head()"
   ]
  },
  {
   "cell_type": "markdown",
   "id": "18b6149c",
   "metadata": {},
   "source": [
    "I deleted variety, because it's very noisy"
   ]
  },
  {
   "cell_type": "code",
   "execution_count": 6,
   "id": "28c147a2",
   "metadata": {},
   "outputs": [
    {
     "data": {
      "text/html": [
       "<div>\n",
       "<style scoped>\n",
       "    .dataframe tbody tr th:only-of-type {\n",
       "        vertical-align: middle;\n",
       "    }\n",
       "\n",
       "    .dataframe tbody tr th {\n",
       "        vertical-align: top;\n",
       "    }\n",
       "\n",
       "    .dataframe thead th {\n",
       "        text-align: right;\n",
       "    }\n",
       "</style>\n",
       "<table border=\"1\" class=\"dataframe\">\n",
       "  <thead>\n",
       "    <tr style=\"text-align: right;\">\n",
       "      <th></th>\n",
       "      <th>size</th>\n",
       "      <th>weight</th>\n",
       "      <th>brix</th>\n",
       "      <th>ph</th>\n",
       "      <th>softness</th>\n",
       "      <th>harvest_time</th>\n",
       "      <th>ripeness</th>\n",
       "      <th>color</th>\n",
       "      <th>has_blemishes</th>\n",
       "      <th>quality</th>\n",
       "    </tr>\n",
       "  </thead>\n",
       "  <tbody>\n",
       "    <tr>\n",
       "      <th>0</th>\n",
       "      <td>7.5</td>\n",
       "      <td>180</td>\n",
       "      <td>12.0</td>\n",
       "      <td>3.2</td>\n",
       "      <td>2.0</td>\n",
       "      <td>10</td>\n",
       "      <td>4.0</td>\n",
       "      <td>Orange</td>\n",
       "      <td>N</td>\n",
       "      <td>4.0</td>\n",
       "    </tr>\n",
       "    <tr>\n",
       "      <th>1</th>\n",
       "      <td>8.2</td>\n",
       "      <td>220</td>\n",
       "      <td>10.5</td>\n",
       "      <td>3.4</td>\n",
       "      <td>3.0</td>\n",
       "      <td>14</td>\n",
       "      <td>4.5</td>\n",
       "      <td>Deep Orange</td>\n",
       "      <td>N</td>\n",
       "      <td>4.5</td>\n",
       "    </tr>\n",
       "    <tr>\n",
       "      <th>2</th>\n",
       "      <td>6.8</td>\n",
       "      <td>150</td>\n",
       "      <td>14.0</td>\n",
       "      <td>3.0</td>\n",
       "      <td>1.0</td>\n",
       "      <td>7</td>\n",
       "      <td>5.0</td>\n",
       "      <td>Light Orange</td>\n",
       "      <td>N</td>\n",
       "      <td>5.0</td>\n",
       "    </tr>\n",
       "    <tr>\n",
       "      <th>3</th>\n",
       "      <td>9.0</td>\n",
       "      <td>250</td>\n",
       "      <td>8.5</td>\n",
       "      <td>3.8</td>\n",
       "      <td>4.0</td>\n",
       "      <td>21</td>\n",
       "      <td>3.5</td>\n",
       "      <td>Orange-Red</td>\n",
       "      <td>N</td>\n",
       "      <td>3.5</td>\n",
       "    </tr>\n",
       "    <tr>\n",
       "      <th>4</th>\n",
       "      <td>8.5</td>\n",
       "      <td>210</td>\n",
       "      <td>11.5</td>\n",
       "      <td>3.3</td>\n",
       "      <td>2.5</td>\n",
       "      <td>12</td>\n",
       "      <td>5.0</td>\n",
       "      <td>Orange</td>\n",
       "      <td>Y (Minor)</td>\n",
       "      <td>4.5</td>\n",
       "    </tr>\n",
       "  </tbody>\n",
       "</table>\n",
       "</div>"
      ],
      "text/plain": [
       "   size  weight  brix   ph  softness  harvest_time  ripeness         color  \\\n",
       "0   7.5     180  12.0  3.2       2.0            10       4.0        Orange   \n",
       "1   8.2     220  10.5  3.4       3.0            14       4.5   Deep Orange   \n",
       "2   6.8     150  14.0  3.0       1.0             7       5.0  Light Orange   \n",
       "3   9.0     250   8.5  3.8       4.0            21       3.5    Orange-Red   \n",
       "4   8.5     210  11.5  3.3       2.5            12       5.0        Orange   \n",
       "\n",
       "  has_blemishes  quality  \n",
       "0             N      4.0  \n",
       "1             N      4.5  \n",
       "2             N      5.0  \n",
       "3             N      3.5  \n",
       "4     Y (Minor)      4.5  "
      ]
     },
     "execution_count": 6,
     "metadata": {},
     "output_type": "execute_result"
    }
   ],
   "source": [
    "data = data.drop('variety', axis=1)\n",
    "data.head()"
   ]
  },
  {
   "cell_type": "markdown",
   "id": "0139a082",
   "metadata": {},
   "source": [
    "Then I transformed target variable quality into binary form, because I want to predict if an orange has good quality or bad"
   ]
  },
  {
   "cell_type": "code",
   "execution_count": 7,
   "id": "e05c4a8e",
   "metadata": {},
   "outputs": [
    {
     "data": {
      "text/html": [
       "<div>\n",
       "<style scoped>\n",
       "    .dataframe tbody tr th:only-of-type {\n",
       "        vertical-align: middle;\n",
       "    }\n",
       "\n",
       "    .dataframe tbody tr th {\n",
       "        vertical-align: top;\n",
       "    }\n",
       "\n",
       "    .dataframe thead th {\n",
       "        text-align: right;\n",
       "    }\n",
       "</style>\n",
       "<table border=\"1\" class=\"dataframe\">\n",
       "  <thead>\n",
       "    <tr style=\"text-align: right;\">\n",
       "      <th></th>\n",
       "      <th>size</th>\n",
       "      <th>weight</th>\n",
       "      <th>brix</th>\n",
       "      <th>ph</th>\n",
       "      <th>softness</th>\n",
       "      <th>harvest_time</th>\n",
       "      <th>ripeness</th>\n",
       "      <th>color</th>\n",
       "      <th>has_blemishes</th>\n",
       "      <th>quality</th>\n",
       "    </tr>\n",
       "  </thead>\n",
       "  <tbody>\n",
       "    <tr>\n",
       "      <th>0</th>\n",
       "      <td>7.5</td>\n",
       "      <td>180</td>\n",
       "      <td>12.0</td>\n",
       "      <td>3.2</td>\n",
       "      <td>2.0</td>\n",
       "      <td>10</td>\n",
       "      <td>4.0</td>\n",
       "      <td>Orange</td>\n",
       "      <td>N</td>\n",
       "      <td>1</td>\n",
       "    </tr>\n",
       "    <tr>\n",
       "      <th>1</th>\n",
       "      <td>8.2</td>\n",
       "      <td>220</td>\n",
       "      <td>10.5</td>\n",
       "      <td>3.4</td>\n",
       "      <td>3.0</td>\n",
       "      <td>14</td>\n",
       "      <td>4.5</td>\n",
       "      <td>Deep Orange</td>\n",
       "      <td>N</td>\n",
       "      <td>1</td>\n",
       "    </tr>\n",
       "    <tr>\n",
       "      <th>2</th>\n",
       "      <td>6.8</td>\n",
       "      <td>150</td>\n",
       "      <td>14.0</td>\n",
       "      <td>3.0</td>\n",
       "      <td>1.0</td>\n",
       "      <td>7</td>\n",
       "      <td>5.0</td>\n",
       "      <td>Light Orange</td>\n",
       "      <td>N</td>\n",
       "      <td>1</td>\n",
       "    </tr>\n",
       "    <tr>\n",
       "      <th>3</th>\n",
       "      <td>9.0</td>\n",
       "      <td>250</td>\n",
       "      <td>8.5</td>\n",
       "      <td>3.8</td>\n",
       "      <td>4.0</td>\n",
       "      <td>21</td>\n",
       "      <td>3.5</td>\n",
       "      <td>Orange-Red</td>\n",
       "      <td>N</td>\n",
       "      <td>0</td>\n",
       "    </tr>\n",
       "    <tr>\n",
       "      <th>4</th>\n",
       "      <td>8.5</td>\n",
       "      <td>210</td>\n",
       "      <td>11.5</td>\n",
       "      <td>3.3</td>\n",
       "      <td>2.5</td>\n",
       "      <td>12</td>\n",
       "      <td>5.0</td>\n",
       "      <td>Orange</td>\n",
       "      <td>Y (Minor)</td>\n",
       "      <td>1</td>\n",
       "    </tr>\n",
       "  </tbody>\n",
       "</table>\n",
       "</div>"
      ],
      "text/plain": [
       "   size  weight  brix   ph  softness  harvest_time  ripeness         color  \\\n",
       "0   7.5     180  12.0  3.2       2.0            10       4.0        Orange   \n",
       "1   8.2     220  10.5  3.4       3.0            14       4.5   Deep Orange   \n",
       "2   6.8     150  14.0  3.0       1.0             7       5.0  Light Orange   \n",
       "3   9.0     250   8.5  3.8       4.0            21       3.5    Orange-Red   \n",
       "4   8.5     210  11.5  3.3       2.5            12       5.0        Orange   \n",
       "\n",
       "  has_blemishes  quality  \n",
       "0             N        1  \n",
       "1             N        1  \n",
       "2             N        1  \n",
       "3             N        0  \n",
       "4     Y (Minor)        1  "
      ]
     },
     "execution_count": 7,
     "metadata": {},
     "output_type": "execute_result"
    }
   ],
   "source": [
    "data['quality'] = data['quality'].apply(lambda x: 1 if x > 3.5 else 0)\n",
    "data.head()"
   ]
  },
  {
   "cell_type": "markdown",
   "id": "cdb584cf",
   "metadata": {},
   "source": [
    "Then I built countplots for numeric variable to find more precise bins for ordinal scale"
   ]
  },
  {
   "cell_type": "code",
   "execution_count": 8,
   "id": "b83fc11b",
   "metadata": {},
   "outputs": [
    {
     "data": {
      "image/png": "[encoded data removed]",
      "text/plain": [
       "<Figure size 1500x1000 with 5 Axes>"
      ]
     },
     "metadata": {},
     "output_type": "display_data"
    }
   ],
   "source": [
    "import seaborn as sns\n",
    "import matplotlib.pyplot as plt\n",
    "columns_to_plot = ['size', 'weight', 'brix', 'ph', 'harvest_time']\n",
    "\n",
    "plt.figure(figsize=(15, 10))\n",
    "\n",
    "for i, column in enumerate(columns_to_plot, 1):\n",
    "    num_bins = 4\n",
    "    \n",
    "    data[f'{column}_binned'] = pd.cut(data[column], bins=num_bins)\n",
    "    \n",
    "    plt.subplot(3, 3, i)\n",
    "    sns.countplot(x=f'{column}_binned', data=data)\n",
    "    plt.title(f'Count Plot for {column} (Binned)')\n",
    "    plt.xlabel(f'{column} (Binned)')\n",
    "    plt.ylabel('Count')\n",
    "\n",
    "plt.tight_layout()\n",
    "plt.show()"
   ]
  },
  {
   "cell_type": "markdown",
   "id": "de384d42",
   "metadata": {},
   "source": [
    "I decided to scale variables size, weight, brix, ph and harvest_time by ordinal scale with 4 bins"
   ]
  },
  {
   "cell_type": "code",
   "execution_count": 9,
   "id": "56a78802",
   "metadata": {},
   "outputs": [
    {
     "data": {
      "text/html": [
       "<div>\n",
       "<style scoped>\n",
       "    .dataframe tbody tr th:only-of-type {\n",
       "        vertical-align: middle;\n",
       "    }\n",
       "\n",
       "    .dataframe tbody tr th {\n",
       "        vertical-align: top;\n",
       "    }\n",
       "\n",
       "    .dataframe thead th {\n",
       "        text-align: right;\n",
       "    }\n",
       "</style>\n",
       "<table border=\"1\" class=\"dataframe\">\n",
       "  <thead>\n",
       "    <tr style=\"text-align: right;\">\n",
       "      <th></th>\n",
       "      <th>softness</th>\n",
       "      <th>ripeness</th>\n",
       "      <th>color</th>\n",
       "      <th>has_blemishes</th>\n",
       "      <th>quality</th>\n",
       "      <th>size_ge_5.9</th>\n",
       "      <th>size_ge_7</th>\n",
       "      <th>size_ge_8</th>\n",
       "      <th>size_ge_9</th>\n",
       "      <th>weight_ge_99</th>\n",
       "      <th>...</th>\n",
       "      <th>brix_ge_10.75</th>\n",
       "      <th>brix_ge_13.375</th>\n",
       "      <th>ph_ge_2.7</th>\n",
       "      <th>ph_ge_3.2</th>\n",
       "      <th>ph_ge_3.6</th>\n",
       "      <th>ph_ge_4</th>\n",
       "      <th>harvest_time_ge_3.9</th>\n",
       "      <th>harvest_time_ge_9.5</th>\n",
       "      <th>harvest_time_ge_14.5</th>\n",
       "      <th>harvest_time_ge_19.7</th>\n",
       "    </tr>\n",
       "  </thead>\n",
       "  <tbody>\n",
       "    <tr>\n",
       "      <th>0</th>\n",
       "      <td>2.0</td>\n",
       "      <td>4.0</td>\n",
       "      <td>Orange</td>\n",
       "      <td>N</td>\n",
       "      <td>1</td>\n",
       "      <td>1</td>\n",
       "      <td>1</td>\n",
       "      <td>0</td>\n",
       "      <td>0</td>\n",
       "      <td>1</td>\n",
       "      <td>...</td>\n",
       "      <td>1</td>\n",
       "      <td>0</td>\n",
       "      <td>1</td>\n",
       "      <td>1</td>\n",
       "      <td>0</td>\n",
       "      <td>0</td>\n",
       "      <td>1</td>\n",
       "      <td>1</td>\n",
       "      <td>0</td>\n",
       "      <td>0</td>\n",
       "    </tr>\n",
       "    <tr>\n",
       "      <th>1</th>\n",
       "      <td>3.0</td>\n",
       "      <td>4.5</td>\n",
       "      <td>Deep Orange</td>\n",
       "      <td>N</td>\n",
       "      <td>1</td>\n",
       "      <td>1</td>\n",
       "      <td>1</td>\n",
       "      <td>1</td>\n",
       "      <td>0</td>\n",
       "      <td>1</td>\n",
       "      <td>...</td>\n",
       "      <td>0</td>\n",
       "      <td>0</td>\n",
       "      <td>1</td>\n",
       "      <td>1</td>\n",
       "      <td>0</td>\n",
       "      <td>0</td>\n",
       "      <td>1</td>\n",
       "      <td>1</td>\n",
       "      <td>0</td>\n",
       "      <td>0</td>\n",
       "    </tr>\n",
       "    <tr>\n",
       "      <th>2</th>\n",
       "      <td>1.0</td>\n",
       "      <td>5.0</td>\n",
       "      <td>Light Orange</td>\n",
       "      <td>N</td>\n",
       "      <td>1</td>\n",
       "      <td>1</td>\n",
       "      <td>0</td>\n",
       "      <td>0</td>\n",
       "      <td>0</td>\n",
       "      <td>1</td>\n",
       "      <td>...</td>\n",
       "      <td>1</td>\n",
       "      <td>1</td>\n",
       "      <td>1</td>\n",
       "      <td>0</td>\n",
       "      <td>0</td>\n",
       "      <td>0</td>\n",
       "      <td>1</td>\n",
       "      <td>0</td>\n",
       "      <td>0</td>\n",
       "      <td>0</td>\n",
       "    </tr>\n",
       "    <tr>\n",
       "      <th>3</th>\n",
       "      <td>4.0</td>\n",
       "      <td>3.5</td>\n",
       "      <td>Orange-Red</td>\n",
       "      <td>N</td>\n",
       "      <td>0</td>\n",
       "      <td>1</td>\n",
       "      <td>1</td>\n",
       "      <td>1</td>\n",
       "      <td>1</td>\n",
       "      <td>1</td>\n",
       "      <td>...</td>\n",
       "      <td>0</td>\n",
       "      <td>0</td>\n",
       "      <td>1</td>\n",
       "      <td>1</td>\n",
       "      <td>1</td>\n",
       "      <td>0</td>\n",
       "      <td>1</td>\n",
       "      <td>1</td>\n",
       "      <td>1</td>\n",
       "      <td>1</td>\n",
       "    </tr>\n",
       "    <tr>\n",
       "      <th>4</th>\n",
       "      <td>2.5</td>\n",
       "      <td>5.0</td>\n",
       "      <td>Orange</td>\n",
       "      <td>Y (Minor)</td>\n",
       "      <td>1</td>\n",
       "      <td>1</td>\n",
       "      <td>1</td>\n",
       "      <td>1</td>\n",
       "      <td>0</td>\n",
       "      <td>1</td>\n",
       "      <td>...</td>\n",
       "      <td>1</td>\n",
       "      <td>0</td>\n",
       "      <td>1</td>\n",
       "      <td>1</td>\n",
       "      <td>0</td>\n",
       "      <td>0</td>\n",
       "      <td>1</td>\n",
       "      <td>1</td>\n",
       "      <td>0</td>\n",
       "      <td>0</td>\n",
       "    </tr>\n",
       "  </tbody>\n",
       "</table>\n",
       "<p>5 rows × 25 columns</p>\n",
       "</div>"
      ],
      "text/plain": [
       "   softness  ripeness         color has_blemishes  quality  size_ge_5.9  \\\n",
       "0       2.0       4.0        Orange             N        1            1   \n",
       "1       3.0       4.5   Deep Orange             N        1            1   \n",
       "2       1.0       5.0  Light Orange             N        1            1   \n",
       "3       4.0       3.5    Orange-Red             N        0            1   \n",
       "4       2.5       5.0        Orange     Y (Minor)        1            1   \n",
       "\n",
       "   size_ge_7  size_ge_8  size_ge_9  weight_ge_99  ...  brix_ge_10.75  \\\n",
       "0          1          0          0             1  ...              1   \n",
       "1          1          1          0             1  ...              0   \n",
       "2          0          0          0             1  ...              1   \n",
       "3          1          1          1             1  ...              0   \n",
       "4          1          1          0             1  ...              1   \n",
       "\n",
       "   brix_ge_13.375  ph_ge_2.7  ph_ge_3.2  ph_ge_3.6  ph_ge_4  \\\n",
       "0               0          1          1          0        0   \n",
       "1               0          1          1          0        0   \n",
       "2               1          1          0          0        0   \n",
       "3               0          1          1          1        0   \n",
       "4               0          1          1          0        0   \n",
       "\n",
       "   harvest_time_ge_3.9  harvest_time_ge_9.5  harvest_time_ge_14.5  \\\n",
       "0                    1                    1                     0   \n",
       "1                    1                    1                     0   \n",
       "2                    1                    0                     0   \n",
       "3                    1                    1                     1   \n",
       "4                    1                    1                     0   \n",
       "\n",
       "   harvest_time_ge_19.7  \n",
       "0                     0  \n",
       "1                     0  \n",
       "2                     0  \n",
       "3                     1  \n",
       "4                     0  \n",
       "\n",
       "[5 rows x 25 columns]"
      ]
     },
     "execution_count": 9,
     "metadata": {},
     "output_type": "execute_result"
    }
   ],
   "source": [
    "data['size_ge_5.9'] = (data['size'] >= 5.9).astype(int)\n",
    "data['size_ge_7'] = (data['size'] >= 7).astype(int)\n",
    "data['size_ge_8'] = (data['size'] >= 8).astype(int)\n",
    "data['size_ge_9'] = (data['size'] >= 9).astype(int)\n",
    "\n",
    "data['weight_ge_99'] = (data['weight'] >= 99).astype(int)\n",
    "data['weight_ge_150'] = (data['weight'] >= 150).astype(int)\n",
    "data['weight_ge_200'] = (data['weight'] >= 200).astype(int)\n",
    "data['weight_ge_250'] = (data['weight'] >= 250).astype(int)\n",
    "\n",
    "data['brix_ge_5.4'] = (data['brix'] >= 5.4).astype(int)\n",
    "data['brix_ge_8.125'] = (data['brix'] >= 8.125).astype(int)\n",
    "data['brix_ge_10.75'] = (data['brix'] >= 10.75).astype(int)\n",
    "data['brix_ge_13.375'] = (data['brix'] >= 13.375).astype(int)\n",
    "\n",
    "data['ph_ge_2.7'] = (data['ph'] >= 2.7).astype(int)\n",
    "data['ph_ge_3.2'] = (data['ph'] >= 3.2).astype(int)\n",
    "data['ph_ge_3.6'] = (data['ph'] >= 3.6).astype(int)\n",
    "data['ph_ge_4'] = (data['ph'] >= 4).astype(int)\n",
    "\n",
    "data['harvest_time_ge_3.9'] = (data['harvest_time'] >= 3.9).astype(int)\n",
    "data['harvest_time_ge_9.5'] = (data['harvest_time'] >= 9.5).astype(int)\n",
    "data['harvest_time_ge_14.5'] = (data['harvest_time'] >= 14.5).astype(int)\n",
    "data['harvest_time_ge_19.7'] = (data['harvest_time'] >= 19.7).astype(int)\n",
    "\n",
    "data.drop(columns=['size', 'weight', 'brix', 'ph', 'harvest_time', 'size_binned', 'weight_binned', 'brix_binned', 'ph_binned', 'harvest_time_binned'], inplace=True)\n",
    "data.head()"
   ]
  },
  {
   "cell_type": "markdown",
   "id": "1a0f1089",
   "metadata": {},
   "source": [
    "Variables softness and ripeness are scores with values from 1 to 5, I decided to simplify these variables to a binary form"
   ]
  },
  {
   "cell_type": "code",
   "execution_count": 10,
   "id": "afb24094",
   "metadata": {},
   "outputs": [
    {
     "data": {
      "text/html": [
       "<div>\n",
       "<style scoped>\n",
       "    .dataframe tbody tr th:only-of-type {\n",
       "        vertical-align: middle;\n",
       "    }\n",
       "\n",
       "    .dataframe tbody tr th {\n",
       "        vertical-align: top;\n",
       "    }\n",
       "\n",
       "    .dataframe thead th {\n",
       "        text-align: right;\n",
       "    }\n",
       "</style>\n",
       "<table border=\"1\" class=\"dataframe\">\n",
       "  <thead>\n",
       "    <tr style=\"text-align: right;\">\n",
       "      <th></th>\n",
       "      <th>softness</th>\n",
       "      <th>ripeness</th>\n",
       "      <th>color</th>\n",
       "      <th>has_blemishes</th>\n",
       "      <th>quality</th>\n",
       "      <th>size_ge_5.9</th>\n",
       "      <th>size_ge_7</th>\n",
       "      <th>size_ge_8</th>\n",
       "      <th>size_ge_9</th>\n",
       "      <th>weight_ge_99</th>\n",
       "      <th>...</th>\n",
       "      <th>brix_ge_10.75</th>\n",
       "      <th>brix_ge_13.375</th>\n",
       "      <th>ph_ge_2.7</th>\n",
       "      <th>ph_ge_3.2</th>\n",
       "      <th>ph_ge_3.6</th>\n",
       "      <th>ph_ge_4</th>\n",
       "      <th>harvest_time_ge_3.9</th>\n",
       "      <th>harvest_time_ge_9.5</th>\n",
       "      <th>harvest_time_ge_14.5</th>\n",
       "      <th>harvest_time_ge_19.7</th>\n",
       "    </tr>\n",
       "  </thead>\n",
       "  <tbody>\n",
       "    <tr>\n",
       "      <th>0</th>\n",
       "      <td>0</td>\n",
       "      <td>1</td>\n",
       "      <td>Orange</td>\n",
       "      <td>N</td>\n",
       "      <td>1</td>\n",
       "      <td>1</td>\n",
       "      <td>1</td>\n",
       "      <td>0</td>\n",
       "      <td>0</td>\n",
       "      <td>1</td>\n",
       "      <td>...</td>\n",
       "      <td>1</td>\n",
       "      <td>0</td>\n",
       "      <td>1</td>\n",
       "      <td>1</td>\n",
       "      <td>0</td>\n",
       "      <td>0</td>\n",
       "      <td>1</td>\n",
       "      <td>1</td>\n",
       "      <td>0</td>\n",
       "      <td>0</td>\n",
       "    </tr>\n",
       "    <tr>\n",
       "      <th>1</th>\n",
       "      <td>1</td>\n",
       "      <td>1</td>\n",
       "      <td>Deep Orange</td>\n",
       "      <td>N</td>\n",
       "      <td>1</td>\n",
       "      <td>1</td>\n",
       "      <td>1</td>\n",
       "      <td>1</td>\n",
       "      <td>0</td>\n",
       "      <td>1</td>\n",
       "      <td>...</td>\n",
       "      <td>0</td>\n",
       "      <td>0</td>\n",
       "      <td>1</td>\n",
       "      <td>1</td>\n",
       "      <td>0</td>\n",
       "      <td>0</td>\n",
       "      <td>1</td>\n",
       "      <td>1</td>\n",
       "      <td>0</td>\n",
       "      <td>0</td>\n",
       "    </tr>\n",
       "    <tr>\n",
       "      <th>2</th>\n",
       "      <td>0</td>\n",
       "      <td>1</td>\n",
       "      <td>Light Orange</td>\n",
       "      <td>N</td>\n",
       "      <td>1</td>\n",
       "      <td>1</td>\n",
       "      <td>0</td>\n",
       "      <td>0</td>\n",
       "      <td>0</td>\n",
       "      <td>1</td>\n",
       "      <td>...</td>\n",
       "      <td>1</td>\n",
       "      <td>1</td>\n",
       "      <td>1</td>\n",
       "      <td>0</td>\n",
       "      <td>0</td>\n",
       "      <td>0</td>\n",
       "      <td>1</td>\n",
       "      <td>0</td>\n",
       "      <td>0</td>\n",
       "      <td>0</td>\n",
       "    </tr>\n",
       "    <tr>\n",
       "      <th>3</th>\n",
       "      <td>1</td>\n",
       "      <td>1</td>\n",
       "      <td>Orange-Red</td>\n",
       "      <td>N</td>\n",
       "      <td>0</td>\n",
       "      <td>1</td>\n",
       "      <td>1</td>\n",
       "      <td>1</td>\n",
       "      <td>1</td>\n",
       "      <td>1</td>\n",
       "      <td>...</td>\n",
       "      <td>0</td>\n",
       "      <td>0</td>\n",
       "      <td>1</td>\n",
       "      <td>1</td>\n",
       "      <td>1</td>\n",
       "      <td>0</td>\n",
       "      <td>1</td>\n",
       "      <td>1</td>\n",
       "      <td>1</td>\n",
       "      <td>1</td>\n",
       "    </tr>\n",
       "    <tr>\n",
       "      <th>4</th>\n",
       "      <td>0</td>\n",
       "      <td>1</td>\n",
       "      <td>Orange</td>\n",
       "      <td>Y (Minor)</td>\n",
       "      <td>1</td>\n",
       "      <td>1</td>\n",
       "      <td>1</td>\n",
       "      <td>1</td>\n",
       "      <td>0</td>\n",
       "      <td>1</td>\n",
       "      <td>...</td>\n",
       "      <td>1</td>\n",
       "      <td>0</td>\n",
       "      <td>1</td>\n",
       "      <td>1</td>\n",
       "      <td>0</td>\n",
       "      <td>0</td>\n",
       "      <td>1</td>\n",
       "      <td>1</td>\n",
       "      <td>0</td>\n",
       "      <td>0</td>\n",
       "    </tr>\n",
       "  </tbody>\n",
       "</table>\n",
       "<p>5 rows × 25 columns</p>\n",
       "</div>"
      ],
      "text/plain": [
       "   softness  ripeness         color has_blemishes  quality  size_ge_5.9  \\\n",
       "0         0         1        Orange             N        1            1   \n",
       "1         1         1   Deep Orange             N        1            1   \n",
       "2         0         1  Light Orange             N        1            1   \n",
       "3         1         1    Orange-Red             N        0            1   \n",
       "4         0         1        Orange     Y (Minor)        1            1   \n",
       "\n",
       "   size_ge_7  size_ge_8  size_ge_9  weight_ge_99  ...  brix_ge_10.75  \\\n",
       "0          1          0          0             1  ...              1   \n",
       "1          1          1          0             1  ...              0   \n",
       "2          0          0          0             1  ...              1   \n",
       "3          1          1          1             1  ...              0   \n",
       "4          1          1          0             1  ...              1   \n",
       "\n",
       "   brix_ge_13.375  ph_ge_2.7  ph_ge_3.2  ph_ge_3.6  ph_ge_4  \\\n",
       "0               0          1          1          0        0   \n",
       "1               0          1          1          0        0   \n",
       "2               1          1          0          0        0   \n",
       "3               0          1          1          1        0   \n",
       "4               0          1          1          0        0   \n",
       "\n",
       "   harvest_time_ge_3.9  harvest_time_ge_9.5  harvest_time_ge_14.5  \\\n",
       "0                    1                    1                     0   \n",
       "1                    1                    1                     0   \n",
       "2                    1                    0                     0   \n",
       "3                    1                    1                     1   \n",
       "4                    1                    1                     0   \n",
       "\n",
       "   harvest_time_ge_19.7  \n",
       "0                     0  \n",
       "1                     0  \n",
       "2                     0  \n",
       "3                     1  \n",
       "4                     0  \n",
       "\n",
       "[5 rows x 25 columns]"
      ]
     },
     "execution_count": 10,
     "metadata": {},
     "output_type": "execute_result"
    }
   ],
   "source": [
    "data['softness'] = data['softness'].apply(lambda x: 1 if x >= 3 else 0)\n",
    "data['ripeness'] = data['ripeness'].apply(lambda x: 1 if x >= 3 else 0)\n",
    "data.head()"
   ]
  },
  {
   "cell_type": "markdown",
   "id": "484a5022",
   "metadata": {},
   "source": [
    "And then I scaled softness and ripeness with dichotomic scale"
   ]
  },
  {
   "cell_type": "code",
   "execution_count": 11,
   "id": "fe5fa890",
   "metadata": {},
   "outputs": [
    {
     "data": {
      "text/html": [
       "<div>\n",
       "<style scoped>\n",
       "    .dataframe tbody tr th:only-of-type {\n",
       "        vertical-align: middle;\n",
       "    }\n",
       "\n",
       "    .dataframe tbody tr th {\n",
       "        vertical-align: top;\n",
       "    }\n",
       "\n",
       "    .dataframe thead th {\n",
       "        text-align: right;\n",
       "    }\n",
       "</style>\n",
       "<table border=\"1\" class=\"dataframe\">\n",
       "  <thead>\n",
       "    <tr style=\"text-align: right;\">\n",
       "      <th></th>\n",
       "      <th>color</th>\n",
       "      <th>has_blemishes</th>\n",
       "      <th>quality</th>\n",
       "      <th>size_ge_5.9</th>\n",
       "      <th>size_ge_7</th>\n",
       "      <th>size_ge_8</th>\n",
       "      <th>size_ge_9</th>\n",
       "      <th>weight_ge_99</th>\n",
       "      <th>weight_ge_150</th>\n",
       "      <th>weight_ge_200</th>\n",
       "      <th>...</th>\n",
       "      <th>ph_ge_3.6</th>\n",
       "      <th>ph_ge_4</th>\n",
       "      <th>harvest_time_ge_3.9</th>\n",
       "      <th>harvest_time_ge_9.5</th>\n",
       "      <th>harvest_time_ge_14.5</th>\n",
       "      <th>harvest_time_ge_19.7</th>\n",
       "      <th>is_softness</th>\n",
       "      <th>is_not_softness</th>\n",
       "      <th>is_ripeness</th>\n",
       "      <th>is_not_ripeness</th>\n",
       "    </tr>\n",
       "  </thead>\n",
       "  <tbody>\n",
       "    <tr>\n",
       "      <th>0</th>\n",
       "      <td>Orange</td>\n",
       "      <td>N</td>\n",
       "      <td>1</td>\n",
       "      <td>1</td>\n",
       "      <td>1</td>\n",
       "      <td>0</td>\n",
       "      <td>0</td>\n",
       "      <td>1</td>\n",
       "      <td>1</td>\n",
       "      <td>0</td>\n",
       "      <td>...</td>\n",
       "      <td>0</td>\n",
       "      <td>0</td>\n",
       "      <td>1</td>\n",
       "      <td>1</td>\n",
       "      <td>0</td>\n",
       "      <td>0</td>\n",
       "      <td>0</td>\n",
       "      <td>1</td>\n",
       "      <td>1</td>\n",
       "      <td>0</td>\n",
       "    </tr>\n",
       "    <tr>\n",
       "      <th>1</th>\n",
       "      <td>Deep Orange</td>\n",
       "      <td>N</td>\n",
       "      <td>1</td>\n",
       "      <td>1</td>\n",
       "      <td>1</td>\n",
       "      <td>1</td>\n",
       "      <td>0</td>\n",
       "      <td>1</td>\n",
       "      <td>1</td>\n",
       "      <td>1</td>\n",
       "      <td>...</td>\n",
       "      <td>0</td>\n",
       "      <td>0</td>\n",
       "      <td>1</td>\n",
       "      <td>1</td>\n",
       "      <td>0</td>\n",
       "      <td>0</td>\n",
       "      <td>1</td>\n",
       "      <td>0</td>\n",
       "      <td>1</td>\n",
       "      <td>0</td>\n",
       "    </tr>\n",
       "    <tr>\n",
       "      <th>2</th>\n",
       "      <td>Light Orange</td>\n",
       "      <td>N</td>\n",
       "      <td>1</td>\n",
       "      <td>1</td>\n",
       "      <td>0</td>\n",
       "      <td>0</td>\n",
       "      <td>0</td>\n",
       "      <td>1</td>\n",
       "      <td>1</td>\n",
       "      <td>0</td>\n",
       "      <td>...</td>\n",
       "      <td>0</td>\n",
       "      <td>0</td>\n",
       "      <td>1</td>\n",
       "      <td>0</td>\n",
       "      <td>0</td>\n",
       "      <td>0</td>\n",
       "      <td>0</td>\n",
       "      <td>1</td>\n",
       "      <td>1</td>\n",
       "      <td>0</td>\n",
       "    </tr>\n",
       "    <tr>\n",
       "      <th>3</th>\n",
       "      <td>Orange-Red</td>\n",
       "      <td>N</td>\n",
       "      <td>0</td>\n",
       "      <td>1</td>\n",
       "      <td>1</td>\n",
       "      <td>1</td>\n",
       "      <td>1</td>\n",
       "      <td>1</td>\n",
       "      <td>1</td>\n",
       "      <td>1</td>\n",
       "      <td>...</td>\n",
       "      <td>1</td>\n",
       "      <td>0</td>\n",
       "      <td>1</td>\n",
       "      <td>1</td>\n",
       "      <td>1</td>\n",
       "      <td>1</td>\n",
       "      <td>1</td>\n",
       "      <td>0</td>\n",
       "      <td>1</td>\n",
       "      <td>0</td>\n",
       "    </tr>\n",
       "    <tr>\n",
       "      <th>4</th>\n",
       "      <td>Orange</td>\n",
       "      <td>Y (Minor)</td>\n",
       "      <td>1</td>\n",
       "      <td>1</td>\n",
       "      <td>1</td>\n",
       "      <td>1</td>\n",
       "      <td>0</td>\n",
       "      <td>1</td>\n",
       "      <td>1</td>\n",
       "      <td>1</td>\n",
       "      <td>...</td>\n",
       "      <td>0</td>\n",
       "      <td>0</td>\n",
       "      <td>1</td>\n",
       "      <td>1</td>\n",
       "      <td>0</td>\n",
       "      <td>0</td>\n",
       "      <td>0</td>\n",
       "      <td>1</td>\n",
       "      <td>1</td>\n",
       "      <td>0</td>\n",
       "    </tr>\n",
       "  </tbody>\n",
       "</table>\n",
       "<p>5 rows × 27 columns</p>\n",
       "</div>"
      ],
      "text/plain": [
       "          color has_blemishes  quality  size_ge_5.9  size_ge_7  size_ge_8  \\\n",
       "0        Orange             N        1            1          1          0   \n",
       "1   Deep Orange             N        1            1          1          1   \n",
       "2  Light Orange             N        1            1          0          0   \n",
       "3    Orange-Red             N        0            1          1          1   \n",
       "4        Orange     Y (Minor)        1            1          1          1   \n",
       "\n",
       "   size_ge_9  weight_ge_99  weight_ge_150  weight_ge_200  ...  ph_ge_3.6  \\\n",
       "0          0             1              1              0  ...          0   \n",
       "1          0             1              1              1  ...          0   \n",
       "2          0             1              1              0  ...          0   \n",
       "3          1             1              1              1  ...          1   \n",
       "4          0             1              1              1  ...          0   \n",
       "\n",
       "   ph_ge_4  harvest_time_ge_3.9  harvest_time_ge_9.5  harvest_time_ge_14.5  \\\n",
       "0        0                    1                    1                     0   \n",
       "1        0                    1                    1                     0   \n",
       "2        0                    1                    0                     0   \n",
       "3        0                    1                    1                     1   \n",
       "4        0                    1                    1                     0   \n",
       "\n",
       "   harvest_time_ge_19.7  is_softness  is_not_softness  is_ripeness  \\\n",
       "0                     0            0                1            1   \n",
       "1                     0            1                0            1   \n",
       "2                     0            0                1            1   \n",
       "3                     1            1                0            1   \n",
       "4                     0            0                1            1   \n",
       "\n",
       "   is_not_ripeness  \n",
       "0                0  \n",
       "1                0  \n",
       "2                0  \n",
       "3                0  \n",
       "4                0  \n",
       "\n",
       "[5 rows x 27 columns]"
      ]
     },
     "execution_count": 11,
     "metadata": {},
     "output_type": "execute_result"
    }
   ],
   "source": [
    "data['is_softness'] = data['softness'].astype(int)\n",
    "data['is_not_softness'] = (data['softness'] == 0).astype(int)\n",
    "\n",
    "data['is_ripeness'] = data['ripeness'].astype(int)\n",
    "data['is_not_ripeness'] = (data['ripeness'] == 0).astype(int)\n",
    "\n",
    "data.drop(columns=['softness', 'ripeness'], inplace=True)\n",
    "data.head()"
   ]
  },
  {
   "cell_type": "markdown",
   "id": "91be6a8b",
   "metadata": {},
   "source": [
    "I scaled categorical variable color with nominal scale"
   ]
  },
  {
   "cell_type": "code",
   "execution_count": 12,
   "id": "26cd7e8d",
   "metadata": {},
   "outputs": [
    {
     "data": {
      "text/html": [
       "<div>\n",
       "<style scoped>\n",
       "    .dataframe tbody tr th:only-of-type {\n",
       "        vertical-align: middle;\n",
       "    }\n",
       "\n",
       "    .dataframe tbody tr th {\n",
       "        vertical-align: top;\n",
       "    }\n",
       "\n",
       "    .dataframe thead th {\n",
       "        text-align: right;\n",
       "    }\n",
       "</style>\n",
       "<table border=\"1\" class=\"dataframe\">\n",
       "  <thead>\n",
       "    <tr style=\"text-align: right;\">\n",
       "      <th></th>\n",
       "      <th>has_blemishes</th>\n",
       "      <th>quality</th>\n",
       "      <th>size_ge_5.9</th>\n",
       "      <th>size_ge_7</th>\n",
       "      <th>size_ge_8</th>\n",
       "      <th>size_ge_9</th>\n",
       "      <th>weight_ge_99</th>\n",
       "      <th>weight_ge_150</th>\n",
       "      <th>weight_ge_200</th>\n",
       "      <th>weight_ge_250</th>\n",
       "      <th>...</th>\n",
       "      <th>harvest_time_ge_19.7</th>\n",
       "      <th>is_softness</th>\n",
       "      <th>is_not_softness</th>\n",
       "      <th>is_ripeness</th>\n",
       "      <th>is_not_ripeness</th>\n",
       "      <th>color_Deep Orange</th>\n",
       "      <th>color_Light Orange</th>\n",
       "      <th>color_Orange</th>\n",
       "      <th>color_Orange-Red</th>\n",
       "      <th>color_Yellow-Orange</th>\n",
       "    </tr>\n",
       "  </thead>\n",
       "  <tbody>\n",
       "    <tr>\n",
       "      <th>0</th>\n",
       "      <td>N</td>\n",
       "      <td>1</td>\n",
       "      <td>1</td>\n",
       "      <td>1</td>\n",
       "      <td>0</td>\n",
       "      <td>0</td>\n",
       "      <td>1</td>\n",
       "      <td>1</td>\n",
       "      <td>0</td>\n",
       "      <td>0</td>\n",
       "      <td>...</td>\n",
       "      <td>0</td>\n",
       "      <td>0</td>\n",
       "      <td>1</td>\n",
       "      <td>1</td>\n",
       "      <td>0</td>\n",
       "      <td>0</td>\n",
       "      <td>0</td>\n",
       "      <td>1</td>\n",
       "      <td>0</td>\n",
       "      <td>0</td>\n",
       "    </tr>\n",
       "    <tr>\n",
       "      <th>1</th>\n",
       "      <td>N</td>\n",
       "      <td>1</td>\n",
       "      <td>1</td>\n",
       "      <td>1</td>\n",
       "      <td>1</td>\n",
       "      <td>0</td>\n",
       "      <td>1</td>\n",
       "      <td>1</td>\n",
       "      <td>1</td>\n",
       "      <td>0</td>\n",
       "      <td>...</td>\n",
       "      <td>0</td>\n",
       "      <td>1</td>\n",
       "      <td>0</td>\n",
       "      <td>1</td>\n",
       "      <td>0</td>\n",
       "      <td>1</td>\n",
       "      <td>0</td>\n",
       "      <td>0</td>\n",
       "      <td>0</td>\n",
       "      <td>0</td>\n",
       "    </tr>\n",
       "    <tr>\n",
       "      <th>2</th>\n",
       "      <td>N</td>\n",
       "      <td>1</td>\n",
       "      <td>1</td>\n",
       "      <td>0</td>\n",
       "      <td>0</td>\n",
       "      <td>0</td>\n",
       "      <td>1</td>\n",
       "      <td>1</td>\n",
       "      <td>0</td>\n",
       "      <td>0</td>\n",
       "      <td>...</td>\n",
       "      <td>0</td>\n",
       "      <td>0</td>\n",
       "      <td>1</td>\n",
       "      <td>1</td>\n",
       "      <td>0</td>\n",
       "      <td>0</td>\n",
       "      <td>1</td>\n",
       "      <td>0</td>\n",
       "      <td>0</td>\n",
       "      <td>0</td>\n",
       "    </tr>\n",
       "    <tr>\n",
       "      <th>3</th>\n",
       "      <td>N</td>\n",
       "      <td>0</td>\n",
       "      <td>1</td>\n",
       "      <td>1</td>\n",
       "      <td>1</td>\n",
       "      <td>1</td>\n",
       "      <td>1</td>\n",
       "      <td>1</td>\n",
       "      <td>1</td>\n",
       "      <td>1</td>\n",
       "      <td>...</td>\n",
       "      <td>1</td>\n",
       "      <td>1</td>\n",
       "      <td>0</td>\n",
       "      <td>1</td>\n",
       "      <td>0</td>\n",
       "      <td>0</td>\n",
       "      <td>0</td>\n",
       "      <td>0</td>\n",
       "      <td>1</td>\n",
       "      <td>0</td>\n",
       "    </tr>\n",
       "    <tr>\n",
       "      <th>4</th>\n",
       "      <td>Y (Minor)</td>\n",
       "      <td>1</td>\n",
       "      <td>1</td>\n",
       "      <td>1</td>\n",
       "      <td>1</td>\n",
       "      <td>0</td>\n",
       "      <td>1</td>\n",
       "      <td>1</td>\n",
       "      <td>1</td>\n",
       "      <td>0</td>\n",
       "      <td>...</td>\n",
       "      <td>0</td>\n",
       "      <td>0</td>\n",
       "      <td>1</td>\n",
       "      <td>1</td>\n",
       "      <td>0</td>\n",
       "      <td>0</td>\n",
       "      <td>0</td>\n",
       "      <td>1</td>\n",
       "      <td>0</td>\n",
       "      <td>0</td>\n",
       "    </tr>\n",
       "  </tbody>\n",
       "</table>\n",
       "<p>5 rows × 31 columns</p>\n",
       "</div>"
      ],
      "text/plain": [
       "  has_blemishes  quality  size_ge_5.9  size_ge_7  size_ge_8  size_ge_9  \\\n",
       "0             N        1            1          1          0          0   \n",
       "1             N        1            1          1          1          0   \n",
       "2             N        1            1          0          0          0   \n",
       "3             N        0            1          1          1          1   \n",
       "4     Y (Minor)        1            1          1          1          0   \n",
       "\n",
       "   weight_ge_99  weight_ge_150  weight_ge_200  weight_ge_250  ...  \\\n",
       "0             1              1              0              0  ...   \n",
       "1             1              1              1              0  ...   \n",
       "2             1              1              0              0  ...   \n",
       "3             1              1              1              1  ...   \n",
       "4             1              1              1              0  ...   \n",
       "\n",
       "   harvest_time_ge_19.7  is_softness  is_not_softness  is_ripeness  \\\n",
       "0                     0            0                1            1   \n",
       "1                     0            1                0            1   \n",
       "2                     0            0                1            1   \n",
       "3                     1            1                0            1   \n",
       "4                     0            0                1            1   \n",
       "\n",
       "   is_not_ripeness  color_Deep Orange  color_Light Orange  color_Orange  \\\n",
       "0                0                  0                   0             1   \n",
       "1                0                  1                   0             0   \n",
       "2                0                  0                   1             0   \n",
       "3                0                  0                   0             0   \n",
       "4                0                  0                   0             1   \n",
       "\n",
       "   color_Orange-Red  color_Yellow-Orange  \n",
       "0                 0                    0  \n",
       "1                 0                    0  \n",
       "2                 0                    0  \n",
       "3                 1                    0  \n",
       "4                 0                    0  \n",
       "\n",
       "[5 rows x 31 columns]"
      ]
     },
     "execution_count": 12,
     "metadata": {},
     "output_type": "execute_result"
    }
   ],
   "source": [
    "one_hot = pd.get_dummies(data['color'], prefix='color')\n",
    "\n",
    "data = pd.concat([data, one_hot], axis=1)\n",
    "\n",
    "data.drop(columns=['color'], inplace=True)\n",
    "data.head()"
   ]
  },
  {
   "cell_type": "markdown",
   "id": "baa49130",
   "metadata": {},
   "source": [
    "Then I binarized variable has_blemishes into only 2 classes (has blemishes or not) and scaled it with dichotomic scale "
   ]
  },
  {
   "cell_type": "code",
   "execution_count": 13,
   "id": "0befe5ec",
   "metadata": {},
   "outputs": [
    {
     "data": {
      "text/html": [
       "<div>\n",
       "<style scoped>\n",
       "    .dataframe tbody tr th:only-of-type {\n",
       "        vertical-align: middle;\n",
       "    }\n",
       "\n",
       "    .dataframe tbody tr th {\n",
       "        vertical-align: top;\n",
       "    }\n",
       "\n",
       "    .dataframe thead th {\n",
       "        text-align: right;\n",
       "    }\n",
       "</style>\n",
       "<table border=\"1\" class=\"dataframe\">\n",
       "  <thead>\n",
       "    <tr style=\"text-align: right;\">\n",
       "      <th></th>\n",
       "      <th>quality</th>\n",
       "      <th>size_ge_5.9</th>\n",
       "      <th>size_ge_7</th>\n",
       "      <th>size_ge_8</th>\n",
       "      <th>size_ge_9</th>\n",
       "      <th>weight_ge_99</th>\n",
       "      <th>weight_ge_150</th>\n",
       "      <th>weight_ge_200</th>\n",
       "      <th>weight_ge_250</th>\n",
       "      <th>brix_ge_5.4</th>\n",
       "      <th>...</th>\n",
       "      <th>is_not_softness</th>\n",
       "      <th>is_ripeness</th>\n",
       "      <th>is_not_ripeness</th>\n",
       "      <th>color_Deep Orange</th>\n",
       "      <th>color_Light Orange</th>\n",
       "      <th>color_Orange</th>\n",
       "      <th>color_Orange-Red</th>\n",
       "      <th>color_Yellow-Orange</th>\n",
       "      <th>is_has_blemishes</th>\n",
       "      <th>is_not_has_blemishes</th>\n",
       "    </tr>\n",
       "  </thead>\n",
       "  <tbody>\n",
       "    <tr>\n",
       "      <th>0</th>\n",
       "      <td>1</td>\n",
       "      <td>1</td>\n",
       "      <td>1</td>\n",
       "      <td>0</td>\n",
       "      <td>0</td>\n",
       "      <td>1</td>\n",
       "      <td>1</td>\n",
       "      <td>0</td>\n",
       "      <td>0</td>\n",
       "      <td>1</td>\n",
       "      <td>...</td>\n",
       "      <td>1</td>\n",
       "      <td>1</td>\n",
       "      <td>0</td>\n",
       "      <td>0</td>\n",
       "      <td>0</td>\n",
       "      <td>1</td>\n",
       "      <td>0</td>\n",
       "      <td>0</td>\n",
       "      <td>0</td>\n",
       "      <td>1</td>\n",
       "    </tr>\n",
       "    <tr>\n",
       "      <th>1</th>\n",
       "      <td>1</td>\n",
       "      <td>1</td>\n",
       "      <td>1</td>\n",
       "      <td>1</td>\n",
       "      <td>0</td>\n",
       "      <td>1</td>\n",
       "      <td>1</td>\n",
       "      <td>1</td>\n",
       "      <td>0</td>\n",
       "      <td>1</td>\n",
       "      <td>...</td>\n",
       "      <td>0</td>\n",
       "      <td>1</td>\n",
       "      <td>0</td>\n",
       "      <td>1</td>\n",
       "      <td>0</td>\n",
       "      <td>0</td>\n",
       "      <td>0</td>\n",
       "      <td>0</td>\n",
       "      <td>0</td>\n",
       "      <td>1</td>\n",
       "    </tr>\n",
       "    <tr>\n",
       "      <th>2</th>\n",
       "      <td>1</td>\n",
       "      <td>1</td>\n",
       "      <td>0</td>\n",
       "      <td>0</td>\n",
       "      <td>0</td>\n",
       "      <td>1</td>\n",
       "      <td>1</td>\n",
       "      <td>0</td>\n",
       "      <td>0</td>\n",
       "      <td>1</td>\n",
       "      <td>...</td>\n",
       "      <td>1</td>\n",
       "      <td>1</td>\n",
       "      <td>0</td>\n",
       "      <td>0</td>\n",
       "      <td>1</td>\n",
       "      <td>0</td>\n",
       "      <td>0</td>\n",
       "      <td>0</td>\n",
       "      <td>0</td>\n",
       "      <td>1</td>\n",
       "    </tr>\n",
       "    <tr>\n",
       "      <th>3</th>\n",
       "      <td>0</td>\n",
       "      <td>1</td>\n",
       "      <td>1</td>\n",
       "      <td>1</td>\n",
       "      <td>1</td>\n",
       "      <td>1</td>\n",
       "      <td>1</td>\n",
       "      <td>1</td>\n",
       "      <td>1</td>\n",
       "      <td>1</td>\n",
       "      <td>...</td>\n",
       "      <td>0</td>\n",
       "      <td>1</td>\n",
       "      <td>0</td>\n",
       "      <td>0</td>\n",
       "      <td>0</td>\n",
       "      <td>0</td>\n",
       "      <td>1</td>\n",
       "      <td>0</td>\n",
       "      <td>0</td>\n",
       "      <td>1</td>\n",
       "    </tr>\n",
       "    <tr>\n",
       "      <th>4</th>\n",
       "      <td>1</td>\n",
       "      <td>1</td>\n",
       "      <td>1</td>\n",
       "      <td>1</td>\n",
       "      <td>0</td>\n",
       "      <td>1</td>\n",
       "      <td>1</td>\n",
       "      <td>1</td>\n",
       "      <td>0</td>\n",
       "      <td>1</td>\n",
       "      <td>...</td>\n",
       "      <td>1</td>\n",
       "      <td>1</td>\n",
       "      <td>0</td>\n",
       "      <td>0</td>\n",
       "      <td>0</td>\n",
       "      <td>1</td>\n",
       "      <td>0</td>\n",
       "      <td>0</td>\n",
       "      <td>1</td>\n",
       "      <td>0</td>\n",
       "    </tr>\n",
       "  </tbody>\n",
       "</table>\n",
       "<p>5 rows × 32 columns</p>\n",
       "</div>"
      ],
      "text/plain": [
       "   quality  size_ge_5.9  size_ge_7  size_ge_8  size_ge_9  weight_ge_99  \\\n",
       "0        1            1          1          0          0             1   \n",
       "1        1            1          1          1          0             1   \n",
       "2        1            1          0          0          0             1   \n",
       "3        0            1          1          1          1             1   \n",
       "4        1            1          1          1          0             1   \n",
       "\n",
       "   weight_ge_150  weight_ge_200  weight_ge_250  brix_ge_5.4  ...  \\\n",
       "0              1              0              0            1  ...   \n",
       "1              1              1              0            1  ...   \n",
       "2              1              0              0            1  ...   \n",
       "3              1              1              1            1  ...   \n",
       "4              1              1              0            1  ...   \n",
       "\n",
       "   is_not_softness  is_ripeness  is_not_ripeness  color_Deep Orange  \\\n",
       "0                1            1                0                  0   \n",
       "1                0            1                0                  1   \n",
       "2                1            1                0                  0   \n",
       "3                0            1                0                  0   \n",
       "4                1            1                0                  0   \n",
       "\n",
       "   color_Light Orange  color_Orange  color_Orange-Red  color_Yellow-Orange  \\\n",
       "0                   0             1                 0                    0   \n",
       "1                   0             0                 0                    0   \n",
       "2                   1             0                 0                    0   \n",
       "3                   0             0                 1                    0   \n",
       "4                   0             1                 0                    0   \n",
       "\n",
       "   is_has_blemishes  is_not_has_blemishes  \n",
       "0                 0                     1  \n",
       "1                 0                     1  \n",
       "2                 0                     1  \n",
       "3                 0                     1  \n",
       "4                 1                     0  \n",
       "\n",
       "[5 rows x 32 columns]"
      ]
     },
     "execution_count": 13,
     "metadata": {},
     "output_type": "execute_result"
    }
   ],
   "source": [
    "data['is_has_blemishes'] = data['has_blemishes'].apply(lambda x: 1 if 'Y' in x else 0)\n",
    "data['is_not_has_blemishes'] = data['is_has_blemishes'].apply(lambda x: 1 if x == 0 else 0)\n",
    "\n",
    "data.drop(columns=['has_blemishes'], inplace=True)\n",
    "data.head()"
   ]
  },
  {
   "cell_type": "code",
   "execution_count": 14,
   "id": "9873b133",
   "metadata": {},
   "outputs": [
    {
     "data": {
      "text/html": [
       "<div>\n",
       "<style scoped>\n",
       "    .dataframe tbody tr th:only-of-type {\n",
       "        vertical-align: middle;\n",
       "    }\n",
       "\n",
       "    .dataframe tbody tr th {\n",
       "        vertical-align: top;\n",
       "    }\n",
       "\n",
       "    .dataframe thead th {\n",
       "        text-align: right;\n",
       "    }\n",
       "</style>\n",
       "<table border=\"1\" class=\"dataframe\">\n",
       "  <thead>\n",
       "    <tr style=\"text-align: right;\">\n",
       "      <th></th>\n",
       "      <th>size_ge_5.9</th>\n",
       "    </tr>\n",
       "    <tr>\n",
       "      <th>quality</th>\n",
       "      <th></th>\n",
       "    </tr>\n",
       "  </thead>\n",
       "  <tbody>\n",
       "    <tr>\n",
       "      <th>0</th>\n",
       "      <td>84</td>\n",
       "    </tr>\n",
       "    <tr>\n",
       "      <th>1</th>\n",
       "      <td>157</td>\n",
       "    </tr>\n",
       "  </tbody>\n",
       "</table>\n",
       "</div>"
      ],
      "text/plain": [
       "         size_ge_5.9\n",
       "quality             \n",
       "0                 84\n",
       "1                157"
      ]
     },
     "execution_count": 14,
     "metadata": {},
     "output_type": "execute_result"
    }
   ],
   "source": [
    "data.groupby(['quality']).agg({'size_ge_5.9':'count'})"
   ]
  },
  {
   "cell_type": "code",
   "execution_count": 235,
   "id": "dfa1e851",
   "metadata": {},
   "outputs": [
    {
     "name": "stdout",
     "output_type": "stream",
     "text": [
      "Количество положительных примеров (C+): 109\n",
      "Количество отрицательных примеров (C-): 109\n"
     ]
    },
    {
     "name": "stderr",
     "output_type": "stream",
     "text": [
      "Подбор max_counter_examples:   0%|          | 0/9 [00:00<?, ?it/s]\n",
      "Подбор min_cardinality:   0%|          | 0/4 [00:00<?, ?it/s]\u001b[A\n",
      "\n",
      "Классификация тестовых примеров:   0%|          | 0/73 [00:00<?, ?it/s]\u001b[A\u001b[A\n",
      "\n",
      "Классификация тестовых примеров:   3%|▎         | 2/73 [00:00<00:05, 13.56it/s]\u001b[A\u001b[A"
     ]
    },
    {
     "name": "stdout",
     "output_type": "stream",
     "text": [
      "1\n",
      "104 92\n",
      "1\n",
      "100 96\n",
      "1\n",
      "104 92\n"
     ]
    },
    {
     "name": "stderr",
     "output_type": "stream",
     "text": [
      "\n",
      "\n",
      "Классификация тестовых примеров:   5%|▌         | 4/73 [00:00<00:05, 11.87it/s]\u001b[A\u001b[A"
     ]
    },
    {
     "name": "stdout",
     "output_type": "stream",
     "text": [
      "1\n",
      "59 60\n",
      "1\n",
      "85 78\n",
      "1\n",
      "101 78\n"
     ]
    },
    {
     "name": "stderr",
     "output_type": "stream",
     "text": [
      "\n",
      "\n",
      "Классификация тестовых примеров:   8%|▊         | 6/73 [00:00<00:05, 11.98it/s]\u001b[A\u001b[A\n",
      "\n",
      "Классификация тестовых примеров:  11%|█         | 8/73 [00:00<00:05, 11.52it/s]\u001b[A\u001b[A"
     ]
    },
    {
     "name": "stdout",
     "output_type": "stream",
     "text": [
      "1\n",
      "98 92\n",
      "1\n",
      "87 77\n",
      "1\n",
      "91 68\n"
     ]
    },
    {
     "name": "stderr",
     "output_type": "stream",
     "text": [
      "\n",
      "\n",
      "Классификация тестовых примеров:  14%|█▎        | 10/73 [00:00<00:05, 11.77it/s]\u001b[A\u001b[A\n",
      "\n"
     ]
    },
    {
     "name": "stdout",
     "output_type": "stream",
     "text": [
      "1\n",
      "96 84\n",
      "1\n",
      "98 83\n",
      "1\n",
      "106 105\n"
     ]
    },
    {
     "name": "stderr",
     "output_type": "stream",
     "text": [
      "Классификация тестовых примеров:  16%|█▋        | 12/73 [00:01<00:05, 11.61it/s]\u001b[A\u001b[A\n",
      "\n",
      "Классификация тестовых примеров:  19%|█▉        | 14/73 [00:01<00:05, 10.51it/s]\u001b[A\u001b[A"
     ]
    },
    {
     "name": "stdout",
     "output_type": "stream",
     "text": [
      "1\n",
      "74 77\n",
      "1\n",
      "85 81\n",
      "1\n"
     ]
    },
    {
     "name": "stderr",
     "output_type": "stream",
     "text": [
      "\n",
      "\n",
      "Классификация тестовых примеров:  22%|██▏       | 16/73 [00:01<00:05, 11.14it/s]\u001b[A\u001b[A\n",
      "\n"
     ]
    },
    {
     "name": "stdout",
     "output_type": "stream",
     "text": [
      "74 49\n",
      "1\n",
      "68 72\n",
      "1\n",
      "103 100\n",
      "1\n",
      "99 93\n"
     ]
    },
    {
     "name": "stderr",
     "output_type": "stream",
     "text": [
      "Классификация тестовых примеров:  25%|██▍       | 18/73 [00:01<00:05, 10.78it/s]\u001b[A\u001b[A\n",
      "\n",
      "Классификация тестовых примеров:  27%|██▋       | 20/73 [00:01<00:04, 10.82it/s]\u001b[A\u001b[A"
     ]
    },
    {
     "name": "stdout",
     "output_type": "stream",
     "text": [
      "1\n",
      "95 70\n",
      "1\n",
      "89 70\n",
      "1\n",
      "96 84\n"
     ]
    },
    {
     "name": "stderr",
     "output_type": "stream",
     "text": [
      "\n",
      "\n",
      "Классификация тестовых примеров:  30%|███       | 22/73 [00:01<00:04, 11.23it/s]\u001b[A\u001b[A\n",
      "\n",
      "Классификация тестовых примеров:  33%|███▎      | 24/73 [00:02<00:04, 11.67it/s]\u001b[A\u001b[A"
     ]
    },
    {
     "name": "stdout",
     "output_type": "stream",
     "text": [
      "1\n",
      "59 60\n",
      "1\n",
      "79 79\n",
      "1\n",
      "95 84\n"
     ]
    },
    {
     "name": "stderr",
     "output_type": "stream",
     "text": [
      "\n",
      "\n",
      "Классификация тестовых примеров:  36%|███▌      | 26/73 [00:02<00:04, 11.07it/s]\u001b[A\u001b[A\n",
      "\n"
     ]
    },
    {
     "name": "stdout",
     "output_type": "stream",
     "text": [
      "1\n",
      "75 59\n",
      "1\n",
      "105 98\n",
      "1\n",
      "85 78\n",
      "1\n",
      "85 78\n"
     ]
    },
    {
     "name": "stderr",
     "output_type": "stream",
     "text": [
      "Классификация тестовых примеров:  38%|███▊      | 28/73 [00:02<00:03, 11.58it/s]\u001b[A\u001b[A\n",
      "\n",
      "Классификация тестовых примеров:  41%|████      | 30/73 [00:02<00:03, 11.62it/s]\u001b[A\u001b[A"
     ]
    },
    {
     "name": "stdout",
     "output_type": "stream",
     "text": [
      "1\n",
      "75 69\n",
      "1\n",
      "54 33\n",
      "1\n",
      "91 88\n"
     ]
    },
    {
     "name": "stderr",
     "output_type": "stream",
     "text": [
      "\n",
      "\n",
      "Классификация тестовых примеров:  44%|████▍     | 32/73 [00:02<00:03, 11.95it/s]\u001b[A\u001b[A\n",
      "\n",
      "Классификация тестовых примеров:  47%|████▋     | 34/73 [00:02<00:03, 12.49it/s]\u001b[A\u001b[A"
     ]
    },
    {
     "name": "stdout",
     "output_type": "stream",
     "text": [
      "1\n",
      "66 60\n",
      "1\n",
      "96 84\n",
      "1\n",
      "104 95\n"
     ]
    },
    {
     "name": "stderr",
     "output_type": "stream",
     "text": [
      "\n",
      "\n",
      "Классификация тестовых примеров:  49%|████▉     | 36/73 [00:03<00:02, 12.53it/s]\u001b[A\u001b[A\n",
      "\n"
     ]
    },
    {
     "name": "stdout",
     "output_type": "stream",
     "text": [
      "1\n",
      "95 94\n",
      "1\n",
      "82 64\n",
      "1\n",
      "85 72\n",
      "1\n",
      "89 85\n"
     ]
    },
    {
     "name": "stderr",
     "output_type": "stream",
     "text": [
      "Классификация тестовых примеров:  52%|█████▏    | 38/73 [00:03<00:03, 11.66it/s]\u001b[A\u001b[A\n",
      "\n",
      "Классификация тестовых примеров:  55%|█████▍    | 40/73 [00:03<00:02, 11.30it/s]\u001b[A\u001b[A"
     ]
    },
    {
     "name": "stdout",
     "output_type": "stream",
     "text": [
      "1\n",
      "77 83\n",
      "1\n",
      "88 88\n",
      "1\n",
      "92 67\n",
      "1\n",
      "105 96\n"
     ]
    },
    {
     "name": "stderr",
     "output_type": "stream",
     "text": [
      "\n",
      "\n",
      "Классификация тестовых примеров:  58%|█████▊    | 42/73 [00:03<00:02, 11.47it/s]\u001b[A\u001b[A\n",
      "\n",
      "Классификация тестовых примеров:  60%|██████    | 44/73 [00:03<00:02, 11.98it/s]\u001b[A\u001b[A"
     ]
    },
    {
     "name": "stdout",
     "output_type": "stream",
     "text": [
      "1\n",
      "89 70\n",
      "1\n",
      "59 69\n",
      "1\n",
      "92 81\n"
     ]
    },
    {
     "name": "stderr",
     "output_type": "stream",
     "text": [
      "\n",
      "\n",
      "Классификация тестовых примеров:  63%|██████▎   | 46/73 [00:03<00:02, 11.82it/s]\u001b[A\u001b[A\n",
      "\n",
      "Классификация тестовых примеров:  66%|██████▌   | 48/73 [00:04<00:02, 11.98it/s]\u001b[A\u001b[A"
     ]
    },
    {
     "name": "stdout",
     "output_type": "stream",
     "text": [
      "1\n",
      "76 36\n",
      "1\n",
      "101 93\n",
      "1\n",
      "71 63\n",
      "1\n",
      "88 78\n"
     ]
    },
    {
     "name": "stderr",
     "output_type": "stream",
     "text": [
      "\n",
      "\n",
      "Классификация тестовых примеров:  68%|██████▊   | 50/73 [00:04<00:01, 12.46it/s]\u001b[A\u001b[A\n",
      "\n",
      "Классификация тестовых примеров:  71%|███████   | 52/73 [00:04<00:01, 12.42it/s]\u001b[A\u001b[A"
     ]
    },
    {
     "name": "stdout",
     "output_type": "stream",
     "text": [
      "1\n",
      "87 77\n",
      "1\n",
      "96 83\n",
      "1\n",
      "97 79\n"
     ]
    },
    {
     "name": "stderr",
     "output_type": "stream",
     "text": [
      "\n",
      "\n",
      "Классификация тестовых примеров:  74%|███████▍  | 54/73 [00:04<00:01, 11.55it/s]\u001b[A\u001b[A"
     ]
    },
    {
     "name": "stdout",
     "output_type": "stream",
     "text": [
      "1\n",
      "87 79\n",
      "1\n",
      "89 66\n",
      "1\n",
      "84 70\n"
     ]
    },
    {
     "name": "stderr",
     "output_type": "stream",
     "text": [
      "\n",
      "\n",
      "Классификация тестовых примеров:  77%|███████▋  | 56/73 [00:04<00:01, 12.26it/s]\u001b[A\u001b[A\n",
      "\n",
      "Классификация тестовых примеров:  79%|███████▉  | 58/73 [00:04<00:01, 12.35it/s]\u001b[A\u001b[A"
     ]
    },
    {
     "name": "stdout",
     "output_type": "stream",
     "text": [
      "1\n",
      "88 73\n",
      "1\n",
      "94 86\n",
      "1\n",
      "101 96\n"
     ]
    },
    {
     "name": "stderr",
     "output_type": "stream",
     "text": [
      "\n",
      "\n",
      "Классификация тестовых примеров:  82%|████████▏ | 60/73 [00:05<00:01, 12.87it/s]\u001b[A\u001b[A"
     ]
    },
    {
     "name": "stdout",
     "output_type": "stream",
     "text": [
      "1\n",
      "79 78\n",
      "1\n",
      "95 91\n",
      "1\n",
      "95 75\n"
     ]
    },
    {
     "name": "stderr",
     "output_type": "stream",
     "text": [
      "\n",
      "\n",
      "Классификация тестовых примеров:  85%|████████▍ | 62/73 [00:05<00:00, 13.00it/s]\u001b[A\u001b[A\n",
      "\n",
      "Классификация тестовых примеров:  88%|████████▊ | 64/73 [00:05<00:00, 12.73it/s]\u001b[A\u001b[A"
     ]
    },
    {
     "name": "stdout",
     "output_type": "stream",
     "text": [
      "1\n",
      "59 69\n",
      "1\n",
      "89 76\n",
      "1\n",
      "59 69\n"
     ]
    },
    {
     "name": "stderr",
     "output_type": "stream",
     "text": [
      "\n",
      "\n",
      "Классификация тестовых примеров:  90%|█████████ | 66/73 [00:05<00:00, 12.96it/s]\u001b[A\u001b[A\n",
      "\n",
      "Классификация тестовых примеров:  93%|█████████▎| 68/73 [00:05<00:00, 12.99it/s]\u001b[A\u001b[A"
     ]
    },
    {
     "name": "stdout",
     "output_type": "stream",
     "text": [
      "1\n",
      "105 104\n",
      "1\n",
      "97 73\n",
      "1\n",
      "93 70\n",
      "1\n",
      "92 89\n",
      "1\n",
      "74 43\n"
     ]
    },
    {
     "name": "stderr",
     "output_type": "stream",
     "text": [
      "\n",
      "\n",
      "Классификация тестовых примеров:  96%|█████████▌| 70/73 [00:05<00:00, 12.89it/s]\u001b[A\u001b[A\n",
      "\n",
      "Классификация тестовых примеров:  99%|█████████▊| 72/73 [00:05<00:00, 13.27it/s]\u001b[A\u001b[A"
     ]
    },
    {
     "name": "stdout",
     "output_type": "stream",
     "text": [
      "1\n",
      "88 78\n",
      "1\n",
      "59 60\n",
      "1\n",
      "100 92\n"
     ]
    },
    {
     "name": "stderr",
     "output_type": "stream",
     "text": [
      "Классификация тестовых примеров: 100%|██████████| 73/73 [00:06<00:00, 12.04it/s]\n",
      "\n",
      "Подбор min_cardinality:  25%|██▌       | 1/4 [00:06<00:18,  6.09s/it]\u001b[A"
     ]
    },
    {
     "name": "stdout",
     "output_type": "stream",
     "text": [
      "1\n",
      "86 65\n"
     ]
    },
    {
     "name": "stderr",
     "output_type": "stream",
     "text": [
      "\n",
      "\n",
      "Классификация тестовых примеров:   0%|          | 0/73 [00:00<?, ?it/s]\u001b[A\u001b[A\n",
      "\n",
      "Классификация тестовых примеров:   3%|▎         | 2/73 [00:00<00:04, 16.32it/s]\u001b[A\u001b[A"
     ]
    },
    {
     "name": "stdout",
     "output_type": "stream",
     "text": [
      "2\n",
      "104 92\n",
      "2\n",
      "100 96\n",
      "2\n",
      "104 92\n"
     ]
    },
    {
     "name": "stderr",
     "output_type": "stream",
     "text": [
      "\n",
      "\n",
      "Классификация тестовых примеров:   5%|▌         | 4/73 [00:00<00:04, 14.35it/s]\u001b[A\u001b[A\n",
      "\n",
      "Классификация тестовых примеров:   8%|▊         | 6/73 [00:00<00:04, 13.96it/s]\u001b[A\u001b[A"
     ]
    },
    {
     "name": "stdout",
     "output_type": "stream",
     "text": [
      "2\n",
      "59 60\n",
      "2\n",
      "85 78\n",
      "2\n",
      "101 78\n"
     ]
    },
    {
     "name": "stderr",
     "output_type": "stream",
     "text": [
      "\n",
      "\n",
      "Классификация тестовых примеров:  11%|█         | 8/73 [00:00<00:04, 14.36it/s]\u001b[A\u001b[A\n",
      "\n",
      "Классификация тестовых примеров:  14%|█▎        | 10/73 [00:00<00:04, 14.01it/s]\u001b[A\u001b[A"
     ]
    },
    {
     "name": "stdout",
     "output_type": "stream",
     "text": [
      "2\n",
      "98 92\n",
      "2\n",
      "87 77\n",
      "2\n",
      "91 68\n",
      "2\n",
      "96 84\n"
     ]
    },
    {
     "name": "stderr",
     "output_type": "stream",
     "text": [
      "\n",
      "\n",
      "Классификация тестовых примеров:  16%|█▋        | 12/73 [00:00<00:04, 13.68it/s]\u001b[A\u001b[A\n",
      "\n",
      "Классификация тестовых примеров:  19%|█▉        | 14/73 [00:01<00:04, 13.30it/s]\u001b[A\u001b[A"
     ]
    },
    {
     "name": "stdout",
     "output_type": "stream",
     "text": [
      "2\n",
      "98 83\n",
      "2\n",
      "106 105\n",
      "2\n",
      "74 77\n",
      "2\n",
      "85 81\n"
     ]
    },
    {
     "name": "stderr",
     "output_type": "stream",
     "text": [
      "\n",
      "\n",
      "Классификация тестовых примеров:  22%|██▏       | 16/73 [00:01<00:04, 11.77it/s]\u001b[A\u001b[A"
     ]
    },
    {
     "name": "stdout",
     "output_type": "stream",
     "text": [
      "2\n",
      "74 49\n",
      "2\n",
      "68 72\n",
      "2\n",
      "103 100\n"
     ]
    },
    {
     "name": "stderr",
     "output_type": "stream",
     "text": [
      "\n",
      "\n",
      "Классификация тестовых примеров:  25%|██▍       | 18/73 [00:01<00:04, 11.69it/s]\u001b[A\u001b[A\n",
      "\n",
      "Классификация тестовых примеров:  27%|██▋       | 20/73 [00:01<00:04, 12.05it/s]\u001b[A\u001b[A"
     ]
    },
    {
     "name": "stdout",
     "output_type": "stream",
     "text": [
      "2\n",
      "99 93\n",
      "2\n",
      "95 70\n",
      "2\n",
      "89 70\n"
     ]
    },
    {
     "name": "stderr",
     "output_type": "stream",
     "text": [
      "\n",
      "\n",
      "Классификация тестовых примеров:  30%|███       | 22/73 [00:01<00:04, 12.33it/s]\u001b[A\u001b[A"
     ]
    },
    {
     "name": "stdout",
     "output_type": "stream",
     "text": [
      "2\n",
      "96 84\n",
      "2\n",
      "59 60\n",
      "2\n",
      "79 79\n",
      "2\n",
      "95 84\n"
     ]
    },
    {
     "name": "stderr",
     "output_type": "stream",
     "text": [
      "\n",
      "\n",
      "Классификация тестовых примеров:  33%|███▎      | 24/73 [00:01<00:03, 13.07it/s]\u001b[A\u001b[A\n",
      "\n",
      "Классификация тестовых примеров:  36%|███▌      | 26/73 [00:02<00:03, 12.71it/s]\u001b[A\u001b[A"
     ]
    },
    {
     "name": "stdout",
     "output_type": "stream",
     "text": [
      "2\n",
      "75 59\n",
      "2\n",
      "105 98\n",
      "2\n",
      "85 78\n"
     ]
    },
    {
     "name": "stderr",
     "output_type": "stream",
     "text": [
      "\n",
      "\n",
      "Классификация тестовых примеров:  38%|███▊      | 28/73 [00:02<00:04, 11.11it/s]\u001b[A\u001b[A"
     ]
    },
    {
     "name": "stdout",
     "output_type": "stream",
     "text": [
      "2\n",
      "85 78\n",
      "2\n",
      "75 69\n",
      "2\n"
     ]
    },
    {
     "name": "stderr",
     "output_type": "stream",
     "text": [
      "\n",
      "\n",
      "Классификация тестовых примеров:  41%|████      | 30/73 [00:02<00:04, 10.42it/s]\u001b[A\u001b[A\n",
      "\n",
      "Классификация тестовых примеров:  44%|████▍     | 32/73 [00:02<00:03, 10.92it/s]\u001b[A\u001b[A"
     ]
    },
    {
     "name": "stdout",
     "output_type": "stream",
     "text": [
      "54 33\n",
      "2\n",
      "91 88\n",
      "2\n",
      "66 60\n"
     ]
    },
    {
     "name": "stderr",
     "output_type": "stream",
     "text": [
      "\n",
      "\n",
      "Классификация тестовых примеров:  47%|████▋     | 34/73 [00:02<00:03, 11.11it/s]\u001b[A\u001b[A"
     ]
    },
    {
     "name": "stdout",
     "output_type": "stream",
     "text": [
      "2\n",
      "96 84\n",
      "2\n",
      "104 95\n",
      "2\n",
      "95 94\n"
     ]
    },
    {
     "name": "stderr",
     "output_type": "stream",
     "text": [
      "\n",
      "\n",
      "Классификация тестовых примеров:  49%|████▉     | 36/73 [00:02<00:03, 11.13it/s]\u001b[A\u001b[A\n",
      "\n",
      "Классификация тестовых примеров:  52%|█████▏    | 38/73 [00:03<00:02, 11.82it/s]\u001b[A\u001b[A"
     ]
    },
    {
     "name": "stdout",
     "output_type": "stream",
     "text": [
      "2\n",
      "82 64\n",
      "2\n",
      "85 72\n",
      "2\n",
      "89 85\n"
     ]
    },
    {
     "name": "stderr",
     "output_type": "stream",
     "text": [
      "\n",
      "\n",
      "Классификация тестовых примеров:  55%|█████▍    | 40/73 [00:03<00:02, 11.77it/s]\u001b[A\u001b[A"
     ]
    },
    {
     "name": "stdout",
     "output_type": "stream",
     "text": [
      "2\n",
      "77 83\n",
      "2\n",
      "88 88\n",
      "2\n",
      "92 67\n"
     ]
    },
    {
     "name": "stderr",
     "output_type": "stream",
     "text": [
      "\n",
      "\n",
      "Классификация тестовых примеров:  58%|█████▊    | 42/73 [00:03<00:02, 11.48it/s]\u001b[A\u001b[A\n",
      "\n"
     ]
    },
    {
     "name": "stdout",
     "output_type": "stream",
     "text": [
      "2\n",
      "105 96\n",
      "2\n",
      "89 70\n",
      "2\n",
      "59 69\n"
     ]
    },
    {
     "name": "stderr",
     "output_type": "stream",
     "text": [
      "Классификация тестовых примеров:  60%|██████    | 44/73 [00:03<00:02, 11.45it/s]\u001b[A\u001b[A\n",
      "\n",
      "Классификация тестовых примеров:  63%|██████▎   | 46/73 [00:03<00:02, 11.09it/s]\u001b[A\u001b[A"
     ]
    },
    {
     "name": "stdout",
     "output_type": "stream",
     "text": [
      "2\n",
      "92 81\n",
      "2\n",
      "76 36\n"
     ]
    },
    {
     "name": "stderr",
     "output_type": "stream",
     "text": [
      "\n",
      "\n",
      "Классификация тестовых примеров:  66%|██████▌   | 48/73 [00:04<00:02, 10.54it/s]\u001b[A\u001b[A"
     ]
    },
    {
     "name": "stdout",
     "output_type": "stream",
     "text": [
      "2\n",
      "101 93\n",
      "2\n",
      "71 63\n",
      "2\n",
      "88 78\n"
     ]
    },
    {
     "name": "stderr",
     "output_type": "stream",
     "text": [
      "\n",
      "\n",
      "Классификация тестовых примеров:  68%|██████▊   | 50/73 [00:04<00:02, 10.41it/s]\u001b[A\u001b[A\n",
      "\n",
      "Классификация тестовых примеров:  71%|███████   | 52/73 [00:04<00:01, 10.80it/s]\u001b[A\u001b[A"
     ]
    },
    {
     "name": "stdout",
     "output_type": "stream",
     "text": [
      "2\n",
      "87 77\n",
      "2\n",
      "96 83\n",
      "2\n",
      "97 79\n"
     ]
    },
    {
     "name": "stderr",
     "output_type": "stream",
     "text": [
      "\n",
      "\n",
      "Классификация тестовых примеров:  74%|███████▍  | 54/73 [00:04<00:01, 10.82it/s]\u001b[A\u001b[A"
     ]
    },
    {
     "name": "stdout",
     "output_type": "stream",
     "text": [
      "2\n",
      "87 79\n",
      "2\n",
      "89 66\n",
      "2\n",
      "84 70\n"
     ]
    },
    {
     "name": "stderr",
     "output_type": "stream",
     "text": [
      "\n",
      "\n",
      "Классификация тестовых примеров:  77%|███████▋  | 56/73 [00:04<00:01, 10.93it/s]\u001b[A\u001b[A\n",
      "\n",
      "Классификация тестовых примеров:  79%|███████▉  | 58/73 [00:04<00:01, 11.24it/s]\u001b[A\u001b[A"
     ]
    },
    {
     "name": "stdout",
     "output_type": "stream",
     "text": [
      "2\n",
      "88 73\n",
      "2\n",
      "94 86\n",
      "2\n",
      "101 96\n",
      "2\n",
      "79 78\n"
     ]
    },
    {
     "name": "stderr",
     "output_type": "stream",
     "text": [
      "\n",
      "\n",
      "Классификация тестовых примеров:  82%|████████▏ | 60/73 [00:05<00:01, 11.66it/s]\u001b[A\u001b[A\n",
      "\n",
      "Классификация тестовых примеров:  85%|████████▍ | 62/73 [00:05<00:00, 11.86it/s]\u001b[A\u001b[A"
     ]
    },
    {
     "name": "stdout",
     "output_type": "stream",
     "text": [
      "2\n",
      "95 91\n",
      "2\n",
      "95 75\n",
      "2\n",
      "59 69\n"
     ]
    },
    {
     "name": "stderr",
     "output_type": "stream",
     "text": [
      "\n",
      "\n",
      "Классификация тестовых примеров:  88%|████████▊ | 64/73 [00:05<00:00, 12.07it/s]\u001b[A\u001b[A"
     ]
    },
    {
     "name": "stdout",
     "output_type": "stream",
     "text": [
      "2\n",
      "89 76\n",
      "2\n",
      "59 69\n",
      "2\n",
      "105 104\n",
      "2\n",
      "97 73\n"
     ]
    },
    {
     "name": "stderr",
     "output_type": "stream",
     "text": [
      "\n",
      "\n",
      "Классификация тестовых примеров:  90%|█████████ | 66/73 [00:05<00:00, 12.31it/s]\u001b[A\u001b[A\n",
      "\n",
      "Классификация тестовых примеров:  93%|█████████▎| 68/73 [00:05<00:00, 12.83it/s]\u001b[A\u001b[A"
     ]
    },
    {
     "name": "stdout",
     "output_type": "stream",
     "text": [
      "2\n",
      "93 70\n",
      "2\n",
      "92 89\n",
      "2\n",
      "74 43\n"
     ]
    },
    {
     "name": "stderr",
     "output_type": "stream",
     "text": [
      "\n",
      "\n",
      "Классификация тестовых примеров:  96%|█████████▌| 70/73 [00:05<00:00, 12.88it/s]\u001b[A\u001b[A\n",
      "\n"
     ]
    },
    {
     "name": "stdout",
     "output_type": "stream",
     "text": [
      "2\n",
      "88 78\n",
      "2\n",
      "59 60\n",
      "2\n",
      "100 92\n"
     ]
    },
    {
     "name": "stderr",
     "output_type": "stream",
     "text": [
      "Классификация тестовых примеров: 100%|██████████| 73/73 [00:06<00:00, 11.82it/s]\u001b[A\u001b[A\n",
      "\n",
      "Подбор min_cardinality:  50%|█████     | 2/4 [00:12<00:12,  6.15s/it]\u001b[A"
     ]
    },
    {
     "name": "stdout",
     "output_type": "stream",
     "text": [
      "2\n",
      "86 65\n"
     ]
    },
    {
     "name": "stderr",
     "output_type": "stream",
     "text": [
      "\n",
      "\n",
      "Классификация тестовых примеров:   0%|          | 0/73 [00:00<?, ?it/s]\u001b[A\u001b[A\n",
      "\n",
      "Классификация тестовых примеров:   3%|▎         | 2/73 [00:00<00:05, 13.71it/s]\u001b[A\u001b[A"
     ]
    },
    {
     "name": "stdout",
     "output_type": "stream",
     "text": [
      "3\n",
      "104 92\n",
      "3\n",
      "100 96\n"
     ]
    },
    {
     "name": "stderr",
     "output_type": "stream",
     "text": [
      "\n",
      "\n"
     ]
    },
    {
     "name": "stdout",
     "output_type": "stream",
     "text": [
      "3\n",
      "104 92\n",
      "3\n",
      "59 60\n"
     ]
    },
    {
     "name": "stderr",
     "output_type": "stream",
     "text": [
      "Классификация тестовых примеров:   5%|▌         | 4/73 [00:00<00:05, 13.16it/s]\u001b[A\u001b[A\n",
      "\n"
     ]
    },
    {
     "name": "stdout",
     "output_type": "stream",
     "text": [
      "3\n",
      "85 78\n",
      "3\n",
      "101 78\n"
     ]
    },
    {
     "name": "stderr",
     "output_type": "stream",
     "text": [
      "Классификация тестовых примеров:   8%|▊         | 6/73 [00:00<00:05, 11.48it/s]\u001b[A\u001b[A"
     ]
    },
    {
     "name": "stdout",
     "output_type": "stream",
     "text": [
      "3\n",
      "98 92\n"
     ]
    },
    {
     "name": "stderr",
     "output_type": "stream",
     "text": [
      "\n",
      "\n",
      "Классификация тестовых примеров:  11%|█         | 8/73 [00:00<00:05, 11.53it/s]\u001b[A\u001b[A"
     ]
    },
    {
     "name": "stdout",
     "output_type": "stream",
     "text": [
      "3\n",
      "87 77\n",
      "3\n",
      "91 68\n"
     ]
    },
    {
     "name": "stderr",
     "output_type": "stream",
     "text": [
      "\n",
      "\n",
      "Классификация тестовых примеров:  14%|█▎        | 10/73 [00:00<00:05, 12.07it/s]\u001b[A\u001b[A"
     ]
    },
    {
     "name": "stdout",
     "output_type": "stream",
     "text": [
      "3\n",
      "96 84\n",
      "3\n",
      "98 83\n"
     ]
    },
    {
     "name": "stderr",
     "output_type": "stream",
     "text": [
      "\n",
      "\n",
      "Классификация тестовых примеров:  16%|█▋        | 12/73 [00:00<00:04, 12.46it/s]\u001b[A\u001b[A"
     ]
    },
    {
     "name": "stdout",
     "output_type": "stream",
     "text": [
      "3\n",
      "106 105\n",
      "3\n",
      "74 77\n"
     ]
    },
    {
     "name": "stderr",
     "output_type": "stream",
     "text": [
      "\n",
      "\n",
      "Классификация тестовых примеров:  19%|█▉        | 14/73 [00:01<00:04, 12.69it/s]\u001b[A\u001b[A"
     ]
    },
    {
     "name": "stdout",
     "output_type": "stream",
     "text": [
      "3\n",
      "85 81\n"
     ]
    },
    {
     "name": "stderr",
     "output_type": "stream",
     "text": [
      "\n",
      "\n",
      "Классификация тестовых примеров:  22%|██▏       | 16/73 [00:01<00:04, 12.91it/s]\u001b[A\u001b[A"
     ]
    },
    {
     "name": "stdout",
     "output_type": "stream",
     "text": [
      "3\n",
      "74 49\n",
      "3\n",
      "68 72\n",
      "3\n",
      "103 100\n",
      "3\n",
      "99 93\n"
     ]
    },
    {
     "name": "stderr",
     "output_type": "stream",
     "text": [
      "\n",
      "\n",
      "Классификация тестовых примеров:  25%|██▍       | 18/73 [00:01<00:04, 13.00it/s]\u001b[A\u001b[A\n",
      "\n",
      "Классификация тестовых примеров:  27%|██▋       | 20/73 [00:01<00:04, 13.22it/s]\u001b[A\u001b[A"
     ]
    },
    {
     "name": "stdout",
     "output_type": "stream",
     "text": [
      "3\n",
      "95 70\n",
      "3\n",
      "89 70\n",
      "3\n",
      "96 84\n"
     ]
    },
    {
     "name": "stderr",
     "output_type": "stream",
     "text": [
      "\n",
      "\n",
      "Классификация тестовых примеров:  30%|███       | 22/73 [00:01<00:03, 13.51it/s]\u001b[A\u001b[A"
     ]
    },
    {
     "name": "stdout",
     "output_type": "stream",
     "text": [
      "3\n",
      "59 60\n",
      "3\n",
      "79 79\n"
     ]
    },
    {
     "name": "stderr",
     "output_type": "stream",
     "text": [
      "\n",
      "\n",
      "Классификация тестовых примеров:  33%|███▎      | 24/73 [00:01<00:03, 13.37it/s]\u001b[A\u001b[A"
     ]
    },
    {
     "name": "stdout",
     "output_type": "stream",
     "text": [
      "3\n",
      "95 84\n"
     ]
    },
    {
     "name": "stderr",
     "output_type": "stream",
     "text": [
      "\n",
      "\n",
      "Классификация тестовых примеров:  36%|███▌      | 26/73 [00:02<00:03, 12.76it/s]\u001b[A\u001b[A"
     ]
    },
    {
     "name": "stdout",
     "output_type": "stream",
     "text": [
      "3\n",
      "75 59\n",
      "3\n",
      "105 98\n"
     ]
    },
    {
     "name": "stderr",
     "output_type": "stream",
     "text": [
      "\n",
      "\n"
     ]
    },
    {
     "name": "stdout",
     "output_type": "stream",
     "text": [
      "3\n",
      "85 78\n",
      "3\n",
      "85 78\n"
     ]
    },
    {
     "name": "stderr",
     "output_type": "stream",
     "text": [
      "Классификация тестовых примеров:  38%|███▊      | 28/73 [00:02<00:03, 13.34it/s]\u001b[A\u001b[A\n",
      "\n",
      "Классификация тестовых примеров:  41%|████      | 30/73 [00:02<00:03, 12.98it/s]\u001b[A\u001b[A"
     ]
    },
    {
     "name": "stdout",
     "output_type": "stream",
     "text": [
      "3\n",
      "75 69\n",
      "3\n",
      "54 33\n",
      "3\n",
      "91 88\n"
     ]
    },
    {
     "name": "stderr",
     "output_type": "stream",
     "text": [
      "\n",
      "\n",
      "Классификация тестовых примеров:  44%|████▍     | 32/73 [00:02<00:03, 12.87it/s]\u001b[A\u001b[A\n",
      "\n"
     ]
    },
    {
     "name": "stdout",
     "output_type": "stream",
     "text": [
      "3\n",
      "66 60\n",
      "3\n",
      "96 84\n",
      "3\n",
      "104 95\n"
     ]
    },
    {
     "name": "stderr",
     "output_type": "stream",
     "text": [
      "Классификация тестовых примеров:  47%|████▋     | 34/73 [00:02<00:02, 13.10it/s]\u001b[A\u001b[A\n",
      "\n",
      "Классификация тестовых примеров:  49%|████▉     | 36/73 [00:02<00:02, 12.85it/s]\u001b[A\u001b[A"
     ]
    },
    {
     "name": "stdout",
     "output_type": "stream",
     "text": [
      "3\n",
      "95 94\n",
      "3\n",
      "82 64\n",
      "3\n",
      "85 72\n",
      "3\n"
     ]
    },
    {
     "name": "stderr",
     "output_type": "stream",
     "text": [
      "\n",
      "\n",
      "Классификация тестовых примеров:  52%|█████▏    | 38/73 [00:02<00:02, 12.93it/s]\u001b[A\u001b[A\n",
      "\n",
      "Классификация тестовых примеров:  55%|█████▍    | 40/73 [00:03<00:02, 13.05it/s]\u001b[A\u001b[A"
     ]
    },
    {
     "name": "stdout",
     "output_type": "stream",
     "text": [
      "89 85\n",
      "3\n",
      "77 83\n",
      "3\n",
      "88 88\n",
      "3\n",
      "92 67\n"
     ]
    },
    {
     "name": "stderr",
     "output_type": "stream",
     "text": [
      "\n",
      "\n",
      "Классификация тестовых примеров:  58%|█████▊    | 42/73 [00:03<00:02, 13.08it/s]\u001b[A\u001b[A\n",
      "\n",
      "Классификация тестовых примеров:  60%|██████    | 44/73 [00:03<00:02, 13.59it/s]\u001b[A\u001b[A"
     ]
    },
    {
     "name": "stdout",
     "output_type": "stream",
     "text": [
      "3\n",
      "105 96\n",
      "3\n",
      "89 70\n",
      "3\n",
      "59 69\n"
     ]
    },
    {
     "name": "stderr",
     "output_type": "stream",
     "text": [
      "\n",
      "\n",
      "Классификация тестовых примеров:  63%|██████▎   | 46/73 [00:03<00:01, 13.60it/s]\u001b[A\u001b[A\n",
      "\n",
      "Классификация тестовых примеров:  66%|██████▌   | 48/73 [00:03<00:01, 14.02it/s]\u001b[A\u001b[A"
     ]
    },
    {
     "name": "stdout",
     "output_type": "stream",
     "text": [
      "3\n",
      "92 81\n",
      "3\n",
      "76 36\n",
      "3\n",
      "101 93\n",
      "3\n",
      "71 63\n"
     ]
    },
    {
     "name": "stderr",
     "output_type": "stream",
     "text": [
      "\n",
      "\n",
      "Классификация тестовых примеров:  68%|██████▊   | 50/73 [00:03<00:01, 13.49it/s]\u001b[A\u001b[A\n",
      "\n",
      "Классификация тестовых примеров:  71%|███████   | 52/73 [00:03<00:01, 13.36it/s]\u001b[A\u001b[A"
     ]
    },
    {
     "name": "stdout",
     "output_type": "stream",
     "text": [
      "3\n",
      "88 78\n",
      "3\n",
      "87 77\n",
      "3\n",
      "96 83\n",
      "3\n",
      "97 79\n",
      "3\n",
      "87 79\n"
     ]
    },
    {
     "name": "stderr",
     "output_type": "stream",
     "text": [
      "\n",
      "\n",
      "Классификация тестовых примеров:  74%|███████▍  | 54/73 [00:04<00:01, 13.52it/s]\u001b[A\u001b[A\n",
      "\n",
      "Классификация тестовых примеров:  77%|███████▋  | 56/73 [00:04<00:01, 13.32it/s]\u001b[A\u001b[A"
     ]
    },
    {
     "name": "stdout",
     "output_type": "stream",
     "text": [
      "3\n",
      "89 66\n",
      "3\n",
      "84 70\n",
      "3\n",
      "88 73\n",
      "3\n",
      "94 86\n"
     ]
    },
    {
     "name": "stderr",
     "output_type": "stream",
     "text": [
      "\n",
      "\n",
      "Классификация тестовых примеров:  79%|███████▉  | 58/73 [00:04<00:01, 13.16it/s]\u001b[A\u001b[A\n",
      "\n",
      "Классификация тестовых примеров:  82%|████████▏ | 60/73 [00:04<00:00, 13.35it/s]\u001b[A\u001b[A"
     ]
    },
    {
     "name": "stdout",
     "output_type": "stream",
     "text": [
      "3\n",
      "101 96\n",
      "3\n",
      "79 78\n",
      "3\n",
      "95 91\n"
     ]
    },
    {
     "name": "stderr",
     "output_type": "stream",
     "text": [
      "\n",
      "\n",
      "Классификация тестовых примеров:  85%|████████▍ | 62/73 [00:04<00:00, 13.17it/s]\u001b[A\u001b[A\n",
      "\n",
      "Классификация тестовых примеров:  88%|████████▊ | 64/73 [00:04<00:00, 13.39it/s]\u001b[A\u001b[A"
     ]
    },
    {
     "name": "stdout",
     "output_type": "stream",
     "text": [
      "3\n",
      "95 75\n",
      "3\n",
      "59 69\n",
      "3\n",
      "89 76\n",
      "3\n",
      "59 69\n"
     ]
    },
    {
     "name": "stderr",
     "output_type": "stream",
     "text": [
      "\n",
      "\n",
      "Классификация тестовых примеров:  90%|█████████ | 66/73 [00:05<00:00, 13.16it/s]\u001b[A\u001b[A\n",
      "\n"
     ]
    },
    {
     "name": "stdout",
     "output_type": "stream",
     "text": [
      "3\n",
      "105 104\n",
      "3\n",
      "97 73\n",
      "3\n",
      "93 70\n",
      "3\n",
      "92 89\n"
     ]
    },
    {
     "name": "stderr",
     "output_type": "stream",
     "text": [
      "Классификация тестовых примеров:  93%|█████████▎| 68/73 [00:05<00:00, 13.27it/s]\u001b[A\u001b[A\n",
      "\n",
      "Классификация тестовых примеров:  96%|█████████▌| 70/73 [00:05<00:00, 13.75it/s]\u001b[A\u001b[A"
     ]
    },
    {
     "name": "stdout",
     "output_type": "stream",
     "text": [
      "3\n",
      "74 43\n",
      "3\n",
      "88 78\n",
      "3\n",
      "59 60\n"
     ]
    },
    {
     "name": "stderr",
     "output_type": "stream",
     "text": [
      "\n",
      "\n",
      "Классификация тестовых примеров: 100%|██████████| 73/73 [00:05<00:00, 13.16it/s]\u001b[A\u001b[A\n",
      "\n",
      "Подбор min_cardinality:  75%|███████▌  | 3/4 [00:17<00:05,  5.88s/it]\u001b[A"
     ]
    },
    {
     "name": "stdout",
     "output_type": "stream",
     "text": [
      "3\n",
      "100 92\n",
      "3\n",
      "86 65\n"
     ]
    },
    {
     "name": "stderr",
     "output_type": "stream",
     "text": [
      "\n",
      "\n",
      "Классификация тестовых примеров:   0%|          | 0/73 [00:00<?, ?it/s]\u001b[A\u001b[A\n",
      "\n"
     ]
    },
    {
     "name": "stdout",
     "output_type": "stream",
     "text": [
      "4\n",
      "104 92\n",
      "4\n",
      "100 96\n"
     ]
    },
    {
     "name": "stderr",
     "output_type": "stream",
     "text": [
      "Классификация тестовых примеров:   3%|▎         | 2/73 [00:00<00:05, 13.93it/s]\u001b[A\u001b[A"
     ]
    },
    {
     "name": "stdout",
     "output_type": "stream",
     "text": [
      "4\n",
      "104 92\n"
     ]
    },
    {
     "name": "stderr",
     "output_type": "stream",
     "text": [
      "\n",
      "\n",
      "Классификация тестовых примеров:   5%|▌         | 4/73 [00:00<00:05, 11.61it/s]\u001b[A\u001b[A"
     ]
    },
    {
     "name": "stdout",
     "output_type": "stream",
     "text": [
      "4\n",
      "59 60\n",
      "4\n",
      "85 78\n"
     ]
    },
    {
     "name": "stderr",
     "output_type": "stream",
     "text": [
      "\n",
      "\n",
      "Классификация тестовых примеров:   8%|▊         | 6/73 [00:00<00:05, 12.04it/s]\u001b[A\u001b[A"
     ]
    },
    {
     "name": "stdout",
     "output_type": "stream",
     "text": [
      "4\n",
      "101 78\n"
     ]
    },
    {
     "name": "stderr",
     "output_type": "stream",
     "text": [
      "\n",
      "\n",
      "Классификация тестовых примеров:  11%|█         | 8/73 [00:00<00:05, 12.23it/s]\u001b[A\u001b[A"
     ]
    },
    {
     "name": "stdout",
     "output_type": "stream",
     "text": [
      "4\n",
      "98 92\n",
      "4\n",
      "87 77\n",
      "4\n",
      "91 68\n"
     ]
    },
    {
     "name": "stderr",
     "output_type": "stream",
     "text": [
      "\n",
      "\n",
      "Классификация тестовых примеров:  14%|█▎        | 10/73 [00:00<00:05, 12.45it/s]\u001b[A\u001b[A"
     ]
    },
    {
     "name": "stdout",
     "output_type": "stream",
     "text": [
      "4\n",
      "96 84\n"
     ]
    },
    {
     "name": "stderr",
     "output_type": "stream",
     "text": [
      "\n",
      "\n"
     ]
    },
    {
     "name": "stdout",
     "output_type": "stream",
     "text": [
      "4\n",
      "98 83\n",
      "4\n",
      "106 105\n"
     ]
    },
    {
     "name": "stderr",
     "output_type": "stream",
     "text": [
      "Классификация тестовых примеров:  16%|█▋        | 12/73 [00:01<00:05, 11.25it/s]\u001b[A\u001b[A\n",
      "\n",
      "Классификация тестовых примеров:  19%|█▉        | 14/73 [00:01<00:05, 11.43it/s]\u001b[A\u001b[A"
     ]
    },
    {
     "name": "stdout",
     "output_type": "stream",
     "text": [
      "4\n",
      "74 77\n",
      "4\n",
      "85 81\n",
      "4\n",
      "74 49\n"
     ]
    },
    {
     "name": "stderr",
     "output_type": "stream",
     "text": [
      "\n",
      "\n",
      "Классификация тестовых примеров:  22%|██▏       | 16/73 [00:01<00:04, 11.99it/s]\u001b[A\u001b[A\n",
      "\n",
      "Классификация тестовых примеров:  25%|██▍       | 18/73 [00:01<00:04, 12.34it/s]\u001b[A\u001b[A"
     ]
    },
    {
     "name": "stdout",
     "output_type": "stream",
     "text": [
      "4\n",
      "68 72\n",
      "4\n",
      "103 100\n",
      "4\n",
      "99 93\n"
     ]
    },
    {
     "name": "stderr",
     "output_type": "stream",
     "text": [
      "\n",
      "\n",
      "Классификация тестовых примеров:  27%|██▋       | 20/73 [00:01<00:04, 12.61it/s]\u001b[A\u001b[A\n",
      "\n",
      "Классификация тестовых примеров:  30%|███       | 22/73 [00:01<00:03, 13.22it/s]\u001b[A\u001b[A"
     ]
    },
    {
     "name": "stdout",
     "output_type": "stream",
     "text": [
      "4\n",
      "95 70\n",
      "4\n",
      "89 70\n",
      "4\n",
      "96 84\n",
      "4\n",
      "59 60\n"
     ]
    },
    {
     "name": "stderr",
     "output_type": "stream",
     "text": [
      "\n",
      "\n",
      "Классификация тестовых примеров:  33%|███▎      | 24/73 [00:01<00:03, 13.18it/s]\u001b[A\u001b[A\n",
      "\n"
     ]
    },
    {
     "name": "stdout",
     "output_type": "stream",
     "text": [
      "4\n",
      "79 79\n",
      "4\n",
      "95 84\n",
      "4\n",
      "75 59\n",
      "4\n",
      "105 98\n"
     ]
    },
    {
     "name": "stderr",
     "output_type": "stream",
     "text": [
      "Классификация тестовых примеров:  36%|███▌      | 26/73 [00:02<00:03, 13.35it/s]\u001b[A\u001b[A\n",
      "\n",
      "Классификация тестовых примеров:  38%|███▊      | 28/73 [00:02<00:03, 12.21it/s]\u001b[A\u001b[A"
     ]
    },
    {
     "name": "stdout",
     "output_type": "stream",
     "text": [
      "4\n",
      "85 78\n",
      "4\n",
      "85 78\n",
      "4\n",
      "75 69\n"
     ]
    },
    {
     "name": "stderr",
     "output_type": "stream",
     "text": [
      "\n",
      "\n",
      "Классификация тестовых примеров:  41%|████      | 30/73 [00:02<00:03, 11.96it/s]\u001b[A\u001b[A\n",
      "\n",
      "Классификация тестовых примеров:  44%|████▍     | 32/73 [00:02<00:03, 12.78it/s]\u001b[A\u001b[A"
     ]
    },
    {
     "name": "stdout",
     "output_type": "stream",
     "text": [
      "4\n",
      "54 33\n",
      "4\n",
      "91 88\n",
      "4\n",
      "66 60\n",
      "4\n",
      "96 84\n"
     ]
    },
    {
     "name": "stderr",
     "output_type": "stream",
     "text": [
      "\n",
      "\n",
      "Классификация тестовых примеров:  47%|████▋     | 34/73 [00:02<00:03, 12.84it/s]\u001b[A\u001b[A\n",
      "\n",
      "Классификация тестовых примеров:  49%|████▉     | 36/73 [00:02<00:02, 12.73it/s]\u001b[A\u001b[A"
     ]
    },
    {
     "name": "stdout",
     "output_type": "stream",
     "text": [
      "4\n",
      "104 95\n",
      "4\n",
      "95 94\n",
      "4\n",
      "82 64\n"
     ]
    },
    {
     "name": "stderr",
     "output_type": "stream",
     "text": [
      "\n",
      "\n",
      "Классификация тестовых примеров:  52%|█████▏    | 38/73 [00:03<00:02, 12.43it/s]\u001b[A\u001b[A"
     ]
    },
    {
     "name": "stdout",
     "output_type": "stream",
     "text": [
      "4\n",
      "85 72\n",
      "4\n",
      "89 85\n",
      "4\n",
      "77 83\n"
     ]
    },
    {
     "name": "stderr",
     "output_type": "stream",
     "text": [
      "\n",
      "\n",
      "Классификация тестовых примеров:  55%|█████▍    | 40/73 [00:03<00:02, 12.68it/s]\u001b[A\u001b[A\n",
      "\n",
      "Классификация тестовых примеров:  58%|█████▊    | 42/73 [00:03<00:02, 12.87it/s]\u001b[A\u001b[A"
     ]
    },
    {
     "name": "stdout",
     "output_type": "stream",
     "text": [
      "4\n",
      "88 88\n",
      "4\n",
      "92 67\n",
      "4\n",
      "105 96\n",
      "4\n",
      "89 70\n"
     ]
    },
    {
     "name": "stderr",
     "output_type": "stream",
     "text": [
      "\n",
      "\n",
      "Классификация тестовых примеров:  60%|██████    | 44/73 [00:03<00:02, 12.99it/s]\u001b[A\u001b[A\n",
      "\n",
      "Классификация тестовых примеров:  63%|██████▎   | 46/73 [00:03<00:02, 13.21it/s]\u001b[A\u001b[A"
     ]
    },
    {
     "name": "stdout",
     "output_type": "stream",
     "text": [
      "4\n",
      "59 69\n",
      "4\n",
      "92 81\n",
      "4\n",
      "76 36\n"
     ]
    },
    {
     "name": "stderr",
     "output_type": "stream",
     "text": [
      "\n",
      "\n",
      "Классификация тестовых примеров:  66%|██████▌   | 48/73 [00:03<00:01, 13.15it/s]\u001b[A\u001b[A"
     ]
    },
    {
     "name": "stdout",
     "output_type": "stream",
     "text": [
      "4\n",
      "101 93\n",
      "4\n",
      "71 63\n",
      "4\n",
      "88 78\n",
      "4\n",
      "87 77\n"
     ]
    },
    {
     "name": "stderr",
     "output_type": "stream",
     "text": [
      "\n",
      "\n",
      "Классификация тестовых примеров:  68%|██████▊   | 50/73 [00:03<00:01, 13.48it/s]\u001b[A\u001b[A\n",
      "\n",
      "Классификация тестовых примеров:  71%|███████   | 52/73 [00:04<00:01, 11.84it/s]\u001b[A\u001b[A"
     ]
    },
    {
     "name": "stdout",
     "output_type": "stream",
     "text": [
      "4\n",
      "96 83\n",
      "4\n",
      "97 79\n",
      "4\n",
      "87 79\n"
     ]
    },
    {
     "name": "stderr",
     "output_type": "stream",
     "text": [
      "\n",
      "\n",
      "Классификация тестовых примеров:  74%|███████▍  | 54/73 [00:04<00:01, 12.43it/s]\u001b[A\u001b[A\n",
      "\n",
      "Классификация тестовых примеров:  77%|███████▋  | 56/73 [00:04<00:01, 12.89it/s]\u001b[A\u001b[A"
     ]
    },
    {
     "name": "stdout",
     "output_type": "stream",
     "text": [
      "4\n",
      "89 66\n",
      "4\n",
      "84 70\n",
      "4\n",
      "88 73\n"
     ]
    },
    {
     "name": "stderr",
     "output_type": "stream",
     "text": [
      "\n",
      "\n",
      "Классификация тестовых примеров:  79%|███████▉  | 58/73 [00:04<00:01, 11.58it/s]\u001b[A\u001b[A"
     ]
    },
    {
     "name": "stdout",
     "output_type": "stream",
     "text": [
      "4\n",
      "94 86\n",
      "4\n",
      "101 96\n",
      "4\n",
      "79 78\n"
     ]
    },
    {
     "name": "stderr",
     "output_type": "stream",
     "text": [
      "\n",
      "\n",
      "Классификация тестовых примеров:  82%|████████▏ | 60/73 [00:04<00:01, 11.86it/s]\u001b[A\u001b[A\n",
      "\n",
      "Классификация тестовых примеров:  85%|████████▍ | 62/73 [00:04<00:00, 12.24it/s]\u001b[A\u001b[A"
     ]
    },
    {
     "name": "stdout",
     "output_type": "stream",
     "text": [
      "4\n",
      "95 91\n",
      "4\n",
      "95 75\n",
      "4\n",
      "59 69\n",
      "4\n",
      "89 76\n"
     ]
    },
    {
     "name": "stderr",
     "output_type": "stream",
     "text": [
      "\n",
      "\n",
      "Классификация тестовых примеров:  88%|████████▊ | 64/73 [00:05<00:00, 12.27it/s]\u001b[A\u001b[A\n",
      "\n",
      "Классификация тестовых примеров:  90%|█████████ | 66/73 [00:05<00:00, 12.88it/s]\u001b[A\u001b[A"
     ]
    },
    {
     "name": "stdout",
     "output_type": "stream",
     "text": [
      "4\n",
      "59 69\n",
      "4\n",
      "105 104\n",
      "4\n",
      "97 73\n"
     ]
    },
    {
     "name": "stderr",
     "output_type": "stream",
     "text": [
      "\n",
      "\n",
      "Классификация тестовых примеров:  93%|█████████▎| 68/73 [00:05<00:00, 12.54it/s]\u001b[A\u001b[A"
     ]
    },
    {
     "name": "stdout",
     "output_type": "stream",
     "text": [
      "4\n",
      "93 70\n",
      "4\n",
      "92 89\n",
      "4\n",
      "74 43\n",
      "4\n",
      "88 78\n"
     ]
    },
    {
     "name": "stderr",
     "output_type": "stream",
     "text": [
      "\n",
      "\n",
      "Классификация тестовых примеров:  96%|█████████▌| 70/73 [00:05<00:00, 12.75it/s]\u001b[A\u001b[A\n",
      "\n",
      "Классификация тестовых примеров: 100%|██████████| 73/73 [00:05<00:00, 12.56it/s]\u001b[A\u001b[A\n",
      "\n",
      "Подбор min_cardinality: 100%|██████████| 4/4 [00:23<00:00,  5.86s/it]\u001b[A\n",
      "Подбор max_counter_examples:  11%|█         | 1/9 [00:23<03:09, 23.70s/it]"
     ]
    },
    {
     "name": "stdout",
     "output_type": "stream",
     "text": [
      "4\n",
      "59 60\n",
      "4\n",
      "100 92\n",
      "4\n",
      "86 65\n"
     ]
    },
    {
     "name": "stderr",
     "output_type": "stream",
     "text": [
      "\n",
      "Подбор min_cardinality:   0%|          | 0/4 [00:00<?, ?it/s]\u001b[A\n",
      "\n",
      "Классификация тестовых примеров:   0%|          | 0/73 [00:00<?, ?it/s]\u001b[A\u001b[A\n",
      "\n",
      "Классификация тестовых примеров:   3%|▎         | 2/73 [00:00<00:04, 14.41it/s]\u001b[A\u001b[A\n",
      "\n"
     ]
    },
    {
     "name": "stdout",
     "output_type": "stream",
     "text": [
      "1\n",
      "104 92\n",
      "1\n",
      "100 96\n",
      "1\n",
      "104 92\n",
      "1\n",
      "59 60\n"
     ]
    },
    {
     "name": "stderr",
     "output_type": "stream",
     "text": [
      "Классификация тестовых примеров:   5%|▌         | 4/73 [00:00<00:04, 13.83it/s]\u001b[A\u001b[A\n",
      "\n",
      "Классификация тестовых примеров:   8%|▊         | 6/73 [00:00<00:04, 13.61it/s]\u001b[A\u001b[A"
     ]
    },
    {
     "name": "stdout",
     "output_type": "stream",
     "text": [
      "1\n",
      "85 78\n",
      "1\n",
      "101 78\n",
      "1\n",
      "98 92\n",
      "1\n",
      "87 77\n"
     ]
    },
    {
     "name": "stderr",
     "output_type": "stream",
     "text": [
      "\n",
      "\n",
      "Классификация тестовых примеров:  11%|█         | 8/73 [00:00<00:04, 13.50it/s]\u001b[A\u001b[A\n",
      "\n",
      "Классификация тестовых примеров:  14%|█▎        | 10/73 [00:00<00:05, 11.74it/s]\u001b[A\u001b[A"
     ]
    },
    {
     "name": "stdout",
     "output_type": "stream",
     "text": [
      "1\n",
      "91 68\n",
      "1\n",
      "96 84\n",
      "1\n",
      "98 83\n"
     ]
    },
    {
     "name": "stderr",
     "output_type": "stream",
     "text": [
      "\n",
      "\n",
      "Классификация тестовых примеров:  16%|█▋        | 12/73 [00:01<00:05, 11.01it/s]\u001b[A\u001b[A"
     ]
    },
    {
     "name": "stdout",
     "output_type": "stream",
     "text": [
      "1\n",
      "106 105\n",
      "1\n",
      "74 77\n"
     ]
    },
    {
     "name": "stderr",
     "output_type": "stream",
     "text": [
      "\n",
      "\n",
      "Классификация тестовых примеров:  19%|█▉        | 14/73 [00:01<00:05,  9.89it/s]\u001b[A\u001b[A\n",
      "\n"
     ]
    },
    {
     "name": "stdout",
     "output_type": "stream",
     "text": [
      "1\n",
      "85 81\n",
      "1\n",
      "74 49\n",
      "1\n",
      "68 72\n"
     ]
    },
    {
     "name": "stderr",
     "output_type": "stream",
     "text": [
      "Классификация тестовых примеров:  22%|██▏       | 16/73 [00:01<00:05, 10.12it/s]\u001b[A\u001b[A\n",
      "\n",
      "Классификация тестовых примеров:  25%|██▍       | 18/73 [00:01<00:05, 10.58it/s]\u001b[A\u001b[A"
     ]
    },
    {
     "name": "stdout",
     "output_type": "stream",
     "text": [
      "1\n",
      "103 100\n",
      "1\n",
      "99 93\n",
      "1\n",
      "95 70\n"
     ]
    },
    {
     "name": "stderr",
     "output_type": "stream",
     "text": [
      "\n",
      "\n",
      "Классификация тестовых примеров:  27%|██▋       | 20/73 [00:01<00:04, 10.76it/s]\u001b[A\u001b[A\n",
      "\n",
      "Классификация тестовых примеров:  30%|███       | 22/73 [00:01<00:04, 11.07it/s]\u001b[A\u001b[A"
     ]
    },
    {
     "name": "stdout",
     "output_type": "stream",
     "text": [
      "1\n",
      "89 70\n",
      "1\n",
      "96 84\n",
      "1\n",
      "59 60\n"
     ]
    },
    {
     "name": "stderr",
     "output_type": "stream",
     "text": [
      "\n",
      "\n",
      "Классификация тестовых примеров:  33%|███▎      | 24/73 [00:02<00:04, 10.49it/s]\u001b[A\u001b[A"
     ]
    },
    {
     "name": "stdout",
     "output_type": "stream",
     "text": [
      "1\n",
      "79 79\n",
      "1\n",
      "95 84\n",
      "1\n",
      "75 59\n"
     ]
    },
    {
     "name": "stderr",
     "output_type": "stream",
     "text": [
      "\n",
      "\n",
      "Классификация тестовых примеров:  36%|███▌      | 26/73 [00:02<00:04, 10.10it/s]\u001b[A\u001b[A\n",
      "\n"
     ]
    },
    {
     "name": "stdout",
     "output_type": "stream",
     "text": [
      "1\n",
      "105 98\n",
      "1\n",
      "85 78\n",
      "1\n",
      "85 78\n"
     ]
    },
    {
     "name": "stderr",
     "output_type": "stream",
     "text": [
      "Классификация тестовых примеров:  38%|███▊      | 28/73 [00:02<00:04, 10.42it/s]\u001b[A\u001b[A\n",
      "\n",
      "Классификация тестовых примеров:  41%|████      | 30/73 [00:02<00:04, 10.22it/s]\u001b[A\u001b[A"
     ]
    },
    {
     "name": "stdout",
     "output_type": "stream",
     "text": [
      "1\n",
      "75 69\n",
      "1\n",
      "54 33\n"
     ]
    },
    {
     "name": "stderr",
     "output_type": "stream",
     "text": [
      "\n",
      "\n",
      "Классификация тестовых примеров:  44%|████▍     | 32/73 [00:02<00:04,  9.91it/s]\u001b[A\u001b[A"
     ]
    },
    {
     "name": "stdout",
     "output_type": "stream",
     "text": [
      "1\n",
      "91 88\n",
      "1\n",
      "66 60\n",
      "1\n",
      "96 84\n"
     ]
    },
    {
     "name": "stderr",
     "output_type": "stream",
     "text": [
      "\n",
      "\n",
      "Классификация тестовых примеров:  47%|████▋     | 34/73 [00:03<00:03, 10.23it/s]\u001b[A\u001b[A\n",
      "\n",
      "Классификация тестовых примеров:  49%|████▉     | 36/73 [00:03<00:03, 10.83it/s]\u001b[A\u001b[A"
     ]
    },
    {
     "name": "stdout",
     "output_type": "stream",
     "text": [
      "1\n",
      "104 95\n",
      "1\n",
      "95 94\n",
      "1\n",
      "82 64\n"
     ]
    },
    {
     "name": "stderr",
     "output_type": "stream",
     "text": [
      "\n",
      "\n",
      "Классификация тестовых примеров:  52%|█████▏    | 38/73 [00:03<00:03, 11.59it/s]\u001b[A\u001b[A"
     ]
    },
    {
     "name": "stdout",
     "output_type": "stream",
     "text": [
      "1\n",
      "85 72\n",
      "1\n",
      "89 85\n",
      "1\n",
      "77 83\n"
     ]
    },
    {
     "name": "stderr",
     "output_type": "stream",
     "text": [
      "\n",
      "\n",
      "Классификация тестовых примеров:  55%|█████▍    | 40/73 [00:03<00:02, 11.04it/s]\u001b[A\u001b[A\n",
      "\n"
     ]
    },
    {
     "name": "stdout",
     "output_type": "stream",
     "text": [
      "1\n",
      "88 88\n",
      "1\n",
      "92 67\n",
      "1\n",
      "105 96\n"
     ]
    },
    {
     "name": "stderr",
     "output_type": "stream",
     "text": [
      "Классификация тестовых примеров:  58%|█████▊    | 42/73 [00:03<00:02, 10.90it/s]\u001b[A\u001b[A\n",
      "\n",
      "Классификация тестовых примеров:  60%|██████    | 44/73 [00:04<00:02, 11.46it/s]\u001b[A\u001b[A"
     ]
    },
    {
     "name": "stdout",
     "output_type": "stream",
     "text": [
      "1\n",
      "89 70\n",
      "1\n",
      "59 69\n",
      "1\n",
      "92 81\n"
     ]
    },
    {
     "name": "stderr",
     "output_type": "stream",
     "text": [
      "\n",
      "\n",
      "Классификация тестовых примеров:  63%|██████▎   | 46/73 [00:04<00:02, 11.98it/s]\u001b[A\u001b[A\n",
      "\n"
     ]
    },
    {
     "name": "stdout",
     "output_type": "stream",
     "text": [
      "1\n",
      "76 36\n",
      "1\n",
      "101 93\n",
      "1\n",
      "71 63\n"
     ]
    },
    {
     "name": "stderr",
     "output_type": "stream",
     "text": [
      "Классификация тестовых примеров:  66%|██████▌   | 48/73 [00:04<00:02, 11.22it/s]\u001b[A\u001b[A\n",
      "\n",
      "Классификация тестовых примеров:  68%|██████▊   | 50/73 [00:04<00:02, 11.43it/s]\u001b[A\u001b[A"
     ]
    },
    {
     "name": "stdout",
     "output_type": "stream",
     "text": [
      "1\n",
      "88 78\n",
      "1\n",
      "87 77\n",
      "1\n",
      "96 83\n"
     ]
    },
    {
     "name": "stderr",
     "output_type": "stream",
     "text": [
      "\n",
      "\n",
      "Классификация тестовых примеров:  71%|███████   | 52/73 [00:04<00:01, 11.40it/s]\u001b[A\u001b[A\n",
      "\n",
      "Классификация тестовых примеров:  74%|███████▍  | 54/73 [00:04<00:01, 11.78it/s]\u001b[A\u001b[A"
     ]
    },
    {
     "name": "stdout",
     "output_type": "stream",
     "text": [
      "1\n",
      "97 79\n",
      "1\n",
      "87 79\n",
      "1\n",
      "89 66\n"
     ]
    },
    {
     "name": "stderr",
     "output_type": "stream",
     "text": [
      "\n",
      "\n",
      "Классификация тестовых примеров:  77%|███████▋  | 56/73 [00:05<00:01, 11.62it/s]\u001b[A\u001b[A"
     ]
    },
    {
     "name": "stdout",
     "output_type": "stream",
     "text": [
      "1\n",
      "84 70\n",
      "1\n",
      "88 73\n",
      "1\n",
      "94 86\n"
     ]
    },
    {
     "name": "stderr",
     "output_type": "stream",
     "text": [
      "\n",
      "\n",
      "Классификация тестовых примеров:  79%|███████▉  | 58/73 [00:05<00:01, 10.97it/s]\u001b[A\u001b[A\n",
      "\n",
      "Классификация тестовых примеров:  82%|████████▏ | 60/73 [00:05<00:01, 11.42it/s]\u001b[A\u001b[A"
     ]
    },
    {
     "name": "stdout",
     "output_type": "stream",
     "text": [
      "1\n",
      "101 96\n",
      "1\n",
      "79 78\n",
      "1\n",
      "95 91\n"
     ]
    },
    {
     "name": "stderr",
     "output_type": "stream",
     "text": [
      "\n",
      "\n",
      "Классификация тестовых примеров:  85%|████████▍ | 62/73 [00:05<00:00, 11.07it/s]\u001b[A\u001b[A"
     ]
    },
    {
     "name": "stdout",
     "output_type": "stream",
     "text": [
      "1\n",
      "95 75\n",
      "1\n",
      "59 69\n",
      "1\n",
      "89 76\n"
     ]
    },
    {
     "name": "stderr",
     "output_type": "stream",
     "text": [
      "\n",
      "\n",
      "Классификация тестовых примеров:  88%|████████▊ | 64/73 [00:05<00:00, 11.32it/s]\u001b[A\u001b[A\n",
      "\n"
     ]
    },
    {
     "name": "stdout",
     "output_type": "stream",
     "text": [
      "1\n",
      "59 69\n",
      "1\n",
      "105 104\n",
      "1\n",
      "97 73\n"
     ]
    },
    {
     "name": "stderr",
     "output_type": "stream",
     "text": [
      "Классификация тестовых примеров:  90%|█████████ | 66/73 [00:05<00:00, 10.93it/s]\u001b[A\u001b[A\n",
      "\n",
      "Классификация тестовых примеров:  93%|█████████▎| 68/73 [00:06<00:00, 11.10it/s]\u001b[A\u001b[A"
     ]
    },
    {
     "name": "stdout",
     "output_type": "stream",
     "text": [
      "1\n",
      "93 70\n",
      "1\n",
      "92 89\n",
      "1\n",
      "74 43\n"
     ]
    },
    {
     "name": "stderr",
     "output_type": "stream",
     "text": [
      "\n",
      "\n",
      "Классификация тестовых примеров:  96%|█████████▌| 70/73 [00:06<00:00, 11.36it/s]\u001b[A\u001b[A\n",
      "\n",
      "Классификация тестовых примеров:  99%|█████████▊| 72/73 [00:06<00:00, 11.45it/s]\u001b[A\u001b[A"
     ]
    },
    {
     "name": "stdout",
     "output_type": "stream",
     "text": [
      "1\n",
      "88 78\n",
      "1\n",
      "59 60\n",
      "1\n",
      "100 92\n"
     ]
    },
    {
     "name": "stderr",
     "output_type": "stream",
     "text": [
      "Классификация тестовых примеров: 100%|██████████| 73/73 [00:06<00:00, 11.11it/s]\n",
      "\n",
      "Подбор min_cardinality:  25%|██▌       | 1/4 [00:06<00:19,  6.58s/it]\u001b[A"
     ]
    },
    {
     "name": "stdout",
     "output_type": "stream",
     "text": [
      "1\n",
      "86 65\n"
     ]
    },
    {
     "name": "stderr",
     "output_type": "stream",
     "text": [
      "\n",
      "\n",
      "Классификация тестовых примеров:   0%|          | 0/73 [00:00<?, ?it/s]\u001b[A\u001b[A\n",
      "\n"
     ]
    },
    {
     "name": "stdout",
     "output_type": "stream",
     "text": [
      "2\n",
      "104 92\n",
      "2\n",
      "100 96\n"
     ]
    },
    {
     "name": "stderr",
     "output_type": "stream",
     "text": [
      "Классификация тестовых примеров:   3%|▎         | 2/73 [00:00<00:05, 11.87it/s]\u001b[A\u001b[A"
     ]
    },
    {
     "name": "stdout",
     "output_type": "stream",
     "text": [
      "2\n",
      "104 92\n"
     ]
    },
    {
     "name": "stderr",
     "output_type": "stream",
     "text": [
      "\n",
      "\n",
      "Классификация тестовых примеров:   5%|▌         | 4/73 [00:00<00:06, 11.37it/s]\u001b[A\u001b[A"
     ]
    },
    {
     "name": "stdout",
     "output_type": "stream",
     "text": [
      "2\n",
      "59 60\n",
      "2\n",
      "85 78\n",
      "2"
     ]
    },
    {
     "name": "stderr",
     "output_type": "stream",
     "text": [
      "\n",
      "\n",
      "Классификация тестовых примеров:   8%|▊         | 6/73 [00:00<00:06, 10.59it/s]\u001b[A\u001b[A"
     ]
    },
    {
     "name": "stdout",
     "output_type": "stream",
     "text": [
      "\n",
      "101 78\n",
      "2\n",
      "98 92\n",
      "2\n",
      "87 77\n"
     ]
    },
    {
     "name": "stderr",
     "output_type": "stream",
     "text": [
      "\n",
      "\n",
      "Классификация тестовых примеров:  11%|█         | 8/73 [00:00<00:06, 10.75it/s]\u001b[A\u001b[A\n",
      "\n",
      "Классификация тестовых примеров:  14%|█▎        | 10/73 [00:00<00:05, 10.96it/s]\u001b[A\u001b[A"
     ]
    },
    {
     "name": "stdout",
     "output_type": "stream",
     "text": [
      "2\n",
      "91 68\n",
      "2\n",
      "96 84\n",
      "2\n",
      "98 83\n"
     ]
    },
    {
     "name": "stderr",
     "output_type": "stream",
     "text": [
      "\n",
      "\n",
      "Классификация тестовых примеров:  16%|█▋        | 12/73 [00:01<00:05, 10.48it/s]\u001b[A\u001b[A\n",
      "\n",
      "Классификация тестовых примеров:  19%|█▉        | 14/73 [00:01<00:05, 11.00it/s]\u001b[A\u001b[A"
     ]
    },
    {
     "name": "stdout",
     "output_type": "stream",
     "text": [
      "2\n",
      "106 105\n",
      "2\n",
      "74 77\n",
      "2\n",
      "85 81\n"
     ]
    },
    {
     "name": "stderr",
     "output_type": "stream",
     "text": [
      "\n",
      "\n",
      "Классификация тестовых примеров:  22%|██▏       | 16/73 [00:01<00:05, 10.61it/s]\u001b[A\u001b[A"
     ]
    },
    {
     "name": "stdout",
     "output_type": "stream",
     "text": [
      "2\n",
      "74 49\n",
      "2\n",
      "68 72\n",
      "2\n",
      "103 100\n"
     ]
    },
    {
     "name": "stderr",
     "output_type": "stream",
     "text": [
      "\n",
      "\n",
      "Классификация тестовых примеров:  25%|██▍       | 18/73 [00:01<00:05, 10.74it/s]\u001b[A\u001b[A\n",
      "\n",
      "Классификация тестовых примеров:  27%|██▋       | 20/73 [00:01<00:04, 11.17it/s]\u001b[A\u001b[A"
     ]
    },
    {
     "name": "stdout",
     "output_type": "stream",
     "text": [
      "2\n",
      "99 93\n",
      "2\n",
      "95 70\n",
      "2\n",
      "89 70\n",
      "2\n",
      "96 84\n"
     ]
    },
    {
     "name": "stderr",
     "output_type": "stream",
     "text": [
      "\n",
      "\n",
      "Классификация тестовых примеров:  30%|███       | 22/73 [00:01<00:04, 11.70it/s]\u001b[A\u001b[A\n",
      "\n",
      "Классификация тестовых примеров:  33%|███▎      | 24/73 [00:02<00:04, 11.81it/s]\u001b[A\u001b[A"
     ]
    },
    {
     "name": "stdout",
     "output_type": "stream",
     "text": [
      "2\n",
      "59 60\n",
      "2\n",
      "79 79\n",
      "2\n",
      "95 84\n"
     ]
    },
    {
     "name": "stderr",
     "output_type": "stream",
     "text": [
      "\n",
      "\n",
      "Классификация тестовых примеров:  36%|███▌      | 26/73 [00:02<00:03, 12.09it/s]\u001b[A\u001b[A"
     ]
    },
    {
     "name": "stdout",
     "output_type": "stream",
     "text": [
      "2\n",
      "75 59\n",
      "2\n",
      "105 98\n",
      "2\n",
      "85 78\n",
      "2\n",
      "85 78\n"
     ]
    },
    {
     "name": "stderr",
     "output_type": "stream",
     "text": [
      "\n",
      "\n",
      "Классификация тестовых примеров:  38%|███▊      | 28/73 [00:02<00:03, 12.67it/s]\u001b[A\u001b[A\n",
      "\n",
      "Классификация тестовых примеров:  41%|████      | 30/73 [00:02<00:03, 12.81it/s]\u001b[A\u001b[A\n",
      "\n"
     ]
    },
    {
     "name": "stdout",
     "output_type": "stream",
     "text": [
      "2\n",
      "75 69\n",
      "2\n",
      "54 33\n",
      "2\n",
      "91 88\n",
      "2\n",
      "66 60\n"
     ]
    },
    {
     "name": "stderr",
     "output_type": "stream",
     "text": [
      "Классификация тестовых примеров:  44%|████▍     | 32/73 [00:02<00:03, 13.15it/s]\u001b[A\u001b[A\n",
      "\n",
      "Классификация тестовых примеров:  47%|████▋     | 34/73 [00:02<00:03, 12.74it/s]\u001b[A\u001b[A"
     ]
    },
    {
     "name": "stdout",
     "output_type": "stream",
     "text": [
      "2\n",
      "96 84\n",
      "2\n",
      "104 95\n",
      "2\n",
      "95 94\n",
      "2\n",
      "82 64\n"
     ]
    },
    {
     "name": "stderr",
     "output_type": "stream",
     "text": [
      "\n",
      "\n",
      "Классификация тестовых примеров:  49%|████▉     | 36/73 [00:03<00:02, 13.26it/s]\u001b[A\u001b[A\n",
      "\n",
      "Классификация тестовых примеров:  52%|█████▏    | 38/73 [00:03<00:02, 12.85it/s]\u001b[A\u001b[A"
     ]
    },
    {
     "name": "stdout",
     "output_type": "stream",
     "text": [
      "2\n",
      "85 72\n",
      "2\n",
      "89 85\n",
      "2\n",
      "77 83\n"
     ]
    },
    {
     "name": "stderr",
     "output_type": "stream",
     "text": [
      "\n",
      "\n",
      "Классификация тестовых примеров:  55%|█████▍    | 40/73 [00:03<00:02, 12.91it/s]\u001b[A\u001b[A\n",
      "\n",
      "Классификация тестовых примеров:  58%|█████▊    | 42/73 [00:03<00:02, 12.62it/s]\u001b[A\u001b[A"
     ]
    },
    {
     "name": "stdout",
     "output_type": "stream",
     "text": [
      "2\n",
      "88 88\n",
      "2\n",
      "92 67\n",
      "2\n",
      "105 96\n"
     ]
    },
    {
     "name": "stderr",
     "output_type": "stream",
     "text": [
      "\n",
      "\n",
      "Классификация тестовых примеров:  60%|██████    | 44/73 [00:03<00:02, 12.36it/s]\u001b[A\u001b[A"
     ]
    },
    {
     "name": "stdout",
     "output_type": "stream",
     "text": [
      "2\n",
      "89 70\n",
      "2\n",
      "59 69\n",
      "2\n",
      "92 81\n"
     ]
    },
    {
     "name": "stderr",
     "output_type": "stream",
     "text": [
      "\n",
      "\n",
      "Классификация тестовых примеров:  63%|██████▎   | 46/73 [00:03<00:02, 12.37it/s]\u001b[A\u001b[A\n",
      "\n"
     ]
    },
    {
     "name": "stdout",
     "output_type": "stream",
     "text": [
      "2\n",
      "76 36\n",
      "2\n",
      "101 93\n",
      "2\n",
      "71 63\n"
     ]
    },
    {
     "name": "stderr",
     "output_type": "stream",
     "text": [
      "Классификация тестовых примеров:  66%|██████▌   | 48/73 [00:04<00:02, 11.89it/s]\u001b[A\u001b[A\n",
      "\n",
      "Классификация тестовых примеров:  68%|██████▊   | 50/73 [00:04<00:01, 11.75it/s]\u001b[A\u001b[A"
     ]
    },
    {
     "name": "stdout",
     "output_type": "stream",
     "text": [
      "2\n",
      "88 78\n",
      "2\n",
      "87 77\n",
      "2\n",
      "96 83\n"
     ]
    },
    {
     "name": "stderr",
     "output_type": "stream",
     "text": [
      "\n",
      "\n",
      "Классификация тестовых примеров:  71%|███████   | 52/73 [00:04<00:01, 12.08it/s]\u001b[A\u001b[A\n",
      "\n",
      "Классификация тестовых примеров:  74%|███████▍  | 54/73 [00:04<00:01, 12.24it/s]\u001b[A\u001b[A"
     ]
    },
    {
     "name": "stdout",
     "output_type": "stream",
     "text": [
      "2\n",
      "97 79\n",
      "2\n",
      "87 79\n",
      "2\n",
      "89 66\n"
     ]
    },
    {
     "name": "stderr",
     "output_type": "stream",
     "text": [
      "\n",
      "\n",
      "Классификация тестовых примеров:  77%|███████▋  | 56/73 [00:04<00:01, 12.75it/s]\u001b[A\u001b[A\n",
      "\n",
      "Классификация тестовых примеров:  79%|███████▉  | 58/73 [00:04<00:01, 12.88it/s]\u001b[A\u001b[A"
     ]
    },
    {
     "name": "stdout",
     "output_type": "stream",
     "text": [
      "2\n",
      "84 70\n",
      "2\n",
      "88 73\n",
      "2\n",
      "94 86\n",
      "2\n",
      "101 96\n",
      "2\n",
      "79 78\n",
      "2\n"
     ]
    },
    {
     "name": "stderr",
     "output_type": "stream",
     "text": [
      "\n",
      "\n",
      "Классификация тестовых примеров:  82%|████████▏ | 60/73 [00:04<00:01, 12.91it/s]\u001b[A\u001b[A\n",
      "\n",
      "Классификация тестовых примеров:  85%|████████▍ | 62/73 [00:05<00:00, 12.92it/s]\u001b[A\u001b[A"
     ]
    },
    {
     "name": "stdout",
     "output_type": "stream",
     "text": [
      "95 91\n",
      "2\n",
      "95 75\n",
      "2\n",
      "59 69\n",
      "2\n",
      "89 76\n"
     ]
    },
    {
     "name": "stderr",
     "output_type": "stream",
     "text": [
      "\n",
      "\n",
      "Классификация тестовых примеров:  88%|████████▊ | 64/73 [00:05<00:00, 13.35it/s]\u001b[A\u001b[A\n",
      "\n",
      "Классификация тестовых примеров:  90%|█████████ | 66/73 [00:05<00:00, 13.48it/s]\u001b[A\u001b[A"
     ]
    },
    {
     "name": "stdout",
     "output_type": "stream",
     "text": [
      "2\n",
      "59 69\n",
      "2\n",
      "105 104\n",
      "2\n",
      "97 73\n"
     ]
    },
    {
     "name": "stderr",
     "output_type": "stream",
     "text": [
      "\n",
      "\n",
      "Классификация тестовых примеров:  93%|█████████▎| 68/73 [00:05<00:00, 13.71it/s]\u001b[A\u001b[A\n",
      "\n",
      "Классификация тестовых примеров:  96%|█████████▌| 70/73 [00:05<00:00, 13.19it/s]\u001b[A\u001b[A"
     ]
    },
    {
     "name": "stdout",
     "output_type": "stream",
     "text": [
      "2\n",
      "93 70\n",
      "2\n",
      "92 89\n",
      "2\n",
      "74 43\n",
      "2\n",
      "88 78\n"
     ]
    },
    {
     "name": "stderr",
     "output_type": "stream",
     "text": [
      "\n",
      "\n",
      "Классификация тестовых примеров: 100%|██████████| 73/73 [00:05<00:00, 12.27it/s]\u001b[A\u001b[A\n",
      "\n",
      "Подбор min_cardinality:  50%|█████     | 2/4 [00:12<00:12,  6.22s/it]\u001b[A"
     ]
    },
    {
     "name": "stdout",
     "output_type": "stream",
     "text": [
      "2\n",
      "59 60\n",
      "2\n",
      "100 92\n",
      "2\n",
      "86 65\n"
     ]
    },
    {
     "name": "stderr",
     "output_type": "stream",
     "text": [
      "\n",
      "\n",
      "Классификация тестовых примеров:   0%|          | 0/73 [00:00<?, ?it/s]\u001b[A\u001b[A"
     ]
    },
    {
     "name": "stdout",
     "output_type": "stream",
     "text": [
      "3\n",
      "104 92\n"
     ]
    },
    {
     "name": "stderr",
     "output_type": "stream",
     "text": [
      "\n",
      "\n",
      "Классификация тестовых примеров:   3%|▎         | 2/73 [00:00<00:05, 13.09it/s]\u001b[A\u001b[A"
     ]
    },
    {
     "name": "stdout",
     "output_type": "stream",
     "text": [
      "3\n",
      "100 96\n",
      "3\n",
      "104 92\n"
     ]
    },
    {
     "name": "stderr",
     "output_type": "stream",
     "text": [
      "\n",
      "\n",
      "Классификация тестовых примеров:   5%|▌         | 4/73 [00:00<00:07,  9.18it/s]\u001b[A\u001b[A\n",
      "\n",
      "Классификация тестовых примеров:   7%|▋         | 5/73 [00:00<00:07,  8.65it/s]\u001b[A\u001b[A"
     ]
    },
    {
     "name": "stdout",
     "output_type": "stream",
     "text": [
      "3\n",
      "59 60\n",
      "3\n",
      "85 78\n"
     ]
    },
    {
     "name": "stderr",
     "output_type": "stream",
     "text": [
      "\n",
      "\n",
      "Классификация тестовых примеров:  10%|▉         | 7/73 [00:00<00:07,  8.86it/s]\u001b[A\u001b[A\n",
      "\n",
      "Классификация тестовых примеров:  11%|█         | 8/73 [00:00<00:07,  8.86it/s]\u001b[A\u001b[A"
     ]
    },
    {
     "name": "stdout",
     "output_type": "stream",
     "text": [
      "3\n",
      "101 78\n",
      "3\n",
      "98 92\n",
      "3\n",
      "87 77\n"
     ]
    },
    {
     "name": "stderr",
     "output_type": "stream",
     "text": [
      "\n",
      "\n",
      "Классификация тестовых примеров:  14%|█▎        | 10/73 [00:01<00:06,  9.63it/s]\u001b[A\u001b[A\n",
      "\n",
      "Классификация тестовых примеров:  16%|█▋        | 12/73 [00:01<00:05, 10.42it/s]\u001b[A\u001b[A"
     ]
    },
    {
     "name": "stdout",
     "output_type": "stream",
     "text": [
      "3\n",
      "91 68\n",
      "3\n",
      "96 84\n",
      "3\n",
      "98 83\n",
      "3\n",
      "106 105\n"
     ]
    },
    {
     "name": "stderr",
     "output_type": "stream",
     "text": [
      "\n",
      "\n",
      "Классификация тестовых примеров:  19%|█▉        | 14/73 [00:01<00:05, 10.33it/s]\u001b[A\u001b[A"
     ]
    },
    {
     "name": "stdout",
     "output_type": "stream",
     "text": [
      "3\n",
      "74 77\n",
      "3\n",
      "85 81\n",
      "3\n",
      "74 49\n"
     ]
    },
    {
     "name": "stderr",
     "output_type": "stream",
     "text": [
      "\n",
      "\n",
      "Классификация тестовых примеров:  22%|██▏       | 16/73 [00:01<00:05, 10.79it/s]\u001b[A\u001b[A\n",
      "\n"
     ]
    },
    {
     "name": "stdout",
     "output_type": "stream",
     "text": [
      "3\n",
      "68 72\n",
      "3\n",
      "103 100\n",
      "3\n",
      "99 93\n"
     ]
    },
    {
     "name": "stderr",
     "output_type": "stream",
     "text": [
      "Классификация тестовых примеров:  25%|██▍       | 18/73 [00:01<00:05, 10.34it/s]\u001b[A\u001b[A\n",
      "\n",
      "Классификация тестовых примеров:  27%|██▋       | 20/73 [00:01<00:05, 10.41it/s]\u001b[A\u001b[A"
     ]
    },
    {
     "name": "stdout",
     "output_type": "stream",
     "text": [
      "3\n",
      "95 70\n",
      "3\n",
      "89 70\n",
      "3\n",
      "96 84\n"
     ]
    },
    {
     "name": "stderr",
     "output_type": "stream",
     "text": [
      "\n",
      "\n",
      "Классификация тестовых примеров:  30%|███       | 22/73 [00:02<00:04, 10.73it/s]\u001b[A\u001b[A\n",
      "\n"
     ]
    },
    {
     "name": "stdout",
     "output_type": "stream",
     "text": [
      "3\n",
      "59 60\n",
      "3\n",
      "79 79\n",
      "3\n",
      "95 84\n"
     ]
    },
    {
     "name": "stderr",
     "output_type": "stream",
     "text": [
      "Классификация тестовых примеров:  33%|███▎      | 24/73 [00:02<00:04, 10.53it/s]\u001b[A\u001b[A\n",
      "\n",
      "Классификация тестовых примеров:  36%|███▌      | 26/73 [00:02<00:04, 10.14it/s]\u001b[A\u001b[A"
     ]
    },
    {
     "name": "stdout",
     "output_type": "stream",
     "text": [
      "3\n",
      "75 59\n",
      "3\n",
      "105 98\n",
      "3\n",
      "85 78\n"
     ]
    },
    {
     "name": "stderr",
     "output_type": "stream",
     "text": [
      "\n",
      "\n",
      "Классификация тестовых примеров:  38%|███▊      | 28/73 [00:02<00:04, 11.06it/s]\u001b[A\u001b[A\n",
      "\n"
     ]
    },
    {
     "name": "stdout",
     "output_type": "stream",
     "text": [
      "3\n",
      "85 78\n",
      "3\n",
      "75 69\n",
      "3\n",
      "54 33\n"
     ]
    },
    {
     "name": "stderr",
     "output_type": "stream",
     "text": [
      "Классификация тестовых примеров:  41%|████      | 30/73 [00:02<00:03, 10.93it/s]\u001b[A\u001b[A\n",
      "\n",
      "Классификация тестовых примеров:  44%|████▍     | 32/73 [00:03<00:03, 10.93it/s]\u001b[A\u001b[A"
     ]
    },
    {
     "name": "stdout",
     "output_type": "stream",
     "text": [
      "3\n",
      "91 88\n",
      "3\n",
      "66 60\n",
      "3\n",
      "96 84\n"
     ]
    },
    {
     "name": "stderr",
     "output_type": "stream",
     "text": [
      "\n",
      "\n",
      "Классификация тестовых примеров:  47%|████▋     | 34/73 [00:03<00:03, 11.61it/s]\u001b[A\u001b[A\n",
      "\n",
      "Классификация тестовых примеров:  49%|████▉     | 36/73 [00:03<00:03, 11.78it/s]\u001b[A\u001b[A"
     ]
    },
    {
     "name": "stdout",
     "output_type": "stream",
     "text": [
      "3\n",
      "104 95\n",
      "3\n",
      "95 94\n",
      "3\n",
      "82 64\n"
     ]
    },
    {
     "name": "stderr",
     "output_type": "stream",
     "text": [
      "\n",
      "\n",
      "Классификация тестовых примеров:  52%|█████▏    | 38/73 [00:03<00:02, 12.48it/s]\u001b[A\u001b[A\n",
      "\n",
      "Классификация тестовых примеров:  55%|█████▍    | 40/73 [00:03<00:02, 12.94it/s]\u001b[A\u001b[A"
     ]
    },
    {
     "name": "stdout",
     "output_type": "stream",
     "text": [
      "3\n",
      "85 72\n",
      "3\n",
      "89 85\n",
      "3\n",
      "77 83\n",
      "3\n",
      "88 88\n",
      "3\n",
      "92 67\n"
     ]
    },
    {
     "name": "stderr",
     "output_type": "stream",
     "text": [
      "\n",
      "\n",
      "Классификация тестовых примеров:  58%|█████▊    | 42/73 [00:03<00:02, 13.11it/s]\u001b[A\u001b[A\n",
      "\n",
      "Классификация тестовых примеров:  60%|██████    | 44/73 [00:03<00:02, 12.89it/s]\u001b[A\u001b[A"
     ]
    },
    {
     "name": "stdout",
     "output_type": "stream",
     "text": [
      "3\n",
      "105 96\n",
      "3\n",
      "89 70\n",
      "3\n",
      "59 69\n"
     ]
    },
    {
     "name": "stderr",
     "output_type": "stream",
     "text": [
      "\n",
      "\n",
      "Классификация тестовых примеров:  63%|██████▎   | 46/73 [00:04<00:02, 11.89it/s]\u001b[A\u001b[A"
     ]
    },
    {
     "name": "stdout",
     "output_type": "stream",
     "text": [
      "3\n",
      "92 81\n",
      "3\n",
      "76 36\n",
      "3\n",
      "101 93\n"
     ]
    },
    {
     "name": "stderr",
     "output_type": "stream",
     "text": [
      "\n",
      "\n",
      "Классификация тестовых примеров:  66%|██████▌   | 48/73 [00:04<00:02, 12.04it/s]\u001b[A\u001b[A\n",
      "\n",
      "Классификация тестовых примеров:  68%|██████▊   | 50/73 [00:04<00:01, 12.05it/s]\u001b[A\u001b[A"
     ]
    },
    {
     "name": "stdout",
     "output_type": "stream",
     "text": [
      "3\n",
      "71 63\n",
      "3\n",
      "88 78\n",
      "3\n",
      "87 77\n"
     ]
    },
    {
     "name": "stderr",
     "output_type": "stream",
     "text": [
      "\n",
      "\n",
      "Классификация тестовых примеров:  71%|███████   | 52/73 [00:04<00:01, 11.52it/s]\u001b[A\u001b[A"
     ]
    },
    {
     "name": "stdout",
     "output_type": "stream",
     "text": [
      "3\n",
      "96 83\n",
      "3\n",
      "97 79\n",
      "3\n",
      "87 79\n"
     ]
    },
    {
     "name": "stderr",
     "output_type": "stream",
     "text": [
      "\n",
      "\n",
      "Классификация тестовых примеров:  74%|███████▍  | 54/73 [00:04<00:01, 11.72it/s]\u001b[A\u001b[A\n",
      "\n"
     ]
    },
    {
     "name": "stdout",
     "output_type": "stream",
     "text": [
      "3\n",
      "89 66\n",
      "3\n",
      "84 70\n",
      "3\n",
      "88 73\n"
     ]
    },
    {
     "name": "stderr",
     "output_type": "stream",
     "text": [
      "Классификация тестовых примеров:  77%|███████▋  | 56/73 [00:05<00:01, 11.34it/s]\u001b[A\u001b[A\n",
      "\n",
      "Классификация тестовых примеров:  79%|███████▉  | 58/73 [00:05<00:01, 10.76it/s]\u001b[A\u001b[A"
     ]
    },
    {
     "name": "stdout",
     "output_type": "stream",
     "text": [
      "3\n",
      "94 86\n",
      "3\n",
      "101 96\n",
      "3\n",
      "79 78\n"
     ]
    },
    {
     "name": "stderr",
     "output_type": "stream",
     "text": [
      "\n",
      "\n",
      "Классификация тестовых примеров:  82%|████████▏ | 60/73 [00:05<00:01, 10.68it/s]\u001b[A\u001b[A\n",
      "\n"
     ]
    },
    {
     "name": "stdout",
     "output_type": "stream",
     "text": [
      "3\n",
      "95 91\n",
      "3\n",
      "95 75\n",
      "3\n",
      "59 69\n"
     ]
    },
    {
     "name": "stderr",
     "output_type": "stream",
     "text": [
      "Классификация тестовых примеров:  85%|████████▍ | 62/73 [00:05<00:01, 10.79it/s]\u001b[A\u001b[A\n",
      "\n",
      "Классификация тестовых примеров:  88%|████████▊ | 64/73 [00:05<00:00, 11.16it/s]\u001b[A\u001b[A"
     ]
    },
    {
     "name": "stdout",
     "output_type": "stream",
     "text": [
      "3\n",
      "89 76\n",
      "3\n",
      "59 69\n",
      "3\n",
      "105 104\n"
     ]
    },
    {
     "name": "stderr",
     "output_type": "stream",
     "text": [
      "\n",
      "\n",
      "Классификация тестовых примеров:  90%|█████████ | 66/73 [00:06<00:00, 10.41it/s]\u001b[A\u001b[A"
     ]
    },
    {
     "name": "stdout",
     "output_type": "stream",
     "text": [
      "3\n",
      "97 73\n",
      "3\n",
      "93 70\n",
      "3\n",
      "92 89\n"
     ]
    },
    {
     "name": "stderr",
     "output_type": "stream",
     "text": [
      "\n",
      "\n",
      "Классификация тестовых примеров:  93%|█████████▎| 68/73 [00:06<00:00,  9.97it/s]\u001b[A\u001b[A\n",
      "\n",
      "Классификация тестовых примеров:  96%|█████████▌| 70/73 [00:06<00:00, 10.46it/s]\u001b[A\u001b[A"
     ]
    },
    {
     "name": "stdout",
     "output_type": "stream",
     "text": [
      "3\n",
      "74 43\n",
      "3\n",
      "88 78\n",
      "3\n",
      "59 60\n"
     ]
    },
    {
     "name": "stderr",
     "output_type": "stream",
     "text": [
      "\n",
      "\n",
      "Классификация тестовых примеров: 100%|██████████| 73/73 [00:06<00:00, 10.97it/s]\u001b[A\u001b[A\n",
      "\n",
      "Подбор min_cardinality:  75%|███████▌  | 3/4 [00:19<00:06,  6.42s/it]\u001b[A"
     ]
    },
    {
     "name": "stdout",
     "output_type": "stream",
     "text": [
      "3\n",
      "100 92\n",
      "3\n",
      "86 65\n"
     ]
    },
    {
     "name": "stderr",
     "output_type": "stream",
     "text": [
      "\n",
      "\n",
      "Классификация тестовых примеров:   0%|          | 0/73 [00:00<?, ?it/s]\u001b[A\u001b[A\n",
      "\n"
     ]
    },
    {
     "name": "stdout",
     "output_type": "stream",
     "text": [
      "4\n",
      "104 92\n",
      "4\n",
      "100 96\n"
     ]
    },
    {
     "name": "stderr",
     "output_type": "stream",
     "text": [
      "Классификация тестовых примеров:   3%|▎         | 2/73 [00:00<00:04, 16.00it/s]\u001b[A\u001b[A"
     ]
    },
    {
     "name": "stdout",
     "output_type": "stream",
     "text": [
      "4\n",
      "104 92\n",
      "4\n",
      "59 60\n"
     ]
    },
    {
     "name": "stderr",
     "output_type": "stream",
     "text": [
      "\n",
      "\n",
      "Классификация тестовых примеров:   5%|▌         | 4/73 [00:00<00:04, 14.34it/s]\u001b[A\u001b[A\n",
      "\n"
     ]
    },
    {
     "name": "stdout",
     "output_type": "stream",
     "text": [
      "4\n",
      "85 78\n",
      "4\n",
      "101 78\n"
     ]
    },
    {
     "name": "stderr",
     "output_type": "stream",
     "text": [
      "Классификация тестовых примеров:   8%|▊         | 6/73 [00:00<00:04, 13.65it/s]\u001b[A\u001b[A"
     ]
    },
    {
     "name": "stdout",
     "output_type": "stream",
     "text": [
      "4\n",
      "98 92\n"
     ]
    },
    {
     "name": "stderr",
     "output_type": "stream",
     "text": [
      "\n",
      "\n",
      "Классификация тестовых примеров:  11%|█         | 8/73 [00:00<00:05, 12.31it/s]\u001b[A\u001b[A"
     ]
    },
    {
     "name": "stdout",
     "output_type": "stream",
     "text": [
      "4\n",
      "87 77\n",
      "4\n",
      "91 68\n"
     ]
    },
    {
     "name": "stderr",
     "output_type": "stream",
     "text": [
      "\n",
      "\n",
      "Классификация тестовых примеров:  14%|█▎        | 10/73 [00:00<00:05, 12.42it/s]\u001b[A\u001b[A"
     ]
    },
    {
     "name": "stdout",
     "output_type": "stream",
     "text": [
      "4\n",
      "96 84\n",
      "4\n",
      "98 83\n",
      "4"
     ]
    },
    {
     "name": "stderr",
     "output_type": "stream",
     "text": [
      "\n",
      "\n",
      "Классификация тестовых примеров:  16%|█▋        | 12/73 [00:00<00:05, 11.75it/s]\u001b[A\u001b[A"
     ]
    },
    {
     "name": "stdout",
     "output_type": "stream",
     "text": [
      "\n",
      "106 105\n",
      "4\n",
      "74 77\n",
      "4\n",
      "85 81\n"
     ]
    },
    {
     "name": "stderr",
     "output_type": "stream",
     "text": [
      "\n",
      "\n",
      "Классификация тестовых примеров:  19%|█▉        | 14/73 [00:01<00:05, 11.29it/s]\u001b[A\u001b[A\n",
      "\n",
      "Классификация тестовых примеров:  22%|██▏       | 16/73 [00:01<00:04, 11.80it/s]\u001b[A\u001b[A"
     ]
    },
    {
     "name": "stdout",
     "output_type": "stream",
     "text": [
      "4\n",
      "74 49\n",
      "4\n",
      "68 72\n",
      "4\n",
      "103 100\n"
     ]
    },
    {
     "name": "stderr",
     "output_type": "stream",
     "text": [
      "\n",
      "\n",
      "Классификация тестовых примеров:  25%|██▍       | 18/73 [00:01<00:04, 11.34it/s]\u001b[A\u001b[A\n",
      "\n"
     ]
    },
    {
     "name": "stdout",
     "output_type": "stream",
     "text": [
      "4\n",
      "99 93\n",
      "4\n",
      "95 70\n",
      "4\n",
      "89 70\n"
     ]
    },
    {
     "name": "stderr",
     "output_type": "stream",
     "text": [
      "Классификация тестовых примеров:  27%|██▋       | 20/73 [00:01<00:04, 11.04it/s]\u001b[A\u001b[A\n",
      "\n",
      "Классификация тестовых примеров:  30%|███       | 22/73 [00:01<00:04, 11.68it/s]\u001b[A\u001b[A"
     ]
    },
    {
     "name": "stdout",
     "output_type": "stream",
     "text": [
      "4\n",
      "96 84\n",
      "4\n",
      "59 60\n",
      "4\n",
      "79 79\n",
      "4\n",
      "95 84\n"
     ]
    },
    {
     "name": "stderr",
     "output_type": "stream",
     "text": [
      "\n",
      "\n",
      "Классификация тестовых примеров:  33%|███▎      | 24/73 [00:02<00:04, 11.89it/s]\u001b[A\u001b[A\n",
      "\n",
      "Классификация тестовых примеров:  36%|███▌      | 26/73 [00:02<00:03, 12.56it/s]\u001b[A\u001b[A"
     ]
    },
    {
     "name": "stdout",
     "output_type": "stream",
     "text": [
      "4\n",
      "75 59\n",
      "4\n",
      "105 98\n",
      "4\n",
      "85 78\n"
     ]
    },
    {
     "name": "stderr",
     "output_type": "stream",
     "text": [
      "\n",
      "\n",
      "Классификация тестовых примеров:  38%|███▊      | 28/73 [00:02<00:03, 12.71it/s]\u001b[A\u001b[A\n",
      "\n",
      "Классификация тестовых примеров:  41%|████      | 30/73 [00:02<00:03, 12.55it/s]\u001b[A\u001b[A"
     ]
    },
    {
     "name": "stdout",
     "output_type": "stream",
     "text": [
      "4\n",
      "85 78\n",
      "4\n",
      "75 69\n",
      "4\n",
      "54 33\n",
      "4\n",
      "91 88\n"
     ]
    },
    {
     "name": "stderr",
     "output_type": "stream",
     "text": [
      "\n",
      "\n",
      "Классификация тестовых примеров:  44%|████▍     | 32/73 [00:02<00:03, 12.31it/s]\u001b[A\u001b[A\n",
      "\n"
     ]
    },
    {
     "name": "stdout",
     "output_type": "stream",
     "text": [
      "4\n",
      "66 60\n",
      "4\n",
      "96 84\n",
      "4\n",
      "104 95\n"
     ]
    },
    {
     "name": "stderr",
     "output_type": "stream",
     "text": [
      "Классификация тестовых примеров:  47%|████▋     | 34/73 [00:02<00:03, 11.72it/s]\u001b[A\u001b[A\n",
      "\n",
      "Классификация тестовых примеров:  49%|████▉     | 36/73 [00:02<00:02, 12.34it/s]\u001b[A\u001b[A"
     ]
    },
    {
     "name": "stdout",
     "output_type": "stream",
     "text": [
      "4\n",
      "95 94\n",
      "4\n",
      "82 64\n",
      "4\n",
      "85 72\n"
     ]
    },
    {
     "name": "stderr",
     "output_type": "stream",
     "text": [
      "\n",
      "\n",
      "Классификация тестовых примеров:  52%|█████▏    | 38/73 [00:03<00:02, 11.70it/s]\u001b[A\u001b[A\n",
      "\n"
     ]
    },
    {
     "name": "stdout",
     "output_type": "stream",
     "text": [
      "4\n",
      "89 85\n",
      "4\n",
      "77 83\n",
      "4\n",
      "88 88\n"
     ]
    },
    {
     "name": "stderr",
     "output_type": "stream",
     "text": [
      "Классификация тестовых примеров:  55%|█████▍    | 40/73 [00:03<00:02, 11.45it/s]\u001b[A\u001b[A\n",
      "\n",
      "Классификация тестовых примеров:  58%|█████▊    | 42/73 [00:03<00:02, 12.09it/s]\u001b[A\u001b[A"
     ]
    },
    {
     "name": "stdout",
     "output_type": "stream",
     "text": [
      "4\n",
      "92 67\n",
      "4\n",
      "105 96\n",
      "4\n",
      "89 70\n"
     ]
    },
    {
     "name": "stderr",
     "output_type": "stream",
     "text": [
      "\n",
      "\n",
      "Классификация тестовых примеров:  60%|██████    | 44/73 [00:03<00:02, 11.27it/s]\u001b[A\u001b[A\n",
      "\n",
      "Классификация тестовых примеров:  63%|██████▎   | 46/73 [00:03<00:02, 11.32it/s]"
     ]
    },
    {
     "name": "stdout",
     "output_type": "stream",
     "text": [
      "4\n",
      "59 69\n",
      "4\n",
      "92 81\n",
      "4\n",
      "76 36\n"
     ]
    },
    {
     "name": "stderr",
     "output_type": "stream",
     "text": [
      "\u001b[A\u001b[A\n",
      "\n",
      "Классификация тестовых примеров:  66%|██████▌   | 48/73 [00:04<00:02, 11.06it/s]\u001b[A\u001b[A"
     ]
    },
    {
     "name": "stdout",
     "output_type": "stream",
     "text": [
      "4\n",
      "101 93\n",
      "4\n",
      "71 63\n",
      "4\n",
      "88 78\n"
     ]
    },
    {
     "name": "stderr",
     "output_type": "stream",
     "text": [
      "\n",
      "\n",
      "Классификация тестовых примеров:  68%|██████▊   | 50/73 [00:04<00:02, 11.47it/s]\u001b[A\u001b[A\n",
      "\n"
     ]
    },
    {
     "name": "stdout",
     "output_type": "stream",
     "text": [
      "4\n",
      "87 77\n",
      "4\n",
      "96 83\n",
      "4\n",
      "97 79\n"
     ]
    },
    {
     "name": "stderr",
     "output_type": "stream",
     "text": [
      "Классификация тестовых примеров:  71%|███████   | 52/73 [00:04<00:01, 11.20it/s]\u001b[A\u001b[A\n",
      "\n",
      "Классификация тестовых примеров:  74%|███████▍  | 54/73 [00:04<00:01, 10.76it/s]\u001b[A\u001b[A"
     ]
    },
    {
     "name": "stdout",
     "output_type": "stream",
     "text": [
      "4\n",
      "87 79\n",
      "4\n",
      "89 66\n",
      "4\n",
      "84 70\n"
     ]
    },
    {
     "name": "stderr",
     "output_type": "stream",
     "text": [
      "\n",
      "\n",
      "Классификация тестовых примеров:  77%|███████▋  | 56/73 [00:04<00:01, 10.98it/s]\u001b[A\u001b[A\n",
      "\n",
      "Классификация тестовых примеров:  79%|███████▉  | 58/73 [00:04<00:01, 11.59it/s]\u001b[A\u001b[A"
     ]
    },
    {
     "name": "stdout",
     "output_type": "stream",
     "text": [
      "4\n",
      "88 73\n",
      "4\n",
      "94 86\n",
      "4\n",
      "101 96\n"
     ]
    },
    {
     "name": "stderr",
     "output_type": "stream",
     "text": [
      "\n",
      "\n",
      "Классификация тестовых примеров:  82%|████████▏ | 60/73 [00:05<00:01, 12.41it/s]\u001b[A\u001b[A\n",
      "\n",
      "Классификация тестовых примеров:  85%|████████▍ | 62/73 [00:05<00:00, 12.91it/s]\u001b[A\u001b[A"
     ]
    },
    {
     "name": "stdout",
     "output_type": "stream",
     "text": [
      "4\n",
      "79 78\n",
      "4\n",
      "95 91\n",
      "4\n",
      "95 75\n",
      "4\n",
      "59 69\n"
     ]
    },
    {
     "name": "stderr",
     "output_type": "stream",
     "text": [
      "\n",
      "\n",
      "Классификация тестовых примеров:  88%|████████▊ | 64/73 [00:05<00:00, 12.21it/s]\u001b[A\u001b[A\n",
      "\n",
      "Классификация тестовых примеров:  90%|█████████ | 66/73 [00:05<00:00, 12.37it/s]\u001b[A\u001b[A"
     ]
    },
    {
     "name": "stdout",
     "output_type": "stream",
     "text": [
      "4\n",
      "89 76\n",
      "4\n",
      "59 69\n",
      "4\n",
      "105 104\n",
      "4\n",
      "97 73\n",
      "4\n",
      "93 70\n"
     ]
    },
    {
     "name": "stderr",
     "output_type": "stream",
     "text": [
      "\n",
      "\n",
      "Классификация тестовых примеров:  93%|█████████▎| 68/73 [00:05<00:00, 12.04it/s]\u001b[A\u001b[A\n",
      "\n",
      "Классификация тестовых примеров:  96%|█████████▌| 70/73 [00:05<00:00, 12.18it/s]\u001b[A\u001b[A"
     ]
    },
    {
     "name": "stdout",
     "output_type": "stream",
     "text": [
      "4\n",
      "92 89\n",
      "4\n",
      "74 43\n",
      "4\n",
      "88 78\n"
     ]
    },
    {
     "name": "stderr",
     "output_type": "stream",
     "text": [
      "\n",
      "\n",
      "Классификация тестовых примеров: 100%|██████████| 73/73 [00:06<00:00, 11.88it/s]\u001b[A\u001b[A\n",
      "\n",
      "Подбор min_cardinality: 100%|██████████| 4/4 [00:25<00:00,  6.31s/it]\u001b[A\n",
      "Подбор max_counter_examples:  22%|██▏       | 2/9 [00:49<02:52, 24.69s/it]"
     ]
    },
    {
     "name": "stdout",
     "output_type": "stream",
     "text": [
      "4\n",
      "59 60\n",
      "4\n",
      "100 92\n",
      "4\n",
      "86 65\n"
     ]
    },
    {
     "name": "stderr",
     "output_type": "stream",
     "text": [
      "\n",
      "Подбор min_cardinality:   0%|          | 0/4 [00:00<?, ?it/s]\u001b[A\n",
      "\n",
      "Классификация тестовых примеров:   0%|          | 0/73 [00:00<?, ?it/s]\u001b[A\u001b[A\n",
      "\n",
      "Классификация тестовых примеров:   1%|▏         | 1/73 [00:00<00:07,  9.62it/s]\u001b[A\u001b[A\n",
      "\n",
      "Классификация тестовых примеров:   4%|▍         | 3/73 [00:00<00:05, 12.66it/s]\u001b[A\u001b[A"
     ]
    },
    {
     "name": "stdout",
     "output_type": "stream",
     "text": [
      "1\n",
      "104 92\n",
      "1\n",
      "100 96\n",
      "1\n",
      "104 92\n"
     ]
    },
    {
     "name": "stderr",
     "output_type": "stream",
     "text": [
      "\n",
      "\n",
      "Классификация тестовых примеров:   7%|▋         | 5/73 [00:00<00:05, 12.64it/s]\u001b[A\u001b[A\n",
      "\n",
      "Классификация тестовых примеров:  10%|▉         | 7/73 [00:00<00:05, 13.18it/s]\u001b[A\u001b[A"
     ]
    },
    {
     "name": "stdout",
     "output_type": "stream",
     "text": [
      "1\n",
      "59 60\n",
      "1\n",
      "85 78\n",
      "1\n",
      "101 78\n",
      "1\n",
      "98 92\n",
      "1\n",
      "87 77\n"
     ]
    },
    {
     "name": "stderr",
     "output_type": "stream",
     "text": [
      "\n",
      "\n",
      "Классификация тестовых примеров:  12%|█▏        | 9/73 [00:00<00:05, 12.01it/s]\u001b[A\u001b[A\n",
      "\n"
     ]
    },
    {
     "name": "stdout",
     "output_type": "stream",
     "text": [
      "1\n",
      "91 68\n",
      "1\n",
      "96 84\n",
      "1\n",
      "98 83\n"
     ]
    },
    {
     "name": "stderr",
     "output_type": "stream",
     "text": [
      "Классификация тестовых примеров:  15%|█▌        | 11/73 [00:00<00:05, 11.69it/s]\u001b[A\u001b[A\n",
      "\n",
      "Классификация тестовых примеров:  18%|█▊        | 13/73 [00:01<00:05, 11.96it/s]\u001b[A\u001b[A"
     ]
    },
    {
     "name": "stdout",
     "output_type": "stream",
     "text": [
      "1\n",
      "106 105\n",
      "1\n",
      "74 77\n",
      "1\n",
      "85 81\n",
      "1\n"
     ]
    },
    {
     "name": "stderr",
     "output_type": "stream",
     "text": [
      "\n",
      "\n",
      "Классификация тестовых примеров:  21%|██        | 15/73 [00:01<00:04, 12.17it/s]\u001b[A\u001b[A\n",
      "\n",
      "Классификация тестовых примеров:  23%|██▎       | 17/73 [00:01<00:04, 12.02it/s]\u001b[A\u001b[A"
     ]
    },
    {
     "name": "stdout",
     "output_type": "stream",
     "text": [
      "74 49\n",
      "1\n",
      "68 72\n",
      "1\n",
      "103 100\n",
      "1\n",
      "99 93\n"
     ]
    },
    {
     "name": "stderr",
     "output_type": "stream",
     "text": [
      "\n",
      "\n",
      "Классификация тестовых примеров:  26%|██▌       | 19/73 [00:01<00:04, 12.26it/s]\u001b[A\u001b[A\n",
      "\n",
      "Классификация тестовых примеров:  29%|██▉       | 21/73 [00:01<00:04, 12.09it/s]\u001b[A\u001b[A"
     ]
    },
    {
     "name": "stdout",
     "output_type": "stream",
     "text": [
      "1\n",
      "95 70\n",
      "1\n",
      "89 70\n",
      "1\n",
      "96 84\n"
     ]
    },
    {
     "name": "stderr",
     "output_type": "stream",
     "text": [
      "\n",
      "\n",
      "Классификация тестовых примеров:  32%|███▏      | 23/73 [00:01<00:04, 11.51it/s]\u001b[A\u001b[A"
     ]
    },
    {
     "name": "stdout",
     "output_type": "stream",
     "text": [
      "1\n",
      "59 60\n",
      "1\n",
      "79 79\n",
      "1\n",
      "95 84\n"
     ]
    },
    {
     "name": "stderr",
     "output_type": "stream",
     "text": [
      "\n",
      "\n",
      "Классификация тестовых примеров:  34%|███▍      | 25/73 [00:02<00:03, 12.05it/s]\u001b[A\u001b[A\n",
      "\n"
     ]
    },
    {
     "name": "stdout",
     "output_type": "stream",
     "text": [
      "1\n",
      "75 59\n",
      "1\n",
      "105 98\n",
      "1\n",
      "85 78\n"
     ]
    },
    {
     "name": "stderr",
     "output_type": "stream",
     "text": [
      "Классификация тестовых примеров:  37%|███▋      | 27/73 [00:02<00:04, 11.47it/s]\u001b[A\u001b[A\n",
      "\n",
      "Классификация тестовых примеров:  40%|███▉      | 29/73 [00:02<00:03, 11.72it/s]\u001b[A\u001b[A"
     ]
    },
    {
     "name": "stdout",
     "output_type": "stream",
     "text": [
      "1\n",
      "85 78\n",
      "1\n",
      "75 69\n",
      "1\n",
      "54 33\n"
     ]
    },
    {
     "name": "stderr",
     "output_type": "stream",
     "text": [
      "\n",
      "\n",
      "Классификация тестовых примеров:  42%|████▏     | 31/73 [00:02<00:03, 10.99it/s]\u001b[A\u001b[A"
     ]
    },
    {
     "name": "stdout",
     "output_type": "stream",
     "text": [
      "1\n",
      "91 88\n",
      "1\n",
      "66 60\n",
      "1\n",
      "96 84\n"
     ]
    },
    {
     "name": "stderr",
     "output_type": "stream",
     "text": [
      "\n",
      "\n",
      "Классификация тестовых примеров:  45%|████▌     | 33/73 [00:02<00:03, 10.50it/s]\u001b[A\u001b[A\n",
      "\n",
      "Классификация тестовых примеров:  48%|████▊     | 35/73 [00:02<00:03, 11.24it/s]\u001b[A\u001b[A\n",
      "\n"
     ]
    },
    {
     "name": "stdout",
     "output_type": "stream",
     "text": [
      "1\n",
      "104 95\n",
      "1\n",
      "95 94\n",
      "1\n",
      "82 64\n",
      "1\n",
      "85 72\n"
     ]
    },
    {
     "name": "stderr",
     "output_type": "stream",
     "text": [
      "Классификация тестовых примеров:  51%|█████     | 37/73 [00:03<00:03, 11.81it/s]\u001b[A\u001b[A\n",
      "\n",
      "Классификация тестовых примеров:  53%|█████▎    | 39/73 [00:03<00:02, 12.20it/s]\u001b[A\u001b[A\n",
      "\n"
     ]
    },
    {
     "name": "stdout",
     "output_type": "stream",
     "text": [
      "1\n",
      "89 85\n",
      "1\n",
      "77 83\n",
      "1\n",
      "88 88\n",
      "1\n",
      "92 67\n"
     ]
    },
    {
     "name": "stderr",
     "output_type": "stream",
     "text": [
      "Классификация тестовых примеров:  56%|█████▌    | 41/73 [00:03<00:02, 12.96it/s]\u001b[A\u001b[A\n",
      "\n",
      "Классификация тестовых примеров:  59%|█████▉    | 43/73 [00:03<00:02, 13.03it/s]\u001b[A\u001b[A"
     ]
    },
    {
     "name": "stdout",
     "output_type": "stream",
     "text": [
      "1\n",
      "105 96\n",
      "1\n",
      "89 70\n",
      "1\n",
      "59 69\n"
     ]
    },
    {
     "name": "stderr",
     "output_type": "stream",
     "text": [
      "\n",
      "\n",
      "Классификация тестовых примеров:  62%|██████▏   | 45/73 [00:03<00:02, 13.50it/s]\u001b[A\u001b[A\n",
      "\n",
      "Классификация тестовых примеров:  64%|██████▍   | 47/73 [00:03<00:01, 13.54it/s]\u001b[A\u001b[A"
     ]
    },
    {
     "name": "stdout",
     "output_type": "stream",
     "text": [
      "1\n",
      "92 81\n",
      "1\n",
      "76 36\n",
      "1\n",
      "101 93\n"
     ]
    },
    {
     "name": "stderr",
     "output_type": "stream",
     "text": [
      "\n",
      "\n",
      "Классификация тестовых примеров:  67%|██████▋   | 49/73 [00:04<00:01, 12.40it/s]\u001b[A\u001b[A"
     ]
    },
    {
     "name": "stdout",
     "output_type": "stream",
     "text": [
      "1\n",
      "71 63\n",
      "1\n",
      "88 78\n",
      "1\n",
      "87 77\n"
     ]
    },
    {
     "name": "stderr",
     "output_type": "stream",
     "text": [
      "\n",
      "\n",
      "Классификация тестовых примеров:  70%|██████▉   | 51/73 [00:04<00:01, 12.46it/s]\u001b[A\u001b[A\n",
      "\n",
      "Классификация тестовых примеров:  73%|███████▎  | 53/73 [00:04<00:01, 13.19it/s]\u001b[A\u001b[A"
     ]
    },
    {
     "name": "stdout",
     "output_type": "stream",
     "text": [
      "1\n",
      "96 83\n",
      "1\n",
      "97 79\n",
      "1\n",
      "87 79\n",
      "1\n",
      "89 66\n"
     ]
    },
    {
     "name": "stderr",
     "output_type": "stream",
     "text": [
      "\n",
      "\n",
      "Классификация тестовых примеров:  75%|███████▌  | 55/73 [00:04<00:01, 13.16it/s]\u001b[A\u001b[A\n",
      "\n",
      "Классификация тестовых примеров:  78%|███████▊  | 57/73 [00:04<00:01, 12.65it/s]\u001b[A\u001b[A"
     ]
    },
    {
     "name": "stdout",
     "output_type": "stream",
     "text": [
      "1\n",
      "84 70\n",
      "1\n",
      "88 73\n",
      "1\n",
      "94 86\n"
     ]
    },
    {
     "name": "stderr",
     "output_type": "stream",
     "text": [
      "\n",
      "\n",
      "Классификация тестовых примеров:  81%|████████  | 59/73 [00:04<00:01, 11.76it/s]\u001b[A\u001b[A"
     ]
    },
    {
     "name": "stdout",
     "output_type": "stream",
     "text": [
      "1\n",
      "101 96\n",
      "1\n",
      "79 78\n",
      "1\n",
      "95 91\n"
     ]
    },
    {
     "name": "stderr",
     "output_type": "stream",
     "text": [
      "\n",
      "\n",
      "Классификация тестовых примеров:  84%|████████▎ | 61/73 [00:05<00:00, 12.32it/s]\u001b[A\u001b[A\n",
      "\n",
      "Классификация тестовых примеров:  86%|████████▋ | 63/73 [00:05<00:00, 12.30it/s]\u001b[A\u001b[A"
     ]
    },
    {
     "name": "stdout",
     "output_type": "stream",
     "text": [
      "1\n",
      "95 75\n",
      "1\n",
      "59 69\n",
      "1\n",
      "89 76\n"
     ]
    },
    {
     "name": "stderr",
     "output_type": "stream",
     "text": [
      "\n",
      "\n",
      "Классификация тестовых примеров:  89%|████████▉ | 65/73 [00:05<00:00, 11.40it/s]\u001b[A\u001b[A"
     ]
    },
    {
     "name": "stdout",
     "output_type": "stream",
     "text": [
      "1\n",
      "59 69\n",
      "1\n",
      "105 104\n",
      "1\n",
      "97 73\n"
     ]
    },
    {
     "name": "stderr",
     "output_type": "stream",
     "text": [
      "\n",
      "\n",
      "Классификация тестовых примеров:  92%|█████████▏| 67/73 [00:05<00:00, 11.60it/s]\u001b[A\u001b[A\n",
      "\n",
      "Классификация тестовых примеров:  95%|█████████▍| 69/73 [00:05<00:00, 11.87it/s]\u001b[A\u001b[A"
     ]
    },
    {
     "name": "stdout",
     "output_type": "stream",
     "text": [
      "1\n",
      "93 70\n",
      "1\n",
      "92 89\n",
      "1\n",
      "74 43\n",
      "1\n",
      "88 78\n"
     ]
    },
    {
     "name": "stderr",
     "output_type": "stream",
     "text": [
      "\n",
      "\n",
      "Классификация тестовых примеров:  97%|█████████▋| 71/73 [00:05<00:00, 12.86it/s]\u001b[A\u001b[A\n",
      "\n",
      "Классификация тестовых примеров: 100%|██████████| 73/73 [00:05<00:00, 12.22it/s]\u001b[A\u001b[A\n",
      "\n",
      "Подбор min_cardinality:  25%|██▌       | 1/4 [00:06<00:17,  6.00s/it]\u001b[A"
     ]
    },
    {
     "name": "stdout",
     "output_type": "stream",
     "text": [
      "1\n",
      "59 60\n",
      "1\n",
      "100 92\n",
      "1\n",
      "86 65\n"
     ]
    },
    {
     "name": "stderr",
     "output_type": "stream",
     "text": [
      "\n",
      "\n",
      "Классификация тестовых примеров:   0%|          | 0/73 [00:00<?, ?it/s]\u001b[A\u001b[A"
     ]
    },
    {
     "name": "stdout",
     "output_type": "stream",
     "text": [
      "2\n",
      "104 92\n"
     ]
    },
    {
     "name": "stderr",
     "output_type": "stream",
     "text": [
      "\n",
      "\n",
      "Классификация тестовых примеров:   3%|▎         | 2/73 [00:00<00:05, 14.02it/s]\u001b[A\u001b[A\n",
      "\n"
     ]
    },
    {
     "name": "stdout",
     "output_type": "stream",
     "text": [
      "2\n",
      "100 96\n",
      "2\n",
      "104 92\n",
      "2\n",
      "59 60\n"
     ]
    },
    {
     "name": "stderr",
     "output_type": "stream",
     "text": [
      "Классификация тестовых примеров:   5%|▌         | 4/73 [00:00<00:05, 13.58it/s]\u001b[A\u001b[A"
     ]
    },
    {
     "name": "stdout",
     "output_type": "stream",
     "text": [
      "2\n",
      "85 78\n"
     ]
    },
    {
     "name": "stderr",
     "output_type": "stream",
     "text": [
      "\n",
      "\n",
      "Классификация тестовых примеров:   8%|▊         | 6/73 [00:00<00:04, 13.63it/s]\u001b[A\u001b[A\n",
      "\n",
      "Классификация тестовых примеров:  11%|█         | 8/73 [00:00<00:04, 13.79it/s]\u001b[A\u001b[A"
     ]
    },
    {
     "name": "stdout",
     "output_type": "stream",
     "text": [
      "2\n",
      "101 78\n",
      "2\n",
      "98 92\n",
      "2\n",
      "87 77\n",
      "2\n",
      "91 68\n"
     ]
    },
    {
     "name": "stderr",
     "output_type": "stream",
     "text": [
      "\n",
      "\n",
      "Классификация тестовых примеров:  14%|█▎        | 10/73 [00:00<00:04, 13.09it/s]\u001b[A\u001b[A"
     ]
    },
    {
     "name": "stdout",
     "output_type": "stream",
     "text": [
      "2\n",
      "96 84\n",
      "2\n",
      "98 83\n"
     ]
    },
    {
     "name": "stderr",
     "output_type": "stream",
     "text": [
      "\n",
      "\n",
      "Классификация тестовых примеров:  16%|█▋        | 12/73 [00:00<00:04, 13.17it/s]\u001b[A\u001b[A"
     ]
    },
    {
     "name": "stdout",
     "output_type": "stream",
     "text": [
      "2\n",
      "106 105\n"
     ]
    },
    {
     "name": "stderr",
     "output_type": "stream",
     "text": [
      "\n",
      "\n",
      "Классификация тестовых примеров:  19%|█▉        | 14/73 [00:01<00:04, 12.82it/s]\u001b[A\u001b[A"
     ]
    },
    {
     "name": "stdout",
     "output_type": "stream",
     "text": [
      "2\n",
      "74 77\n",
      "2\n",
      "85 81\n",
      "2\n",
      "74 49\n"
     ]
    },
    {
     "name": "stderr",
     "output_type": "stream",
     "text": [
      "\n",
      "\n",
      "Классификация тестовых примеров:  22%|██▏       | 16/73 [00:01<00:04, 12.24it/s]\u001b[A\u001b[A\n",
      "\n"
     ]
    },
    {
     "name": "stdout",
     "output_type": "stream",
     "text": [
      "2\n",
      "68 72\n",
      "2\n",
      "103 100\n",
      "2\n",
      "99 93\n"
     ]
    },
    {
     "name": "stderr",
     "output_type": "stream",
     "text": [
      "Классификация тестовых примеров:  25%|██▍       | 18/73 [00:01<00:04, 12.10it/s]\u001b[A\u001b[A\n",
      "\n",
      "Классификация тестовых примеров:  27%|██▋       | 20/73 [00:01<00:04, 12.14it/s]\u001b[A\u001b[A"
     ]
    },
    {
     "name": "stdout",
     "output_type": "stream",
     "text": [
      "2\n",
      "95 70\n",
      "2\n",
      "89 70\n",
      "2\n",
      "96 84\n"
     ]
    },
    {
     "name": "stderr",
     "output_type": "stream",
     "text": [
      "\n",
      "\n",
      "Классификация тестовых примеров:  30%|███       | 22/73 [00:01<00:04, 12.45it/s]\u001b[A\u001b[A\n",
      "\n",
      "Классификация тестовых примеров:  33%|███▎      | 24/73 [00:01<00:03, 12.70it/s]\u001b[A\u001b[A"
     ]
    },
    {
     "name": "stdout",
     "output_type": "stream",
     "text": [
      "2\n",
      "59 60\n",
      "2\n",
      "79 79\n",
      "2\n",
      "95 84\n"
     ]
    },
    {
     "name": "stderr",
     "output_type": "stream",
     "text": [
      "\n",
      "\n",
      "Классификация тестовых примеров:  36%|███▌      | 26/73 [00:02<00:03, 12.80it/s]\u001b[A\u001b[A"
     ]
    },
    {
     "name": "stdout",
     "output_type": "stream",
     "text": [
      "2\n",
      "75 59\n",
      "2\n",
      "105 98\n",
      "2\n",
      "85 78\n"
     ]
    },
    {
     "name": "stderr",
     "output_type": "stream",
     "text": [
      "\n",
      "\n",
      "Классификация тестовых примеров:  38%|███▊      | 28/73 [00:02<00:03, 13.01it/s]\u001b[A\u001b[A\n",
      "\n",
      "Классификация тестовых примеров:  41%|████      | 30/73 [00:02<00:03, 13.08it/s]\u001b[A\u001b[A"
     ]
    },
    {
     "name": "stdout",
     "output_type": "stream",
     "text": [
      "2\n",
      "85 78\n",
      "2\n",
      "75 69\n",
      "2\n",
      "54 33\n"
     ]
    },
    {
     "name": "stderr",
     "output_type": "stream",
     "text": [
      "\n",
      "\n",
      "Классификация тестовых примеров:  44%|████▍     | 32/73 [00:02<00:03, 13.17it/s]\u001b[A\u001b[A"
     ]
    },
    {
     "name": "stdout",
     "output_type": "stream",
     "text": [
      "2\n",
      "91 88\n",
      "2\n",
      "66 60\n",
      "2\n",
      "96 84\n",
      "2\n",
      "104 95\n"
     ]
    },
    {
     "name": "stderr",
     "output_type": "stream",
     "text": [
      "\n",
      "\n",
      "Классификация тестовых примеров:  47%|████▋     | 34/73 [00:02<00:03, 12.81it/s]\u001b[A\u001b[A\n",
      "\n",
      "Классификация тестовых примеров:  49%|████▉     | 36/73 [00:02<00:02, 12.65it/s]\u001b[A\u001b[A"
     ]
    },
    {
     "name": "stdout",
     "output_type": "stream",
     "text": [
      "2\n",
      "95 94\n",
      "2\n",
      "82 64\n",
      "2\n",
      "85 72\n"
     ]
    },
    {
     "name": "stderr",
     "output_type": "stream",
     "text": [
      "\n",
      "\n",
      "Классификация тестовых примеров:  52%|█████▏    | 38/73 [00:02<00:02, 12.87it/s]\u001b[A\u001b[A\n",
      "\n",
      "Классификация тестовых примеров:  55%|█████▍    | 40/73 [00:03<00:02, 12.90it/s]\u001b[A\u001b[A"
     ]
    },
    {
     "name": "stdout",
     "output_type": "stream",
     "text": [
      "2\n",
      "89 85\n",
      "2\n",
      "77 83\n",
      "2\n",
      "88 88\n"
     ]
    },
    {
     "name": "stderr",
     "output_type": "stream",
     "text": [
      "\n",
      "\n",
      "Классификация тестовых примеров:  58%|█████▊    | 42/73 [00:03<00:02, 11.65it/s]\u001b[A\u001b[A"
     ]
    },
    {
     "name": "stdout",
     "output_type": "stream",
     "text": [
      "2\n",
      "92 67\n",
      "2\n",
      "105 96\n",
      "2\n",
      "89 70\n"
     ]
    },
    {
     "name": "stderr",
     "output_type": "stream",
     "text": [
      "\n",
      "\n",
      "Классификация тестовых примеров:  60%|██████    | 44/73 [00:03<00:02, 11.62it/s]\u001b[A\u001b[A"
     ]
    },
    {
     "name": "stdout",
     "output_type": "stream",
     "text": [
      "2\n",
      "59 69\n",
      "2\n",
      "92 81\n"
     ]
    },
    {
     "name": "stderr",
     "output_type": "stream",
     "text": [
      "\n",
      "\n",
      "Классификация тестовых примеров:  63%|██████▎   | 46/73 [00:03<00:02, 10.33it/s]\u001b[A\u001b[A\n",
      "\n",
      "Классификация тестовых примеров:  66%|██████▌   | 48/73 [00:03<00:02, 10.68it/s]\u001b[A\u001b[A"
     ]
    },
    {
     "name": "stdout",
     "output_type": "stream",
     "text": [
      "2\n",
      "76 36\n",
      "2\n",
      "101 93\n",
      "2\n",
      "71 63\n"
     ]
    },
    {
     "name": "stderr",
     "output_type": "stream",
     "text": [
      "\n",
      "\n",
      "Классификация тестовых примеров:  68%|██████▊   | 50/73 [00:04<00:02, 10.97it/s]\u001b[A\u001b[A\n",
      "\n",
      "Классификация тестовых примеров:  71%|███████   | 52/73 [00:04<00:01, 11.70it/s]\u001b[A\u001b[A"
     ]
    },
    {
     "name": "stdout",
     "output_type": "stream",
     "text": [
      "2\n",
      "88 78\n",
      "2\n",
      "87 77\n",
      "2\n",
      "96 83\n",
      "2\n",
      "97 79\n"
     ]
    },
    {
     "name": "stderr",
     "output_type": "stream",
     "text": [
      "\n",
      "\n",
      "Классификация тестовых примеров:  74%|███████▍  | 54/73 [00:04<00:01, 11.71it/s]\u001b[A\u001b[A"
     ]
    },
    {
     "name": "stdout",
     "output_type": "stream",
     "text": [
      "2\n",
      "87 79\n",
      "2\n",
      "89 66\n",
      "2\n",
      "84 70\n"
     ]
    },
    {
     "name": "stderr",
     "output_type": "stream",
     "text": [
      "\n",
      "\n",
      "Классификация тестовых примеров:  77%|███████▋  | 56/73 [00:04<00:01, 11.63it/s]\u001b[A\u001b[A\n",
      "\n",
      "Классификация тестовых примеров:  79%|███████▉  | 58/73 [00:04<00:01, 11.53it/s]\u001b[A\u001b[A"
     ]
    },
    {
     "name": "stdout",
     "output_type": "stream",
     "text": [
      "2\n",
      "88 73\n",
      "2\n",
      "94 86\n",
      "2\n",
      "101 96\n"
     ]
    },
    {
     "name": "stderr",
     "output_type": "stream",
     "text": [
      "\n",
      "\n",
      "Классификация тестовых примеров:  82%|████████▏ | 60/73 [00:04<00:01, 11.73it/s]\u001b[A\u001b[A\n",
      "\n",
      "Классификация тестовых примеров:  85%|████████▍ | 62/73 [00:05<00:00, 12.43it/s]\u001b[A\u001b[A"
     ]
    },
    {
     "name": "stdout",
     "output_type": "stream",
     "text": [
      "2\n",
      "79 78\n",
      "2\n",
      "95 91\n",
      "2\n",
      "95 75\n",
      "2\n",
      "59 69\n",
      "2\n",
      "89 76\n"
     ]
    },
    {
     "name": "stderr",
     "output_type": "stream",
     "text": [
      "\n",
      "\n",
      "Классификация тестовых примеров:  88%|████████▊ | 64/73 [00:05<00:00, 12.60it/s]\u001b[A\u001b[A\n",
      "\n",
      "Классификация тестовых примеров:  90%|█████████ | 66/73 [00:05<00:00, 12.19it/s]\u001b[A\u001b[A"
     ]
    },
    {
     "name": "stdout",
     "output_type": "stream",
     "text": [
      "2\n",
      "59 69\n",
      "2\n",
      "105 104\n",
      "2\n",
      "97 73\n",
      "2\n",
      "93 70\n"
     ]
    },
    {
     "name": "stderr",
     "output_type": "stream",
     "text": [
      "\n",
      "\n",
      "Классификация тестовых примеров:  93%|█████████▎| 68/73 [00:05<00:00, 12.92it/s]\u001b[A\u001b[A\n",
      "\n",
      "Классификация тестовых примеров:  96%|█████████▌| 70/73 [00:05<00:00, 12.54it/s]\u001b[A\u001b[A"
     ]
    },
    {
     "name": "stdout",
     "output_type": "stream",
     "text": [
      "2\n",
      "92 89\n",
      "2\n",
      "74 43\n",
      "2\n",
      "88 78\n",
      "2\n",
      "59 60\n"
     ]
    },
    {
     "name": "stderr",
     "output_type": "stream",
     "text": [
      "\n",
      "\n",
      "Классификация тестовых примеров: 100%|██████████| 73/73 [00:05<00:00, 12.26it/s]\u001b[A\u001b[A\n",
      "\n",
      "Подбор min_cardinality:  50%|█████     | 2/4 [00:11<00:11,  5.98s/it]\u001b[A"
     ]
    },
    {
     "name": "stdout",
     "output_type": "stream",
     "text": [
      "2\n",
      "100 92\n",
      "2\n",
      "86 65\n"
     ]
    },
    {
     "name": "stderr",
     "output_type": "stream",
     "text": [
      "\n",
      "\n",
      "Классификация тестовых примеров:   0%|          | 0/73 [00:00<?, ?it/s]\u001b[A\u001b[A"
     ]
    },
    {
     "name": "stdout",
     "output_type": "stream",
     "text": [
      "3\n",
      "104 92\n"
     ]
    },
    {
     "name": "stderr",
     "output_type": "stream",
     "text": [
      "\n",
      "\n",
      "Классификация тестовых примеров:   3%|▎         | 2/73 [00:00<00:05, 12.90it/s]\u001b[A\u001b[A"
     ]
    },
    {
     "name": "stdout",
     "output_type": "stream",
     "text": [
      "3\n",
      "100 96\n",
      "3\n",
      "104 92\n"
     ]
    },
    {
     "name": "stderr",
     "output_type": "stream",
     "text": [
      "\n",
      "\n",
      "Классификация тестовых примеров:   5%|▌         | 4/73 [00:00<00:05, 13.10it/s]\u001b[A\u001b[A"
     ]
    },
    {
     "name": "stdout",
     "output_type": "stream",
     "text": [
      "3\n",
      "59 60\n"
     ]
    },
    {
     "name": "stderr",
     "output_type": "stream",
     "text": [
      "\n",
      "\n",
      "Классификация тестовых примеров:   8%|▊         | 6/73 [00:00<00:05, 12.64it/s]\u001b[A\u001b[A"
     ]
    },
    {
     "name": "stdout",
     "output_type": "stream",
     "text": [
      "3\n",
      "85 78\n",
      "3\n",
      "101 78\n"
     ]
    },
    {
     "name": "stderr",
     "output_type": "stream",
     "text": [
      "\n",
      "\n",
      "Классификация тестовых примеров:  11%|█         | 8/73 [00:00<00:05, 12.84it/s]\u001b[A\u001b[A"
     ]
    },
    {
     "name": "stdout",
     "output_type": "stream",
     "text": [
      "3\n",
      "98 92\n",
      "3\n",
      "87 77\n"
     ]
    },
    {
     "name": "stderr",
     "output_type": "stream",
     "text": [
      "\n",
      "\n",
      "Классификация тестовых примеров:  14%|█▎        | 10/73 [00:00<00:04, 12.75it/s]\u001b[A\u001b[A"
     ]
    },
    {
     "name": "stdout",
     "output_type": "stream",
     "text": [
      "3\n",
      "91 68\n",
      "3\n",
      "96 84\n",
      "3\n",
      "98 83\n",
      "3\n"
     ]
    },
    {
     "name": "stderr",
     "output_type": "stream",
     "text": [
      "\n",
      "\n",
      "Классификация тестовых примеров:  16%|█▋        | 12/73 [00:00<00:04, 12.87it/s]\u001b[A\u001b[A"
     ]
    },
    {
     "name": "stdout",
     "output_type": "stream",
     "text": [
      "106 105\n"
     ]
    },
    {
     "name": "stderr",
     "output_type": "stream",
     "text": [
      "\n",
      "\n",
      "Классификация тестовых примеров:  19%|█▉        | 14/73 [00:01<00:04, 12.78it/s]\u001b[A\u001b[A"
     ]
    },
    {
     "name": "stdout",
     "output_type": "stream",
     "text": [
      "3\n",
      "74 77\n",
      "3\n",
      "85 81\n",
      "3\n",
      "74 49\n"
     ]
    },
    {
     "name": "stderr",
     "output_type": "stream",
     "text": [
      "\n",
      "\n",
      "Классификация тестовых примеров:  22%|██▏       | 16/73 [00:01<00:04, 12.95it/s]\u001b[A\u001b[A"
     ]
    },
    {
     "name": "stdout",
     "output_type": "stream",
     "text": [
      "3\n",
      "68 72\n",
      "3\n",
      "103 100\n"
     ]
    },
    {
     "name": "stderr",
     "output_type": "stream",
     "text": [
      "\n",
      "\n",
      "Классификация тестовых примеров:  25%|██▍       | 18/73 [00:01<00:04, 13.12it/s]\u001b[A\u001b[A"
     ]
    },
    {
     "name": "stdout",
     "output_type": "stream",
     "text": [
      "3\n",
      "99 93\n"
     ]
    },
    {
     "name": "stderr",
     "output_type": "stream",
     "text": [
      "\n",
      "\n",
      "Классификация тестовых примеров:  27%|██▋       | 20/73 [00:01<00:04, 13.23it/s]\u001b[A\u001b[A"
     ]
    },
    {
     "name": "stdout",
     "output_type": "stream",
     "text": [
      "3\n",
      "95 70\n",
      "3\n",
      "89 70\n"
     ]
    },
    {
     "name": "stderr",
     "output_type": "stream",
     "text": [
      "\n",
      "\n",
      "Классификация тестовых примеров:  30%|███       | 22/73 [00:01<00:03, 13.69it/s]\u001b[A\u001b[A"
     ]
    },
    {
     "name": "stdout",
     "output_type": "stream",
     "text": [
      "3\n",
      "96 84\n",
      "3\n",
      "59 60\n"
     ]
    },
    {
     "name": "stderr",
     "output_type": "stream",
     "text": [
      "\n",
      "\n",
      "Классификация тестовых примеров:  33%|███▎      | 24/73 [00:01<00:03, 13.18it/s]\u001b[A\u001b[A"
     ]
    },
    {
     "name": "stdout",
     "output_type": "stream",
     "text": [
      "3\n",
      "79 79\n",
      "3\n",
      "95 84\n"
     ]
    },
    {
     "name": "stderr",
     "output_type": "stream",
     "text": [
      "\n",
      "\n",
      "Классификация тестовых примеров:  36%|███▌      | 26/73 [00:01<00:03, 13.68it/s]\u001b[A\u001b[A"
     ]
    },
    {
     "name": "stdout",
     "output_type": "stream",
     "text": [
      "3\n",
      "75 59\n",
      "3\n",
      "105 98\n"
     ]
    },
    {
     "name": "stderr",
     "output_type": "stream",
     "text": [
      "\n",
      "\n",
      "Классификация тестовых примеров:  38%|███▊      | 28/73 [00:02<00:03, 13.26it/s]\u001b[A\u001b[A"
     ]
    },
    {
     "name": "stdout",
     "output_type": "stream",
     "text": [
      "3\n",
      "85 78\n",
      "3\n",
      "85 78\n"
     ]
    },
    {
     "name": "stderr",
     "output_type": "stream",
     "text": [
      "\n",
      "\n",
      "Классификация тестовых примеров:  41%|████      | 30/73 [00:02<00:03, 13.57it/s]\u001b[A\u001b[A"
     ]
    },
    {
     "name": "stdout",
     "output_type": "stream",
     "text": [
      "3\n",
      "75 69\n",
      "3\n",
      "54 33\n"
     ]
    },
    {
     "name": "stderr",
     "output_type": "stream",
     "text": [
      "\n",
      "\n",
      "Классификация тестовых примеров:  44%|████▍     | 32/73 [00:02<00:03, 12.77it/s]\u001b[A\u001b[A"
     ]
    },
    {
     "name": "stdout",
     "output_type": "stream",
     "text": [
      "3\n",
      "91 88\n",
      "3\n",
      "66 60\n"
     ]
    },
    {
     "name": "stderr",
     "output_type": "stream",
     "text": [
      "\n",
      "\n",
      "Классификация тестовых примеров:  47%|████▋     | 34/73 [00:02<00:03, 12.81it/s]\u001b[A\u001b[A"
     ]
    },
    {
     "name": "stdout",
     "output_type": "stream",
     "text": [
      "3\n",
      "96 84\n",
      "3\n",
      "104 95\n",
      "3\n",
      "95 94\n",
      "3\n",
      "82 64\n"
     ]
    },
    {
     "name": "stderr",
     "output_type": "stream",
     "text": [
      "\n",
      "\n",
      "Классификация тестовых примеров:  49%|████▉     | 36/73 [00:02<00:02, 12.96it/s]\u001b[A\u001b[A\n",
      "\n"
     ]
    },
    {
     "name": "stdout",
     "output_type": "stream",
     "text": [
      "3\n",
      "85 72\n",
      "3\n",
      "89 85\n"
     ]
    },
    {
     "name": "stderr",
     "output_type": "stream",
     "text": [
      "Классификация тестовых примеров:  52%|█████▏    | 38/73 [00:02<00:02, 13.06it/s]\u001b[A\u001b[A"
     ]
    },
    {
     "name": "stdout",
     "output_type": "stream",
     "text": [
      "3\n",
      "77 83\n",
      "3\n",
      "88 88\n"
     ]
    },
    {
     "name": "stderr",
     "output_type": "stream",
     "text": [
      "\n",
      "\n",
      "Классификация тестовых примеров:  55%|█████▍    | 40/73 [00:03<00:02, 12.73it/s]\u001b[A\u001b[A"
     ]
    },
    {
     "name": "stdout",
     "output_type": "stream",
     "text": [
      "3\n",
      "92 67\n",
      "3\n"
     ]
    },
    {
     "name": "stderr",
     "output_type": "stream",
     "text": [
      "\n",
      "\n",
      "Классификация тестовых примеров:  58%|█████▊    | 42/73 [00:03<00:02, 12.94it/s]\u001b[A\u001b[A\n",
      "\n",
      "Классификация тестовых примеров:  60%|██████    | 44/73 [00:03<00:02, 13.47it/s]\u001b[A\u001b[A"
     ]
    },
    {
     "name": "stdout",
     "output_type": "stream",
     "text": [
      "105 96\n",
      "3\n",
      "89 70\n",
      "3\n",
      "59 69\n"
     ]
    },
    {
     "name": "stderr",
     "output_type": "stream",
     "text": [
      "\n",
      "\n",
      "Классификация тестовых примеров:  63%|██████▎   | 46/73 [00:03<00:02, 13.31it/s]\u001b[A\u001b[A\n",
      "\n",
      "Классификация тестовых примеров:  66%|██████▌   | 48/73 [00:03<00:01, 13.88it/s]\u001b[A\u001b[A"
     ]
    },
    {
     "name": "stdout",
     "output_type": "stream",
     "text": [
      "3\n",
      "92 81\n",
      "3\n",
      "76 36\n",
      "3\n",
      "101 93\n",
      "3\n",
      "71 63\n"
     ]
    },
    {
     "name": "stderr",
     "output_type": "stream",
     "text": [
      "\n",
      "\n",
      "Классификация тестовых примеров:  68%|██████▊   | 50/73 [00:03<00:01, 13.31it/s]\u001b[A\u001b[A\n",
      "\n",
      "Классификация тестовых примеров:  71%|███████   | 52/73 [00:03<00:01, 13.76it/s]\u001b[A\u001b[A"
     ]
    },
    {
     "name": "stdout",
     "output_type": "stream",
     "text": [
      "3\n",
      "88 78\n",
      "3\n",
      "87 77\n",
      "3\n",
      "96 83\n",
      "3\n",
      "97 79\n",
      "3\n",
      "87 79\n"
     ]
    },
    {
     "name": "stderr",
     "output_type": "stream",
     "text": [
      "\n",
      "\n",
      "Классификация тестовых примеров:  74%|███████▍  | 54/73 [00:04<00:01, 14.00it/s]\u001b[A\u001b[A\n",
      "\n",
      "Классификация тестовых примеров:  77%|███████▋  | 56/73 [00:04<00:01, 13.42it/s]\u001b[A\u001b[A"
     ]
    },
    {
     "name": "stdout",
     "output_type": "stream",
     "text": [
      "3\n",
      "89 66\n",
      "3\n",
      "84 70\n",
      "3\n",
      "88 73\n"
     ]
    },
    {
     "name": "stderr",
     "output_type": "stream",
     "text": [
      "\n",
      "\n",
      "Классификация тестовых примеров:  79%|███████▉  | 58/73 [00:04<00:01, 13.42it/s]\u001b[A\u001b[A"
     ]
    },
    {
     "name": "stdout",
     "output_type": "stream",
     "text": [
      "3\n",
      "94 86\n",
      "3\n",
      "101 96\n",
      "3\n",
      "79 78\n"
     ]
    },
    {
     "name": "stderr",
     "output_type": "stream",
     "text": [
      "\n",
      "\n",
      "Классификация тестовых примеров:  82%|████████▏ | 60/73 [00:04<00:00, 13.40it/s]\u001b[A\u001b[A\n",
      "\n",
      "Классификация тестовых примеров:  85%|████████▍ | 62/73 [00:04<00:00, 12.59it/s]"
     ]
    },
    {
     "name": "stdout",
     "output_type": "stream",
     "text": [
      "3\n",
      "95 91\n",
      "3\n",
      "95 75\n",
      "3\n",
      "59 69\n"
     ]
    },
    {
     "name": "stderr",
     "output_type": "stream",
     "text": [
      "\u001b[A\u001b[A\n",
      "\n",
      "Классификация тестовых примеров:  88%|████████▊ | 64/73 [00:04<00:00, 12.74it/s]\u001b[A\u001b[A"
     ]
    },
    {
     "name": "stdout",
     "output_type": "stream",
     "text": [
      "3\n",
      "89 76\n",
      "3\n",
      "59 69\n",
      "3\n",
      "105 104\n",
      "3\n",
      "97 73\n"
     ]
    },
    {
     "name": "stderr",
     "output_type": "stream",
     "text": [
      "\n",
      "\n",
      "Классификация тестовых примеров:  90%|█████████ | 66/73 [00:05<00:00, 12.93it/s]\u001b[A\u001b[A\n",
      "\n",
      "Классификация тестовых примеров:  93%|█████████▎| 68/73 [00:05<00:00, 13.00it/s]\u001b[A\u001b[A"
     ]
    },
    {
     "name": "stdout",
     "output_type": "stream",
     "text": [
      "3\n",
      "93 70\n",
      "3\n",
      "92 89\n",
      "3\n",
      "74 43\n",
      "3\n",
      "88 78\n"
     ]
    },
    {
     "name": "stderr",
     "output_type": "stream",
     "text": [
      "\n",
      "\n",
      "Классификация тестовых примеров:  96%|█████████▌| 70/73 [00:05<00:00, 12.97it/s]\u001b[A\u001b[A\n",
      "\n",
      "Классификация тестовых примеров: 100%|██████████| 73/73 [00:05<00:00, 13.15it/s]\u001b[A\u001b[A\n",
      "\n",
      "Подбор min_cardinality:  75%|███████▌  | 3/4 [00:17<00:05,  5.79s/it]\u001b[A"
     ]
    },
    {
     "name": "stdout",
     "output_type": "stream",
     "text": [
      "3\n",
      "59 60\n",
      "3\n",
      "100 92\n",
      "3\n",
      "86 65\n"
     ]
    },
    {
     "name": "stderr",
     "output_type": "stream",
     "text": [
      "\n",
      "\n",
      "Классификация тестовых примеров:   0%|          | 0/73 [00:00<?, ?it/s]\u001b[A\u001b[A"
     ]
    },
    {
     "name": "stdout",
     "output_type": "stream",
     "text": [
      "4\n",
      "104 92\n"
     ]
    },
    {
     "name": "stderr",
     "output_type": "stream",
     "text": [
      "\n",
      "\n",
      "Классификация тестовых примеров:   3%|▎         | 2/73 [00:00<00:05, 14.15it/s]\u001b[A\u001b[A\n",
      "\n",
      "Классификация тестовых примеров:   5%|▌         | 4/73 [00:00<00:05, 13.67it/s]\u001b[A\u001b[A"
     ]
    },
    {
     "name": "stdout",
     "output_type": "stream",
     "text": [
      "4\n",
      "100 96\n",
      "4\n",
      "104 92\n",
      "4\n",
      "59 60\n",
      "4\n",
      "85 78\n"
     ]
    },
    {
     "name": "stderr",
     "output_type": "stream",
     "text": [
      "\n",
      "\n"
     ]
    },
    {
     "name": "stdout",
     "output_type": "stream",
     "text": [
      "4\n",
      "101 78\n"
     ]
    },
    {
     "name": "stderr",
     "output_type": "stream",
     "text": [
      "Классификация тестовых примеров:   8%|▊         | 6/73 [00:00<00:04, 14.06it/s]\u001b[A\u001b[A\n",
      "\n",
      "Классификация тестовых примеров:  11%|█         | 8/73 [00:00<00:04, 13.84it/s]\u001b[A\u001b[A"
     ]
    },
    {
     "name": "stdout",
     "output_type": "stream",
     "text": [
      "4\n",
      "98 92\n",
      "4\n",
      "87 77\n",
      "4\n",
      "91 68\n"
     ]
    },
    {
     "name": "stderr",
     "output_type": "stream",
     "text": [
      "\n",
      "\n",
      "Классификация тестовых примеров:  14%|█▎        | 10/73 [00:00<00:04, 13.15it/s]\u001b[A\u001b[A"
     ]
    },
    {
     "name": "stdout",
     "output_type": "stream",
     "text": [
      "4\n",
      "96 84\n",
      "4\n",
      "98 83\n",
      "4\n",
      "106 105\n"
     ]
    },
    {
     "name": "stderr",
     "output_type": "stream",
     "text": [
      "\n",
      "\n",
      "Классификация тестовых примеров:  16%|█▋        | 12/73 [00:00<00:04, 12.80it/s]\u001b[A\u001b[A\n",
      "\n",
      "Классификация тестовых примеров:  19%|█▉        | 14/73 [00:01<00:04, 12.51it/s]\u001b[A\u001b[A"
     ]
    },
    {
     "name": "stdout",
     "output_type": "stream",
     "text": [
      "4\n",
      "74 77\n",
      "4\n",
      "85 81\n",
      "4\n",
      "74 49\n",
      "4\n",
      "68 72\n"
     ]
    },
    {
     "name": "stderr",
     "output_type": "stream",
     "text": [
      "\n",
      "\n",
      "Классификация тестовых примеров:  22%|██▏       | 16/73 [00:01<00:04, 12.28it/s]\u001b[A\u001b[A\n",
      "\n",
      "Классификация тестовых примеров:  25%|██▍       | 18/73 [00:01<00:04, 12.65it/s]\u001b[A\u001b[A"
     ]
    },
    {
     "name": "stdout",
     "output_type": "stream",
     "text": [
      "4\n",
      "103 100\n",
      "4\n",
      "99 93\n",
      "4\n",
      "95 70\n",
      "4\n"
     ]
    },
    {
     "name": "stderr",
     "output_type": "stream",
     "text": [
      "\n",
      "\n",
      "Классификация тестовых примеров:  27%|██▋       | 20/73 [00:01<00:04, 12.85it/s]\u001b[A\u001b[A\n",
      "\n",
      "Классификация тестовых примеров:  30%|███       | 22/73 [00:01<00:03, 13.00it/s]\u001b[A\u001b[A"
     ]
    },
    {
     "name": "stdout",
     "output_type": "stream",
     "text": [
      "89 70\n",
      "4\n",
      "96 84\n",
      "4\n",
      "59 60\n"
     ]
    },
    {
     "name": "stderr",
     "output_type": "stream",
     "text": [
      "\n",
      "\n",
      "Классификация тестовых примеров:  33%|███▎      | 24/73 [00:01<00:03, 13.03it/s]\u001b[A\u001b[A\n",
      "\n",
      "Классификация тестовых примеров:  36%|███▌      | 26/73 [00:01<00:03, 13.65it/s]\u001b[A\u001b[A"
     ]
    },
    {
     "name": "stdout",
     "output_type": "stream",
     "text": [
      "4\n",
      "79 79\n",
      "4\n",
      "95 84\n",
      "4\n",
      "75 59\n",
      "4\n",
      "105 98\n",
      "4\n",
      "85 78\n"
     ]
    },
    {
     "name": "stderr",
     "output_type": "stream",
     "text": [
      "\n",
      "\n",
      "Классификация тестовых примеров:  38%|███▊      | 28/73 [00:02<00:03, 13.41it/s]\u001b[A\u001b[A\n",
      "\n",
      "Классификация тестовых примеров:  41%|████      | 30/73 [00:02<00:03, 13.74it/s]\u001b[A\u001b[A"
     ]
    },
    {
     "name": "stdout",
     "output_type": "stream",
     "text": [
      "4\n",
      "85 78\n",
      "4\n",
      "75 69\n",
      "4\n",
      "54 33\n"
     ]
    },
    {
     "name": "stderr",
     "output_type": "stream",
     "text": [
      "\n",
      "\n",
      "Классификация тестовых примеров:  44%|████▍     | 32/73 [00:02<00:03, 13.38it/s]\u001b[A\u001b[A"
     ]
    },
    {
     "name": "stdout",
     "output_type": "stream",
     "text": [
      "4\n",
      "91 88\n",
      "4\n",
      "66 60\n",
      "4\n",
      "96 84\n"
     ]
    },
    {
     "name": "stderr",
     "output_type": "stream",
     "text": [
      "\n",
      "\n",
      "Классификация тестовых примеров:  47%|████▋     | 34/73 [00:02<00:02, 13.22it/s]\u001b[A\u001b[A\n",
      "\n",
      "Классификация тестовых примеров:  49%|████▉     | 36/73 [00:02<00:02, 13.43it/s]\u001b[A\u001b[A\n",
      "\n"
     ]
    },
    {
     "name": "stdout",
     "output_type": "stream",
     "text": [
      "4\n",
      "104 95\n",
      "4\n",
      "95 94\n",
      "4\n",
      "82 64\n",
      "4\n",
      "85 72\n",
      "4\n",
      "89 85\n"
     ]
    },
    {
     "name": "stderr",
     "output_type": "stream",
     "text": [
      "Классификация тестовых примеров:  52%|█████▏    | 38/73 [00:02<00:02, 13.74it/s]\u001b[A\u001b[A\n",
      "\n",
      "Классификация тестовых примеров:  55%|█████▍    | 40/73 [00:03<00:02, 12.81it/s]\u001b[A\u001b[A"
     ]
    },
    {
     "name": "stdout",
     "output_type": "stream",
     "text": [
      "4\n",
      "77 83\n",
      "4\n",
      "88 88\n",
      "4\n",
      "92 67\n"
     ]
    },
    {
     "name": "stderr",
     "output_type": "stream",
     "text": [
      "\n",
      "\n",
      "Классификация тестовых примеров:  58%|█████▊    | 42/73 [00:03<00:02, 12.35it/s]\u001b[A\u001b[A\n",
      "\n",
      "Классификация тестовых примеров:  60%|██████    | 44/73 [00:03<00:02, 12.39it/s]\u001b[A\u001b[A"
     ]
    },
    {
     "name": "stdout",
     "output_type": "stream",
     "text": [
      "4\n",
      "105 96\n",
      "4\n",
      "89 70\n",
      "4\n",
      "59 69\n"
     ]
    },
    {
     "name": "stderr",
     "output_type": "stream",
     "text": [
      "\n",
      "\n",
      "Классификация тестовых примеров:  63%|██████▎   | 46/73 [00:03<00:02, 12.35it/s]\u001b[A\u001b[A\n",
      "\n"
     ]
    },
    {
     "name": "stdout",
     "output_type": "stream",
     "text": [
      "4\n",
      "92 81\n",
      "4\n",
      "76 36\n",
      "4\n",
      "101 93\n",
      "4\n",
      "71 63\n"
     ]
    },
    {
     "name": "stderr",
     "output_type": "stream",
     "text": [
      "Классификация тестовых примеров:  66%|██████▌   | 48/73 [00:03<00:01, 12.64it/s]\u001b[A\u001b[A\n",
      "\n",
      "Классификация тестовых примеров:  68%|██████▊   | 50/73 [00:03<00:01, 12.90it/s]\u001b[A\u001b[A"
     ]
    },
    {
     "name": "stdout",
     "output_type": "stream",
     "text": [
      "4\n",
      "88 78\n",
      "4\n",
      "87 77\n",
      "4\n",
      "96 83\n",
      "4\n"
     ]
    },
    {
     "name": "stderr",
     "output_type": "stream",
     "text": [
      "\n",
      "\n",
      "Классификация тестовых примеров:  71%|███████   | 52/73 [00:03<00:01, 12.99it/s]\u001b[A\u001b[A\n",
      "\n",
      "Классификация тестовых примеров:  74%|███████▍  | 54/73 [00:04<00:01, 13.48it/s]\u001b[A\u001b[A"
     ]
    },
    {
     "name": "stdout",
     "output_type": "stream",
     "text": [
      "97 79\n",
      "4\n",
      "87 79\n",
      "4\n",
      "89 66\n"
     ]
    },
    {
     "name": "stderr",
     "output_type": "stream",
     "text": [
      "\n",
      "\n",
      "Классификация тестовых примеров:  77%|███████▋  | 56/73 [00:04<00:01, 13.44it/s]\u001b[A\u001b[A\n",
      "\n"
     ]
    },
    {
     "name": "stdout",
     "output_type": "stream",
     "text": [
      "4\n",
      "84 70\n",
      "4\n",
      "88 73\n",
      "4\n",
      "94 86\n",
      "4\n",
      "101 96\n"
     ]
    },
    {
     "name": "stderr",
     "output_type": "stream",
     "text": [
      "Классификация тестовых примеров:  79%|███████▉  | 58/73 [00:04<00:01, 13.46it/s]\u001b[A\u001b[A\n",
      "\n",
      "Классификация тестовых примеров:  82%|████████▏ | 60/73 [00:04<00:00, 13.25it/s]\u001b[A\u001b[A"
     ]
    },
    {
     "name": "stdout",
     "output_type": "stream",
     "text": [
      "4\n",
      "79 78\n",
      "4\n",
      "95 91\n",
      "4\n",
      "95 75\n"
     ]
    },
    {
     "name": "stderr",
     "output_type": "stream",
     "text": [
      "\n",
      "\n",
      "Классификация тестовых примеров:  85%|████████▍ | 62/73 [00:04<00:00, 13.47it/s]\u001b[A\u001b[A\n",
      "\n",
      "Классификация тестовых примеров:  88%|████████▊ | 64/73 [00:04<00:00, 13.88it/s]\u001b[A\u001b[A"
     ]
    },
    {
     "name": "stdout",
     "output_type": "stream",
     "text": [
      "4\n",
      "59 69\n",
      "4\n",
      "89 76\n",
      "4\n",
      "59 69\n"
     ]
    },
    {
     "name": "stderr",
     "output_type": "stream",
     "text": [
      "\n",
      "\n",
      "Классификация тестовых примеров:  90%|█████████ | 66/73 [00:05<00:00, 13.68it/s]\u001b[A\u001b[A\n",
      "\n",
      "Классификация тестовых примеров:  93%|█████████▎| 68/73 [00:05<00:00, 13.16it/s]\u001b[A\u001b[A"
     ]
    },
    {
     "name": "stdout",
     "output_type": "stream",
     "text": [
      "4\n",
      "105 104\n",
      "4\n",
      "97 73\n",
      "4\n",
      "93 70\n",
      "4\n",
      "92 89\n"
     ]
    },
    {
     "name": "stderr",
     "output_type": "stream",
     "text": [
      "\n",
      "\n",
      "Классификация тестовых примеров:  96%|█████████▌| 70/73 [00:05<00:00, 13.13it/s]\u001b[A\u001b[A"
     ]
    },
    {
     "name": "stdout",
     "output_type": "stream",
     "text": [
      "4\n",
      "74 43\n",
      "4\n",
      "88 78\n",
      "4\n",
      "59 60\n"
     ]
    },
    {
     "name": "stderr",
     "output_type": "stream",
     "text": [
      "\n",
      "\n",
      "Классификация тестовых примеров: 100%|██████████| 73/73 [00:05<00:00, 13.09it/s]\u001b[A\u001b[A\n",
      "\n",
      "Подбор min_cardinality: 100%|██████████| 4/4 [00:23<00:00,  5.71s/it]\u001b[A\n",
      "Подбор max_counter_examples:  33%|███▎      | 3/9 [01:12<02:23, 23.98s/it]"
     ]
    },
    {
     "name": "stdout",
     "output_type": "stream",
     "text": [
      "4\n",
      "100 92\n",
      "4\n",
      "86 65\n"
     ]
    },
    {
     "name": "stderr",
     "output_type": "stream",
     "text": [
      "\n",
      "Подбор min_cardinality:   0%|          | 0/4 [00:00<?, ?it/s]\u001b[A\n",
      "\n",
      "Классификация тестовых примеров:   0%|          | 0/73 [00:00<?, ?it/s]\u001b[A\u001b[A"
     ]
    },
    {
     "name": "stdout",
     "output_type": "stream",
     "text": [
      "1\n",
      "104 92\n"
     ]
    },
    {
     "name": "stderr",
     "output_type": "stream",
     "text": [
      "\n",
      "\n",
      "Классификация тестовых примеров:   3%|▎         | 2/73 [00:00<00:05, 12.81it/s]\u001b[A\u001b[A"
     ]
    },
    {
     "name": "stdout",
     "output_type": "stream",
     "text": [
      "1\n",
      "100 96\n",
      "1\n",
      "104 92\n"
     ]
    },
    {
     "name": "stderr",
     "output_type": "stream",
     "text": [
      "\n",
      "\n",
      "Классификация тестовых примеров:   5%|▌         | 4/73 [00:00<00:05, 12.41it/s]\u001b[A\u001b[A"
     ]
    },
    {
     "name": "stdout",
     "output_type": "stream",
     "text": [
      "1\n",
      "59 60\n"
     ]
    },
    {
     "name": "stderr",
     "output_type": "stream",
     "text": [
      "\n",
      "\n",
      "Классификация тестовых примеров:   8%|▊         | 6/73 [00:00<00:05, 12.17it/s]\u001b[A\u001b[A"
     ]
    },
    {
     "name": "stdout",
     "output_type": "stream",
     "text": [
      "1\n",
      "85 78\n",
      "1\n",
      "101 78\n",
      "1\n",
      "98 92\n"
     ]
    },
    {
     "name": "stderr",
     "output_type": "stream",
     "text": [
      "\n",
      "\n",
      "Классификация тестовых примеров:  11%|█         | 8/73 [00:00<00:05, 12.46it/s]\u001b[A\u001b[A"
     ]
    },
    {
     "name": "stdout",
     "output_type": "stream",
     "text": [
      "1\n",
      "87 77\n",
      "1\n",
      "91 68\n",
      "1\n"
     ]
    },
    {
     "name": "stderr",
     "output_type": "stream",
     "text": [
      "\n",
      "\n",
      "Классификация тестовых примеров:  14%|█▎        | 10/73 [00:00<00:05, 12.39it/s]\u001b[A\u001b[A"
     ]
    },
    {
     "name": "stdout",
     "output_type": "stream",
     "text": [
      "96 84\n"
     ]
    },
    {
     "name": "stderr",
     "output_type": "stream",
     "text": [
      "\n",
      "\n",
      "Классификация тестовых примеров:  16%|█▋        | 12/73 [00:00<00:04, 12.57it/s]\u001b[A\u001b[A"
     ]
    },
    {
     "name": "stdout",
     "output_type": "stream",
     "text": [
      "1\n",
      "98 83\n",
      "1\n",
      "106 105\n"
     ]
    },
    {
     "name": "stderr",
     "output_type": "stream",
     "text": [
      "\n",
      "\n"
     ]
    },
    {
     "name": "stdout",
     "output_type": "stream",
     "text": [
      "1\n",
      "74 77\n",
      "1\n",
      "85 81\n"
     ]
    },
    {
     "name": "stderr",
     "output_type": "stream",
     "text": [
      "Классификация тестовых примеров:  19%|█▉        | 14/73 [00:01<00:04, 12.94it/s]\u001b[A\u001b[A"
     ]
    },
    {
     "name": "stdout",
     "output_type": "stream",
     "text": [
      "1\n",
      "74 49\n"
     ]
    },
    {
     "name": "stderr",
     "output_type": "stream",
     "text": [
      "\n",
      "\n",
      "Классификация тестовых примеров:  22%|██▏       | 16/73 [00:01<00:04, 12.60it/s]\u001b[A\u001b[A"
     ]
    },
    {
     "name": "stdout",
     "output_type": "stream",
     "text": [
      "1\n",
      "68 72\n",
      "1\n",
      "103 100\n"
     ]
    },
    {
     "name": "stderr",
     "output_type": "stream",
     "text": [
      "\n",
      "\n"
     ]
    },
    {
     "name": "stdout",
     "output_type": "stream",
     "text": [
      "1\n",
      "99 93\n"
     ]
    },
    {
     "name": "stderr",
     "output_type": "stream",
     "text": [
      "Классификация тестовых примеров:  25%|██▍       | 18/73 [00:01<00:04, 12.33it/s]\u001b[A\u001b[A\n",
      "\n",
      "Классификация тестовых примеров:  27%|██▋       | 20/73 [00:01<00:04, 12.35it/s]\u001b[A\u001b[A"
     ]
    },
    {
     "name": "stdout",
     "output_type": "stream",
     "text": [
      "1\n",
      "95 70\n",
      "1\n",
      "89 70\n",
      "1\n",
      "96 84\n"
     ]
    },
    {
     "name": "stderr",
     "output_type": "stream",
     "text": [
      "\n",
      "\n",
      "Классификация тестовых примеров:  30%|███       | 22/73 [00:01<00:04, 12.01it/s]\u001b[A\u001b[A"
     ]
    },
    {
     "name": "stdout",
     "output_type": "stream",
     "text": [
      "1\n",
      "59 60\n",
      "1\n",
      "79 79\n"
     ]
    },
    {
     "name": "stderr",
     "output_type": "stream",
     "text": [
      "\n",
      "\n",
      "Классификация тестовых примеров:  33%|███▎      | 24/73 [00:01<00:03, 12.63it/s]\u001b[A\u001b[A"
     ]
    },
    {
     "name": "stdout",
     "output_type": "stream",
     "text": [
      "1\n",
      "95 84\n"
     ]
    },
    {
     "name": "stderr",
     "output_type": "stream",
     "text": [
      "\n",
      "\n",
      "Классификация тестовых примеров:  36%|███▌      | 26/73 [00:02<00:03, 12.33it/s]\u001b[A\u001b[A"
     ]
    },
    {
     "name": "stdout",
     "output_type": "stream",
     "text": [
      "1\n",
      "75 59\n",
      "1\n",
      "105 98\n",
      "1\n",
      "85 78\n",
      "1\n",
      "85 78\n"
     ]
    },
    {
     "name": "stderr",
     "output_type": "stream",
     "text": [
      "\n",
      "\n",
      "Классификация тестовых примеров:  38%|███▊      | 28/73 [00:02<00:03, 12.37it/s]\u001b[A\u001b[A"
     ]
    },
    {
     "name": "stdout",
     "output_type": "stream",
     "text": [
      "1\n",
      "75 69\n"
     ]
    },
    {
     "name": "stderr",
     "output_type": "stream",
     "text": [
      "\n",
      "\n",
      "Классификация тестовых примеров:  41%|████      | 30/73 [00:02<00:03, 12.20it/s]\u001b[A\u001b[A\n",
      "\n"
     ]
    },
    {
     "name": "stdout",
     "output_type": "stream",
     "text": [
      "1\n",
      "54 33\n",
      "1\n",
      "91 88\n",
      "1\n",
      "66 60\n"
     ]
    },
    {
     "name": "stderr",
     "output_type": "stream",
     "text": [
      "Классификация тестовых примеров:  44%|████▍     | 32/73 [00:02<00:03, 12.54it/s]\u001b[A\u001b[A\n",
      "\n",
      "Классификация тестовых примеров:  47%|████▋     | 34/73 [00:02<00:03, 12.30it/s]\u001b[A\u001b[A"
     ]
    },
    {
     "name": "stdout",
     "output_type": "stream",
     "text": [
      "1\n",
      "96 84\n",
      "1\n",
      "104 95\n",
      "1\n",
      "95 94\n"
     ]
    },
    {
     "name": "stderr",
     "output_type": "stream",
     "text": [
      "\n",
      "\n",
      "Классификация тестовых примеров:  49%|████▉     | 36/73 [00:02<00:03, 12.28it/s]\u001b[A\u001b[A\n",
      "\n",
      "Классификация тестовых примеров:  52%|█████▏    | 38/73 [00:03<00:02, 12.58it/s]\u001b[A\u001b[A"
     ]
    },
    {
     "name": "stdout",
     "output_type": "stream",
     "text": [
      "1\n",
      "82 64\n",
      "1\n",
      "85 72\n",
      "1\n",
      "89 85\n"
     ]
    },
    {
     "name": "stderr",
     "output_type": "stream",
     "text": [
      "\n",
      "\n",
      "Классификация тестовых примеров:  55%|█████▍    | 40/73 [00:03<00:02, 12.38it/s]\u001b[A\u001b[A\n",
      "\n",
      "Классификация тестовых примеров:  58%|█████▊    | 42/73 [00:03<00:02, 12.63it/s]\u001b[A\u001b[A"
     ]
    },
    {
     "name": "stdout",
     "output_type": "stream",
     "text": [
      "1\n",
      "77 83\n",
      "1\n",
      "88 88\n",
      "1\n",
      "92 67\n",
      "1\n",
      "105 96\n"
     ]
    },
    {
     "name": "stderr",
     "output_type": "stream",
     "text": [
      "\n",
      "\n",
      "Классификация тестовых примеров:  60%|██████    | 44/73 [00:03<00:02, 12.84it/s]\u001b[A\u001b[A\n",
      "\n",
      "Классификация тестовых примеров:  63%|██████▎   | 46/73 [00:03<00:02, 12.98it/s]\u001b[A\u001b[A"
     ]
    },
    {
     "name": "stdout",
     "output_type": "stream",
     "text": [
      "1\n",
      "89 70\n",
      "1\n",
      "59 69\n",
      "1\n",
      "92 81\n",
      "1\n",
      "76 36\n"
     ]
    },
    {
     "name": "stderr",
     "output_type": "stream",
     "text": [
      "\n",
      "\n",
      "Классификация тестовых примеров:  66%|██████▌   | 48/73 [00:03<00:01, 12.88it/s]\u001b[A\u001b[A\n",
      "\n",
      "Классификация тестовых примеров:  68%|██████▊   | 50/73 [00:03<00:01, 13.23it/s]\u001b[A\u001b[A"
     ]
    },
    {
     "name": "stdout",
     "output_type": "stream",
     "text": [
      "1\n",
      "101 93\n",
      "1\n",
      "71 63\n",
      "1\n",
      "88 78\n",
      "1\n",
      "87 77\n",
      "1\n",
      "96 83\n"
     ]
    },
    {
     "name": "stderr",
     "output_type": "stream",
     "text": [
      "\n",
      "\n",
      "Классификация тестовых примеров:  71%|███████   | 52/73 [00:04<00:01, 13.63it/s]\u001b[A\u001b[A\n",
      "\n",
      "Классификация тестовых примеров:  74%|███████▍  | 54/73 [00:04<00:01, 13.19it/s]\u001b[A\u001b[A"
     ]
    },
    {
     "name": "stdout",
     "output_type": "stream",
     "text": [
      "1\n",
      "97 79\n",
      "1\n",
      "87 79\n",
      "1\n",
      "89 66\n",
      "1\n",
      "84 70\n"
     ]
    },
    {
     "name": "stderr",
     "output_type": "stream",
     "text": [
      "\n",
      "\n",
      "Классификация тестовых примеров:  77%|███████▋  | 56/73 [00:04<00:01, 13.32it/s]\u001b[A\u001b[A\n",
      "\n",
      "Классификация тестовых примеров:  79%|███████▉  | 58/73 [00:04<00:01, 13.28it/s]\u001b[A\u001b[A"
     ]
    },
    {
     "name": "stdout",
     "output_type": "stream",
     "text": [
      "1\n",
      "88 73\n",
      "1\n",
      "94 86\n",
      "1\n",
      "101 96\n"
     ]
    },
    {
     "name": "stderr",
     "output_type": "stream",
     "text": [
      "\n",
      "\n",
      "Классификация тестовых примеров:  82%|████████▏ | 60/73 [00:04<00:00, 13.22it/s]\u001b[A\u001b[A"
     ]
    },
    {
     "name": "stdout",
     "output_type": "stream",
     "text": [
      "1\n",
      "79 78\n",
      "1\n",
      "95 91\n",
      "1\n",
      "95 75\n",
      "1\n",
      "59 69\n"
     ]
    },
    {
     "name": "stderr",
     "output_type": "stream",
     "text": [
      "\n",
      "\n",
      "Классификация тестовых примеров:  85%|████████▍ | 62/73 [00:04<00:00, 13.23it/s]\u001b[A\u001b[A\n",
      "\n",
      "Классификация тестовых примеров:  88%|████████▊ | 64/73 [00:05<00:00, 12.95it/s]\u001b[A\u001b[A"
     ]
    },
    {
     "name": "stdout",
     "output_type": "stream",
     "text": [
      "1\n",
      "89 76\n",
      "1\n",
      "59 69\n",
      "1\n",
      "105 104\n"
     ]
    },
    {
     "name": "stderr",
     "output_type": "stream",
     "text": [
      "\n",
      "\n",
      "Классификация тестовых примеров:  90%|█████████ | 66/73 [00:05<00:00, 12.96it/s]\u001b[A\u001b[A\n",
      "\n",
      "Классификация тестовых примеров:  93%|█████████▎| 68/73 [00:05<00:00, 12.69it/s]\u001b[A\u001b[A"
     ]
    },
    {
     "name": "stdout",
     "output_type": "stream",
     "text": [
      "1\n",
      "97 73\n",
      "1\n",
      "93 70\n",
      "1\n",
      "92 89\n"
     ]
    },
    {
     "name": "stderr",
     "output_type": "stream",
     "text": [
      "\n",
      "\n",
      "Классификация тестовых примеров:  96%|█████████▌| 70/73 [00:05<00:00, 12.63it/s]\u001b[A\u001b[A"
     ]
    },
    {
     "name": "stdout",
     "output_type": "stream",
     "text": [
      "1\n",
      "74 43\n",
      "1\n",
      "88 78\n",
      "1\n",
      "59 60\n",
      "1\n"
     ]
    },
    {
     "name": "stderr",
     "output_type": "stream",
     "text": [
      "\n",
      "\n",
      "Классификация тестовых примеров: 100%|██████████| 73/73 [00:05<00:00, 12.75it/s]\u001b[A\u001b[A\n",
      "\n",
      "Подбор min_cardinality:  25%|██▌       | 1/4 [00:05<00:17,  5.74s/it]\u001b[A"
     ]
    },
    {
     "name": "stdout",
     "output_type": "stream",
     "text": [
      "100 92\n",
      "1\n",
      "86 65\n"
     ]
    },
    {
     "name": "stderr",
     "output_type": "stream",
     "text": [
      "\n",
      "\n",
      "Классификация тестовых примеров:   0%|          | 0/73 [00:00<?, ?it/s]\u001b[A\u001b[A"
     ]
    },
    {
     "name": "stdout",
     "output_type": "stream",
     "text": [
      "2\n",
      "104 92\n"
     ]
    },
    {
     "name": "stderr",
     "output_type": "stream",
     "text": [
      "\n",
      "\n",
      "Классификация тестовых примеров:   3%|▎         | 2/73 [00:00<00:05, 14.00it/s]\u001b[A\u001b[A"
     ]
    },
    {
     "name": "stdout",
     "output_type": "stream",
     "text": [
      "2\n",
      "100 96\n",
      "2\n",
      "104 92\n",
      "2\n",
      "59 60\n"
     ]
    },
    {
     "name": "stderr",
     "output_type": "stream",
     "text": [
      "\n",
      "\n",
      "Классификация тестовых примеров:   5%|▌         | 4/73 [00:00<00:05, 13.53it/s]\u001b[A\u001b[A"
     ]
    },
    {
     "name": "stdout",
     "output_type": "stream",
     "text": [
      "2"
     ]
    },
    {
     "name": "stderr",
     "output_type": "stream",
     "text": [
      "\n",
      "\n",
      "Классификация тестовых примеров:   8%|▊         | 6/73 [00:00<00:04, 13.53it/s]\u001b[A\u001b[A\n",
      "\n",
      "Классификация тестовых примеров:  11%|█         | 8/73 [00:00<00:04, 13.58it/s]\u001b[A\u001b[A"
     ]
    },
    {
     "name": "stdout",
     "output_type": "stream",
     "text": [
      "\n",
      "85 78\n",
      "2\n",
      "101 78\n",
      "2\n",
      "98 92\n",
      "2\n",
      "87 77\n"
     ]
    },
    {
     "name": "stderr",
     "output_type": "stream",
     "text": [
      "\n",
      "\n",
      "Классификация тестовых примеров:  14%|█▎        | 10/73 [00:00<00:04, 13.93it/s]\u001b[A\u001b[A"
     ]
    },
    {
     "name": "stdout",
     "output_type": "stream",
     "text": [
      "2\n",
      "91 68\n",
      "2\n",
      "96 84\n",
      "2\n",
      "98 83\n",
      "2\n",
      "106 105\n"
     ]
    },
    {
     "name": "stderr",
     "output_type": "stream",
     "text": [
      "\n",
      "\n",
      "Классификация тестовых примеров:  16%|█▋        | 12/73 [00:00<00:04, 13.69it/s]\u001b[A\u001b[A\n",
      "\n",
      "Классификация тестовых примеров:  19%|█▉        | 14/73 [00:01<00:04, 13.61it/s]\u001b[A\u001b[A"
     ]
    },
    {
     "name": "stdout",
     "output_type": "stream",
     "text": [
      "2\n",
      "74 77\n",
      "2\n",
      "85 81\n",
      "2\n",
      "74 49\n"
     ]
    },
    {
     "name": "stderr",
     "output_type": "stream",
     "text": [
      "\n",
      "\n",
      "Классификация тестовых примеров:  22%|██▏       | 16/73 [00:01<00:04, 13.08it/s]\u001b[A\u001b[A\n",
      "\n",
      "Классификация тестовых примеров:  25%|██▍       | 18/73 [00:01<00:04, 13.16it/s]\u001b[A\u001b[A"
     ]
    },
    {
     "name": "stdout",
     "output_type": "stream",
     "text": [
      "2\n",
      "68 72\n",
      "2\n",
      "103 100\n",
      "2\n",
      "99 93\n",
      "2\n",
      "95 70\n"
     ]
    },
    {
     "name": "stderr",
     "output_type": "stream",
     "text": [
      "\n",
      "\n",
      "Классификация тестовых примеров:  27%|██▋       | 20/73 [00:01<00:04, 12.99it/s]\u001b[A\u001b[A\n",
      "\n",
      "Классификация тестовых примеров:  30%|███       | 22/73 [00:01<00:03, 13.34it/s]\u001b[A\u001b[A"
     ]
    },
    {
     "name": "stdout",
     "output_type": "stream",
     "text": [
      "2\n",
      "89 70\n",
      "2\n",
      "96 84\n",
      "2\n",
      "59 60\n"
     ]
    },
    {
     "name": "stderr",
     "output_type": "stream",
     "text": [
      "\n",
      "\n",
      "Классификация тестовых примеров:  33%|███▎      | 24/73 [00:01<00:03, 12.86it/s]\u001b[A\u001b[A\n",
      "\n",
      "Классификация тестовых примеров:  36%|███▌      | 26/73 [00:01<00:03, 13.03it/s]\u001b[A\u001b[A"
     ]
    },
    {
     "name": "stdout",
     "output_type": "stream",
     "text": [
      "2\n",
      "79 79\n",
      "2\n",
      "95 84\n",
      "2\n",
      "75 59\n",
      "2\n",
      "105 98\n"
     ]
    },
    {
     "name": "stderr",
     "output_type": "stream",
     "text": [
      "\n",
      "\n",
      "Классификация тестовых примеров:  38%|███▊      | 28/73 [00:02<00:03, 13.07it/s]\u001b[A\u001b[A\n",
      "\n",
      "Классификация тестовых примеров:  41%|████      | 30/73 [00:02<00:03, 13.36it/s]\u001b[A\u001b[A"
     ]
    },
    {
     "name": "stdout",
     "output_type": "stream",
     "text": [
      "2\n",
      "85 78\n",
      "2\n",
      "85 78\n",
      "2\n",
      "75 69\n",
      "2\n",
      "54 33\n"
     ]
    },
    {
     "name": "stderr",
     "output_type": "stream",
     "text": [
      "\n",
      "\n",
      "Классификация тестовых примеров:  44%|████▍     | 32/73 [00:02<00:02, 14.10it/s]\u001b[A\u001b[A\n",
      "\n",
      "Классификация тестовых примеров:  47%|████▋     | 34/73 [00:02<00:02, 13.40it/s]\u001b[A\u001b[A"
     ]
    },
    {
     "name": "stdout",
     "output_type": "stream",
     "text": [
      "2\n",
      "91 88\n",
      "2\n",
      "66 60\n",
      "2\n",
      "96 84\n",
      "2\n",
      "104 95\n"
     ]
    },
    {
     "name": "stderr",
     "output_type": "stream",
     "text": [
      "\n",
      "\n",
      "Классификация тестовых примеров:  49%|████▉     | 36/73 [00:02<00:02, 13.35it/s]\u001b[A\u001b[A\n",
      "\n",
      "Классификация тестовых примеров:  52%|█████▏    | 38/73 [00:02<00:02, 13.33it/s]\u001b[A\u001b[A"
     ]
    },
    {
     "name": "stdout",
     "output_type": "stream",
     "text": [
      "2\n",
      "95 94\n",
      "2\n",
      "82 64\n",
      "2\n",
      "85 72\n",
      "2\n",
      "89 85\n",
      "2\n"
     ]
    },
    {
     "name": "stderr",
     "output_type": "stream",
     "text": [
      "\n",
      "\n",
      "Классификация тестовых примеров:  55%|█████▍    | 40/73 [00:02<00:02, 13.34it/s]\u001b[A\u001b[A\n",
      "\n",
      "Классификация тестовых примеров:  58%|█████▊    | 42/73 [00:03<00:02, 12.93it/s]\u001b[A\u001b[A"
     ]
    },
    {
     "name": "stdout",
     "output_type": "stream",
     "text": [
      "77 83\n",
      "2\n",
      "88 88\n",
      "2\n",
      "92 67\n",
      "2\n",
      "105 96\n"
     ]
    },
    {
     "name": "stderr",
     "output_type": "stream",
     "text": [
      "\n",
      "\n",
      "Классификация тестовых примеров:  60%|██████    | 44/73 [00:03<00:02, 12.99it/s]\u001b[A\u001b[A"
     ]
    },
    {
     "name": "stdout",
     "output_type": "stream",
     "text": [
      "2\n",
      "89 70\n",
      "2\n",
      "59 69\n",
      "2\n",
      "92 81\n"
     ]
    },
    {
     "name": "stderr",
     "output_type": "stream",
     "text": [
      "\n",
      "\n",
      "Классификация тестовых примеров:  63%|██████▎   | 46/73 [00:03<00:02, 12.69it/s]\u001b[A\u001b[A\n",
      "\n",
      "Классификация тестовых примеров:  66%|██████▌   | 48/73 [00:03<00:01, 12.85it/s]\u001b[A\u001b[A"
     ]
    },
    {
     "name": "stdout",
     "output_type": "stream",
     "text": [
      "2\n",
      "76 36\n",
      "2\n",
      "101 93\n",
      "2\n",
      "71 63\n"
     ]
    },
    {
     "name": "stderr",
     "output_type": "stream",
     "text": [
      "\n",
      "\n",
      "Классификация тестовых примеров:  68%|██████▊   | 50/73 [00:03<00:01, 13.11it/s]\u001b[A\u001b[A"
     ]
    },
    {
     "name": "stdout",
     "output_type": "stream",
     "text": [
      "2\n",
      "88 78\n",
      "2\n",
      "87 77\n",
      "2\n",
      "96 83\n",
      "2\n",
      "97 79\n"
     ]
    },
    {
     "name": "stderr",
     "output_type": "stream",
     "text": [
      "\n",
      "\n",
      "Классификация тестовых примеров:  71%|███████   | 52/73 [00:03<00:01, 13.18it/s]\u001b[A\u001b[A\n",
      "\n",
      "Классификация тестовых примеров:  74%|███████▍  | 54/73 [00:04<00:01, 13.20it/s]\u001b[A\u001b[A"
     ]
    },
    {
     "name": "stdout",
     "output_type": "stream",
     "text": [
      "2\n",
      "87 79\n",
      "2\n",
      "89 66\n",
      "2\n",
      "84 70\n",
      "2\n",
      "88 73\n"
     ]
    },
    {
     "name": "stderr",
     "output_type": "stream",
     "text": [
      "\n",
      "\n",
      "Классификация тестовых примеров:  77%|███████▋  | 56/73 [00:04<00:01, 13.24it/s]\u001b[A\u001b[A\n",
      "\n",
      "Классификация тестовых примеров:  79%|███████▉  | 58/73 [00:04<00:01, 13.75it/s]\u001b[A\u001b[A"
     ]
    },
    {
     "name": "stdout",
     "output_type": "stream",
     "text": [
      "2\n",
      "94 86\n",
      "2\n",
      "101 96\n",
      "2\n",
      "79 78\n",
      "2\n",
      "95 91\n"
     ]
    },
    {
     "name": "stderr",
     "output_type": "stream",
     "text": [
      "\n",
      "\n",
      "Классификация тестовых примеров:  82%|████████▏ | 60/73 [00:04<00:00, 14.02it/s]\u001b[A\u001b[A\n",
      "\n",
      "Классификация тестовых примеров:  85%|████████▍ | 62/73 [00:04<00:00, 13.45it/s]\u001b[A\u001b[A"
     ]
    },
    {
     "name": "stdout",
     "output_type": "stream",
     "text": [
      "2\n",
      "95 75\n",
      "2\n",
      "59 69\n",
      "2\n",
      "89 76\n",
      "2\n",
      "59 69\n"
     ]
    },
    {
     "name": "stderr",
     "output_type": "stream",
     "text": [
      "\n",
      "\n",
      "Классификация тестовых примеров:  88%|████████▊ | 64/73 [00:04<00:00, 13.80it/s]\u001b[A\u001b[A\n",
      "\n",
      "Классификация тестовых примеров:  90%|█████████ | 66/73 [00:04<00:00, 13.29it/s]\u001b[A\u001b[A"
     ]
    },
    {
     "name": "stdout",
     "output_type": "stream",
     "text": [
      "2\n",
      "105 104\n",
      "2\n",
      "97 73\n",
      "2\n",
      "93 70\n"
     ]
    },
    {
     "name": "stderr",
     "output_type": "stream",
     "text": [
      "\n",
      "\n",
      "Классификация тестовых примеров:  93%|█████████▎| 68/73 [00:05<00:00, 13.24it/s]\u001b[A\u001b[A\n",
      "\n",
      "Классификация тестовых примеров:  96%|█████████▌| 70/73 [00:05<00:00, 13.17it/s]\u001b[A\u001b[A"
     ]
    },
    {
     "name": "stdout",
     "output_type": "stream",
     "text": [
      "2\n",
      "92 89\n",
      "2\n",
      "74 43\n",
      "2\n",
      "88 78\n",
      "2\n",
      "59 60\n"
     ]
    },
    {
     "name": "stderr",
     "output_type": "stream",
     "text": [
      "\n",
      "\n",
      "Классификация тестовых примеров: 100%|██████████| 73/73 [00:05<00:00, 13.28it/s]\u001b[A\u001b[A\n",
      "\n",
      "Подбор min_cardinality:  50%|█████     | 2/4 [00:11<00:11,  5.61s/it]\u001b[A"
     ]
    },
    {
     "name": "stdout",
     "output_type": "stream",
     "text": [
      "2\n",
      "100 92\n",
      "2\n",
      "86 65\n"
     ]
    },
    {
     "name": "stderr",
     "output_type": "stream",
     "text": [
      "\n",
      "\n",
      "Классификация тестовых примеров:   0%|          | 0/73 [00:00<?, ?it/s]\u001b[A\u001b[A"
     ]
    },
    {
     "name": "stdout",
     "output_type": "stream",
     "text": [
      "3\n",
      "104 92\n"
     ]
    },
    {
     "name": "stderr",
     "output_type": "stream",
     "text": [
      "\n",
      "\n",
      "Классификация тестовых примеров:   3%|▎         | 2/73 [00:00<00:05, 13.52it/s]\u001b[A\u001b[A"
     ]
    },
    {
     "name": "stdout",
     "output_type": "stream",
     "text": [
      "3\n",
      "100 96\n",
      "3\n",
      "104 92\n"
     ]
    },
    {
     "name": "stderr",
     "output_type": "stream",
     "text": [
      "\n",
      "\n",
      "Классификация тестовых примеров:   5%|▌         | 4/73 [00:00<00:05, 13.41it/s]\u001b[A\u001b[A"
     ]
    },
    {
     "name": "stdout",
     "output_type": "stream",
     "text": [
      "3\n",
      "59 60\n"
     ]
    },
    {
     "name": "stderr",
     "output_type": "stream",
     "text": [
      "\n",
      "\n",
      "Классификация тестовых примеров:   8%|▊         | 6/73 [00:00<00:05, 13.23it/s]\u001b[A\u001b[A"
     ]
    },
    {
     "name": "stdout",
     "output_type": "stream",
     "text": [
      "3\n",
      "85 78\n",
      "3\n",
      "101 78\n"
     ]
    },
    {
     "name": "stderr",
     "output_type": "stream",
     "text": [
      "\n",
      "\n",
      "Классификация тестовых примеров:  11%|█         | 8/73 [00:00<00:04, 13.27it/s]\u001b[A\u001b[A"
     ]
    },
    {
     "name": "stdout",
     "output_type": "stream",
     "text": [
      "3\n",
      "98 92\n",
      "3\n",
      "87 77\n",
      "3\n",
      "91 68\n",
      "3\n",
      "96 84\n"
     ]
    },
    {
     "name": "stderr",
     "output_type": "stream",
     "text": [
      "\n",
      "\n",
      "Классификация тестовых примеров:  14%|█▎        | 10/73 [00:00<00:04, 13.94it/s]\u001b[A\u001b[A\n",
      "\n",
      "Классификация тестовых примеров:  16%|█▋        | 12/73 [00:00<00:04, 13.49it/s]\u001b[A\u001b[A"
     ]
    },
    {
     "name": "stdout",
     "output_type": "stream",
     "text": [
      "3\n",
      "98 83\n",
      "3\n",
      "106 105\n",
      "3\n",
      "74 77\n"
     ]
    },
    {
     "name": "stderr",
     "output_type": "stream",
     "text": [
      "\n",
      "\n",
      "Классификация тестовых примеров:  19%|█▉        | 14/73 [00:01<00:04, 13.63it/s]\u001b[A\u001b[A"
     ]
    },
    {
     "name": "stdout",
     "output_type": "stream",
     "text": [
      "3\n",
      "85 81\n",
      "3\n",
      "74 49\n"
     ]
    },
    {
     "name": "stderr",
     "output_type": "stream",
     "text": [
      "\n",
      "\n",
      "Классификация тестовых примеров:  22%|██▏       | 16/73 [00:01<00:04, 13.41it/s]\u001b[A\u001b[A"
     ]
    },
    {
     "name": "stdout",
     "output_type": "stream",
     "text": [
      "3\n",
      "68 72\n",
      "3\n",
      "103 100\n"
     ]
    },
    {
     "name": "stderr",
     "output_type": "stream",
     "text": [
      "\n",
      "\n",
      "Классификация тестовых примеров:  25%|██▍       | 18/73 [00:01<00:04, 13.52it/s]\u001b[A\u001b[A"
     ]
    },
    {
     "name": "stdout",
     "output_type": "stream",
     "text": [
      "3\n",
      "99 93\n"
     ]
    },
    {
     "name": "stderr",
     "output_type": "stream",
     "text": [
      "\n",
      "\n",
      "Классификация тестовых примеров:  27%|██▋       | 20/73 [00:01<00:03, 13.41it/s]\u001b[A\u001b[A"
     ]
    },
    {
     "name": "stdout",
     "output_type": "stream",
     "text": [
      "3\n",
      "95 70\n",
      "3\n",
      "89 70\n",
      "3\n",
      "96 84\n"
     ]
    },
    {
     "name": "stderr",
     "output_type": "stream",
     "text": [
      "\n",
      "\n",
      "Классификация тестовых примеров:  30%|███       | 22/73 [00:01<00:03, 13.03it/s]\u001b[A\u001b[A"
     ]
    },
    {
     "name": "stdout",
     "output_type": "stream",
     "text": [
      "3\n",
      "59 60\n",
      "3\n",
      "79 79\n",
      "3\n",
      "95 84\n"
     ]
    },
    {
     "name": "stderr",
     "output_type": "stream",
     "text": [
      "\n",
      "\n",
      "Классификация тестовых примеров:  33%|███▎      | 24/73 [00:01<00:03, 13.11it/s]\u001b[A\u001b[A\n",
      "\n",
      "Классификация тестовых примеров:  36%|███▌      | 26/73 [00:01<00:03, 12.78it/s]\u001b[A\u001b[A\n",
      "\n"
     ]
    },
    {
     "name": "stdout",
     "output_type": "stream",
     "text": [
      "3\n",
      "75 59\n",
      "3\n",
      "105 98\n",
      "3\n",
      "85 78\n",
      "3\n",
      "85 78\n"
     ]
    },
    {
     "name": "stderr",
     "output_type": "stream",
     "text": [
      "Классификация тестовых примеров:  38%|███▊      | 28/73 [00:02<00:03, 12.97it/s]\u001b[A\u001b[A\n",
      "\n",
      "Классификация тестовых примеров:  41%|████      | 30/73 [00:02<00:03, 13.05it/s]\u001b[A\u001b[A"
     ]
    },
    {
     "name": "stdout",
     "output_type": "stream",
     "text": [
      "3\n",
      "75 69\n",
      "3\n",
      "54 33\n",
      "3\n",
      "91 88\n",
      "3\n",
      "66 60\n"
     ]
    },
    {
     "name": "stderr",
     "output_type": "stream",
     "text": [
      "\n",
      "\n",
      "Классификация тестовых примеров:  44%|████▍     | 32/73 [00:02<00:03, 13.08it/s]\u001b[A\u001b[A\n",
      "\n",
      "Классификация тестовых примеров:  47%|████▋     | 34/73 [00:02<00:02, 13.21it/s]\u001b[A\u001b[A"
     ]
    },
    {
     "name": "stdout",
     "output_type": "stream",
     "text": [
      "3\n",
      "96 84\n",
      "3\n",
      "104 95\n",
      "3\n",
      "95 94\n"
     ]
    },
    {
     "name": "stderr",
     "output_type": "stream",
     "text": [
      "\n",
      "\n",
      "Классификация тестовых примеров:  49%|████▉     | 36/73 [00:02<00:02, 13.65it/s]\u001b[A\u001b[A\n",
      "\n",
      "Классификация тестовых примеров:  52%|█████▏    | 38/73 [00:02<00:02, 13.61it/s]\u001b[A\u001b[A"
     ]
    },
    {
     "name": "stdout",
     "output_type": "stream",
     "text": [
      "3\n",
      "82 64\n",
      "3\n",
      "85 72\n",
      "3\n",
      "89 85\n",
      "3\n",
      "77 83\n"
     ]
    },
    {
     "name": "stderr",
     "output_type": "stream",
     "text": [
      "\n",
      "\n",
      "Классификация тестовых примеров:  55%|█████▍    | 40/73 [00:02<00:02, 13.53it/s]\u001b[A\u001b[A\n",
      "\n",
      "Классификация тестовых примеров:  58%|█████▊    | 42/73 [00:03<00:02, 13.52it/s]\u001b[A\u001b[A"
     ]
    },
    {
     "name": "stdout",
     "output_type": "stream",
     "text": [
      "3\n",
      "88 88\n",
      "3\n",
      "92 67\n",
      "3\n",
      "105 96\n"
     ]
    },
    {
     "name": "stderr",
     "output_type": "stream",
     "text": [
      "\n",
      "\n",
      "Классификация тестовых примеров:  60%|██████    | 44/73 [00:03<00:02, 13.41it/s]\u001b[A\u001b[A\n",
      "\n",
      "Классификация тестовых примеров:  63%|██████▎   | 46/73 [00:03<00:02, 13.34it/s]\u001b[A\u001b[A"
     ]
    },
    {
     "name": "stdout",
     "output_type": "stream",
     "text": [
      "3\n",
      "89 70\n",
      "3\n",
      "59 69\n",
      "3\n",
      "92 81\n",
      "3\n",
      "76 36\n"
     ]
    },
    {
     "name": "stderr",
     "output_type": "stream",
     "text": [
      "\n",
      "\n",
      "Классификация тестовых примеров:  66%|██████▌   | 48/73 [00:03<00:01, 13.30it/s]\u001b[A\u001b[A"
     ]
    },
    {
     "name": "stdout",
     "output_type": "stream",
     "text": [
      "3\n",
      "101 93\n",
      "3\n",
      "71 63\n",
      "3\n",
      "88 78\n",
      "3\n",
      "87 77\n"
     ]
    },
    {
     "name": "stderr",
     "output_type": "stream",
     "text": [
      "\n",
      "\n",
      "Классификация тестовых примеров:  68%|██████▊   | 50/73 [00:03<00:01, 13.00it/s]\u001b[A\u001b[A\n",
      "\n",
      "Классификация тестовых примеров:  71%|███████   | 52/73 [00:03<00:01, 13.02it/s]\u001b[A\u001b[A"
     ]
    },
    {
     "name": "stdout",
     "output_type": "stream",
     "text": [
      "3\n",
      "96 83\n",
      "3\n",
      "97 79\n",
      "3\n",
      "87 79\n"
     ]
    },
    {
     "name": "stderr",
     "output_type": "stream",
     "text": [
      "\n",
      "\n",
      "Классификация тестовых примеров:  74%|███████▍  | 54/73 [00:04<00:01, 13.14it/s]\u001b[A\u001b[A\n",
      "\n",
      "Классификация тестовых примеров:  77%|███████▋  | 56/73 [00:04<00:01, 13.20it/s]\u001b[A\u001b[A"
     ]
    },
    {
     "name": "stdout",
     "output_type": "stream",
     "text": [
      "3\n",
      "89 66\n",
      "3\n",
      "84 70\n",
      "3\n",
      "88 73\n"
     ]
    },
    {
     "name": "stderr",
     "output_type": "stream",
     "text": [
      "\n",
      "\n",
      "Классификация тестовых примеров:  79%|███████▉  | 58/73 [00:04<00:01, 12.69it/s]\u001b[A\u001b[A\n",
      "\n",
      "Классификация тестовых примеров:  82%|████████▏ | 60/73 [00:04<00:00, 13.05it/s]\u001b[A\u001b[A"
     ]
    },
    {
     "name": "stdout",
     "output_type": "stream",
     "text": [
      "3\n",
      "94 86\n",
      "3\n",
      "101 96\n",
      "3\n",
      "79 78\n",
      "3\n",
      "95 91\n"
     ]
    },
    {
     "name": "stderr",
     "output_type": "stream",
     "text": [
      "\n",
      "\n",
      "Классификация тестовых примеров:  85%|████████▍ | 62/73 [00:04<00:00, 12.90it/s]\u001b[A\u001b[A\n",
      "\n",
      "Классификация тестовых примеров:  88%|████████▊ | 64/73 [00:04<00:00, 13.28it/s]\u001b[A\u001b[A"
     ]
    },
    {
     "name": "stdout",
     "output_type": "stream",
     "text": [
      "3\n",
      "95 75\n",
      "3\n",
      "59 69\n",
      "3\n",
      "89 76\n",
      "3\n",
      "59 69\n"
     ]
    },
    {
     "name": "stderr",
     "output_type": "stream",
     "text": [
      "\n",
      "\n",
      "Классификация тестовых примеров:  90%|█████████ | 66/73 [00:05<00:00, 12.46it/s]\u001b[A\u001b[A\n",
      "\n"
     ]
    },
    {
     "name": "stdout",
     "output_type": "stream",
     "text": [
      "3\n",
      "105 104\n",
      "3\n",
      "97 73\n",
      "3\n",
      "93 70\n",
      "3\n",
      "92 89\n"
     ]
    },
    {
     "name": "stderr",
     "output_type": "stream",
     "text": [
      "Классификация тестовых примеров:  93%|█████████▎| 68/73 [00:05<00:00, 12.69it/s]\u001b[A\u001b[A\n",
      "\n",
      "Классификация тестовых примеров:  96%|█████████▌| 70/73 [00:05<00:00, 12.50it/s]\u001b[A\u001b[A"
     ]
    },
    {
     "name": "stdout",
     "output_type": "stream",
     "text": [
      "3\n",
      "74 43\n",
      "3\n",
      "88 78\n",
      "3\n",
      "59 60\n"
     ]
    },
    {
     "name": "stderr",
     "output_type": "stream",
     "text": [
      "\n",
      "\n",
      "Классификация тестовых примеров: 100%|██████████| 73/73 [00:05<00:00, 13.08it/s]\u001b[A\u001b[A\n",
      "\n",
      "Подбор min_cardinality:  75%|███████▌  | 3/4 [00:16<00:05,  5.60s/it]\u001b[A"
     ]
    },
    {
     "name": "stdout",
     "output_type": "stream",
     "text": [
      "3\n",
      "100 92\n",
      "3\n",
      "86 65\n"
     ]
    },
    {
     "name": "stderr",
     "output_type": "stream",
     "text": [
      "\n",
      "\n",
      "Классификация тестовых примеров:   0%|          | 0/73 [00:00<?, ?it/s]\u001b[A\u001b[A"
     ]
    },
    {
     "name": "stdout",
     "output_type": "stream",
     "text": [
      "4\n",
      "104 92\n"
     ]
    },
    {
     "name": "stderr",
     "output_type": "stream",
     "text": [
      "\n",
      "\n",
      "Классификация тестовых примеров:   3%|▎         | 2/73 [00:00<00:05, 13.30it/s]\u001b[A\u001b[A"
     ]
    },
    {
     "name": "stdout",
     "output_type": "stream",
     "text": [
      "4\n",
      "100 96\n",
      "4\n",
      "104 92\n",
      "4\n",
      "59 60\n"
     ]
    },
    {
     "name": "stderr",
     "output_type": "stream",
     "text": [
      "\n",
      "\n",
      "Классификация тестовых примеров:   5%|▌         | 4/73 [00:00<00:05, 12.55it/s]\u001b[A\u001b[A\n",
      "\n",
      "Классификация тестовых примеров:   8%|▊         | 6/73 [00:00<00:05, 11.88it/s]\u001b[A\u001b[A"
     ]
    },
    {
     "name": "stdout",
     "output_type": "stream",
     "text": [
      "4\n",
      "85 78\n",
      "4\n",
      "101 78\n",
      "4\n",
      "98 92\n"
     ]
    },
    {
     "name": "stderr",
     "output_type": "stream",
     "text": [
      "\n",
      "\n",
      "Классификация тестовых примеров:  11%|█         | 8/73 [00:00<00:05, 11.66it/s]\u001b[A\u001b[A\n",
      "\n",
      "Классификация тестовых примеров:  14%|█▎        | 10/73 [00:00<00:05, 11.92it/s]"
     ]
    },
    {
     "name": "stdout",
     "output_type": "stream",
     "text": [
      "4\n",
      "87 77\n",
      "4\n",
      "91 68\n",
      "4\n",
      "96 84\n"
     ]
    },
    {
     "name": "stderr",
     "output_type": "stream",
     "text": [
      "\u001b[A\u001b[A\n",
      "\n",
      "Классификация тестовых примеров:  16%|█▋        | 12/73 [00:01<00:05, 11.91it/s]\u001b[A\u001b[A"
     ]
    },
    {
     "name": "stdout",
     "output_type": "stream",
     "text": [
      "4\n",
      "98 83\n",
      "4\n",
      "106 105\n",
      "4\n",
      "74 77\n"
     ]
    },
    {
     "name": "stderr",
     "output_type": "stream",
     "text": [
      "\n",
      "\n",
      "Классификация тестовых примеров:  19%|█▉        | 14/73 [00:01<00:05, 11.62it/s]\u001b[A\u001b[A\n",
      "\n",
      "Классификация тестовых примеров:  22%|██▏       | 16/73 [00:01<00:04, 11.56it/s]\u001b[A\u001b[A"
     ]
    },
    {
     "name": "stdout",
     "output_type": "stream",
     "text": [
      "4\n",
      "85 81\n",
      "4\n",
      "74 49\n",
      "4\n",
      "68 72\n"
     ]
    },
    {
     "name": "stderr",
     "output_type": "stream",
     "text": [
      "\n",
      "\n",
      "Классификация тестовых примеров:  25%|██▍       | 18/73 [00:01<00:04, 11.63it/s]\u001b[A\u001b[A"
     ]
    },
    {
     "name": "stdout",
     "output_type": "stream",
     "text": [
      "4\n",
      "103 100\n",
      "4\n",
      "99 93\n",
      "4\n",
      "95 70\n",
      "4\n",
      "89 70\n"
     ]
    },
    {
     "name": "stderr",
     "output_type": "stream",
     "text": [
      "\n",
      "\n",
      "Классификация тестовых примеров:  27%|██▋       | 20/73 [00:01<00:04, 11.86it/s]\u001b[A\u001b[A\n",
      "\n",
      "Классификация тестовых примеров:  30%|███       | 22/73 [00:01<00:04, 12.58it/s]\u001b[A\u001b[A"
     ]
    },
    {
     "name": "stdout",
     "output_type": "stream",
     "text": [
      "4\n",
      "96 84\n",
      "4\n",
      "59 60\n",
      "4\n",
      "79 79\n"
     ]
    },
    {
     "name": "stderr",
     "output_type": "stream",
     "text": [
      "\n",
      "\n",
      "Классификация тестовых примеров:  33%|███▎      | 24/73 [00:01<00:03, 12.68it/s]\u001b[A\u001b[A\n",
      "\n",
      "Классификация тестовых примеров:  36%|███▌      | 26/73 [00:02<00:03, 13.23it/s]\u001b[A\u001b[A"
     ]
    },
    {
     "name": "stdout",
     "output_type": "stream",
     "text": [
      "4\n",
      "95 84\n",
      "4\n",
      "75 59\n",
      "4\n",
      "105 98\n"
     ]
    },
    {
     "name": "stderr",
     "output_type": "stream",
     "text": [
      "\n",
      "\n",
      "Классификация тестовых примеров:  38%|███▊      | 28/73 [00:02<00:03, 13.12it/s]\u001b[A\u001b[A\n",
      "\n",
      "Классификация тестовых примеров:  41%|████      | 30/73 [00:02<00:03, 13.76it/s]\u001b[A\u001b[A"
     ]
    },
    {
     "name": "stdout",
     "output_type": "stream",
     "text": [
      "4\n",
      "85 78\n",
      "4\n",
      "85 78\n",
      "4\n",
      "75 69\n",
      "4\n",
      "54 33\n"
     ]
    },
    {
     "name": "stderr",
     "output_type": "stream",
     "text": [
      "\n",
      "\n",
      "Классификация тестовых примеров:  44%|████▍     | 32/73 [00:02<00:03, 13.64it/s]\u001b[A\u001b[A\n",
      "\n",
      "Классификация тестовых примеров:  47%|████▋     | 34/73 [00:02<00:02, 13.60it/s]\u001b[A\u001b[A"
     ]
    },
    {
     "name": "stdout",
     "output_type": "stream",
     "text": [
      "4\n",
      "91 88\n",
      "4\n",
      "66 60\n",
      "4\n",
      "96 84\n",
      "4\n",
      "104 95\n",
      "4\n",
      "95 94\n"
     ]
    },
    {
     "name": "stderr",
     "output_type": "stream",
     "text": [
      "\n",
      "\n",
      "Классификация тестовых примеров:  49%|████▉     | 36/73 [00:02<00:02, 13.49it/s]\u001b[A\u001b[A\n",
      "\n",
      "Классификация тестовых примеров:  52%|█████▏    | 38/73 [00:02<00:02, 13.79it/s]\u001b[A\u001b[A"
     ]
    },
    {
     "name": "stdout",
     "output_type": "stream",
     "text": [
      "4\n",
      "82 64\n",
      "4\n",
      "85 72\n",
      "4\n",
      "89 85\n",
      "4\n"
     ]
    },
    {
     "name": "stderr",
     "output_type": "stream",
     "text": [
      "\n",
      "\n",
      "Классификация тестовых примеров:  55%|█████▍    | 40/73 [00:03<00:02, 13.20it/s]\u001b[A\u001b[A"
     ]
    },
    {
     "name": "stdout",
     "output_type": "stream",
     "text": [
      "77 83\n",
      "4\n",
      "88 88\n",
      "4\n",
      "92 67\n"
     ]
    },
    {
     "name": "stderr",
     "output_type": "stream",
     "text": [
      "\n",
      "\n",
      "Классификация тестовых примеров:  58%|█████▊    | 42/73 [00:03<00:02, 13.28it/s]\u001b[A\u001b[A\n",
      "\n",
      "Классификация тестовых примеров:  60%|██████    | 44/73 [00:03<00:02, 13.30it/s]\u001b[A\u001b[A"
     ]
    },
    {
     "name": "stdout",
     "output_type": "stream",
     "text": [
      "4\n",
      "105 96\n",
      "4\n",
      "89 70\n",
      "4\n",
      "59 69\n",
      "4\n",
      "92 81\n"
     ]
    },
    {
     "name": "stderr",
     "output_type": "stream",
     "text": [
      "\n",
      "\n",
      "Классификация тестовых примеров:  63%|██████▎   | 46/73 [00:03<00:02, 12.85it/s]\u001b[A\u001b[A\n",
      "\n",
      "Классификация тестовых примеров:  66%|██████▌   | 48/73 [00:03<00:01, 13.12it/s]\u001b[A\u001b[A"
     ]
    },
    {
     "name": "stdout",
     "output_type": "stream",
     "text": [
      "4\n",
      "76 36\n",
      "4\n",
      "101 93\n",
      "4\n",
      "71 63\n"
     ]
    },
    {
     "name": "stderr",
     "output_type": "stream",
     "text": [
      "\n",
      "\n",
      "Классификация тестовых примеров:  68%|██████▊   | 50/73 [00:03<00:01, 12.68it/s]\u001b[A\u001b[A\n",
      "\n",
      "Классификация тестовых примеров:  71%|███████   | 52/73 [00:04<00:01, 12.95it/s]\u001b[A\u001b[A"
     ]
    },
    {
     "name": "stdout",
     "output_type": "stream",
     "text": [
      "4\n",
      "88 78\n",
      "4\n",
      "87 77\n",
      "4\n",
      "96 83\n",
      "4\n",
      "97 79\n",
      "4\n",
      "87 79\n"
     ]
    },
    {
     "name": "stderr",
     "output_type": "stream",
     "text": [
      "\n",
      "\n",
      "Классификация тестовых примеров:  74%|███████▍  | 54/73 [00:04<00:01, 13.21it/s]\u001b[A\u001b[A\n",
      "\n",
      "Классификация тестовых примеров:  77%|███████▋  | 56/73 [00:04<00:01, 13.56it/s]\u001b[A\u001b[A\n",
      "\n"
     ]
    },
    {
     "name": "stdout",
     "output_type": "stream",
     "text": [
      "4\n",
      "89 66\n",
      "4\n",
      "84 70\n",
      "4\n",
      "88 73\n",
      "4\n",
      "94 86\n",
      "4\n",
      "101 96\n"
     ]
    },
    {
     "name": "stderr",
     "output_type": "stream",
     "text": [
      "Классификация тестовых примеров:  79%|███████▉  | 58/73 [00:04<00:01, 14.95it/s]\u001b[A\u001b[A\n",
      "\n",
      "Классификация тестовых примеров:  82%|████████▏ | 60/73 [00:04<00:00, 14.83it/s]\u001b[A\u001b[A\n",
      "\n",
      "Классификация тестовых примеров:  85%|████████▍ | 62/73 [00:04<00:00, 14.47it/s]\u001b[A\u001b[A"
     ]
    },
    {
     "name": "stdout",
     "output_type": "stream",
     "text": [
      "4\n",
      "79 78\n",
      "4\n",
      "95 91\n",
      "4\n",
      "95 75\n",
      "4\n",
      "59 69\n"
     ]
    },
    {
     "name": "stderr",
     "output_type": "stream",
     "text": [
      "\n",
      "\n",
      "Классификация тестовых примеров:  88%|████████▊ | 64/73 [00:04<00:00, 14.07it/s]\u001b[A\u001b[A"
     ]
    },
    {
     "name": "stdout",
     "output_type": "stream",
     "text": [
      "4\n",
      "89 76\n",
      "4\n",
      "59 69\n",
      "4\n",
      "105 104\n"
     ]
    },
    {
     "name": "stderr",
     "output_type": "stream",
     "text": [
      "\n",
      "\n",
      "Классификация тестовых примеров:  90%|█████████ | 66/73 [00:05<00:00, 13.87it/s]\u001b[A\u001b[A\n",
      "\n",
      "Классификация тестовых примеров:  93%|█████████▎| 68/73 [00:05<00:00, 13.72it/s]\u001b[A\u001b[A"
     ]
    },
    {
     "name": "stdout",
     "output_type": "stream",
     "text": [
      "4\n",
      "97 73\n",
      "4\n",
      "93 70\n",
      "4\n",
      "92 89\n",
      "4\n",
      "74 43\n"
     ]
    },
    {
     "name": "stderr",
     "output_type": "stream",
     "text": [
      "\n",
      "\n",
      "Классификация тестовых примеров:  96%|█████████▌| 70/73 [00:05<00:00, 13.18it/s]\u001b[A\u001b[A\n",
      "\n",
      "Классификация тестовых примеров:  99%|█████████▊| 72/73 [00:05<00:00, 13.26it/s]\u001b[A\u001b[A"
     ]
    },
    {
     "name": "stdout",
     "output_type": "stream",
     "text": [
      "4\n",
      "88 78\n",
      "4\n",
      "59 60\n",
      "4\n",
      "100 92\n"
     ]
    },
    {
     "name": "stderr",
     "output_type": "stream",
     "text": [
      "Классификация тестовых примеров: 100%|██████████| 73/73 [00:05<00:00, 13.05it/s]\n",
      "\n",
      "Подбор min_cardinality: 100%|██████████| 4/4 [00:22<00:00,  5.60s/it]\u001b[A\n",
      "Подбор max_counter_examples:  44%|████▍     | 4/9 [01:34<01:56, 23.38s/it]"
     ]
    },
    {
     "name": "stdout",
     "output_type": "stream",
     "text": [
      "4\n",
      "86 65\n"
     ]
    },
    {
     "name": "stderr",
     "output_type": "stream",
     "text": [
      "\n",
      "Подбор min_cardinality:   0%|          | 0/4 [00:00<?, ?it/s]\u001b[A\n",
      "\n",
      "Классификация тестовых примеров:   0%|          | 0/73 [00:00<?, ?it/s]\u001b[A\u001b[A\n",
      "\n",
      "Классификация тестовых примеров:   3%|▎         | 2/73 [00:00<00:05, 13.76it/s]\u001b[A\u001b[A"
     ]
    },
    {
     "name": "stdout",
     "output_type": "stream",
     "text": [
      "1\n",
      "104 92\n",
      "1\n",
      "100 96\n",
      "1\n",
      "104 92\n"
     ]
    },
    {
     "name": "stderr",
     "output_type": "stream",
     "text": [
      "\n",
      "\n",
      "Классификация тестовых примеров:   5%|▌         | 4/73 [00:00<00:05, 12.45it/s]\u001b[A\u001b[A\n",
      "\n",
      "Классификация тестовых примеров:   8%|▊         | 6/73 [00:00<00:05, 13.08it/s]\u001b[A\u001b[A"
     ]
    },
    {
     "name": "stdout",
     "output_type": "stream",
     "text": [
      "1\n",
      "59 60\n",
      "1\n",
      "85 78\n",
      "1\n",
      "101 78\n"
     ]
    },
    {
     "name": "stderr",
     "output_type": "stream",
     "text": [
      "\n",
      "\n",
      "Классификация тестовых примеров:  11%|█         | 8/73 [00:00<00:04, 13.76it/s]\u001b[A\u001b[A\n",
      "\n",
      "Классификация тестовых примеров:  14%|█▎        | 10/73 [00:00<00:04, 13.61it/s]\u001b[A\u001b[A"
     ]
    },
    {
     "name": "stdout",
     "output_type": "stream",
     "text": [
      "1\n",
      "98 92\n",
      "1\n",
      "87 77\n",
      "1\n",
      "91 68\n",
      "1\n",
      "96 84\n",
      "1\n",
      "98 83\n"
     ]
    },
    {
     "name": "stderr",
     "output_type": "stream",
     "text": [
      "\n",
      "\n",
      "Классификация тестовых примеров:  16%|█▋        | 12/73 [00:00<00:04, 13.36it/s]\u001b[A\u001b[A\n",
      "\n",
      "Классификация тестовых примеров:  19%|█▉        | 14/73 [00:01<00:04, 13.44it/s]\u001b[A\u001b[A"
     ]
    },
    {
     "name": "stdout",
     "output_type": "stream",
     "text": [
      "1\n",
      "106 105\n",
      "1\n",
      "74 77\n",
      "1\n",
      "85 81\n"
     ]
    },
    {
     "name": "stderr",
     "output_type": "stream",
     "text": [
      "\n",
      "\n",
      "Классификация тестовых примеров:  22%|██▏       | 16/73 [00:01<00:04, 13.28it/s]\u001b[A\u001b[A\n",
      "\n",
      "Классификация тестовых примеров:  25%|██▍       | 18/73 [00:01<00:04, 13.42it/s]\u001b[A\u001b[A"
     ]
    },
    {
     "name": "stdout",
     "output_type": "stream",
     "text": [
      "1\n",
      "74 49\n",
      "1\n",
      "68 72\n",
      "1\n",
      "103 100\n",
      "1\n",
      "99 93\n",
      "1\n",
      "95 70\n"
     ]
    },
    {
     "name": "stderr",
     "output_type": "stream",
     "text": [
      "\n",
      "\n",
      "Классификация тестовых примеров:  27%|██▋       | 20/73 [00:01<00:03, 13.40it/s]\u001b[A\u001b[A\n",
      "\n",
      "Классификация тестовых примеров:  30%|███       | 22/73 [00:01<00:03, 13.43it/s]\u001b[A\u001b[A"
     ]
    },
    {
     "name": "stdout",
     "output_type": "stream",
     "text": [
      "1\n",
      "89 70\n",
      "1\n",
      "96 84\n",
      "1\n",
      "59 60\n",
      "1\n"
     ]
    },
    {
     "name": "stderr",
     "output_type": "stream",
     "text": [
      "\n",
      "\n",
      "Классификация тестовых примеров:  33%|███▎      | 24/73 [00:01<00:03, 13.35it/s]\u001b[A\u001b[A\n",
      "\n",
      "Классификация тестовых примеров:  36%|███▌      | 26/73 [00:01<00:03, 13.39it/s]\u001b[A\u001b[A"
     ]
    },
    {
     "name": "stdout",
     "output_type": "stream",
     "text": [
      "79 79\n",
      "1\n",
      "95 84\n",
      "1\n",
      "75 59\n",
      "1\n",
      "105 98\n"
     ]
    },
    {
     "name": "stderr",
     "output_type": "stream",
     "text": [
      "\n",
      "\n",
      "Классификация тестовых примеров:  38%|███▊      | 28/73 [00:02<00:03, 13.27it/s]\u001b[A\u001b[A"
     ]
    },
    {
     "name": "stdout",
     "output_type": "stream",
     "text": [
      "1\n",
      "85 78\n",
      "1\n",
      "85 78\n",
      "1\n",
      "75 69\n"
     ]
    },
    {
     "name": "stderr",
     "output_type": "stream",
     "text": [
      "\n",
      "\n",
      "Классификация тестовых примеров:  41%|████      | 30/73 [00:02<00:03, 13.33it/s]\u001b[A\u001b[A\n",
      "\n",
      "Классификация тестовых примеров:  44%|████▍     | 32/73 [00:02<00:03, 13.35it/s]\u001b[A\u001b[A"
     ]
    },
    {
     "name": "stdout",
     "output_type": "stream",
     "text": [
      "1\n",
      "54 33\n",
      "1\n",
      "91 88\n",
      "1\n",
      "66 60\n",
      "1\n",
      "96 84\n"
     ]
    },
    {
     "name": "stderr",
     "output_type": "stream",
     "text": [
      "\n",
      "\n",
      "Классификация тестовых примеров:  47%|████▋     | 34/73 [00:02<00:02, 13.32it/s]\u001b[A\u001b[A\n",
      "\n",
      "Классификация тестовых примеров:  49%|████▉     | 36/73 [00:02<00:02, 13.35it/s]\u001b[A\u001b[A"
     ]
    },
    {
     "name": "stdout",
     "output_type": "stream",
     "text": [
      "1\n",
      "104 95\n",
      "1\n",
      "95 94\n",
      "1\n",
      "82 64\n"
     ]
    },
    {
     "name": "stderr",
     "output_type": "stream",
     "text": [
      "\n",
      "\n",
      "Классификация тестовых примеров:  52%|█████▏    | 38/73 [00:02<00:02, 13.35it/s]\u001b[A\u001b[A\n",
      "\n",
      "Классификация тестовых примеров:  55%|█████▍    | 40/73 [00:02<00:02, 13.52it/s]\u001b[A\u001b[A"
     ]
    },
    {
     "name": "stdout",
     "output_type": "stream",
     "text": [
      "1\n",
      "85 72\n",
      "1\n",
      "89 85\n",
      "1\n",
      "77 83\n",
      "1\n",
      "88 88\n",
      "1\n",
      "92 67\n"
     ]
    },
    {
     "name": "stderr",
     "output_type": "stream",
     "text": [
      "\n",
      "\n",
      "Классификация тестовых примеров:  58%|█████▊    | 42/73 [00:03<00:02, 13.69it/s]\u001b[A\u001b[A\n",
      "\n",
      "Классификация тестовых примеров:  60%|██████    | 44/73 [00:03<00:02, 13.62it/s]\u001b[A\u001b[A"
     ]
    },
    {
     "name": "stdout",
     "output_type": "stream",
     "text": [
      "1\n",
      "105 96\n",
      "1\n",
      "89 70\n",
      "1\n",
      "59 69\n"
     ]
    },
    {
     "name": "stderr",
     "output_type": "stream",
     "text": [
      "\n",
      "\n",
      "Классификация тестовых примеров:  63%|██████▎   | 46/73 [00:03<00:01, 13.57it/s]\u001b[A\u001b[A"
     ]
    },
    {
     "name": "stdout",
     "output_type": "stream",
     "text": [
      "1\n",
      "92 81\n",
      "1\n",
      "76 36\n",
      "1\n",
      "101 93\n",
      "1\n",
      "71 63\n"
     ]
    },
    {
     "name": "stderr",
     "output_type": "stream",
     "text": [
      "\n",
      "\n",
      "Классификация тестовых примеров:  66%|██████▌   | 48/73 [00:03<00:01, 13.51it/s]\u001b[A\u001b[A\n",
      "\n",
      "Классификация тестовых примеров:  68%|██████▊   | 50/73 [00:03<00:01, 12.38it/s]\u001b[A\u001b[A"
     ]
    },
    {
     "name": "stdout",
     "output_type": "stream",
     "text": [
      "1\n",
      "88 78\n",
      "1\n",
      "87 77\n",
      "1\n",
      "96 83\n",
      "1\n"
     ]
    },
    {
     "name": "stderr",
     "output_type": "stream",
     "text": [
      "\n",
      "\n",
      "Классификация тестовых примеров:  71%|███████   | 52/73 [00:03<00:01, 12.46it/s]\u001b[A\u001b[A\n",
      "\n",
      "Классификация тестовых примеров:  74%|███████▍  | 54/73 [00:04<00:01, 12.74it/s]\u001b[A\u001b[A"
     ]
    },
    {
     "name": "stdout",
     "output_type": "stream",
     "text": [
      "97 79\n",
      "1\n",
      "87 79\n",
      "1\n",
      "89 66\n"
     ]
    },
    {
     "name": "stderr",
     "output_type": "stream",
     "text": [
      "\n",
      "\n",
      "Классификация тестовых примеров:  77%|███████▋  | 56/73 [00:04<00:01, 12.84it/s]\u001b[A\u001b[A"
     ]
    },
    {
     "name": "stdout",
     "output_type": "stream",
     "text": [
      "1\n",
      "84 70\n",
      "1\n",
      "88 73\n",
      "1\n",
      "94 86\n",
      "1\n"
     ]
    },
    {
     "name": "stderr",
     "output_type": "stream",
     "text": [
      "\n",
      "\n",
      "Классификация тестовых примеров:  79%|███████▉  | 58/73 [00:04<00:01, 12.61it/s]\u001b[A\u001b[A\n",
      "\n",
      "Классификация тестовых примеров:  82%|████████▏ | 60/73 [00:04<00:01, 12.91it/s]\u001b[A\u001b[A"
     ]
    },
    {
     "name": "stdout",
     "output_type": "stream",
     "text": [
      "101 96\n",
      "1\n",
      "79 78\n",
      "1\n",
      "95 91\n"
     ]
    },
    {
     "name": "stderr",
     "output_type": "stream",
     "text": [
      "\n",
      "\n",
      "Классификация тестовых примеров:  85%|████████▍ | 62/73 [00:04<00:00, 13.03it/s]\u001b[A\u001b[A\n",
      "\n"
     ]
    },
    {
     "name": "stdout",
     "output_type": "stream",
     "text": [
      "1\n",
      "95 75\n",
      "1\n",
      "59 69\n",
      "1\n",
      "89 76\n",
      "1\n",
      "59 69\n"
     ]
    },
    {
     "name": "stderr",
     "output_type": "stream",
     "text": [
      "Классификация тестовых примеров:  88%|████████▊ | 64/73 [00:04<00:00, 13.47it/s]\u001b[A\u001b[A\n",
      "\n",
      "Классификация тестовых примеров:  90%|█████████ | 66/73 [00:04<00:00, 13.37it/s]\u001b[A\u001b[A\n",
      "\n",
      "Классификация тестовых примеров:  93%|█████████▎| 68/73 [00:05<00:00, 13.49it/s]\u001b[A\u001b[A"
     ]
    },
    {
     "name": "stdout",
     "output_type": "stream",
     "text": [
      "1\n",
      "105 104\n",
      "1\n",
      "97 73\n",
      "1\n",
      "93 70\n",
      "1\n",
      "92 89\n",
      "1\n",
      "74 43\n"
     ]
    },
    {
     "name": "stderr",
     "output_type": "stream",
     "text": [
      "\n",
      "\n",
      "Классификация тестовых примеров:  96%|█████████▌| 70/73 [00:05<00:00, 13.38it/s]\u001b[A\u001b[A\n",
      "\n",
      "Классификация тестовых примеров: 100%|██████████| 73/73 [00:05<00:00, 13.25it/s]\u001b[A\u001b[A"
     ]
    },
    {
     "name": "stdout",
     "output_type": "stream",
     "text": [
      "1\n",
      "88 78\n",
      "1\n",
      "59 60\n",
      "1\n",
      "100 92\n",
      "1\n",
      "86 65\n"
     ]
    },
    {
     "name": "stderr",
     "output_type": "stream",
     "text": [
      "\n",
      "\n",
      "Подбор min_cardinality:  25%|██▌       | 1/4 [00:05<00:16,  5.52s/it]\u001b[A\n",
      "\n",
      "Классификация тестовых примеров:   0%|          | 0/73 [00:00<?, ?it/s]\u001b[A\u001b[A\n",
      "\n",
      "Классификация тестовых примеров:   3%|▎         | 2/73 [00:00<00:04, 14.55it/s]\u001b[A\u001b[A"
     ]
    },
    {
     "name": "stdout",
     "output_type": "stream",
     "text": [
      "2\n",
      "104 92\n",
      "2\n",
      "100 96\n",
      "2\n",
      "104 92\n",
      "2\n",
      "59 60\n"
     ]
    },
    {
     "name": "stderr",
     "output_type": "stream",
     "text": [
      "\n",
      "\n",
      "Классификация тестовых примеров:   5%|▌         | 4/73 [00:00<00:05, 13.76it/s]\u001b[A\u001b[A\n",
      "\n",
      "Классификация тестовых примеров:   8%|▊         | 6/73 [00:00<00:05, 13.26it/s]\u001b[A\u001b[A"
     ]
    },
    {
     "name": "stdout",
     "output_type": "stream",
     "text": [
      "2\n",
      "85 78\n",
      "2\n",
      "101 78\n",
      "2\n",
      "98 92\n",
      "2\n",
      "87 77\n"
     ]
    },
    {
     "name": "stderr",
     "output_type": "stream",
     "text": [
      "\n",
      "\n",
      "Классификация тестовых примеров:  11%|█         | 8/73 [00:00<00:05, 12.96it/s]\u001b[A\u001b[A\n",
      "\n",
      "Классификация тестовых примеров:  14%|█▎        | 10/73 [00:00<00:05, 12.19it/s]\u001b[A\u001b[A"
     ]
    },
    {
     "name": "stdout",
     "output_type": "stream",
     "text": [
      "2\n",
      "91 68\n",
      "2\n",
      "96 84\n",
      "2\n",
      "98 83\n"
     ]
    },
    {
     "name": "stderr",
     "output_type": "stream",
     "text": [
      "\n",
      "\n",
      "Классификация тестовых примеров:  16%|█▋        | 12/73 [00:00<00:04, 12.52it/s]\u001b[A\u001b[A\n",
      "\n",
      "Классификация тестовых примеров:  19%|█▉        | 14/73 [00:01<00:04, 12.37it/s]\u001b[A\u001b[A"
     ]
    },
    {
     "name": "stdout",
     "output_type": "stream",
     "text": [
      "2\n",
      "106 105\n",
      "2\n",
      "74 77\n",
      "2\n",
      "85 81\n"
     ]
    },
    {
     "name": "stderr",
     "output_type": "stream",
     "text": [
      "\n",
      "\n",
      "Классификация тестовых примеров:  22%|██▏       | 16/73 [00:01<00:04, 12.64it/s]\u001b[A\u001b[A"
     ]
    },
    {
     "name": "stdout",
     "output_type": "stream",
     "text": [
      "2\n",
      "74 49\n",
      "2\n",
      "68 72\n",
      "2\n",
      "103 100\n"
     ]
    },
    {
     "name": "stderr",
     "output_type": "stream",
     "text": [
      "\n",
      "\n",
      "Классификация тестовых примеров:  25%|██▍       | 18/73 [00:01<00:04, 12.79it/s]\u001b[A\u001b[A\n",
      "\n",
      "Классификация тестовых примеров:  27%|██▋       | 20/73 [00:01<00:03, 13.46it/s]\u001b[A\u001b[A"
     ]
    },
    {
     "name": "stdout",
     "output_type": "stream",
     "text": [
      "2\n",
      "99 93\n",
      "2\n",
      "95 70\n",
      "2\n",
      "89 70\n",
      "2\n"
     ]
    },
    {
     "name": "stderr",
     "output_type": "stream",
     "text": [
      "\n",
      "\n",
      "Классификация тестовых примеров:  30%|███       | 22/73 [00:01<00:03, 13.40it/s]\u001b[A\u001b[A\n",
      "\n",
      "Классификация тестовых примеров:  33%|███▎      | 24/73 [00:01<00:03, 13.91it/s]\u001b[A\u001b[A"
     ]
    },
    {
     "name": "stdout",
     "output_type": "stream",
     "text": [
      "96 84\n",
      "2\n",
      "59 60\n",
      "2\n",
      "79 79\n",
      "2\n",
      "95 84\n",
      "2\n",
      "75 59\n"
     ]
    },
    {
     "name": "stderr",
     "output_type": "stream",
     "text": [
      "\n",
      "\n",
      "Классификация тестовых примеров:  36%|███▌      | 26/73 [00:01<00:03, 13.66it/s]\u001b[A\u001b[A\n",
      "\n",
      "Классификация тестовых примеров:  38%|███▊      | 28/73 [00:02<00:03, 13.54it/s]\u001b[A\u001b[A"
     ]
    },
    {
     "name": "stdout",
     "output_type": "stream",
     "text": [
      "2\n",
      "105 98\n",
      "2\n",
      "85 78\n",
      "2\n",
      "85 78\n"
     ]
    },
    {
     "name": "stderr",
     "output_type": "stream",
     "text": [
      "\n",
      "\n",
      "Классификация тестовых примеров:  41%|████      | 30/73 [00:02<00:03, 13.07it/s]\u001b[A\u001b[A"
     ]
    },
    {
     "name": "stdout",
     "output_type": "stream",
     "text": [
      "2\n",
      "75 69\n",
      "2\n",
      "54 33\n",
      "2\n",
      "91 88\n",
      "2\n",
      "66 60\n"
     ]
    },
    {
     "name": "stderr",
     "output_type": "stream",
     "text": [
      "\n",
      "\n",
      "Классификация тестовых примеров:  44%|████▍     | 32/73 [00:02<00:03, 13.15it/s]\u001b[A\u001b[A\n",
      "\n",
      "Классификация тестовых примеров:  47%|████▋     | 34/73 [00:02<00:03, 12.77it/s]\u001b[A\u001b[A"
     ]
    },
    {
     "name": "stdout",
     "output_type": "stream",
     "text": [
      "2\n",
      "96 84\n",
      "2\n",
      "104 95\n",
      "2\n",
      "95 94\n",
      "2\n",
      "82 64\n"
     ]
    },
    {
     "name": "stderr",
     "output_type": "stream",
     "text": [
      "\n",
      "\n",
      "Классификация тестовых примеров:  49%|████▉     | 36/73 [00:02<00:02, 12.99it/s]\u001b[A\u001b[A\n",
      "\n",
      "Классификация тестовых примеров:  52%|█████▏    | 38/73 [00:02<00:02, 13.05it/s]\u001b[A\u001b[A\n",
      "\n"
     ]
    },
    {
     "name": "stdout",
     "output_type": "stream",
     "text": [
      "2\n",
      "85 72\n",
      "2\n",
      "89 85\n",
      "2\n",
      "77 83\n",
      "2\n",
      "88 88\n"
     ]
    },
    {
     "name": "stderr",
     "output_type": "stream",
     "text": [
      "Классификация тестовых примеров:  55%|█████▍    | 40/73 [00:03<00:02, 13.13it/s]\u001b[A\u001b[A\n",
      "\n",
      "Классификация тестовых примеров:  58%|█████▊    | 42/73 [00:03<00:02, 13.22it/s]\u001b[A\u001b[A"
     ]
    },
    {
     "name": "stdout",
     "output_type": "stream",
     "text": [
      "2\n",
      "92 67\n",
      "2\n",
      "105 96\n",
      "2\n",
      "89 70\n"
     ]
    },
    {
     "name": "stderr",
     "output_type": "stream",
     "text": [
      "\n",
      "\n",
      "Классификация тестовых примеров:  60%|██████    | 44/73 [00:03<00:02, 12.91it/s]\u001b[A\u001b[A\n",
      "\n",
      "Классификация тестовых примеров:  63%|██████▎   | 46/73 [00:03<00:02, 13.39it/s]\u001b[A\u001b[A\n",
      "\n"
     ]
    },
    {
     "name": "stdout",
     "output_type": "stream",
     "text": [
      "2\n",
      "59 69\n",
      "2\n",
      "92 81\n",
      "2\n",
      "76 36\n",
      "2\n",
      "101 93\n",
      "2\n",
      "71 63\n"
     ]
    },
    {
     "name": "stderr",
     "output_type": "stream",
     "text": [
      "Классификация тестовых примеров:  66%|██████▌   | 48/73 [00:03<00:01, 13.74it/s]\u001b[A\u001b[A\n",
      "\n",
      "Классификация тестовых примеров:  68%|██████▊   | 50/73 [00:03<00:01, 13.73it/s]\u001b[A\u001b[A\n",
      "\n"
     ]
    },
    {
     "name": "stdout",
     "output_type": "stream",
     "text": [
      "2\n",
      "88 78\n",
      "2\n",
      "87 77\n",
      "2\n",
      "96 83\n",
      "2\n",
      "97 79\n"
     ]
    },
    {
     "name": "stderr",
     "output_type": "stream",
     "text": [
      "Классификация тестовых примеров:  71%|███████   | 52/73 [00:03<00:01, 13.62it/s]\u001b[A\u001b[A\n",
      "\n",
      "Классификация тестовых примеров:  74%|███████▍  | 54/73 [00:04<00:01, 13.09it/s]\u001b[A\u001b[A"
     ]
    },
    {
     "name": "stdout",
     "output_type": "stream",
     "text": [
      "2\n",
      "87 79\n",
      "2\n",
      "89 66\n",
      "2\n",
      "84 70\n",
      "2\n",
      "88 73\n"
     ]
    },
    {
     "name": "stderr",
     "output_type": "stream",
     "text": [
      "\n",
      "\n",
      "Классификация тестовых примеров:  77%|███████▋  | 56/73 [00:04<00:01, 13.14it/s]\u001b[A\u001b[A\n",
      "\n",
      "Классификация тестовых примеров:  79%|███████▉  | 58/73 [00:04<00:01, 13.20it/s]\u001b[A\u001b[A"
     ]
    },
    {
     "name": "stdout",
     "output_type": "stream",
     "text": [
      "2\n",
      "94 86\n",
      "2\n",
      "101 96\n",
      "2\n",
      "79 78\n"
     ]
    },
    {
     "name": "stderr",
     "output_type": "stream",
     "text": [
      "\n",
      "\n",
      "Классификация тестовых примеров:  82%|████████▏ | 60/73 [00:04<00:01, 12.38it/s]\u001b[A\u001b[A\n",
      "\n",
      "Классификация тестовых примеров:  85%|████████▍ | 62/73 [00:04<00:00, 12.73it/s]\u001b[A\u001b[A"
     ]
    },
    {
     "name": "stdout",
     "output_type": "stream",
     "text": [
      "2\n",
      "95 91\n",
      "2\n",
      "95 75\n",
      "2\n",
      "59 69\n"
     ]
    },
    {
     "name": "stderr",
     "output_type": "stream",
     "text": [
      "\n",
      "\n",
      "Классификация тестовых примеров:  88%|████████▊ | 64/73 [00:04<00:00, 12.47it/s]\u001b[A\u001b[A"
     ]
    },
    {
     "name": "stdout",
     "output_type": "stream",
     "text": [
      "2\n",
      "89 76\n",
      "2\n",
      "59 69\n",
      "2\n",
      "105 104\n",
      "2\n",
      "97 73\n"
     ]
    },
    {
     "name": "stderr",
     "output_type": "stream",
     "text": [
      "\n",
      "\n",
      "Классификация тестовых примеров:  90%|█████████ | 66/73 [00:05<00:00, 12.35it/s]\u001b[A\u001b[A\n",
      "\n",
      "Классификация тестовых примеров:  93%|█████████▎| 68/73 [00:05<00:00, 11.88it/s]\u001b[A\u001b[A"
     ]
    },
    {
     "name": "stdout",
     "output_type": "stream",
     "text": [
      "2\n",
      "93 70\n",
      "2\n",
      "92 89\n",
      "2\n",
      "74 43\n"
     ]
    },
    {
     "name": "stderr",
     "output_type": "stream",
     "text": [
      "\n",
      "\n",
      "Классификация тестовых примеров:  96%|█████████▌| 70/73 [00:05<00:00, 12.19it/s]\u001b[A\u001b[A\n",
      "\n"
     ]
    },
    {
     "name": "stdout",
     "output_type": "stream",
     "text": [
      "2\n",
      "88 78\n",
      "2\n",
      "59 60\n",
      "2\n",
      "100 92\n"
     ]
    },
    {
     "name": "stderr",
     "output_type": "stream",
     "text": [
      "Классификация тестовых примеров: 100%|██████████| 73/73 [00:05<00:00, 12.82it/s]\u001b[A\u001b[A\n",
      "\n",
      "Подбор min_cardinality:  50%|█████     | 2/4 [00:11<00:11,  5.63s/it]\u001b[A"
     ]
    },
    {
     "name": "stdout",
     "output_type": "stream",
     "text": [
      "2\n",
      "86 65\n"
     ]
    },
    {
     "name": "stderr",
     "output_type": "stream",
     "text": [
      "\n",
      "\n",
      "Классификация тестовых примеров:   0%|          | 0/73 [00:00<?, ?it/s]\u001b[A\u001b[A\n",
      "\n"
     ]
    },
    {
     "name": "stdout",
     "output_type": "stream",
     "text": [
      "3\n",
      "104 92\n",
      "3\n",
      "100 96\n"
     ]
    },
    {
     "name": "stderr",
     "output_type": "stream",
     "text": [
      "Классификация тестовых примеров:   3%|▎         | 2/73 [00:00<00:06, 11.35it/s]\u001b[A\u001b[A"
     ]
    },
    {
     "name": "stdout",
     "output_type": "stream",
     "text": [
      "3\n",
      "104 92\n",
      "3\n",
      "59 60\n"
     ]
    },
    {
     "name": "stderr",
     "output_type": "stream",
     "text": [
      "\n",
      "\n",
      "Классификация тестовых примеров:   5%|▌         | 4/73 [00:00<00:05, 12.19it/s]\u001b[A\u001b[A\n",
      "\n"
     ]
    },
    {
     "name": "stdout",
     "output_type": "stream",
     "text": [
      "3\n",
      "85 78\n",
      "3\n",
      "101 78\n"
     ]
    },
    {
     "name": "stderr",
     "output_type": "stream",
     "text": [
      "Классификация тестовых примеров:   8%|▊         | 6/73 [00:00<00:05, 12.64it/s]\u001b[A\u001b[A"
     ]
    },
    {
     "name": "stdout",
     "output_type": "stream",
     "text": [
      "3\n",
      "98 92\n",
      "3\n",
      "87 77\n"
     ]
    },
    {
     "name": "stderr",
     "output_type": "stream",
     "text": [
      "\n",
      "\n",
      "Классификация тестовых примеров:  11%|█         | 8/73 [00:00<00:05, 12.84it/s]\u001b[A\u001b[A"
     ]
    },
    {
     "name": "stdout",
     "output_type": "stream",
     "text": [
      "3\n",
      "91 68\n",
      "3\n"
     ]
    },
    {
     "name": "stderr",
     "output_type": "stream",
     "text": [
      "\n",
      "\n",
      "Классификация тестовых примеров:  14%|█▎        | 10/73 [00:00<00:04, 13.00it/s]\u001b[A\u001b[A\n",
      "\n",
      "Классификация тестовых примеров:  16%|█▋        | 12/73 [00:00<00:04, 13.60it/s]\u001b[A\u001b[A"
     ]
    },
    {
     "name": "stdout",
     "output_type": "stream",
     "text": [
      "96 84\n",
      "3\n",
      "98 83\n",
      "3\n",
      "106 105\n"
     ]
    },
    {
     "name": "stderr",
     "output_type": "stream",
     "text": [
      "\n",
      "\n",
      "Классификация тестовых примеров:  19%|█▉        | 14/73 [00:01<00:04, 13.35it/s]\u001b[A\u001b[A"
     ]
    },
    {
     "name": "stdout",
     "output_type": "stream",
     "text": [
      "3\n",
      "74 77\n",
      "3\n",
      "85 81\n",
      "3\n",
      "74 49\n",
      "3\n",
      "68 72\n"
     ]
    },
    {
     "name": "stderr",
     "output_type": "stream",
     "text": [
      "\n",
      "\n",
      "Классификация тестовых примеров:  22%|██▏       | 16/73 [00:01<00:04, 13.58it/s]\u001b[A\u001b[A\n",
      "\n",
      "Классификация тестовых примеров:  25%|██▍       | 18/73 [00:01<00:04, 13.09it/s]\u001b[A\u001b[A"
     ]
    },
    {
     "name": "stdout",
     "output_type": "stream",
     "text": [
      "3\n",
      "103 100\n",
      "3\n",
      "99 93\n",
      "3\n",
      "95 70\n",
      "3\n",
      "89 70\n"
     ]
    },
    {
     "name": "stderr",
     "output_type": "stream",
     "text": [
      "\n",
      "\n",
      "Классификация тестовых примеров:  27%|██▋       | 20/73 [00:01<00:04, 13.14it/s]\u001b[A\u001b[A\n",
      "\n",
      "Классификация тестовых примеров:  30%|███       | 22/73 [00:01<00:03, 13.69it/s]\u001b[A\u001b[A"
     ]
    },
    {
     "name": "stdout",
     "output_type": "stream",
     "text": [
      "3\n",
      "96 84\n",
      "3\n",
      "59 60\n",
      "3\n",
      "79 79\n"
     ]
    },
    {
     "name": "stderr",
     "output_type": "stream",
     "text": [
      "\n",
      "\n",
      "Классификация тестовых примеров:  33%|███▎      | 24/73 [00:01<00:03, 13.55it/s]\u001b[A\u001b[A\n",
      "\n",
      "Классификация тестовых примеров:  36%|███▌      | 26/73 [00:01<00:03, 13.11it/s]\u001b[A\u001b[A"
     ]
    },
    {
     "name": "stdout",
     "output_type": "stream",
     "text": [
      "3\n",
      "95 84\n",
      "3\n",
      "75 59\n",
      "3\n",
      "105 98\n"
     ]
    },
    {
     "name": "stderr",
     "output_type": "stream",
     "text": [
      "\n",
      "\n",
      "Классификация тестовых примеров:  38%|███▊      | 28/73 [00:02<00:03, 12.92it/s]\u001b[A\u001b[A\n",
      "\n",
      "Классификация тестовых примеров:  41%|████      | 30/73 [00:02<00:03, 13.23it/s]\u001b[A\u001b[A"
     ]
    },
    {
     "name": "stdout",
     "output_type": "stream",
     "text": [
      "3\n",
      "85 78\n",
      "3\n",
      "85 78\n",
      "3\n",
      "75 69\n",
      "3\n",
      "54 33\n"
     ]
    },
    {
     "name": "stderr",
     "output_type": "stream",
     "text": [
      "\n",
      "\n",
      "Классификация тестовых примеров:  44%|████▍     | 32/73 [00:02<00:03, 13.24it/s]\u001b[A\u001b[A\n",
      "\n",
      "Классификация тестовых примеров:  47%|████▋     | 34/73 [00:02<00:02, 13.29it/s]\u001b[A\u001b[A"
     ]
    },
    {
     "name": "stdout",
     "output_type": "stream",
     "text": [
      "3\n",
      "91 88\n",
      "3\n",
      "66 60\n",
      "3\n",
      "96 84\n",
      "3\n",
      "104 95\n"
     ]
    },
    {
     "name": "stderr",
     "output_type": "stream",
     "text": [
      "\n",
      "\n",
      "Классификация тестовых примеров:  49%|████▉     | 36/73 [00:02<00:02, 13.31it/s]\u001b[A\u001b[A\n",
      "\n",
      "Классификация тестовых примеров:  52%|█████▏    | 38/73 [00:02<00:02, 13.34it/s]\u001b[A\u001b[A"
     ]
    },
    {
     "name": "stdout",
     "output_type": "stream",
     "text": [
      "3\n",
      "95 94\n",
      "3\n",
      "82 64\n",
      "3\n",
      "85 72\n",
      "3\n",
      "89 85\n"
     ]
    },
    {
     "name": "stderr",
     "output_type": "stream",
     "text": [
      "\n",
      "\n",
      "Классификация тестовых примеров:  55%|█████▍    | 40/73 [00:03<00:02, 13.30it/s]\u001b[A\u001b[A\n",
      "\n"
     ]
    },
    {
     "name": "stdout",
     "output_type": "stream",
     "text": [
      "3\n",
      "77 83\n",
      "3\n",
      "88 88\n",
      "3\n",
      "92 67\n",
      "3\n",
      "105 96\n"
     ]
    },
    {
     "name": "stderr",
     "output_type": "stream",
     "text": [
      "Классификация тестовых примеров:  58%|█████▊    | 42/73 [00:03<00:02, 13.71it/s]\u001b[A\u001b[A\n",
      "\n",
      "Классификация тестовых примеров:  60%|██████    | 44/73 [00:03<00:02, 13.64it/s]\u001b[A\u001b[A"
     ]
    },
    {
     "name": "stdout",
     "output_type": "stream",
     "text": [
      "3\n",
      "89 70\n",
      "3\n",
      "59 69\n",
      "3\n",
      "92 81\n"
     ]
    },
    {
     "name": "stderr",
     "output_type": "stream",
     "text": [
      "\n",
      "\n",
      "Классификация тестовых примеров:  63%|██████▎   | 46/73 [00:03<00:02, 13.49it/s]\u001b[A\u001b[A\n",
      "\n",
      "Классификация тестовых примеров:  66%|██████▌   | 48/73 [00:03<00:01, 13.50it/s]\u001b[A\u001b[A"
     ]
    },
    {
     "name": "stdout",
     "output_type": "stream",
     "text": [
      "3\n",
      "76 36\n",
      "3\n",
      "101 93\n",
      "3\n",
      "71 63\n"
     ]
    },
    {
     "name": "stderr",
     "output_type": "stream",
     "text": [
      "\n",
      "\n",
      "Классификация тестовых примеров:  68%|██████▊   | 50/73 [00:03<00:01, 13.47it/s]\u001b[A\u001b[A"
     ]
    },
    {
     "name": "stdout",
     "output_type": "stream",
     "text": [
      "3\n",
      "88 78\n",
      "3\n",
      "87 77\n",
      "3\n",
      "96 83\n",
      "3\n",
      "97 79\n"
     ]
    },
    {
     "name": "stderr",
     "output_type": "stream",
     "text": [
      "\n",
      "\n",
      "Классификация тестовых примеров:  71%|███████   | 52/73 [00:03<00:01, 13.39it/s]\u001b[A\u001b[A\n",
      "\n",
      "Классификация тестовых примеров:  74%|███████▍  | 54/73 [00:04<00:01, 13.02it/s]\u001b[A\u001b[A"
     ]
    },
    {
     "name": "stdout",
     "output_type": "stream",
     "text": [
      "3\n",
      "87 79\n",
      "3\n",
      "89 66\n",
      "3\n",
      "84 70\n"
     ]
    },
    {
     "name": "stderr",
     "output_type": "stream",
     "text": [
      "\n",
      "\n",
      "Классификация тестовых примеров:  77%|███████▋  | 56/73 [00:04<00:01, 13.03it/s]\u001b[A\u001b[A\n",
      "\n",
      "Классификация тестовых примеров:  79%|███████▉  | 58/73 [00:04<00:01, 13.18it/s]\u001b[A\u001b[A"
     ]
    },
    {
     "name": "stdout",
     "output_type": "stream",
     "text": [
      "3\n",
      "88 73\n",
      "3\n",
      "94 86\n",
      "3\n",
      "101 96\n"
     ]
    },
    {
     "name": "stderr",
     "output_type": "stream",
     "text": [
      "\n",
      "\n",
      "Классификация тестовых примеров:  82%|████████▏ | 60/73 [00:04<00:01, 12.75it/s]\u001b[A\u001b[A"
     ]
    },
    {
     "name": "stdout",
     "output_type": "stream",
     "text": [
      "3\n",
      "79 78\n",
      "3\n",
      "95 91\n",
      "3\n",
      "95 75\n",
      "3\n",
      "59 69\n"
     ]
    },
    {
     "name": "stderr",
     "output_type": "stream",
     "text": [
      "\n",
      "\n",
      "Классификация тестовых примеров:  85%|████████▍ | 62/73 [00:04<00:00, 12.97it/s]\u001b[A\u001b[A\n",
      "\n",
      "Классификация тестовых примеров:  88%|████████▊ | 64/73 [00:04<00:00, 13.08it/s]\u001b[A\u001b[A"
     ]
    },
    {
     "name": "stdout",
     "output_type": "stream",
     "text": [
      "3\n",
      "89 76\n",
      "3\n",
      "59 69\n",
      "3\n",
      "105 104\n",
      "3\n",
      "97 73\n"
     ]
    },
    {
     "name": "stderr",
     "output_type": "stream",
     "text": [
      "\n",
      "\n",
      "Классификация тестовых примеров:  90%|█████████ | 66/73 [00:04<00:00, 13.16it/s]\u001b[A\u001b[A\n",
      "\n",
      "Классификация тестовых примеров:  93%|█████████▎| 68/73 [00:05<00:00, 13.66it/s]\u001b[A\u001b[A"
     ]
    },
    {
     "name": "stdout",
     "output_type": "stream",
     "text": [
      "3\n",
      "93 70\n",
      "3\n",
      "92 89\n",
      "3\n",
      "74 43\n",
      "3\n",
      "88 78\n"
     ]
    },
    {
     "name": "stderr",
     "output_type": "stream",
     "text": [
      "\n",
      "\n",
      "Классификация тестовых примеров:  96%|█████████▌| 70/73 [00:05<00:00, 13.54it/s]\u001b[A\u001b[A\n",
      "\n",
      "Классификация тестовых примеров: 100%|██████████| 73/73 [00:05<00:00, 13.28it/s]\u001b[A\u001b[A\n",
      "\n",
      "Подбор min_cardinality:  75%|███████▌  | 3/4 [00:16<00:05,  5.57s/it]\u001b[A"
     ]
    },
    {
     "name": "stdout",
     "output_type": "stream",
     "text": [
      "3\n",
      "59 60\n",
      "3\n",
      "100 92\n",
      "3\n",
      "86 65\n"
     ]
    },
    {
     "name": "stderr",
     "output_type": "stream",
     "text": [
      "\n",
      "\n",
      "Классификация тестовых примеров:   0%|          | 0/73 [00:00<?, ?it/s]\u001b[A\u001b[A\n",
      "\n",
      "Классификация тестовых примеров:   3%|▎         | 2/73 [00:00<00:05, 12.29it/s]\u001b[A\u001b[A"
     ]
    },
    {
     "name": "stdout",
     "output_type": "stream",
     "text": [
      "4\n",
      "104 92\n",
      "4\n",
      "100 96\n",
      "4\n",
      "104 92\n"
     ]
    },
    {
     "name": "stderr",
     "output_type": "stream",
     "text": [
      "\n",
      "\n",
      "Классификация тестовых примеров:   5%|▌         | 4/73 [00:00<00:05, 11.82it/s]\u001b[A\u001b[A\n",
      "\n",
      "Классификация тестовых примеров:   8%|▊         | 6/73 [00:00<00:05, 12.61it/s]\u001b[A\u001b[A"
     ]
    },
    {
     "name": "stdout",
     "output_type": "stream",
     "text": [
      "4\n",
      "59 60\n",
      "4\n",
      "85 78\n",
      "4\n",
      "101 78\n"
     ]
    },
    {
     "name": "stderr",
     "output_type": "stream",
     "text": [
      "\n",
      "\n",
      "Классификация тестовых примеров:  11%|█         | 8/73 [00:00<00:05, 11.88it/s]\u001b[A\u001b[A\n",
      "\n",
      "Классификация тестовых примеров:  14%|█▎        | 10/73 [00:00<00:05, 12.37it/s]\u001b[A\u001b[A"
     ]
    },
    {
     "name": "stdout",
     "output_type": "stream",
     "text": [
      "4\n",
      "98 92\n",
      "4\n",
      "87 77\n",
      "4\n",
      "91 68\n",
      "4\n",
      "96 84\n"
     ]
    },
    {
     "name": "stderr",
     "output_type": "stream",
     "text": [
      "\n",
      "\n",
      "Классификация тестовых примеров:  16%|█▋        | 12/73 [00:00<00:04, 12.24it/s]\u001b[A\u001b[A"
     ]
    },
    {
     "name": "stdout",
     "output_type": "stream",
     "text": [
      "4\n",
      "98 83\n",
      "4\n",
      "106 105\n",
      "4\n",
      "74 77\n"
     ]
    },
    {
     "name": "stderr",
     "output_type": "stream",
     "text": [
      "\n",
      "\n",
      "Классификация тестовых примеров:  19%|█▉        | 14/73 [00:01<00:04, 12.55it/s]\u001b[A\u001b[A\n",
      "\n",
      "Классификация тестовых примеров:  22%|██▏       | 16/73 [00:01<00:04, 12.77it/s]\u001b[A\u001b[A"
     ]
    },
    {
     "name": "stdout",
     "output_type": "stream",
     "text": [
      "4\n",
      "85 81\n",
      "4\n",
      "74 49\n",
      "4\n",
      "68 72\n"
     ]
    },
    {
     "name": "stderr",
     "output_type": "stream",
     "text": [
      "\n",
      "\n",
      "Классификация тестовых примеров:  25%|██▍       | 18/73 [00:01<00:04, 12.97it/s]\u001b[A\u001b[A"
     ]
    },
    {
     "name": "stdout",
     "output_type": "stream",
     "text": [
      "4\n",
      "103 100\n",
      "4\n",
      "99 93\n",
      "4\n",
      "95 70\n",
      "4\n",
      "89 70\n"
     ]
    },
    {
     "name": "stderr",
     "output_type": "stream",
     "text": [
      "\n",
      "\n",
      "Классификация тестовых примеров:  27%|██▋       | 20/73 [00:01<00:04, 13.11it/s]\u001b[A\u001b[A\n",
      "\n",
      "Классификация тестовых примеров:  30%|███       | 22/73 [00:01<00:03, 13.15it/s]\u001b[A\u001b[A"
     ]
    },
    {
     "name": "stdout",
     "output_type": "stream",
     "text": [
      "4\n",
      "96 84\n",
      "4\n",
      "59 60\n",
      "4\n",
      "79 79\n",
      "4\n"
     ]
    },
    {
     "name": "stderr",
     "output_type": "stream",
     "text": [
      "\n",
      "\n",
      "Классификация тестовых примеров:  33%|███▎      | 24/73 [00:01<00:03, 13.21it/s]\u001b[A\u001b[A\n",
      "\n",
      "Классификация тестовых примеров:  36%|███▌      | 26/73 [00:02<00:03, 13.70it/s]\u001b[A\u001b[A"
     ]
    },
    {
     "name": "stdout",
     "output_type": "stream",
     "text": [
      "95 84\n",
      "4\n",
      "75 59\n",
      "4\n",
      "105 98\n"
     ]
    },
    {
     "name": "stderr",
     "output_type": "stream",
     "text": [
      "\n",
      "\n",
      "Классификация тестовых примеров:  38%|███▊      | 28/73 [00:02<00:03, 13.51it/s]\u001b[A\u001b[A"
     ]
    },
    {
     "name": "stdout",
     "output_type": "stream",
     "text": [
      "4\n",
      "85 78\n",
      "4\n",
      "85 78\n",
      "4\n",
      "75 69\n"
     ]
    },
    {
     "name": "stderr",
     "output_type": "stream",
     "text": [
      "\n",
      "\n",
      "Классификация тестовых примеров:  41%|████      | 30/73 [00:02<00:03, 13.50it/s]\u001b[A\u001b[A\n",
      "\n",
      "Классификация тестовых примеров:  44%|████▍     | 32/73 [00:02<00:03, 13.52it/s]\u001b[A\u001b[A"
     ]
    },
    {
     "name": "stdout",
     "output_type": "stream",
     "text": [
      "4\n",
      "54 33\n",
      "4\n",
      "91 88\n",
      "4\n",
      "66 60\n",
      "4\n"
     ]
    },
    {
     "name": "stderr",
     "output_type": "stream",
     "text": [
      "\n",
      "\n",
      "Классификация тестовых примеров:  47%|████▋     | 34/73 [00:02<00:02, 13.03it/s]\u001b[A\u001b[A\n",
      "\n",
      "Классификация тестовых примеров:  49%|████▉     | 36/73 [00:02<00:02, 13.14it/s]\u001b[A\u001b[A"
     ]
    },
    {
     "name": "stdout",
     "output_type": "stream",
     "text": [
      "96 84\n",
      "4\n",
      "104 95\n",
      "4\n",
      "95 94\n",
      "4\n",
      "82 64\n"
     ]
    },
    {
     "name": "stderr",
     "output_type": "stream",
     "text": [
      "\n",
      "\n",
      "Классификация тестовых примеров:  52%|█████▏    | 38/73 [00:02<00:02, 13.17it/s]\u001b[A\u001b[A"
     ]
    },
    {
     "name": "stdout",
     "output_type": "stream",
     "text": [
      "4\n",
      "85 72\n",
      "4\n",
      "89 85\n",
      "4\n",
      "77 83\n",
      "4\n",
      "88 88\n"
     ]
    },
    {
     "name": "stderr",
     "output_type": "stream",
     "text": [
      "\n",
      "\n",
      "Классификация тестовых примеров:  55%|█████▍    | 40/73 [00:03<00:02, 12.80it/s]\u001b[A\u001b[A\n",
      "\n",
      "Классификация тестовых примеров:  58%|█████▊    | 42/73 [00:03<00:02, 12.93it/s]\u001b[A\u001b[A"
     ]
    },
    {
     "name": "stdout",
     "output_type": "stream",
     "text": [
      "4\n",
      "92 67\n",
      "4\n",
      "105 96\n",
      "4\n",
      "89 70\n",
      "4\n",
      "59 69\n"
     ]
    },
    {
     "name": "stderr",
     "output_type": "stream",
     "text": [
      "\n",
      "\n",
      "Классификация тестовых примеров:  60%|██████    | 44/73 [00:03<00:02, 13.08it/s]\u001b[A\u001b[A\n",
      "\n",
      "Классификация тестовых примеров:  63%|██████▎   | 46/73 [00:03<00:02, 13.14it/s]\u001b[A\u001b[A"
     ]
    },
    {
     "name": "stdout",
     "output_type": "stream",
     "text": [
      "4\n",
      "92 81\n",
      "4\n",
      "76 36\n",
      "4\n",
      "101 93\n"
     ]
    },
    {
     "name": "stderr",
     "output_type": "stream",
     "text": [
      "\n",
      "\n",
      "Классификация тестовых примеров:  66%|██████▌   | 48/73 [00:03<00:01, 12.79it/s]\u001b[A\u001b[A\n",
      "\n",
      "Классификация тестовых примеров:  68%|██████▊   | 50/73 [00:03<00:01, 12.97it/s]\u001b[A\u001b[A"
     ]
    },
    {
     "name": "stdout",
     "output_type": "stream",
     "text": [
      "4\n",
      "71 63\n",
      "4\n",
      "88 78\n",
      "4\n",
      "87 77\n"
     ]
    },
    {
     "name": "stderr",
     "output_type": "stream",
     "text": [
      "\n",
      "\n",
      "Классификация тестовых примеров:  71%|███████   | 52/73 [00:03<00:01, 13.44it/s]\u001b[A\u001b[A"
     ]
    },
    {
     "name": "stdout",
     "output_type": "stream",
     "text": [
      "4\n",
      "96 83\n",
      "4\n",
      "97 79\n",
      "4\n",
      "87 79\n"
     ]
    },
    {
     "name": "stderr",
     "output_type": "stream",
     "text": [
      "\n",
      "\n",
      "Классификация тестовых примеров:  74%|███████▍  | 54/73 [00:04<00:01, 13.38it/s]\u001b[A\u001b[A\n",
      "\n",
      "Классификация тестовых примеров:  77%|███████▋  | 56/73 [00:04<00:01, 13.45it/s]\u001b[A\u001b[A"
     ]
    },
    {
     "name": "stdout",
     "output_type": "stream",
     "text": [
      "4\n",
      "89 66\n",
      "4\n",
      "84 70\n",
      "4\n",
      "88 73\n"
     ]
    },
    {
     "name": "stderr",
     "output_type": "stream",
     "text": [
      "\n",
      "\n",
      "Классификация тестовых примеров:  79%|███████▉  | 58/73 [00:04<00:01, 13.26it/s]\u001b[A\u001b[A\n",
      "\n",
      "Классификация тестовых примеров:  82%|████████▏ | 60/73 [00:04<00:00, 13.32it/s]\u001b[A\u001b[A"
     ]
    },
    {
     "name": "stdout",
     "output_type": "stream",
     "text": [
      "4\n",
      "94 86\n",
      "4\n",
      "101 96\n",
      "4\n",
      "79 78\n",
      "4\n",
      "95 91\n"
     ]
    },
    {
     "name": "stderr",
     "output_type": "stream",
     "text": [
      "\n",
      "\n",
      "Классификация тестовых примеров:  85%|████████▍ | 62/73 [00:04<00:00, 13.45it/s]\u001b[A\u001b[A\n",
      "\n",
      "Классификация тестовых примеров:  88%|████████▊ | 64/73 [00:04<00:00, 13.41it/s]\u001b[A\u001b[A"
     ]
    },
    {
     "name": "stdout",
     "output_type": "stream",
     "text": [
      "4\n",
      "95 75\n",
      "4\n",
      "59 69\n",
      "4\n",
      "89 76\n",
      "4\n",
      "59 69\n"
     ]
    },
    {
     "name": "stderr",
     "output_type": "stream",
     "text": [
      "\n",
      "\n",
      "Классификация тестовых примеров:  90%|█████████ | 66/73 [00:05<00:00, 13.39it/s]\u001b[A\u001b[A\n",
      "\n",
      "Классификация тестовых примеров:  93%|█████████▎| 68/73 [00:05<00:00, 13.37it/s]\u001b[A\u001b[A"
     ]
    },
    {
     "name": "stdout",
     "output_type": "stream",
     "text": [
      "4\n",
      "105 104\n",
      "4\n",
      "97 73\n",
      "4\n",
      "93 70\n",
      "4\n",
      "92 89\n"
     ]
    },
    {
     "name": "stderr",
     "output_type": "stream",
     "text": [
      "\n",
      "\n",
      "Классификация тестовых примеров:  96%|█████████▌| 70/73 [00:05<00:00, 12.86it/s]\u001b[A\u001b[A\n",
      "\n",
      "Классификация тестовых примеров: 100%|██████████| 73/73 [00:05<00:00, 13.07it/s]\u001b[A\u001b[A"
     ]
    },
    {
     "name": "stdout",
     "output_type": "stream",
     "text": [
      "4\n",
      "74 43\n",
      "4\n",
      "88 78\n",
      "4\n",
      "59 60\n",
      "4\n",
      "100 92\n",
      "4\n",
      "86 65\n"
     ]
    },
    {
     "name": "stderr",
     "output_type": "stream",
     "text": [
      "\n",
      "\n",
      "Подбор min_cardinality: 100%|██████████| 4/4 [00:22<00:00,  5.59s/it]\u001b[A\n",
      "Подбор max_counter_examples:  56%|█████▌    | 5/9 [01:57<01:32, 23.01s/it]\n",
      "Подбор min_cardinality:   0%|          | 0/4 [00:00<?, ?it/s]\u001b[A\n",
      "\n",
      "Классификация тестовых примеров:   0%|          | 0/73 [00:00<?, ?it/s]\u001b[A\u001b[A\n",
      "\n",
      "Классификация тестовых примеров:   3%|▎         | 2/73 [00:00<00:05, 12.81it/s]\u001b[A\u001b[A\n",
      "\n"
     ]
    },
    {
     "name": "stdout",
     "output_type": "stream",
     "text": [
      "1\n",
      "104 92\n",
      "1\n",
      "100 96\n",
      "1\n",
      "104 92\n",
      "1\n",
      "59 60\n"
     ]
    },
    {
     "name": "stderr",
     "output_type": "stream",
     "text": [
      "Классификация тестовых примеров:   5%|▌         | 4/73 [00:00<00:05, 13.18it/s]\u001b[A\u001b[A\n",
      "\n",
      "Классификация тестовых примеров:   8%|▊         | 6/73 [00:00<00:05, 13.17it/s]\u001b[A\u001b[A"
     ]
    },
    {
     "name": "stdout",
     "output_type": "stream",
     "text": [
      "1\n",
      "85 78\n",
      "1\n",
      "101 78\n",
      "1\n",
      "98 92\n"
     ]
    },
    {
     "name": "stderr",
     "output_type": "stream",
     "text": [
      "\n",
      "\n",
      "Классификация тестовых примеров:  11%|█         | 8/73 [00:00<00:04, 13.30it/s]\u001b[A\u001b[A\n",
      "\n",
      "Классификация тестовых примеров:  14%|█▎        | 10/73 [00:00<00:04, 13.75it/s]\u001b[A\u001b[A"
     ]
    },
    {
     "name": "stdout",
     "output_type": "stream",
     "text": [
      "1\n",
      "87 77\n",
      "1\n",
      "91 68\n",
      "1\n",
      "96 84\n"
     ]
    },
    {
     "name": "stderr",
     "output_type": "stream",
     "text": [
      "\n",
      "\n",
      "Классификация тестовых примеров:  16%|█▋        | 12/73 [00:00<00:04, 13.21it/s]\u001b[A\u001b[A\n",
      "\n"
     ]
    },
    {
     "name": "stdout",
     "output_type": "stream",
     "text": [
      "1\n",
      "98 83\n",
      "1\n",
      "106 105\n",
      "1\n",
      "74 77\n",
      "1\n",
      "85 81\n"
     ]
    },
    {
     "name": "stderr",
     "output_type": "stream",
     "text": [
      "Классификация тестовых примеров:  19%|█▉        | 14/73 [00:01<00:04, 13.69it/s]\u001b[A\u001b[A\n",
      "\n",
      "Классификация тестовых примеров:  22%|██▏       | 16/73 [00:01<00:04, 13.54it/s]\u001b[A\u001b[A"
     ]
    },
    {
     "name": "stdout",
     "output_type": "stream",
     "text": [
      "1\n",
      "74 49\n",
      "1\n",
      "68 72\n",
      "1\n",
      "103 100\n"
     ]
    },
    {
     "name": "stderr",
     "output_type": "stream",
     "text": [
      "\n",
      "\n",
      "Классификация тестовых примеров:  25%|██▍       | 18/73 [00:01<00:04, 13.56it/s]\u001b[A\u001b[A\n",
      "\n",
      "Классификация тестовых примеров:  27%|██▋       | 20/73 [00:01<00:03, 13.44it/s]\u001b[A\u001b[A"
     ]
    },
    {
     "name": "stdout",
     "output_type": "stream",
     "text": [
      "1\n",
      "99 93\n",
      "1\n",
      "95 70\n",
      "1\n",
      "89 70\n",
      "1\n",
      "96 84\n"
     ]
    },
    {
     "name": "stderr",
     "output_type": "stream",
     "text": [
      "\n",
      "\n",
      "Классификация тестовых примеров:  30%|███       | 22/73 [00:01<00:03, 13.34it/s]\u001b[A\u001b[A\n",
      "\n",
      "Классификация тестовых примеров:  33%|███▎      | 24/73 [00:01<00:03, 13.00it/s]\u001b[A\u001b[A"
     ]
    },
    {
     "name": "stdout",
     "output_type": "stream",
     "text": [
      "1\n",
      "59 60\n",
      "1\n",
      "79 79\n",
      "1\n",
      "95 84\n",
      "1\n",
      "75 59\n"
     ]
    },
    {
     "name": "stderr",
     "output_type": "stream",
     "text": [
      "\n",
      "\n",
      "Классификация тестовых примеров:  36%|███▌      | 26/73 [00:01<00:03, 12.94it/s]\u001b[A\u001b[A\n",
      "\n",
      "Классификация тестовых примеров:  38%|███▊      | 28/73 [00:02<00:03, 13.22it/s]\u001b[A\u001b[A"
     ]
    },
    {
     "name": "stdout",
     "output_type": "stream",
     "text": [
      "1\n",
      "105 98\n",
      "1\n",
      "85 78\n",
      "1\n",
      "85 78\n"
     ]
    },
    {
     "name": "stderr",
     "output_type": "stream",
     "text": [
      "\n",
      "\n",
      "Классификация тестовых примеров:  41%|████      | 30/73 [00:02<00:03, 12.99it/s]\u001b[A\u001b[A\n",
      "\n",
      "Классификация тестовых примеров:  44%|████▍     | 32/73 [00:02<00:03, 13.38it/s]\u001b[A\u001b[A"
     ]
    },
    {
     "name": "stdout",
     "output_type": "stream",
     "text": [
      "1\n",
      "75 69\n",
      "1\n",
      "54 33\n",
      "1\n",
      "91 88\n",
      "1\n",
      "66 60\n"
     ]
    },
    {
     "name": "stderr",
     "output_type": "stream",
     "text": [
      "\n",
      "\n",
      "Классификация тестовых примеров:  47%|████▋     | 34/73 [00:02<00:02, 13.77it/s]\u001b[A\u001b[A\n",
      "\n",
      "Классификация тестовых примеров:  49%|████▉     | 36/73 [00:02<00:02, 13.61it/s]\u001b[A\u001b[A"
     ]
    },
    {
     "name": "stdout",
     "output_type": "stream",
     "text": [
      "1\n",
      "96 84\n",
      "1\n",
      "104 95\n",
      "1\n",
      "95 94\n",
      "1\n",
      "82 64\n",
      "1\n",
      "85 72\n"
     ]
    },
    {
     "name": "stderr",
     "output_type": "stream",
     "text": [
      "\n",
      "\n",
      "Классификация тестовых примеров:  52%|█████▏    | 38/73 [00:02<00:02, 13.97it/s]\u001b[A\u001b[A\n",
      "\n",
      "Классификация тестовых примеров:  55%|█████▍    | 40/73 [00:02<00:02, 13.44it/s]\u001b[A\u001b[A"
     ]
    },
    {
     "name": "stdout",
     "output_type": "stream",
     "text": [
      "1\n",
      "89 85\n",
      "1\n",
      "77 83\n",
      "1\n",
      "88 88\n"
     ]
    },
    {
     "name": "stderr",
     "output_type": "stream",
     "text": [
      "\n",
      "\n",
      "Классификация тестовых примеров:  58%|█████▊    | 42/73 [00:03<00:02, 12.86it/s]\u001b[A\u001b[A\n",
      "\n",
      "Классификация тестовых примеров:  60%|██████    | 44/73 [00:03<00:02, 13.08it/s]\u001b[A\u001b[A"
     ]
    },
    {
     "name": "stdout",
     "output_type": "stream",
     "text": [
      "1\n",
      "92 67\n",
      "1\n",
      "105 96\n",
      "1\n",
      "89 70\n",
      "1\n",
      "59 69\n"
     ]
    },
    {
     "name": "stderr",
     "output_type": "stream",
     "text": [
      "\n",
      "\n",
      "Классификация тестовых примеров:  63%|██████▎   | 46/73 [00:03<00:02, 12.66it/s]\u001b[A\u001b[A"
     ]
    },
    {
     "name": "stdout",
     "output_type": "stream",
     "text": [
      "1\n",
      "92 81\n",
      "1\n",
      "76 36\n",
      "1\n",
      "101 93\n"
     ]
    },
    {
     "name": "stderr",
     "output_type": "stream",
     "text": [
      "\n",
      "\n",
      "Классификация тестовых примеров:  66%|██████▌   | 48/73 [00:03<00:01, 12.55it/s]\u001b[A\u001b[A\n",
      "\n",
      "Классификация тестовых примеров:  68%|██████▊   | 50/73 [00:03<00:01, 12.45it/s]\u001b[A\u001b[A"
     ]
    },
    {
     "name": "stdout",
     "output_type": "stream",
     "text": [
      "1\n",
      "71 63\n",
      "1\n",
      "88 78\n",
      "1\n",
      "87 77\n"
     ]
    },
    {
     "name": "stderr",
     "output_type": "stream",
     "text": [
      "\n",
      "\n",
      "Классификация тестовых примеров:  71%|███████   | 52/73 [00:03<00:01, 12.65it/s]\u001b[A\u001b[A"
     ]
    },
    {
     "name": "stdout",
     "output_type": "stream",
     "text": [
      "1\n",
      "96 83\n",
      "1\n",
      "97 79\n",
      "1\n",
      "87 79\n"
     ]
    },
    {
     "name": "stderr",
     "output_type": "stream",
     "text": [
      "\n",
      "\n",
      "Классификация тестовых примеров:  74%|███████▍  | 54/73 [00:04<00:01, 12.43it/s]\u001b[A\u001b[A\n",
      "\n",
      "Классификация тестовых примеров:  77%|███████▋  | 56/73 [00:04<00:01, 12.32it/s]\u001b[A\u001b[A"
     ]
    },
    {
     "name": "stdout",
     "output_type": "stream",
     "text": [
      "1\n",
      "89 66\n",
      "1\n",
      "84 70\n",
      "1\n",
      "88 73\n"
     ]
    },
    {
     "name": "stderr",
     "output_type": "stream",
     "text": [
      "\n",
      "\n",
      "Классификация тестовых примеров:  79%|███████▉  | 58/73 [00:04<00:01, 12.18it/s]\u001b[A\u001b[A"
     ]
    },
    {
     "name": "stdout",
     "output_type": "stream",
     "text": [
      "1\n",
      "94 86\n",
      "1\n",
      "101 96\n",
      "1\n",
      "79 78\n",
      "1\n",
      "95 91\n"
     ]
    },
    {
     "name": "stderr",
     "output_type": "stream",
     "text": [
      "\n",
      "\n",
      "Классификация тестовых примеров:  82%|████████▏ | 60/73 [00:04<00:01, 12.15it/s]\u001b[A\u001b[A\n",
      "\n",
      "Классификация тестовых примеров:  85%|████████▍ | 62/73 [00:04<00:00, 11.76it/s]\u001b[A\u001b[A\n",
      "\n"
     ]
    },
    {
     "name": "stdout",
     "output_type": "stream",
     "text": [
      "1\n",
      "95 75\n",
      "1\n",
      "59 69\n",
      "1\n",
      "89 76\n",
      "1\n",
      "59 69\n"
     ]
    },
    {
     "name": "stderr",
     "output_type": "stream",
     "text": [
      "Классификация тестовых примеров:  88%|████████▊ | 64/73 [00:04<00:00, 12.53it/s]\u001b[A\u001b[A\n",
      "\n",
      "Классификация тестовых примеров:  90%|█████████ | 66/73 [00:05<00:00, 12.38it/s]\u001b[A\u001b[A"
     ]
    },
    {
     "name": "stdout",
     "output_type": "stream",
     "text": [
      "1\n",
      "105 104\n",
      "1\n",
      "97 73\n",
      "1\n",
      "93 70\n",
      "1\n"
     ]
    },
    {
     "name": "stderr",
     "output_type": "stream",
     "text": [
      "\n",
      "\n",
      "Классификация тестовых примеров:  93%|█████████▎| 68/73 [00:05<00:00, 12.29it/s]\u001b[A\u001b[A\n",
      "\n",
      "Классификация тестовых примеров:  96%|█████████▌| 70/73 [00:05<00:00, 12.56it/s]\u001b[A\u001b[A"
     ]
    },
    {
     "name": "stdout",
     "output_type": "stream",
     "text": [
      "92 89\n",
      "1\n",
      "74 43\n",
      "1\n",
      "88 78\n"
     ]
    },
    {
     "name": "stderr",
     "output_type": "stream",
     "text": [
      "\n",
      "\n",
      "Классификация тестовых примеров: 100%|██████████| 73/73 [00:05<00:00, 12.84it/s]\u001b[A\u001b[A\n",
      "\n",
      "Подбор min_cardinality:  25%|██▌       | 1/4 [00:05<00:17,  5.69s/it]\u001b[A"
     ]
    },
    {
     "name": "stdout",
     "output_type": "stream",
     "text": [
      "1\n",
      "59 60\n",
      "1\n",
      "100 92\n",
      "1\n",
      "86 65\n"
     ]
    },
    {
     "name": "stderr",
     "output_type": "stream",
     "text": [
      "\n",
      "\n",
      "Классификация тестовых примеров:   0%|          | 0/73 [00:00<?, ?it/s]\u001b[A\u001b[A"
     ]
    },
    {
     "name": "stdout",
     "output_type": "stream",
     "text": [
      "2\n",
      "104 92\n"
     ]
    },
    {
     "name": "stderr",
     "output_type": "stream",
     "text": [
      "\n",
      "\n",
      "Классификация тестовых примеров:   3%|▎         | 2/73 [00:00<00:04, 14.31it/s]\u001b[A\u001b[A"
     ]
    },
    {
     "name": "stdout",
     "output_type": "stream",
     "text": [
      "2\n",
      "100 96\n",
      "2\n",
      "104 92\n",
      "2\n"
     ]
    },
    {
     "name": "stderr",
     "output_type": "stream",
     "text": [
      "\n",
      "\n",
      "Классификация тестовых примеров:   5%|▌         | 4/73 [00:00<00:05, 12.95it/s]\u001b[A\u001b[A"
     ]
    },
    {
     "name": "stdout",
     "output_type": "stream",
     "text": [
      "59 60\n"
     ]
    },
    {
     "name": "stderr",
     "output_type": "stream",
     "text": [
      "\n",
      "\n",
      "Классификация тестовых примеров:   8%|▊         | 6/73 [00:00<00:05, 13.14it/s]\u001b[A\u001b[A"
     ]
    },
    {
     "name": "stdout",
     "output_type": "stream",
     "text": [
      "2\n",
      "85 78\n",
      "2\n",
      "101 78\n"
     ]
    },
    {
     "name": "stderr",
     "output_type": "stream",
     "text": [
      "\n",
      "\n"
     ]
    },
    {
     "name": "stdout",
     "output_type": "stream",
     "text": [
      "2\n",
      "98 92\n",
      "2\n",
      "87 77\n"
     ]
    },
    {
     "name": "stderr",
     "output_type": "stream",
     "text": [
      "Классификация тестовых примеров:  11%|█         | 8/73 [00:00<00:04, 13.20it/s]\u001b[A\u001b[A\n",
      "\n",
      "Классификация тестовых примеров:  14%|█▎        | 10/73 [00:00<00:04, 13.26it/s]\u001b[A\u001b[A"
     ]
    },
    {
     "name": "stdout",
     "output_type": "stream",
     "text": [
      "2\n",
      "91 68\n",
      "2\n",
      "96 84\n"
     ]
    },
    {
     "name": "stderr",
     "output_type": "stream",
     "text": [
      "\n",
      "\n"
     ]
    },
    {
     "name": "stdout",
     "output_type": "stream",
     "text": [
      "2\n",
      "98 83\n",
      "2\n",
      "106 105\n"
     ]
    },
    {
     "name": "stderr",
     "output_type": "stream",
     "text": [
      "Классификация тестовых примеров:  16%|█▋        | 12/73 [00:00<00:04, 13.31it/s]\u001b[A\u001b[A\n",
      "\n",
      "Классификация тестовых примеров:  19%|█▉        | 14/73 [00:01<00:04, 12.83it/s]\u001b[A\u001b[A"
     ]
    },
    {
     "name": "stdout",
     "output_type": "stream",
     "text": [
      "2\n",
      "74 77\n",
      "2\n",
      "85 81\n"
     ]
    },
    {
     "name": "stderr",
     "output_type": "stream",
     "text": [
      "\n",
      "\n"
     ]
    },
    {
     "name": "stdout",
     "output_type": "stream",
     "text": [
      "2\n",
      "74 49\n",
      "2\n",
      "68 72\n"
     ]
    },
    {
     "name": "stderr",
     "output_type": "stream",
     "text": [
      "Классификация тестовых примеров:  22%|██▏       | 16/73 [00:01<00:04, 12.97it/s]\u001b[A\u001b[A\n",
      "\n",
      "Классификация тестовых примеров:  25%|██▍       | 18/73 [00:01<00:04, 13.06it/s]\u001b[A\u001b[A"
     ]
    },
    {
     "name": "stdout",
     "output_type": "stream",
     "text": [
      "2\n",
      "103 100\n",
      "2\n",
      "99 93\n"
     ]
    },
    {
     "name": "stderr",
     "output_type": "stream",
     "text": [
      "\n",
      "\n"
     ]
    },
    {
     "name": "stdout",
     "output_type": "stream",
     "text": [
      "2\n",
      "95 70\n",
      "2\n",
      "89 70\n"
     ]
    },
    {
     "name": "stderr",
     "output_type": "stream",
     "text": [
      "Классификация тестовых примеров:  27%|██▋       | 20/73 [00:01<00:04, 13.18it/s]\u001b[A\u001b[A\n",
      "\n",
      "Классификация тестовых примеров:  30%|███       | 22/73 [00:01<00:03, 13.28it/s]\u001b[A\u001b[A"
     ]
    },
    {
     "name": "stdout",
     "output_type": "stream",
     "text": [
      "2\n",
      "96 84\n",
      "2\n",
      "59 60\n"
     ]
    },
    {
     "name": "stderr",
     "output_type": "stream",
     "text": [
      "\n",
      "\n"
     ]
    },
    {
     "name": "stdout",
     "output_type": "stream",
     "text": [
      "2\n",
      "79 79\n",
      "2\n",
      "95 84\n"
     ]
    },
    {
     "name": "stderr",
     "output_type": "stream",
     "text": [
      "Классификация тестовых примеров:  33%|███▎      | 24/73 [00:01<00:03, 13.25it/s]\u001b[A\u001b[A"
     ]
    },
    {
     "name": "stdout",
     "output_type": "stream",
     "text": [
      "2\n",
      "75 59\n",
      "2\n",
      "105 98\n"
     ]
    },
    {
     "name": "stderr",
     "output_type": "stream",
     "text": [
      "\n",
      "\n",
      "Классификация тестовых примеров:  36%|███▌      | 26/73 [00:01<00:03, 12.92it/s]\u001b[A\u001b[A"
     ]
    },
    {
     "name": "stdout",
     "output_type": "stream",
     "text": [
      "2\n",
      "85 78\n"
     ]
    },
    {
     "name": "stderr",
     "output_type": "stream",
     "text": [
      "\n",
      "\n",
      "Классификация тестовых примеров:  38%|███▊      | 28/73 [00:02<00:03, 13.32it/s]\u001b[A\u001b[A\n",
      "\n"
     ]
    },
    {
     "name": "stdout",
     "output_type": "stream",
     "text": [
      "2\n",
      "85 78\n",
      "2\n",
      "75 69\n",
      "2\n",
      "54 33\n"
     ]
    },
    {
     "name": "stderr",
     "output_type": "stream",
     "text": [
      "Классификация тестовых примеров:  41%|████      | 30/73 [00:02<00:03, 13.41it/s]\u001b[A\u001b[A\n",
      "\n",
      "Классификация тестовых примеров:  44%|████▍     | 32/73 [00:02<00:03, 13.34it/s]\u001b[A\u001b[A\n",
      "\n"
     ]
    },
    {
     "name": "stdout",
     "output_type": "stream",
     "text": [
      "2\n",
      "91 88\n",
      "2\n",
      "66 60\n",
      "2\n",
      "96 84\n",
      "2\n",
      "104 95\n"
     ]
    },
    {
     "name": "stderr",
     "output_type": "stream",
     "text": [
      "Классификация тестовых примеров:  47%|████▋     | 34/73 [00:02<00:02, 13.80it/s]\u001b[A\u001b[A\n",
      "\n",
      "Классификация тестовых примеров:  49%|████▉     | 36/73 [00:02<00:02, 13.26it/s]\u001b[A\u001b[A"
     ]
    },
    {
     "name": "stdout",
     "output_type": "stream",
     "text": [
      "2\n",
      "95 94\n",
      "2\n",
      "82 64\n",
      "2\n",
      "85 72\n",
      "2\n"
     ]
    },
    {
     "name": "stderr",
     "output_type": "stream",
     "text": [
      "\n",
      "\n",
      "Классификация тестовых примеров:  52%|█████▏    | 38/73 [00:02<00:02, 13.30it/s]\u001b[A\u001b[A\n",
      "\n",
      "Классификация тестовых примеров:  55%|█████▍    | 40/73 [00:03<00:02, 13.37it/s]\u001b[A\u001b[A"
     ]
    },
    {
     "name": "stdout",
     "output_type": "stream",
     "text": [
      "89 85\n",
      "2\n",
      "77 83\n",
      "2\n",
      "88 88\n"
     ]
    },
    {
     "name": "stderr",
     "output_type": "stream",
     "text": [
      "\n",
      "\n",
      "Классификация тестовых примеров:  58%|█████▊    | 42/73 [00:03<00:02, 13.27it/s]\u001b[A\u001b[A\n",
      "\n",
      "Классификация тестовых примеров:  60%|██████    | 44/73 [00:03<00:02, 12.86it/s]\u001b[A\u001b[A"
     ]
    },
    {
     "name": "stdout",
     "output_type": "stream",
     "text": [
      "2\n",
      "92 67\n",
      "2\n",
      "105 96\n",
      "2\n",
      "89 70\n",
      "2\n",
      "59 69\n"
     ]
    },
    {
     "name": "stderr",
     "output_type": "stream",
     "text": [
      "\n",
      "\n",
      "Классификация тестовых примеров:  63%|██████▎   | 46/73 [00:03<00:02, 13.06it/s]\u001b[A\u001b[A"
     ]
    },
    {
     "name": "stdout",
     "output_type": "stream",
     "text": [
      "2\n",
      "92 81\n",
      "2\n",
      "76 36\n",
      "2\n",
      "101 93\n",
      "2\n",
      "71 63\n"
     ]
    },
    {
     "name": "stderr",
     "output_type": "stream",
     "text": [
      "\n",
      "\n",
      "Классификация тестовых примеров:  66%|██████▌   | 48/73 [00:03<00:01, 13.09it/s]\u001b[A\u001b[A\n",
      "\n",
      "Классификация тестовых примеров:  68%|██████▊   | 50/73 [00:03<00:01, 13.17it/s]\u001b[A\u001b[A"
     ]
    },
    {
     "name": "stdout",
     "output_type": "stream",
     "text": [
      "2\n",
      "88 78\n",
      "2\n",
      "87 77\n",
      "2\n",
      "96 83\n"
     ]
    },
    {
     "name": "stderr",
     "output_type": "stream",
     "text": [
      "\n",
      "\n",
      "Классификация тестовых примеров:  71%|███████   | 52/73 [00:03<00:01, 12.74it/s]\u001b[A\u001b[A\n",
      "\n",
      "Классификация тестовых примеров:  74%|███████▍  | 54/73 [00:04<00:01, 13.01it/s]\u001b[A\u001b[A"
     ]
    },
    {
     "name": "stdout",
     "output_type": "stream",
     "text": [
      "2\n",
      "97 79\n",
      "2\n",
      "87 79\n",
      "2\n",
      "89 66\n",
      "2\n"
     ]
    },
    {
     "name": "stderr",
     "output_type": "stream",
     "text": [
      "\n",
      "\n",
      "Классификация тестовых примеров:  77%|███████▋  | 56/73 [00:04<00:01, 12.99it/s]\u001b[A\u001b[A\n",
      "\n",
      "Классификация тестовых примеров:  79%|███████▉  | 58/73 [00:04<00:01, 13.51it/s]\u001b[A\u001b[A"
     ]
    },
    {
     "name": "stdout",
     "output_type": "stream",
     "text": [
      "84 70\n",
      "2\n",
      "88 73\n",
      "2\n",
      "94 86\n",
      "2\n",
      "101 96\n",
      "2\n",
      "79 78\n"
     ]
    },
    {
     "name": "stderr",
     "output_type": "stream",
     "text": [
      "\n",
      "\n",
      "Классификация тестовых примеров:  82%|████████▏ | 60/73 [00:04<00:00, 13.46it/s]\u001b[A\u001b[A\n",
      "\n",
      "Классификация тестовых примеров:  85%|████████▍ | 62/73 [00:04<00:00, 13.53it/s]\u001b[A\u001b[A"
     ]
    },
    {
     "name": "stdout",
     "output_type": "stream",
     "text": [
      "2\n",
      "95 91\n",
      "2\n",
      "95 75\n",
      "2\n",
      "59 69\n"
     ]
    },
    {
     "name": "stderr",
     "output_type": "stream",
     "text": [
      "\n",
      "\n",
      "Классификация тестовых примеров:  88%|████████▊ | 64/73 [00:04<00:00, 13.44it/s]\u001b[A\u001b[A\n",
      "\n",
      "Классификация тестовых примеров:  90%|█████████ | 66/73 [00:04<00:00, 13.36it/s]\u001b[A\u001b[A"
     ]
    },
    {
     "name": "stdout",
     "output_type": "stream",
     "text": [
      "2\n",
      "89 76\n",
      "2\n",
      "59 69\n",
      "2\n",
      "105 104\n",
      "2\n",
      "97 73\n",
      "2\n"
     ]
    },
    {
     "name": "stderr",
     "output_type": "stream",
     "text": [
      "\n",
      "\n",
      "Классификация тестовых примеров:  93%|█████████▎| 68/73 [00:05<00:00, 12.86it/s]\u001b[A\u001b[A\n",
      "\n",
      "Классификация тестовых примеров:  96%|█████████▌| 70/73 [00:05<00:00, 13.14it/s]\u001b[A\u001b[A"
     ]
    },
    {
     "name": "stdout",
     "output_type": "stream",
     "text": [
      "93 70\n",
      "2\n",
      "92 89\n",
      "2\n",
      "74 43\n",
      "2\n",
      "88 78\n"
     ]
    },
    {
     "name": "stderr",
     "output_type": "stream",
     "text": [
      "\n",
      "\n",
      "Классификация тестовых примеров: 100%|██████████| 73/73 [00:05<00:00, 13.14it/s]\u001b[A\u001b[A\n",
      "\n",
      "Подбор min_cardinality:  50%|█████     | 2/4 [00:11<00:11,  5.62s/it]\u001b[A"
     ]
    },
    {
     "name": "stdout",
     "output_type": "stream",
     "text": [
      "2\n",
      "59 60\n",
      "2\n",
      "100 92\n",
      "2\n",
      "86 65\n"
     ]
    },
    {
     "name": "stderr",
     "output_type": "stream",
     "text": [
      "\n",
      "\n",
      "Классификация тестовых примеров:   0%|          | 0/73 [00:00<?, ?it/s]\u001b[A\u001b[A\n",
      "\n",
      "Классификация тестовых примеров:   3%|▎         | 2/73 [00:00<00:04, 14.49it/s]\u001b[A\u001b[A"
     ]
    },
    {
     "name": "stdout",
     "output_type": "stream",
     "text": [
      "3\n",
      "104 92\n",
      "3\n",
      "100 96\n",
      "3\n",
      "104 92\n",
      "3\n",
      "59 60\n"
     ]
    },
    {
     "name": "stderr",
     "output_type": "stream",
     "text": [
      "\n",
      "\n",
      "Классификация тестовых примеров:   5%|▌         | 4/73 [00:00<00:04, 13.84it/s]\u001b[A\u001b[A\n",
      "\n",
      "Классификация тестовых примеров:   8%|▊         | 6/73 [00:00<00:05, 12.94it/s]\u001b[A\u001b[A"
     ]
    },
    {
     "name": "stdout",
     "output_type": "stream",
     "text": [
      "3\n",
      "85 78\n",
      "3\n",
      "101 78\n",
      "3\n",
      "98 92\n"
     ]
    },
    {
     "name": "stderr",
     "output_type": "stream",
     "text": [
      "\n",
      "\n",
      "Классификация тестовых примеров:  11%|█         | 8/73 [00:00<00:05, 13.00it/s]\u001b[A\u001b[A\n",
      "\n",
      "Классификация тестовых примеров:  14%|█▎        | 10/73 [00:00<00:04, 13.17it/s]\u001b[A\u001b[A"
     ]
    },
    {
     "name": "stdout",
     "output_type": "stream",
     "text": [
      "3\n",
      "87 77\n",
      "3\n",
      "91 68\n",
      "3\n",
      "96 84\n"
     ]
    },
    {
     "name": "stderr",
     "output_type": "stream",
     "text": [
      "\n",
      "\n",
      "Классификация тестовых примеров:  16%|█▋        | 12/73 [00:00<00:04, 13.23it/s]\u001b[A\u001b[A\n",
      "\n"
     ]
    },
    {
     "name": "stdout",
     "output_type": "stream",
     "text": [
      "3\n",
      "98 83\n",
      "3\n",
      "106 105\n",
      "3\n",
      "74 77\n",
      "3\n",
      "85 81\n"
     ]
    },
    {
     "name": "stderr",
     "output_type": "stream",
     "text": [
      "Классификация тестовых примеров:  19%|█▉        | 14/73 [00:01<00:04, 13.76it/s]\u001b[A\u001b[A\n",
      "\n",
      "Классификация тестовых примеров:  22%|██▏       | 16/73 [00:01<00:04, 13.52it/s]\u001b[A\u001b[A\n",
      "\n",
      "Классификация тестовых примеров:  25%|██▍       | 18/73 [00:01<00:04, 13.67it/s]\u001b[A\u001b[A"
     ]
    },
    {
     "name": "stdout",
     "output_type": "stream",
     "text": [
      "3\n",
      "74 49\n",
      "3\n",
      "68 72\n",
      "3\n",
      "103 100\n",
      "3\n",
      "99 93\n",
      "3\n",
      "95 70\n"
     ]
    },
    {
     "name": "stderr",
     "output_type": "stream",
     "text": [
      "\n",
      "\n",
      "Классификация тестовых примеров:  27%|██▋       | 20/73 [00:01<00:03, 13.54it/s]\u001b[A\u001b[A\n",
      "\n",
      "Классификация тестовых примеров:  30%|███       | 22/73 [00:01<00:03, 13.92it/s]\u001b[A\u001b[A"
     ]
    },
    {
     "name": "stdout",
     "output_type": "stream",
     "text": [
      "3\n",
      "89 70\n",
      "3\n",
      "96 84\n",
      "3\n",
      "59 60\n",
      "3\n",
      "79 79\n"
     ]
    },
    {
     "name": "stderr",
     "output_type": "stream",
     "text": [
      "\n",
      "\n",
      "Классификация тестовых примеров:  33%|███▎      | 24/73 [00:01<00:03, 13.40it/s]\u001b[A\u001b[A\n",
      "\n",
      "Классификация тестовых примеров:  36%|███▌      | 26/73 [00:01<00:03, 13.70it/s]\u001b[A\u001b[A"
     ]
    },
    {
     "name": "stdout",
     "output_type": "stream",
     "text": [
      "3\n",
      "95 84\n",
      "3\n",
      "75 59\n",
      "3\n",
      "105 98\n"
     ]
    },
    {
     "name": "stderr",
     "output_type": "stream",
     "text": [
      "\n",
      "\n",
      "Классификация тестовых примеров:  38%|███▊      | 28/73 [00:02<00:03, 13.10it/s]\u001b[A\u001b[A"
     ]
    },
    {
     "name": "stdout",
     "output_type": "stream",
     "text": [
      "3\n",
      "85 78\n",
      "3\n",
      "85 78\n",
      "3\n",
      "75 69\n"
     ]
    },
    {
     "name": "stderr",
     "output_type": "stream",
     "text": [
      "\n",
      "\n",
      "Классификация тестовых примеров:  41%|████      | 30/73 [00:02<00:03, 13.12it/s]\u001b[A\u001b[A\n",
      "\n",
      "Классификация тестовых примеров:  44%|████▍     | 32/73 [00:02<00:03, 13.22it/s]\u001b[A\u001b[A"
     ]
    },
    {
     "name": "stdout",
     "output_type": "stream",
     "text": [
      "3\n",
      "54 33\n",
      "3\n",
      "91 88\n",
      "3\n",
      "66 60\n"
     ]
    },
    {
     "name": "stderr",
     "output_type": "stream",
     "text": [
      "\n",
      "\n",
      "Классификация тестовых примеров:  47%|████▋     | 34/73 [00:02<00:03, 12.89it/s]\u001b[A\u001b[A"
     ]
    },
    {
     "name": "stdout",
     "output_type": "stream",
     "text": [
      "3\n",
      "96 84\n",
      "3\n",
      "104 95\n",
      "3\n",
      "95 94\n",
      "3\n",
      "82 64\n"
     ]
    },
    {
     "name": "stderr",
     "output_type": "stream",
     "text": [
      "\n",
      "\n",
      "Классификация тестовых примеров:  49%|████▉     | 36/73 [00:02<00:02, 12.99it/s]\u001b[A\u001b[A\n",
      "\n",
      "Классификация тестовых примеров:  52%|█████▏    | 38/73 [00:02<00:02, 13.54it/s]\u001b[A\u001b[A\n",
      "\n"
     ]
    },
    {
     "name": "stdout",
     "output_type": "stream",
     "text": [
      "3\n",
      "85 72\n",
      "3\n",
      "89 85\n",
      "3\n",
      "77 83\n",
      "3\n",
      "88 88\n"
     ]
    },
    {
     "name": "stderr",
     "output_type": "stream",
     "text": [
      "Классификация тестовых примеров:  55%|█████▍    | 40/73 [00:02<00:02, 13.51it/s]\u001b[A\u001b[A\n",
      "\n",
      "Классификация тестовых примеров:  58%|█████▊    | 42/73 [00:03<00:02, 13.86it/s]\u001b[A\u001b[A"
     ]
    },
    {
     "name": "stdout",
     "output_type": "stream",
     "text": [
      "3\n",
      "92 67\n",
      "3\n",
      "105 96\n",
      "3\n",
      "89 70\n"
     ]
    },
    {
     "name": "stderr",
     "output_type": "stream",
     "text": [
      "\n",
      "\n",
      "Классификация тестовых примеров:  60%|██████    | 44/73 [00:03<00:02, 13.76it/s]\u001b[A\u001b[A\n",
      "\n",
      "Классификация тестовых примеров:  63%|██████▎   | 46/73 [00:03<00:01, 13.60it/s]\u001b[A\u001b[A"
     ]
    },
    {
     "name": "stdout",
     "output_type": "stream",
     "text": [
      "3\n",
      "59 69\n",
      "3\n",
      "92 81\n",
      "3\n",
      "76 36\n"
     ]
    },
    {
     "name": "stderr",
     "output_type": "stream",
     "text": [
      "\n",
      "\n",
      "Классификация тестовых примеров:  66%|██████▌   | 48/73 [00:03<00:01, 14.00it/s]\u001b[A\u001b[A\n",
      "\n",
      "Классификация тестовых примеров:  68%|██████▊   | 50/73 [00:03<00:01, 13.76it/s]\u001b[A\u001b[A"
     ]
    },
    {
     "name": "stdout",
     "output_type": "stream",
     "text": [
      "3\n",
      "101 93\n",
      "3\n",
      "71 63\n",
      "3\n",
      "88 78\n",
      "3\n",
      "87 77\n"
     ]
    },
    {
     "name": "stderr",
     "output_type": "stream",
     "text": [
      "\n",
      "\n",
      "Классификация тестовых примеров:  71%|███████   | 52/73 [00:03<00:01, 13.13it/s]\u001b[A\u001b[A\n",
      "\n",
      "Классификация тестовых примеров:  74%|███████▍  | 54/73 [00:04<00:01, 13.30it/s]\u001b[A\u001b[A"
     ]
    },
    {
     "name": "stdout",
     "output_type": "stream",
     "text": [
      "3\n",
      "96 83\n",
      "3\n",
      "97 79\n",
      "3\n",
      "87 79\n",
      "3\n",
      "89 66\n"
     ]
    },
    {
     "name": "stderr",
     "output_type": "stream",
     "text": [
      "\n",
      "\n",
      "Классификация тестовых примеров:  77%|███████▋  | 56/73 [00:04<00:01, 13.31it/s]\u001b[A\u001b[A\n",
      "\n",
      "Классификация тестовых примеров:  79%|███████▉  | 58/73 [00:04<00:01, 13.32it/s]\u001b[A\u001b[A"
     ]
    },
    {
     "name": "stdout",
     "output_type": "stream",
     "text": [
      "3\n",
      "84 70\n",
      "3\n",
      "88 73\n",
      "3\n",
      "94 86\n",
      "3\n",
      "101 96\n"
     ]
    },
    {
     "name": "stderr",
     "output_type": "stream",
     "text": [
      "\n",
      "\n",
      "Классификация тестовых примеров:  82%|████████▏ | 60/73 [00:04<00:00, 13.26it/s]\u001b[A\u001b[A\n",
      "\n",
      "Классификация тестовых примеров:  85%|████████▍ | 62/73 [00:04<00:00, 12.93it/s]\u001b[A\u001b[A"
     ]
    },
    {
     "name": "stdout",
     "output_type": "stream",
     "text": [
      "3\n",
      "79 78\n",
      "3\n",
      "95 91\n",
      "3\n",
      "95 75\n",
      "3\n",
      "59 69\n"
     ]
    },
    {
     "name": "stderr",
     "output_type": "stream",
     "text": [
      "\n",
      "\n",
      "Классификация тестовых примеров:  88%|████████▊ | 64/73 [00:04<00:00, 12.72it/s]\u001b[A\u001b[A\n",
      "\n"
     ]
    },
    {
     "name": "stdout",
     "output_type": "stream",
     "text": [
      "3\n",
      "89 76\n",
      "3\n",
      "59 69\n",
      "3\n",
      "105 104\n",
      "3\n",
      "97 73\n"
     ]
    },
    {
     "name": "stderr",
     "output_type": "stream",
     "text": [
      "Классификация тестовых примеров:  90%|█████████ | 66/73 [00:04<00:00, 13.20it/s]\u001b[A\u001b[A\n",
      "\n",
      "Классификация тестовых примеров:  93%|█████████▎| 68/73 [00:05<00:00, 13.21it/s]\u001b[A\u001b[A\n",
      "\n"
     ]
    },
    {
     "name": "stdout",
     "output_type": "stream",
     "text": [
      "3\n",
      "93 70\n",
      "3\n",
      "92 89\n",
      "3\n",
      "74 43\n",
      "3\n",
      "88 78\n"
     ]
    },
    {
     "name": "stderr",
     "output_type": "stream",
     "text": [
      "Классификация тестовых примеров:  96%|█████████▌| 70/73 [00:05<00:00, 13.71it/s]\u001b[A\u001b[A\n",
      "\n",
      "Классификация тестовых примеров: 100%|██████████| 73/73 [00:05<00:00, 13.37it/s]\u001b[A\u001b[A\n",
      "\n",
      "Подбор min_cardinality:  75%|███████▌  | 3/4 [00:16<00:05,  5.55s/it]\u001b[A"
     ]
    },
    {
     "name": "stdout",
     "output_type": "stream",
     "text": [
      "3\n",
      "59 60\n",
      "3\n",
      "100 92\n",
      "3\n",
      "86 65\n"
     ]
    },
    {
     "name": "stderr",
     "output_type": "stream",
     "text": [
      "\n",
      "\n",
      "Классификация тестовых примеров:   0%|          | 0/73 [00:00<?, ?it/s]\u001b[A\u001b[A\n",
      "\n",
      "Классификация тестовых примеров:   3%|▎         | 2/73 [00:00<00:04, 15.16it/s]\u001b[A\u001b[A"
     ]
    },
    {
     "name": "stdout",
     "output_type": "stream",
     "text": [
      "4\n",
      "104 92\n",
      "4\n",
      "100 96\n",
      "4\n",
      "104 92\n"
     ]
    },
    {
     "name": "stderr",
     "output_type": "stream",
     "text": [
      "\n",
      "\n",
      "Классификация тестовых примеров:   5%|▌         | 4/73 [00:00<00:05, 13.08it/s]\u001b[A\u001b[A\n",
      "\n",
      "Классификация тестовых примеров:   8%|▊         | 6/73 [00:00<00:05, 13.13it/s]\u001b[A\u001b[A"
     ]
    },
    {
     "name": "stdout",
     "output_type": "stream",
     "text": [
      "4\n",
      "59 60\n",
      "4\n",
      "85 78\n",
      "4\n",
      "101 78\n"
     ]
    },
    {
     "name": "stderr",
     "output_type": "stream",
     "text": [
      "\n",
      "\n",
      "Классификация тестовых примеров:  11%|█         | 8/73 [00:00<00:05, 12.71it/s]\u001b[A\u001b[A"
     ]
    },
    {
     "name": "stdout",
     "output_type": "stream",
     "text": [
      "4\n",
      "98 92\n",
      "4\n",
      "87 77\n",
      "4\n",
      "91 68\n",
      "4\n"
     ]
    },
    {
     "name": "stderr",
     "output_type": "stream",
     "text": [
      "\n",
      "\n",
      "Классификация тестовых примеров:  14%|█▎        | 10/73 [00:00<00:04, 12.65it/s]\u001b[A\u001b[A\n",
      "\n",
      "Классификация тестовых примеров:  16%|█▋        | 12/73 [00:00<00:04, 12.87it/s]\u001b[A\u001b[A"
     ]
    },
    {
     "name": "stdout",
     "output_type": "stream",
     "text": [
      "96 84\n",
      "4\n",
      "98 83\n",
      "4\n",
      "106 105\n"
     ]
    },
    {
     "name": "stderr",
     "output_type": "stream",
     "text": [
      "\n",
      "\n",
      "Классификация тестовых примеров:  19%|█▉        | 14/73 [00:01<00:04, 12.79it/s]\u001b[A\u001b[A"
     ]
    },
    {
     "name": "stdout",
     "output_type": "stream",
     "text": [
      "4\n",
      "74 77\n",
      "4\n",
      "85 81\n",
      "4\n",
      "74 49\n"
     ]
    },
    {
     "name": "stderr",
     "output_type": "stream",
     "text": [
      "\n",
      "\n",
      "Классификация тестовых примеров:  22%|██▏       | 16/73 [00:01<00:04, 12.99it/s]\u001b[A\u001b[A\n",
      "\n",
      "Классификация тестовых примеров:  25%|██▍       | 18/73 [00:01<00:04, 13.04it/s]\u001b[A\u001b[A"
     ]
    },
    {
     "name": "stdout",
     "output_type": "stream",
     "text": [
      "4\n",
      "68 72\n",
      "4\n",
      "103 100\n",
      "4\n",
      "99 93\n"
     ]
    },
    {
     "name": "stderr",
     "output_type": "stream",
     "text": [
      "\n",
      "\n",
      "Классификация тестовых примеров:  27%|██▋       | 20/73 [00:01<00:04, 13.16it/s]\u001b[A\u001b[A"
     ]
    },
    {
     "name": "stdout",
     "output_type": "stream",
     "text": [
      "4\n",
      "95 70\n",
      "4\n",
      "89 70\n",
      "4\n",
      "96 84\n"
     ]
    },
    {
     "name": "stderr",
     "output_type": "stream",
     "text": [
      "\n",
      "\n",
      "Классификация тестовых примеров:  30%|███       | 22/73 [00:01<00:03, 13.58it/s]\u001b[A\u001b[A\n",
      "\n",
      "Классификация тестовых примеров:  33%|███▎      | 24/73 [00:01<00:03, 13.61it/s]\u001b[A\u001b[A"
     ]
    },
    {
     "name": "stdout",
     "output_type": "stream",
     "text": [
      "4\n",
      "59 60\n",
      "4\n",
      "79 79\n",
      "4\n",
      "95 84\n"
     ]
    },
    {
     "name": "stderr",
     "output_type": "stream",
     "text": [
      "\n",
      "\n",
      "Классификация тестовых примеров:  36%|███▌      | 26/73 [00:01<00:03, 13.54it/s]\u001b[A\u001b[A\n",
      "\n"
     ]
    },
    {
     "name": "stdout",
     "output_type": "stream",
     "text": [
      "4\n",
      "75 59\n",
      "4\n",
      "105 98\n",
      "4\n",
      "85 78\n",
      "4\n",
      "85 78\n"
     ]
    },
    {
     "name": "stderr",
     "output_type": "stream",
     "text": [
      "Классификация тестовых примеров:  38%|███▊      | 28/73 [00:02<00:03, 13.48it/s]\u001b[A\u001b[A\n",
      "\n",
      "Классификация тестовых примеров:  41%|████      | 30/73 [00:02<00:03, 13.41it/s]\u001b[A\u001b[A"
     ]
    },
    {
     "name": "stdout",
     "output_type": "stream",
     "text": [
      "4\n",
      "75 69\n",
      "4\n",
      "54 33\n",
      "4\n",
      "91 88\n"
     ]
    },
    {
     "name": "stderr",
     "output_type": "stream",
     "text": [
      "\n",
      "\n",
      "Классификация тестовых примеров:  44%|████▍     | 32/73 [00:02<00:03, 13.00it/s]\u001b[A\u001b[A\n",
      "\n",
      "Классификация тестовых примеров:  47%|████▋     | 34/73 [00:02<00:03, 12.69it/s]\u001b[A\u001b[A"
     ]
    },
    {
     "name": "stdout",
     "output_type": "stream",
     "text": [
      "4\n",
      "66 60\n",
      "4\n",
      "96 84\n",
      "4\n",
      "104 95\n"
     ]
    },
    {
     "name": "stderr",
     "output_type": "stream",
     "text": [
      "\n",
      "\n",
      "Классификация тестовых примеров:  49%|████▉     | 36/73 [00:02<00:03, 12.07it/s]\u001b[A\u001b[A"
     ]
    },
    {
     "name": "stdout",
     "output_type": "stream",
     "text": [
      "4\n",
      "95 94\n",
      "4\n",
      "82 64\n",
      "4\n",
      "85 72\n"
     ]
    },
    {
     "name": "stderr",
     "output_type": "stream",
     "text": [
      "\n",
      "\n",
      "Классификация тестовых примеров:  52%|█████▏    | 38/73 [00:02<00:02, 12.06it/s]\u001b[A\u001b[A\n",
      "\n",
      "Классификация тестовых примеров:  55%|█████▍    | 40/73 [00:03<00:02, 11.71it/s]\u001b[A\u001b[A"
     ]
    },
    {
     "name": "stdout",
     "output_type": "stream",
     "text": [
      "4\n",
      "89 85\n",
      "4\n",
      "77 83\n",
      "4\n",
      "88 88\n"
     ]
    },
    {
     "name": "stderr",
     "output_type": "stream",
     "text": [
      "\n",
      "\n",
      "Классификация тестовых примеров:  58%|█████▊    | 42/73 [00:03<00:02, 11.76it/s]\u001b[A\u001b[A"
     ]
    },
    {
     "name": "stdout",
     "output_type": "stream",
     "text": [
      "4\n",
      "92 67\n",
      "4\n",
      "105 96\n",
      "4\n",
      "89 70\n",
      "4\n",
      "59 69\n"
     ]
    },
    {
     "name": "stderr",
     "output_type": "stream",
     "text": [
      "\n",
      "\n",
      "Классификация тестовых примеров:  60%|██████    | 44/73 [00:03<00:02, 11.90it/s]\u001b[A\u001b[A\n",
      "\n",
      "Классификация тестовых примеров:  63%|██████▎   | 46/73 [00:03<00:02, 11.57it/s]\u001b[A\u001b[A"
     ]
    },
    {
     "name": "stdout",
     "output_type": "stream",
     "text": [
      "4\n",
      "92 81\n",
      "4\n",
      "76 36\n",
      "4\n",
      "101 93\n"
     ]
    },
    {
     "name": "stderr",
     "output_type": "stream",
     "text": [
      "\n",
      "\n",
      "Классификация тестовых примеров:  66%|██████▌   | 48/73 [00:03<00:02, 11.66it/s]\u001b[A\u001b[A\n",
      "\n",
      "Классификация тестовых примеров:  68%|██████▊   | 50/73 [00:03<00:01, 11.78it/s]\u001b[A\u001b[A"
     ]
    },
    {
     "name": "stdout",
     "output_type": "stream",
     "text": [
      "4\n",
      "71 63\n",
      "4\n",
      "88 78\n",
      "4\n",
      "87 77\n"
     ]
    },
    {
     "name": "stderr",
     "output_type": "stream",
     "text": [
      "\n",
      "\n",
      "Классификация тестовых примеров:  71%|███████   | 52/73 [00:04<00:01, 12.14it/s]\u001b[A\u001b[A\n",
      "\n"
     ]
    },
    {
     "name": "stdout",
     "output_type": "stream",
     "text": [
      "4\n",
      "96 83\n",
      "4\n",
      "97 79\n",
      "4\n",
      "87 79\n",
      "4\n",
      "89 66\n"
     ]
    },
    {
     "name": "stderr",
     "output_type": "stream",
     "text": [
      "Классификация тестовых примеров:  74%|███████▍  | 54/73 [00:04<00:01, 12.52it/s]\u001b[A\u001b[A\n",
      "\n",
      "Классификация тестовых примеров:  77%|███████▋  | 56/73 [00:04<00:01, 12.40it/s]\u001b[A\u001b[A"
     ]
    },
    {
     "name": "stdout",
     "output_type": "stream",
     "text": [
      "4\n",
      "84 70\n",
      "4\n",
      "88 73\n",
      "4\n",
      "94 86\n",
      "4\n"
     ]
    },
    {
     "name": "stderr",
     "output_type": "stream",
     "text": [
      "\n",
      "\n",
      "Классификация тестовых примеров:  79%|███████▉  | 58/73 [00:04<00:01, 12.65it/s]\u001b[A\u001b[A\n",
      "\n",
      "Классификация тестовых примеров:  82%|████████▏ | 60/73 [00:04<00:01, 12.78it/s]\u001b[A\u001b[A"
     ]
    },
    {
     "name": "stdout",
     "output_type": "stream",
     "text": [
      "101 96\n",
      "4\n",
      "79 78\n",
      "4\n",
      "95 91\n",
      "4\n",
      "95 75\n"
     ]
    },
    {
     "name": "stderr",
     "output_type": "stream",
     "text": [
      "\n",
      "\n",
      "Классификация тестовых примеров:  85%|████████▍ | 62/73 [00:04<00:00, 12.91it/s]\u001b[A\u001b[A\n",
      "\n",
      "Классификация тестовых примеров:  88%|████████▊ | 64/73 [00:05<00:00, 13.01it/s]\u001b[A\u001b[A"
     ]
    },
    {
     "name": "stdout",
     "output_type": "stream",
     "text": [
      "4\n",
      "59 69\n",
      "4\n",
      "89 76\n",
      "4\n",
      "59 69\n",
      "4\n",
      "105 104\n"
     ]
    },
    {
     "name": "stderr",
     "output_type": "stream",
     "text": [
      "\n",
      "\n",
      "Классификация тестовых примеров:  90%|█████████ | 66/73 [00:05<00:00, 13.16it/s]\u001b[A\u001b[A\n",
      "\n",
      "Классификация тестовых примеров:  93%|█████████▎| 68/73 [00:05<00:00, 13.23it/s]\u001b[A\u001b[A"
     ]
    },
    {
     "name": "stdout",
     "output_type": "stream",
     "text": [
      "4\n",
      "97 73\n",
      "4\n",
      "93 70\n",
      "4\n",
      "92 89\n"
     ]
    },
    {
     "name": "stderr",
     "output_type": "stream",
     "text": [
      "\n",
      "\n",
      "Классификация тестовых примеров:  96%|█████████▌| 70/73 [00:05<00:00, 12.90it/s]\u001b[A\u001b[A\n",
      "\n",
      "Классификация тестовых примеров:  99%|█████████▊| 72/73 [00:05<00:00, 12.97it/s]\u001b[A\u001b[A"
     ]
    },
    {
     "name": "stdout",
     "output_type": "stream",
     "text": [
      "4\n",
      "74 43\n",
      "4\n",
      "88 78\n",
      "4\n",
      "59 60\n",
      "4\n",
      "100 92\n"
     ]
    },
    {
     "name": "stderr",
     "output_type": "stream",
     "text": [
      "Классификация тестовых примеров: 100%|██████████| 73/73 [00:05<00:00, 12.68it/s]\n",
      "\n",
      "Подбор min_cardinality: 100%|██████████| 4/4 [00:22<00:00,  5.64s/it]\u001b[A\n",
      "Подбор max_counter_examples:  67%|██████▋   | 6/9 [02:19<01:08, 22.84s/it]"
     ]
    },
    {
     "name": "stdout",
     "output_type": "stream",
     "text": [
      "4\n",
      "86 65\n"
     ]
    },
    {
     "name": "stderr",
     "output_type": "stream",
     "text": [
      "\n",
      "Подбор min_cardinality:   0%|          | 0/4 [00:00<?, ?it/s]\u001b[A\n",
      "\n",
      "Классификация тестовых примеров:   0%|          | 0/73 [00:00<?, ?it/s]\u001b[A\u001b[A\n",
      "\n",
      "Классификация тестовых примеров:   3%|▎         | 2/73 [00:00<00:05, 13.08it/s]\u001b[A\u001b[A"
     ]
    },
    {
     "name": "stdout",
     "output_type": "stream",
     "text": [
      "1\n",
      "104 92\n",
      "1\n",
      "100 96\n",
      "1\n",
      "104 92\n",
      "1\n",
      "59 60\n"
     ]
    },
    {
     "name": "stderr",
     "output_type": "stream",
     "text": [
      "\n",
      "\n",
      "Классификация тестовых примеров:   5%|▌         | 4/73 [00:00<00:05, 13.31it/s]\u001b[A\u001b[A"
     ]
    },
    {
     "name": "stdout",
     "output_type": "stream",
     "text": [
      "1\n",
      "85 78\n"
     ]
    },
    {
     "name": "stderr",
     "output_type": "stream",
     "text": [
      "\n",
      "\n",
      "Классификация тестовых примеров:   8%|▊         | 6/73 [00:00<00:05, 12.66it/s]\u001b[A\u001b[A"
     ]
    },
    {
     "name": "stdout",
     "output_type": "stream",
     "text": [
      "1\n",
      "101 78\n",
      "1\n",
      "98 92\n",
      "1\n",
      "87 77\n"
     ]
    },
    {
     "name": "stderr",
     "output_type": "stream",
     "text": [
      "\n",
      "\n",
      "Классификация тестовых примеров:  11%|█         | 8/73 [00:00<00:05, 12.85it/s]\u001b[A\u001b[A\n",
      "\n",
      "Классификация тестовых примеров:  14%|█▎        | 10/73 [00:00<00:04, 13.06it/s]\u001b[A\u001b[A"
     ]
    },
    {
     "name": "stdout",
     "output_type": "stream",
     "text": [
      "1\n",
      "91 68\n",
      "1\n",
      "96 84\n",
      "1\n",
      "98 83\n",
      "1\n",
      "106 105\n"
     ]
    },
    {
     "name": "stderr",
     "output_type": "stream",
     "text": [
      "\n",
      "\n",
      "Классификация тестовых примеров:  16%|█▋        | 12/73 [00:00<00:04, 13.12it/s]\u001b[A\u001b[A\n",
      "\n",
      "Классификация тестовых примеров:  19%|█▉        | 14/73 [00:01<00:04, 13.21it/s]\u001b[A\u001b[A"
     ]
    },
    {
     "name": "stdout",
     "output_type": "stream",
     "text": [
      "1\n",
      "74 77\n",
      "1\n",
      "85 81\n",
      "1\n",
      "74 49\n",
      "1\n",
      "68 72\n"
     ]
    },
    {
     "name": "stderr",
     "output_type": "stream",
     "text": [
      "\n",
      "\n",
      "Классификация тестовых примеров:  22%|██▏       | 16/73 [00:01<00:04, 13.69it/s]\u001b[A\u001b[A\n",
      "\n",
      "Классификация тестовых примеров:  25%|██▍       | 18/73 [00:01<00:04, 13.61it/s]\u001b[A\u001b[A"
     ]
    },
    {
     "name": "stdout",
     "output_type": "stream",
     "text": [
      "1\n",
      "103 100\n",
      "1\n",
      "99 93\n",
      "1\n",
      "95 70\n",
      "1\n",
      "89 70\n"
     ]
    },
    {
     "name": "stderr",
     "output_type": "stream",
     "text": [
      "\n",
      "\n",
      "Классификация тестовых примеров:  27%|██▋       | 20/73 [00:01<00:03, 13.98it/s]\u001b[A\u001b[A\n",
      "\n",
      "Классификация тестовых примеров:  30%|███       | 22/73 [00:01<00:03, 13.32it/s]\u001b[A\u001b[A"
     ]
    },
    {
     "name": "stdout",
     "output_type": "stream",
     "text": [
      "1\n",
      "96 84\n",
      "1\n",
      "59 60\n",
      "1\n",
      "79 79\n",
      "1\n",
      "95 84\n"
     ]
    },
    {
     "name": "stderr",
     "output_type": "stream",
     "text": [
      "\n",
      "\n",
      "Классификация тестовых примеров:  33%|███▎      | 24/73 [00:01<00:03, 13.80it/s]\u001b[A\u001b[A\n",
      "\n",
      "Классификация тестовых примеров:  36%|███▌      | 26/73 [00:01<00:03, 13.23it/s]\u001b[A\u001b[A\n",
      "\n"
     ]
    },
    {
     "name": "stdout",
     "output_type": "stream",
     "text": [
      "1\n",
      "75 59\n",
      "1\n",
      "105 98\n",
      "1\n",
      "85 78\n",
      "1\n",
      "85 78\n"
     ]
    },
    {
     "name": "stderr",
     "output_type": "stream",
     "text": [
      "Классификация тестовых примеров:  38%|███▊      | 28/73 [00:02<00:03, 13.27it/s]\u001b[A\u001b[A\n",
      "\n",
      "Классификация тестовых примеров:  41%|████      | 30/73 [00:02<00:03, 13.28it/s]\u001b[A\u001b[A\n",
      "\n"
     ]
    },
    {
     "name": "stdout",
     "output_type": "stream",
     "text": [
      "1\n",
      "75 69\n",
      "1\n",
      "54 33\n",
      "1\n",
      "91 88\n",
      "1\n",
      "66 60\n"
     ]
    },
    {
     "name": "stderr",
     "output_type": "stream",
     "text": [
      "Классификация тестовых примеров:  44%|████▍     | 32/73 [00:02<00:03, 13.26it/s]\u001b[A\u001b[A\n",
      "\n",
      "Классификация тестовых примеров:  47%|████▋     | 34/73 [00:02<00:03, 12.88it/s]\u001b[A\u001b[A"
     ]
    },
    {
     "name": "stdout",
     "output_type": "stream",
     "text": [
      "1\n",
      "96 84\n",
      "1\n",
      "104 95\n",
      "1\n",
      "95 94\n",
      "1\n",
      "82 64\n"
     ]
    },
    {
     "name": "stderr",
     "output_type": "stream",
     "text": [
      "\n",
      "\n",
      "Классификация тестовых примеров:  49%|████▉     | 36/73 [00:02<00:02, 13.03it/s]\u001b[A\u001b[A\n",
      "\n",
      "Классификация тестовых примеров:  52%|█████▏    | 38/73 [00:02<00:02, 12.73it/s]\u001b[A\u001b[A"
     ]
    },
    {
     "name": "stdout",
     "output_type": "stream",
     "text": [
      "1\n",
      "85 72\n",
      "1\n",
      "89 85\n",
      "1\n",
      "77 83\n",
      "1\n"
     ]
    },
    {
     "name": "stderr",
     "output_type": "stream",
     "text": [
      "\n",
      "\n",
      "Классификация тестовых примеров:  55%|█████▍    | 40/73 [00:03<00:02, 12.87it/s]\u001b[A\u001b[A\n",
      "\n",
      "Классификация тестовых примеров:  58%|█████▊    | 42/73 [00:03<00:02, 12.97it/s]\u001b[A\u001b[A"
     ]
    },
    {
     "name": "stdout",
     "output_type": "stream",
     "text": [
      "88 88\n",
      "1\n",
      "92 67\n",
      "1\n",
      "105 96\n"
     ]
    },
    {
     "name": "stderr",
     "output_type": "stream",
     "text": [
      "\n",
      "\n",
      "Классификация тестовых примеров:  60%|██████    | 44/73 [00:03<00:02, 13.55it/s]\u001b[A\u001b[A\n",
      "\n",
      "Классификация тестовых примеров:  63%|██████▎   | 46/73 [00:03<00:02, 13.33it/s]\u001b[A\u001b[A"
     ]
    },
    {
     "name": "stdout",
     "output_type": "stream",
     "text": [
      "1\n",
      "89 70\n",
      "1\n",
      "59 69\n",
      "1\n",
      "92 81\n",
      "1\n",
      "76 36\n",
      "1\n",
      "101 93\n"
     ]
    },
    {
     "name": "stderr",
     "output_type": "stream",
     "text": [
      "\n",
      "\n",
      "Классификация тестовых примеров:  66%|██████▌   | 48/73 [00:03<00:01, 13.59it/s]\u001b[A\u001b[A\n",
      "\n",
      "Классификация тестовых примеров:  68%|██████▊   | 50/73 [00:03<00:01, 13.44it/s]\u001b[A\u001b[A"
     ]
    },
    {
     "name": "stdout",
     "output_type": "stream",
     "text": [
      "1\n",
      "71 63\n",
      "1\n",
      "88 78\n",
      "1\n",
      "87 77\n"
     ]
    },
    {
     "name": "stderr",
     "output_type": "stream",
     "text": [
      "\n",
      "\n",
      "Классификация тестовых примеров:  71%|███████   | 52/73 [00:03<00:01, 13.45it/s]\u001b[A\u001b[A\n",
      "\n"
     ]
    },
    {
     "name": "stdout",
     "output_type": "stream",
     "text": [
      "1\n",
      "96 83\n",
      "1\n",
      "97 79\n",
      "1\n",
      "87 79\n",
      "1\n",
      "89 66\n"
     ]
    },
    {
     "name": "stderr",
     "output_type": "stream",
     "text": [
      "Классификация тестовых примеров:  74%|███████▍  | 54/73 [00:04<00:01, 13.37it/s]\u001b[A\u001b[A\n",
      "\n",
      "Классификация тестовых примеров:  77%|███████▋  | 56/73 [00:04<00:01, 13.41it/s]\u001b[A\u001b[A"
     ]
    },
    {
     "name": "stdout",
     "output_type": "stream",
     "text": [
      "1\n",
      "84 70\n",
      "1\n",
      "88 73\n",
      "1\n",
      "94 86\n"
     ]
    },
    {
     "name": "stderr",
     "output_type": "stream",
     "text": [
      "\n",
      "\n",
      "Классификация тестовых примеров:  79%|███████▉  | 58/73 [00:04<00:01, 13.28it/s]\u001b[A\u001b[A\n",
      "\n",
      "Классификация тестовых примеров:  82%|████████▏ | 60/73 [00:04<00:01, 12.86it/s]\u001b[A\u001b[A"
     ]
    },
    {
     "name": "stdout",
     "output_type": "stream",
     "text": [
      "1\n",
      "101 96\n",
      "1\n",
      "79 78\n",
      "1\n",
      "95 91\n"
     ]
    },
    {
     "name": "stderr",
     "output_type": "stream",
     "text": [
      "\n",
      "\n",
      "Классификация тестовых примеров:  85%|████████▍ | 62/73 [00:04<00:00, 12.70it/s]\u001b[A\u001b[A"
     ]
    },
    {
     "name": "stdout",
     "output_type": "stream",
     "text": [
      "1\n",
      "95 75\n",
      "1\n",
      "59 69\n",
      "1\n",
      "89 76\n",
      "1\n",
      "59 69\n"
     ]
    },
    {
     "name": "stderr",
     "output_type": "stream",
     "text": [
      "\n",
      "\n",
      "Классификация тестовых примеров:  88%|████████▊ | 64/73 [00:04<00:00, 12.84it/s]\u001b[A\u001b[A\n",
      "\n",
      "Классификация тестовых примеров:  90%|█████████ | 66/73 [00:04<00:00, 13.03it/s]\u001b[A\u001b[A"
     ]
    },
    {
     "name": "stdout",
     "output_type": "stream",
     "text": [
      "1\n",
      "105 104\n",
      "1\n",
      "97 73\n",
      "1\n",
      "93 70\n",
      "1\n",
      "92 89\n"
     ]
    },
    {
     "name": "stderr",
     "output_type": "stream",
     "text": [
      "\n",
      "\n",
      "Классификация тестовых примеров:  93%|█████████▎| 68/73 [00:05<00:00, 13.07it/s]\u001b[A\u001b[A\n",
      "\n",
      "Классификация тестовых примеров:  96%|█████████▌| 70/73 [00:05<00:00, 13.13it/s]\u001b[A\u001b[A"
     ]
    },
    {
     "name": "stdout",
     "output_type": "stream",
     "text": [
      "1\n",
      "74 43\n",
      "1\n",
      "88 78\n",
      "1\n",
      "59 60\n",
      "1\n",
      "100 92\n"
     ]
    },
    {
     "name": "stderr",
     "output_type": "stream",
     "text": [
      "\n",
      "\n",
      "Классификация тестовых примеров: 100%|██████████| 73/73 [00:05<00:00, 13.21it/s]\u001b[A\u001b[A\n",
      "\n",
      "Подбор min_cardinality:  25%|██▌       | 1/4 [00:05<00:16,  5.53s/it]\u001b[A"
     ]
    },
    {
     "name": "stdout",
     "output_type": "stream",
     "text": [
      "1\n",
      "86 65\n"
     ]
    },
    {
     "name": "stderr",
     "output_type": "stream",
     "text": [
      "\n",
      "\n",
      "Классификация тестовых примеров:   0%|          | 0/73 [00:00<?, ?it/s]\u001b[A\u001b[A\n",
      "\n",
      "Классификация тестовых примеров:   3%|▎         | 2/73 [00:00<00:04, 14.60it/s]\u001b[A\u001b[A"
     ]
    },
    {
     "name": "stdout",
     "output_type": "stream",
     "text": [
      "2\n",
      "104 92\n",
      "2\n",
      "100 96\n"
     ]
    },
    {
     "name": "stderr",
     "output_type": "stream",
     "text": [
      "\n",
      "\n",
      "Классификация тестовых примеров:   5%|▌         | 4/73 [00:00<00:05, 13.23it/s]"
     ]
    },
    {
     "name": "stdout",
     "output_type": "stream",
     "text": [
      "2\n",
      "104 92\n",
      "2\n",
      "59 60\n"
     ]
    },
    {
     "name": "stderr",
     "output_type": "stream",
     "text": [
      "\u001b[A\u001b[A\n",
      "\n",
      "Классификация тестовых примеров:   8%|▊         | 6/73 [00:00<00:04, 13.92it/s]\u001b[A\u001b[A"
     ]
    },
    {
     "name": "stdout",
     "output_type": "stream",
     "text": [
      "2\n",
      "85 78\n",
      "2\n",
      "101 78\n",
      "2\n",
      "98 92\n"
     ]
    },
    {
     "name": "stderr",
     "output_type": "stream",
     "text": [
      "\n",
      "\n",
      "Классификация тестовых примеров:  11%|█         | 8/73 [00:00<00:04, 13.01it/s]\u001b[A\u001b[A"
     ]
    },
    {
     "name": "stdout",
     "output_type": "stream",
     "text": [
      "2\n",
      "87 77\n",
      "2\n",
      "91 68\n",
      "2\n",
      "96 84\n"
     ]
    },
    {
     "name": "stderr",
     "output_type": "stream",
     "text": [
      "\n",
      "\n",
      "Классификация тестовых примеров:  14%|█▎        | 10/73 [00:00<00:04, 12.70it/s]\u001b[A\u001b[A\n",
      "\n",
      "Классификация тестовых примеров:  16%|█▋        | 12/73 [00:00<00:04, 12.91it/s]\u001b[A\u001b[A\n",
      "\n"
     ]
    },
    {
     "name": "stdout",
     "output_type": "stream",
     "text": [
      "2\n",
      "98 83\n",
      "2\n",
      "106 105\n",
      "2\n",
      "74 77\n",
      "2\n",
      "85 81\n"
     ]
    },
    {
     "name": "stderr",
     "output_type": "stream",
     "text": [
      "Классификация тестовых примеров:  19%|█▉        | 14/73 [00:01<00:04, 13.05it/s]\u001b[A\u001b[A\n",
      "\n",
      "Классификация тестовых примеров:  22%|██▏       | 16/73 [00:01<00:04, 13.14it/s]\u001b[A\u001b[A"
     ]
    },
    {
     "name": "stdout",
     "output_type": "stream",
     "text": [
      "2\n",
      "74 49\n",
      "2\n",
      "68 72\n",
      "2\n",
      "103 100\n",
      "2\n",
      "99 93\n"
     ]
    },
    {
     "name": "stderr",
     "output_type": "stream",
     "text": [
      "\n",
      "\n",
      "Классификация тестовых примеров:  25%|██▍       | 18/73 [00:01<00:04, 12.77it/s]\u001b[A\u001b[A\n",
      "\n",
      "Классификация тестовых примеров:  27%|██▋       | 20/73 [00:01<00:04, 12.98it/s]\u001b[A\u001b[A"
     ]
    },
    {
     "name": "stdout",
     "output_type": "stream",
     "text": [
      "2\n",
      "95 70\n",
      "2\n",
      "89 70\n",
      "2\n",
      "96 84\n"
     ]
    },
    {
     "name": "stderr",
     "output_type": "stream",
     "text": [
      "\n",
      "\n",
      "Классификация тестовых примеров:  30%|███       | 22/73 [00:01<00:03, 12.87it/s]\u001b[A\u001b[A\n",
      "\n",
      "Классификация тестовых примеров:  33%|███▎      | 24/73 [00:01<00:03, 13.18it/s]\u001b[A\u001b[A"
     ]
    },
    {
     "name": "stdout",
     "output_type": "stream",
     "text": [
      "2\n",
      "59 60\n",
      "2\n",
      "79 79\n",
      "2\n",
      "95 84\n"
     ]
    },
    {
     "name": "stderr",
     "output_type": "stream",
     "text": [
      "\n",
      "\n",
      "Классификация тестовых примеров:  36%|███▌      | 26/73 [00:01<00:03, 13.19it/s]\u001b[A\u001b[A"
     ]
    },
    {
     "name": "stdout",
     "output_type": "stream",
     "text": [
      "2\n",
      "75 59\n",
      "2\n",
      "105 98\n",
      "2\n",
      "85 78\n"
     ]
    },
    {
     "name": "stderr",
     "output_type": "stream",
     "text": [
      "\n",
      "\n",
      "Классификация тестовых примеров:  38%|███▊      | 28/73 [00:02<00:03, 13.25it/s]\u001b[A\u001b[A\n",
      "\n",
      "Классификация тестовых примеров:  41%|████      | 30/73 [00:02<00:03, 13.76it/s]\u001b[A\u001b[A"
     ]
    },
    {
     "name": "stdout",
     "output_type": "stream",
     "text": [
      "2\n",
      "85 78\n",
      "2\n",
      "75 69\n",
      "2\n",
      "54 33\n"
     ]
    },
    {
     "name": "stderr",
     "output_type": "stream",
     "text": [
      "\n",
      "\n",
      "Классификация тестовых примеров:  44%|████▍     | 32/73 [00:02<00:03, 13.60it/s]\u001b[A\u001b[A\n",
      "\n",
      "Классификация тестовых примеров:  47%|████▋     | 34/73 [00:02<00:02, 13.55it/s]\u001b[A\u001b[A"
     ]
    },
    {
     "name": "stdout",
     "output_type": "stream",
     "text": [
      "2\n",
      "91 88\n",
      "2\n",
      "66 60\n",
      "2\n",
      "96 84\n",
      "2\n",
      "104 95\n"
     ]
    },
    {
     "name": "stderr",
     "output_type": "stream",
     "text": [
      "\n",
      "\n",
      "Классификация тестовых примеров:  49%|████▉     | 36/73 [00:02<00:02, 13.46it/s]\u001b[A\u001b[A"
     ]
    },
    {
     "name": "stdout",
     "output_type": "stream",
     "text": [
      "2\n",
      "95 94\n",
      "2\n",
      "82 64\n",
      "2\n",
      "85 72\n"
     ]
    },
    {
     "name": "stderr",
     "output_type": "stream",
     "text": [
      "\n",
      "\n",
      "Классификация тестовых примеров:  52%|█████▏    | 38/73 [00:02<00:02, 13.56it/s]\u001b[A\u001b[A\n",
      "\n",
      "Классификация тестовых примеров:  55%|█████▍    | 40/73 [00:03<00:02, 13.77it/s]\u001b[A\u001b[A"
     ]
    },
    {
     "name": "stdout",
     "output_type": "stream",
     "text": [
      "2\n",
      "89 85\n",
      "2\n",
      "77 83\n",
      "2\n",
      "88 88\n",
      "2\n",
      "92 67\n"
     ]
    },
    {
     "name": "stderr",
     "output_type": "stream",
     "text": [
      "\n",
      "\n",
      "Классификация тестовых примеров:  58%|█████▊    | 42/73 [00:03<00:02, 14.08it/s]\u001b[A\u001b[A\n",
      "\n",
      "Классификация тестовых примеров:  60%|██████    | 44/73 [00:03<00:02, 13.91it/s]\u001b[A\u001b[A"
     ]
    },
    {
     "name": "stdout",
     "output_type": "stream",
     "text": [
      "2\n",
      "105 96\n",
      "2\n",
      "89 70\n",
      "2\n",
      "59 69\n",
      "2\n",
      "92 81\n"
     ]
    },
    {
     "name": "stderr",
     "output_type": "stream",
     "text": [
      "\n",
      "\n",
      "Классификация тестовых примеров:  63%|██████▎   | 46/73 [00:03<00:01, 14.19it/s]\u001b[A\u001b[A\n",
      "\n",
      "Классификация тестовых примеров:  66%|██████▌   | 48/73 [00:03<00:01, 13.98it/s]\u001b[A\u001b[A"
     ]
    },
    {
     "name": "stdout",
     "output_type": "stream",
     "text": [
      "2\n",
      "76 36\n",
      "2\n",
      "101 93\n",
      "2\n",
      "71 63\n",
      "2\n",
      "88 78\n"
     ]
    },
    {
     "name": "stderr",
     "output_type": "stream",
     "text": [
      "\n",
      "\n",
      "Классификация тестовых примеров:  68%|██████▊   | 50/73 [00:03<00:01, 13.72it/s]\u001b[A\u001b[A\n",
      "\n",
      "Классификация тестовых примеров:  71%|███████   | 52/73 [00:03<00:01, 13.63it/s]\u001b[A\u001b[A"
     ]
    },
    {
     "name": "stdout",
     "output_type": "stream",
     "text": [
      "2\n",
      "87 77\n",
      "2\n",
      "96 83\n",
      "2\n",
      "97 79\n",
      "2\n",
      "87 79\n"
     ]
    },
    {
     "name": "stderr",
     "output_type": "stream",
     "text": [
      "\n",
      "\n",
      "Классификация тестовых примеров:  74%|███████▍  | 54/73 [00:04<00:01, 13.74it/s]\u001b[A\u001b[A\n",
      "\n",
      "Классификация тестовых примеров:  77%|███████▋  | 56/73 [00:04<00:01, 14.06it/s]\u001b[A\u001b[A"
     ]
    },
    {
     "name": "stdout",
     "output_type": "stream",
     "text": [
      "2\n",
      "89 66\n",
      "2\n",
      "84 70\n",
      "2\n",
      "88 73\n",
      "2\n",
      "94 86\n"
     ]
    },
    {
     "name": "stderr",
     "output_type": "stream",
     "text": [
      "\n",
      "\n",
      "Классификация тестовых примеров:  79%|███████▉  | 58/73 [00:04<00:01, 14.14it/s]\u001b[A\u001b[A\n",
      "\n",
      "Классификация тестовых примеров:  82%|████████▏ | 60/73 [00:04<00:00, 13.48it/s]\u001b[A\u001b[A"
     ]
    },
    {
     "name": "stdout",
     "output_type": "stream",
     "text": [
      "2\n",
      "101 96\n",
      "2\n",
      "79 78\n",
      "2\n",
      "95 91\n",
      "2\n",
      "95 75\n"
     ]
    },
    {
     "name": "stderr",
     "output_type": "stream",
     "text": [
      "\n",
      "\n",
      "Классификация тестовых примеров:  85%|████████▍ | 62/73 [00:04<00:00, 13.28it/s]\u001b[A\u001b[A\n",
      "\n",
      "Классификация тестовых примеров:  88%|████████▊ | 64/73 [00:04<00:00, 13.44it/s]\u001b[A\u001b[A"
     ]
    },
    {
     "name": "stdout",
     "output_type": "stream",
     "text": [
      "2\n",
      "59 69\n",
      "2\n",
      "89 76\n",
      "2\n",
      "59 69\n"
     ]
    },
    {
     "name": "stderr",
     "output_type": "stream",
     "text": [
      "\n",
      "\n",
      "Классификация тестовых примеров:  90%|█████████ | 66/73 [00:04<00:00, 13.01it/s]\u001b[A\u001b[A\n",
      "\n",
      "Классификация тестовых примеров:  93%|█████████▎| 68/73 [00:05<00:00, 13.10it/s]\u001b[A\u001b[A"
     ]
    },
    {
     "name": "stdout",
     "output_type": "stream",
     "text": [
      "2\n",
      "105 104\n",
      "2\n",
      "97 73\n",
      "2\n",
      "93 70\n",
      "2\n",
      "92 89\n"
     ]
    },
    {
     "name": "stderr",
     "output_type": "stream",
     "text": [
      "\n",
      "\n",
      "Классификация тестовых примеров:  96%|█████████▌| 70/73 [00:05<00:00, 13.11it/s]\u001b[A\u001b[A"
     ]
    },
    {
     "name": "stdout",
     "output_type": "stream",
     "text": [
      "2\n",
      "74 43\n",
      "2\n",
      "88 78\n",
      "2\n",
      "59 60\n"
     ]
    },
    {
     "name": "stderr",
     "output_type": "stream",
     "text": [
      "\n",
      "\n",
      "Классификация тестовых примеров: 100%|██████████| 73/73 [00:05<00:00, 13.35it/s]\u001b[A\u001b[A\n",
      "\n",
      "Подбор min_cardinality:  50%|█████     | 2/4 [00:11<00:11,  5.50s/it]\u001b[A"
     ]
    },
    {
     "name": "stdout",
     "output_type": "stream",
     "text": [
      "2\n",
      "100 92\n",
      "2\n",
      "86 65\n"
     ]
    },
    {
     "name": "stderr",
     "output_type": "stream",
     "text": [
      "\n",
      "\n",
      "Классификация тестовых примеров:   0%|          | 0/73 [00:00<?, ?it/s]\u001b[A\u001b[A"
     ]
    },
    {
     "name": "stdout",
     "output_type": "stream",
     "text": [
      "3\n",
      "104 92\n"
     ]
    },
    {
     "name": "stderr",
     "output_type": "stream",
     "text": [
      "\n",
      "\n",
      "Классификация тестовых примеров:   3%|▎         | 2/73 [00:00<00:05, 13.83it/s]\u001b[A\u001b[A"
     ]
    },
    {
     "name": "stdout",
     "output_type": "stream",
     "text": [
      "3\n",
      "100 96\n",
      "3\n",
      "104 92\n"
     ]
    },
    {
     "name": "stderr",
     "output_type": "stream",
     "text": [
      "\n",
      "\n",
      "Классификация тестовых примеров:   5%|▌         | 4/73 [00:00<00:05, 12.84it/s]\u001b[A\u001b[A"
     ]
    },
    {
     "name": "stdout",
     "output_type": "stream",
     "text": [
      "3\n",
      "59 60\n"
     ]
    },
    {
     "name": "stderr",
     "output_type": "stream",
     "text": [
      "\n",
      "\n",
      "Классификация тестовых примеров:   8%|▊         | 6/73 [00:00<00:05, 12.99it/s]\u001b[A\u001b[A"
     ]
    },
    {
     "name": "stdout",
     "output_type": "stream",
     "text": [
      "3\n",
      "85 78\n",
      "3\n",
      "101 78\n",
      "3\n",
      "98 92\n"
     ]
    },
    {
     "name": "stderr",
     "output_type": "stream",
     "text": [
      "\n",
      "\n",
      "Классификация тестовых примеров:  11%|█         | 8/73 [00:00<00:04, 13.19it/s]\u001b[A\u001b[A"
     ]
    },
    {
     "name": "stdout",
     "output_type": "stream",
     "text": [
      "3\n",
      "87 77\n",
      "3\n",
      "91 68\n"
     ]
    },
    {
     "name": "stderr",
     "output_type": "stream",
     "text": [
      "\n",
      "\n",
      "Классификация тестовых примеров:  14%|█▎        | 10/73 [00:00<00:04, 13.65it/s]\u001b[A\u001b[A"
     ]
    },
    {
     "name": "stdout",
     "output_type": "stream",
     "text": [
      "3\n",
      "96 84\n"
     ]
    },
    {
     "name": "stderr",
     "output_type": "stream",
     "text": [
      "\n",
      "\n",
      "Классификация тестовых примеров:  16%|█▋        | 12/73 [00:00<00:04, 13.64it/s]\u001b[A\u001b[A"
     ]
    },
    {
     "name": "stdout",
     "output_type": "stream",
     "text": [
      "3\n",
      "98 83\n",
      "3\n",
      "106 105\n"
     ]
    },
    {
     "name": "stderr",
     "output_type": "stream",
     "text": [
      "\n",
      "\n",
      "Классификация тестовых примеров:  19%|█▉        | 14/73 [00:01<00:04, 13.03it/s]\u001b[A\u001b[A"
     ]
    },
    {
     "name": "stdout",
     "output_type": "stream",
     "text": [
      "3\n",
      "74 77\n",
      "3\n",
      "85 81\n"
     ]
    },
    {
     "name": "stderr",
     "output_type": "stream",
     "text": [
      "\n",
      "\n",
      "Классификация тестовых примеров:  22%|██▏       | 16/73 [00:01<00:04, 13.60it/s]\u001b[A\u001b[A"
     ]
    },
    {
     "name": "stdout",
     "output_type": "stream",
     "text": [
      "3\n",
      "74 49\n",
      "3\n",
      "68 72\n"
     ]
    },
    {
     "name": "stderr",
     "output_type": "stream",
     "text": [
      "\n",
      "\n",
      "Классификация тестовых примеров:  25%|██▍       | 18/73 [00:01<00:04, 13.48it/s]\u001b[A\u001b[A"
     ]
    },
    {
     "name": "stdout",
     "output_type": "stream",
     "text": [
      "3\n",
      "103 100\n",
      "3\n",
      "99 93\n",
      "3\n",
      "95 70\n"
     ]
    },
    {
     "name": "stderr",
     "output_type": "stream",
     "text": [
      "\n",
      "\n",
      "Классификация тестовых примеров:  27%|██▋       | 20/73 [00:01<00:04, 13.01it/s]\u001b[A\u001b[A"
     ]
    },
    {
     "name": "stdout",
     "output_type": "stream",
     "text": [
      "3\n",
      "89 70\n",
      "3\n",
      "96 84\n",
      "3\n",
      "59 60\n"
     ]
    },
    {
     "name": "stderr",
     "output_type": "stream",
     "text": [
      "\n",
      "\n",
      "Классификация тестовых примеров:  30%|███       | 22/73 [00:01<00:04, 12.69it/s]\u001b[A\u001b[A\n",
      "\n",
      "Классификация тестовых примеров:  33%|███▎      | 24/73 [00:01<00:04, 12.14it/s]\u001b[A\u001b[A"
     ]
    },
    {
     "name": "stdout",
     "output_type": "stream",
     "text": [
      "3\n",
      "79 79\n",
      "3\n",
      "95 84\n",
      "3\n",
      "75 59\n"
     ]
    },
    {
     "name": "stderr",
     "output_type": "stream",
     "text": [
      "\n",
      "\n",
      "Классификация тестовых примеров:  36%|███▌      | 26/73 [00:02<00:03, 11.82it/s]\u001b[A\u001b[A\n",
      "\n",
      "Классификация тестовых примеров:  38%|███▊      | 28/73 [00:02<00:03, 11.72it/s]\u001b[A\u001b[A"
     ]
    },
    {
     "name": "stdout",
     "output_type": "stream",
     "text": [
      "3\n",
      "105 98\n",
      "3\n",
      "85 78\n",
      "3\n",
      "85 78\n"
     ]
    },
    {
     "name": "stderr",
     "output_type": "stream",
     "text": [
      "\n",
      "\n",
      "Классификация тестовых примеров:  41%|████      | 30/73 [00:02<00:03, 11.54it/s]\u001b[A\u001b[A"
     ]
    },
    {
     "name": "stdout",
     "output_type": "stream",
     "text": [
      "3\n",
      "75 69\n",
      "3\n",
      "54 33\n",
      "3\n",
      "91 88\n"
     ]
    },
    {
     "name": "stderr",
     "output_type": "stream",
     "text": [
      "\n",
      "\n",
      "Классификация тестовых примеров:  44%|████▍     | 32/73 [00:02<00:03, 11.97it/s]\u001b[A\u001b[A\n",
      "\n",
      "Классификация тестовых примеров:  47%|████▋     | 34/73 [00:02<00:03, 12.03it/s]\u001b[A\u001b[A"
     ]
    },
    {
     "name": "stdout",
     "output_type": "stream",
     "text": [
      "3\n",
      "66 60\n",
      "3\n",
      "96 84\n",
      "3\n",
      "104 95\n"
     ]
    },
    {
     "name": "stderr",
     "output_type": "stream",
     "text": [
      "\n",
      "\n",
      "Классификация тестовых примеров:  49%|████▉     | 36/73 [00:02<00:03, 11.98it/s]\u001b[A\u001b[A"
     ]
    },
    {
     "name": "stdout",
     "output_type": "stream",
     "text": [
      "3\n",
      "95 94\n",
      "3\n",
      "82 64\n",
      "3\n",
      "85 72\n",
      "3\n"
     ]
    },
    {
     "name": "stderr",
     "output_type": "stream",
     "text": [
      "\n",
      "\n",
      "Классификация тестовых примеров:  52%|█████▏    | 38/73 [00:03<00:02, 12.01it/s]\u001b[A\u001b[A\n",
      "\n",
      "Классификация тестовых примеров:  55%|█████▍    | 40/73 [00:03<00:02, 12.38it/s]\u001b[A\u001b[A"
     ]
    },
    {
     "name": "stdout",
     "output_type": "stream",
     "text": [
      "89 85\n",
      "3\n",
      "77 83\n",
      "3\n",
      "88 88\n"
     ]
    },
    {
     "name": "stderr",
     "output_type": "stream",
     "text": [
      "\n",
      "\n",
      "Классификация тестовых примеров:  58%|█████▊    | 42/73 [00:03<00:02, 12.65it/s]\u001b[A\u001b[A\n",
      "\n",
      "Классификация тестовых примеров:  60%|██████    | 44/73 [00:03<00:02, 12.81it/s]\u001b[A\u001b[A"
     ]
    },
    {
     "name": "stdout",
     "output_type": "stream",
     "text": [
      "3\n",
      "92 67\n",
      "3\n",
      "105 96\n",
      "3\n",
      "89 70\n",
      "3\n",
      "59 69\n"
     ]
    },
    {
     "name": "stderr",
     "output_type": "stream",
     "text": [
      "\n",
      "\n",
      "Классификация тестовых примеров:  63%|██████▎   | 46/73 [00:03<00:02, 12.55it/s]\u001b[A\u001b[A"
     ]
    },
    {
     "name": "stdout",
     "output_type": "stream",
     "text": [
      "3\n",
      "92 81\n",
      "3\n",
      "76 36\n",
      "3\n",
      "101 93\n",
      "3\n",
      "71 63\n"
     ]
    },
    {
     "name": "stderr",
     "output_type": "stream",
     "text": [
      "\n",
      "\n",
      "Классификация тестовых примеров:  66%|██████▌   | 48/73 [00:03<00:01, 12.82it/s]\u001b[A\u001b[A\n",
      "\n",
      "Классификация тестовых примеров:  68%|██████▊   | 50/73 [00:03<00:01, 12.98it/s]\u001b[A\u001b[A"
     ]
    },
    {
     "name": "stdout",
     "output_type": "stream",
     "text": [
      "3\n",
      "88 78\n",
      "3\n",
      "87 77\n",
      "3\n",
      "96 83\n",
      "3\n",
      "97 79\n"
     ]
    },
    {
     "name": "stderr",
     "output_type": "stream",
     "text": [
      "\n",
      "\n",
      "Классификация тестовых примеров:  71%|███████   | 52/73 [00:04<00:01, 12.54it/s]\u001b[A\u001b[A\n",
      "\n",
      "Классификация тестовых примеров:  74%|███████▍  | 54/73 [00:04<00:01, 13.11it/s]\u001b[A\u001b[A\n",
      "\n"
     ]
    },
    {
     "name": "stdout",
     "output_type": "stream",
     "text": [
      "3\n",
      "87 79\n",
      "3\n",
      "89 66\n",
      "3\n",
      "84 70\n",
      "3\n",
      "88 73\n"
     ]
    },
    {
     "name": "stderr",
     "output_type": "stream",
     "text": [
      "Классификация тестовых примеров:  77%|███████▋  | 56/73 [00:04<00:01, 13.37it/s]\u001b[A\u001b[A\n",
      "\n",
      "Классификация тестовых примеров:  79%|███████▉  | 58/73 [00:04<00:01, 12.95it/s]\u001b[A\u001b[A"
     ]
    },
    {
     "name": "stdout",
     "output_type": "stream",
     "text": [
      "3\n",
      "94 86\n",
      "3\n",
      "101 96\n",
      "3\n",
      "79 78\n",
      "3\n",
      "95 91\n"
     ]
    },
    {
     "name": "stderr",
     "output_type": "stream",
     "text": [
      "\n",
      "\n",
      "Классификация тестовых примеров:  82%|████████▏ | 60/73 [00:04<00:01, 12.71it/s]\u001b[A\u001b[A\n",
      "\n",
      "Классификация тестовых примеров:  85%|████████▍ | 62/73 [00:04<00:00, 12.81it/s]\u001b[A\u001b[A"
     ]
    },
    {
     "name": "stdout",
     "output_type": "stream",
     "text": [
      "3\n",
      "95 75\n",
      "3\n",
      "59 69\n",
      "3\n",
      "89 76\n"
     ]
    },
    {
     "name": "stderr",
     "output_type": "stream",
     "text": [
      "\n",
      "\n",
      "Классификация тестовых примеров:  88%|████████▊ | 64/73 [00:05<00:00, 12.59it/s]\u001b[A\u001b[A\n",
      "\n",
      "Классификация тестовых примеров:  90%|█████████ | 66/73 [00:05<00:00, 12.50it/s]\u001b[A\u001b[A"
     ]
    },
    {
     "name": "stdout",
     "output_type": "stream",
     "text": [
      "3\n",
      "59 69\n",
      "3\n",
      "105 104\n",
      "3\n",
      "97 73\n",
      "3\n",
      "93 70\n"
     ]
    },
    {
     "name": "stderr",
     "output_type": "stream",
     "text": [
      "\n",
      "\n",
      "Классификация тестовых примеров:  93%|█████████▎| 68/73 [00:05<00:00, 12.53it/s]\u001b[A\u001b[A\n",
      "\n",
      "Классификация тестовых примеров:  96%|█████████▌| 70/73 [00:05<00:00, 12.84it/s]\u001b[A\u001b[A"
     ]
    },
    {
     "name": "stdout",
     "output_type": "stream",
     "text": [
      "3\n",
      "92 89\n",
      "3\n",
      "74 43\n",
      "3\n",
      "88 78\n",
      "3\n"
     ]
    },
    {
     "name": "stderr",
     "output_type": "stream",
     "text": [
      "\n",
      "\n",
      "Классификация тестовых примеров: 100%|██████████| 73/73 [00:05<00:00, 12.65it/s]\u001b[A\u001b[A\n",
      "\n",
      "Подбор min_cardinality:  75%|███████▌  | 3/4 [00:16<00:05,  5.63s/it]\u001b[A"
     ]
    },
    {
     "name": "stdout",
     "output_type": "stream",
     "text": [
      "59 60\n",
      "3\n",
      "100 92\n",
      "3\n",
      "86 65\n"
     ]
    },
    {
     "name": "stderr",
     "output_type": "stream",
     "text": [
      "\n",
      "\n",
      "Классификация тестовых примеров:   0%|          | 0/73 [00:00<?, ?it/s]\u001b[A\u001b[A"
     ]
    },
    {
     "name": "stdout",
     "output_type": "stream",
     "text": [
      "4\n",
      "104 92\n"
     ]
    },
    {
     "name": "stderr",
     "output_type": "stream",
     "text": [
      "\n",
      "\n",
      "Классификация тестовых примеров:   3%|▎         | 2/73 [00:00<00:05, 13.54it/s]\u001b[A\u001b[A\n",
      "\n"
     ]
    },
    {
     "name": "stdout",
     "output_type": "stream",
     "text": [
      "4\n",
      "100 96\n",
      "4\n",
      "104 92\n",
      "4\n",
      "59 60\n"
     ]
    },
    {
     "name": "stderr",
     "output_type": "stream",
     "text": [
      "Классификация тестовых примеров:   5%|▌         | 4/73 [00:00<00:04, 14.36it/s]\u001b[A\u001b[A"
     ]
    },
    {
     "name": "stdout",
     "output_type": "stream",
     "text": [
      "4"
     ]
    },
    {
     "name": "stderr",
     "output_type": "stream",
     "text": [
      "\n",
      "\n",
      "Классификация тестовых примеров:   8%|▊         | 6/73 [00:00<00:04, 13.55it/s]\u001b[A\u001b[A\n",
      "\n"
     ]
    },
    {
     "name": "stdout",
     "output_type": "stream",
     "text": [
      "\n",
      "85 78\n",
      "4\n",
      "101 78\n",
      "4\n",
      "98 92\n",
      "4\n",
      "87 77\n"
     ]
    },
    {
     "name": "stderr",
     "output_type": "stream",
     "text": [
      "Классификация тестовых примеров:  11%|█         | 8/73 [00:00<00:04, 14.32it/s]\u001b[A\u001b[A"
     ]
    },
    {
     "name": "stdout",
     "output_type": "stream",
     "text": [
      "4\n",
      "91 68\n"
     ]
    },
    {
     "name": "stderr",
     "output_type": "stream",
     "text": [
      "\n",
      "\n",
      "Классификация тестовых примеров:  14%|█▎        | 10/73 [00:00<00:04, 13.41it/s]\u001b[A\u001b[A\n",
      "\n",
      "Классификация тестовых примеров:  16%|█▋        | 12/73 [00:00<00:04, 13.88it/s]\u001b[A\u001b[A"
     ]
    },
    {
     "name": "stdout",
     "output_type": "stream",
     "text": [
      "4\n",
      "96 84\n",
      "4\n",
      "98 83\n",
      "4\n",
      "106 105\n"
     ]
    },
    {
     "name": "stderr",
     "output_type": "stream",
     "text": [
      "\n",
      "\n",
      "Классификация тестовых примеров:  19%|█▉        | 14/73 [00:01<00:04, 13.29it/s]\u001b[A\u001b[A\n",
      "\n",
      "Классификация тестовых примеров:  22%|██▏       | 16/73 [00:01<00:04, 13.31it/s]\u001b[A\u001b[A"
     ]
    },
    {
     "name": "stdout",
     "output_type": "stream",
     "text": [
      "4\n",
      "74 77\n",
      "4\n",
      "85 81\n",
      "4\n",
      "74 49\n",
      "4\n",
      "68 72\n"
     ]
    },
    {
     "name": "stderr",
     "output_type": "stream",
     "text": [
      "\n",
      "\n",
      "Классификация тестовых примеров:  25%|██▍       | 18/73 [00:01<00:04, 13.29it/s]\u001b[A\u001b[A\n",
      "\n",
      "Классификация тестовых примеров:  27%|██▋       | 20/73 [00:01<00:03, 13.27it/s]\u001b[A\u001b[A"
     ]
    },
    {
     "name": "stdout",
     "output_type": "stream",
     "text": [
      "4\n",
      "103 100\n",
      "4\n",
      "99 93\n",
      "4\n",
      "95 70\n",
      "4\n",
      "89 70\n"
     ]
    },
    {
     "name": "stderr",
     "output_type": "stream",
     "text": [
      "\n",
      "\n",
      "Классификация тестовых примеров:  30%|███       | 22/73 [00:01<00:03, 12.91it/s]\u001b[A\u001b[A\n",
      "\n",
      "Классификация тестовых примеров:  33%|███▎      | 24/73 [00:01<00:03, 12.98it/s]\u001b[A\u001b[A"
     ]
    },
    {
     "name": "stdout",
     "output_type": "stream",
     "text": [
      "4\n",
      "96 84\n",
      "4\n",
      "59 60\n",
      "4\n",
      "79 79\n",
      "4\n",
      "95 84\n"
     ]
    },
    {
     "name": "stderr",
     "output_type": "stream",
     "text": [
      "\n",
      "\n",
      "Классификация тестовых примеров:  36%|███▌      | 26/73 [00:01<00:03, 12.99it/s]\u001b[A\u001b[A\n",
      "\n",
      "Классификация тестовых примеров:  38%|███▊      | 28/73 [00:02<00:03, 13.20it/s]\u001b[A\u001b[A"
     ]
    },
    {
     "name": "stdout",
     "output_type": "stream",
     "text": [
      "4\n",
      "75 59\n",
      "4\n",
      "105 98\n",
      "4\n",
      "85 78\n",
      "4\n",
      "85 78\n"
     ]
    },
    {
     "name": "stderr",
     "output_type": "stream",
     "text": [
      "\n",
      "\n",
      "Классификация тестовых примеров:  41%|████      | 30/73 [00:02<00:03, 13.24it/s]\u001b[A\u001b[A\n",
      "\n"
     ]
    },
    {
     "name": "stdout",
     "output_type": "stream",
     "text": [
      "4\n",
      "75 69\n",
      "4\n",
      "54 33\n",
      "4\n",
      "91 88\n",
      "4\n",
      "66 60\n"
     ]
    },
    {
     "name": "stderr",
     "output_type": "stream",
     "text": [
      "Классификация тестовых примеров:  44%|████▍     | 32/73 [00:02<00:03, 13.30it/s]\u001b[A\u001b[A\n",
      "\n",
      "Классификация тестовых примеров:  47%|████▋     | 34/73 [00:02<00:02, 13.71it/s]\u001b[A\u001b[A"
     ]
    },
    {
     "name": "stdout",
     "output_type": "stream",
     "text": [
      "4\n",
      "96 84\n",
      "4\n",
      "104 95\n",
      "4\n",
      "95 94\n"
     ]
    },
    {
     "name": "stderr",
     "output_type": "stream",
     "text": [
      "\n",
      "\n",
      "Классификация тестовых примеров:  49%|████▉     | 36/73 [00:02<00:02, 12.77it/s]\u001b[A\u001b[A\n",
      "\n",
      "Классификация тестовых примеров:  52%|█████▏    | 38/73 [00:02<00:02, 12.97it/s]\u001b[A\u001b[A"
     ]
    },
    {
     "name": "stdout",
     "output_type": "stream",
     "text": [
      "4\n",
      "82 64\n",
      "4\n",
      "85 72\n",
      "4\n",
      "89 85\n"
     ]
    },
    {
     "name": "stderr",
     "output_type": "stream",
     "text": [
      "\n",
      "\n",
      "Классификация тестовых примеров:  55%|█████▍    | 40/73 [00:03<00:02, 13.03it/s]\u001b[A\u001b[A"
     ]
    },
    {
     "name": "stdout",
     "output_type": "stream",
     "text": [
      "4\n",
      "77 83\n",
      "4\n",
      "88 88\n",
      "4\n",
      "92 67\n"
     ]
    },
    {
     "name": "stderr",
     "output_type": "stream",
     "text": [
      "\n",
      "\n",
      "Классификация тестовых примеров:  58%|█████▊    | 42/73 [00:03<00:02, 13.33it/s]\u001b[A\u001b[A\n",
      "\n",
      "Классификация тестовых примеров:  60%|██████    | 44/73 [00:03<00:02, 13.15it/s]\u001b[A\u001b[A"
     ]
    },
    {
     "name": "stdout",
     "output_type": "stream",
     "text": [
      "4\n",
      "105 96\n",
      "4\n",
      "89 70\n",
      "4\n",
      "59 69\n"
     ]
    },
    {
     "name": "stderr",
     "output_type": "stream",
     "text": [
      "\n",
      "\n",
      "Классификация тестовых примеров:  63%|██████▎   | 46/73 [00:03<00:02, 13.20it/s]\u001b[A\u001b[A"
     ]
    },
    {
     "name": "stdout",
     "output_type": "stream",
     "text": [
      "4\n",
      "92 81\n",
      "4\n",
      "76 36\n",
      "4\n",
      "101 93\n"
     ]
    },
    {
     "name": "stderr",
     "output_type": "stream",
     "text": [
      "\n",
      "\n",
      "Классификация тестовых примеров:  66%|██████▌   | 48/73 [00:03<00:01, 12.68it/s]\u001b[A\u001b[A\n",
      "\n",
      "Классификация тестовых примеров:  68%|██████▊   | 50/73 [00:03<00:01, 13.02it/s]\u001b[A\u001b[A"
     ]
    },
    {
     "name": "stdout",
     "output_type": "stream",
     "text": [
      "4\n",
      "71 63\n",
      "4\n",
      "88 78\n",
      "4\n",
      "87 77\n"
     ]
    },
    {
     "name": "stderr",
     "output_type": "stream",
     "text": [
      "\n",
      "\n",
      "Классификация тестовых примеров:  71%|███████   | 52/73 [00:03<00:01, 13.03it/s]\u001b[A\u001b[A\n",
      "\n"
     ]
    },
    {
     "name": "stdout",
     "output_type": "stream",
     "text": [
      "4\n",
      "96 83\n",
      "4\n",
      "97 79\n",
      "4\n",
      "87 79\n",
      "4\n",
      "89 66\n"
     ]
    },
    {
     "name": "stderr",
     "output_type": "stream",
     "text": [
      "Классификация тестовых примеров:  74%|███████▍  | 54/73 [00:04<00:01, 13.30it/s]\u001b[A\u001b[A\n",
      "\n",
      "Классификация тестовых примеров:  77%|███████▋  | 56/73 [00:04<00:01, 12.77it/s]\u001b[A\u001b[A"
     ]
    },
    {
     "name": "stdout",
     "output_type": "stream",
     "text": [
      "4\n",
      "84 70\n",
      "4\n",
      "88 73\n",
      "4\n",
      "94 86\n",
      "4\n",
      "101 96\n"
     ]
    },
    {
     "name": "stderr",
     "output_type": "stream",
     "text": [
      "\n",
      "\n",
      "Классификация тестовых примеров:  79%|███████▉  | 58/73 [00:04<00:01, 12.90it/s]\u001b[A\u001b[A\n",
      "\n",
      "Классификация тестовых примеров:  82%|████████▏ | 60/73 [00:04<00:00, 13.53it/s]\u001b[A\u001b[A\n",
      "\n"
     ]
    },
    {
     "name": "stdout",
     "output_type": "stream",
     "text": [
      "4\n",
      "79 78\n",
      "4\n",
      "95 91\n",
      "4\n",
      "95 75\n",
      "4\n",
      "59 69\n"
     ]
    },
    {
     "name": "stderr",
     "output_type": "stream",
     "text": [
      "Классификация тестовых примеров:  85%|████████▍ | 62/73 [00:04<00:00, 13.50it/s]\u001b[A\u001b[A\n",
      "\n",
      "Классификация тестовых примеров:  88%|████████▊ | 64/73 [00:04<00:00, 13.83it/s]\u001b[A\u001b[A\n",
      "\n"
     ]
    },
    {
     "name": "stdout",
     "output_type": "stream",
     "text": [
      "4\n",
      "89 76\n",
      "4\n",
      "59 69\n",
      "4\n",
      "105 104\n",
      "4\n",
      "97 73\n"
     ]
    },
    {
     "name": "stderr",
     "output_type": "stream",
     "text": [
      "Классификация тестовых примеров:  90%|█████████ | 66/73 [00:04<00:00, 13.77it/s]\u001b[A\u001b[A\n",
      "\n",
      "Классификация тестовых примеров:  93%|█████████▎| 68/73 [00:05<00:00, 13.55it/s]\u001b[A\u001b[A\n",
      "\n"
     ]
    },
    {
     "name": "stdout",
     "output_type": "stream",
     "text": [
      "4\n",
      "93 70\n",
      "4\n",
      "92 89\n",
      "4\n",
      "74 43\n",
      "4\n",
      "88 78\n"
     ]
    },
    {
     "name": "stderr",
     "output_type": "stream",
     "text": [
      "Классификация тестовых примеров:  96%|█████████▌| 70/73 [00:05<00:00, 13.57it/s]\u001b[A\u001b[A\n",
      "\n",
      "Классификация тестовых примеров: 100%|██████████| 73/73 [00:05<00:00, 13.26it/s]\u001b[A\u001b[A\n",
      "\n",
      "Подбор min_cardinality: 100%|██████████| 4/4 [00:22<00:00,  5.59s/it]\u001b[A\n",
      "Подбор max_counter_examples:  78%|███████▊  | 7/9 [02:41<00:45, 22.68s/it]"
     ]
    },
    {
     "name": "stdout",
     "output_type": "stream",
     "text": [
      "4\n",
      "59 60\n",
      "4\n",
      "100 92\n",
      "4\n",
      "86 65\n"
     ]
    },
    {
     "name": "stderr",
     "output_type": "stream",
     "text": [
      "\n",
      "Подбор min_cardinality:   0%|          | 0/4 [00:00<?, ?it/s]\u001b[A\n",
      "\n",
      "Классификация тестовых примеров:   0%|          | 0/73 [00:00<?, ?it/s]\u001b[A\u001b[A\n",
      "\n",
      "Классификация тестовых примеров:   3%|▎         | 2/73 [00:00<00:05, 12.86it/s]\u001b[A\u001b[A"
     ]
    },
    {
     "name": "stdout",
     "output_type": "stream",
     "text": [
      "1\n",
      "104 92\n",
      "1\n",
      "100 96\n",
      "1\n",
      "104 92\n"
     ]
    },
    {
     "name": "stderr",
     "output_type": "stream",
     "text": [
      "\n",
      "\n",
      "Классификация тестовых примеров:   5%|▌         | 4/73 [00:00<00:05, 13.25it/s]\u001b[A\u001b[A\n",
      "\n",
      "Классификация тестовых примеров:   8%|▊         | 6/73 [00:00<00:05, 12.71it/s]\u001b[A\u001b[A"
     ]
    },
    {
     "name": "stdout",
     "output_type": "stream",
     "text": [
      "1\n",
      "59 60\n",
      "1\n",
      "85 78\n",
      "1\n",
      "101 78\n"
     ]
    },
    {
     "name": "stderr",
     "output_type": "stream",
     "text": [
      "\n",
      "\n",
      "Классификация тестовых примеров:  11%|█         | 8/73 [00:00<00:05, 12.83it/s]\u001b[A\u001b[A"
     ]
    },
    {
     "name": "stdout",
     "output_type": "stream",
     "text": [
      "1\n",
      "98 92\n",
      "1\n",
      "87 77\n",
      "1\n",
      "91 68\n",
      "1\n",
      "96 84\n"
     ]
    },
    {
     "name": "stderr",
     "output_type": "stream",
     "text": [
      "\n",
      "\n",
      "Классификация тестовых примеров:  14%|█▎        | 10/73 [00:00<00:04, 13.07it/s]\u001b[A\u001b[A\n",
      "\n",
      "Классификация тестовых примеров:  16%|█▋        | 12/73 [00:00<00:04, 13.17it/s]\u001b[A\u001b[A\n",
      "\n"
     ]
    },
    {
     "name": "stdout",
     "output_type": "stream",
     "text": [
      "1\n",
      "98 83\n",
      "1\n",
      "106 105\n",
      "1\n",
      "74 77\n",
      "1\n",
      "85 81\n"
     ]
    },
    {
     "name": "stderr",
     "output_type": "stream",
     "text": [
      "Классификация тестовых примеров:  19%|█▉        | 14/73 [00:01<00:04, 13.17it/s]\u001b[A\u001b[A\n",
      "\n",
      "Классификация тестовых примеров:  22%|██▏       | 16/73 [00:01<00:04, 13.69it/s]\u001b[A\u001b[A\n",
      "\n"
     ]
    },
    {
     "name": "stdout",
     "output_type": "stream",
     "text": [
      "1\n",
      "74 49\n",
      "1\n",
      "68 72\n",
      "1\n",
      "103 100\n",
      "1\n",
      "99 93\n"
     ]
    },
    {
     "name": "stderr",
     "output_type": "stream",
     "text": [
      "Классификация тестовых примеров:  25%|██▍       | 18/73 [00:01<00:04, 13.64it/s]\u001b[A\u001b[A\n",
      "\n",
      "Классификация тестовых примеров:  27%|██▋       | 20/73 [00:01<00:03, 13.97it/s]\u001b[A\u001b[A\n",
      "\n"
     ]
    },
    {
     "name": "stdout",
     "output_type": "stream",
     "text": [
      "1\n",
      "95 70\n",
      "1\n",
      "89 70\n",
      "1\n",
      "96 84\n",
      "1\n",
      "59 60\n"
     ]
    },
    {
     "name": "stderr",
     "output_type": "stream",
     "text": [
      "Классификация тестовых примеров:  30%|███       | 22/73 [00:01<00:03, 13.59it/s]\u001b[A\u001b[A\n",
      "\n",
      "Классификация тестовых примеров:  33%|███▎      | 24/73 [00:01<00:03, 13.26it/s]\u001b[A\u001b[A"
     ]
    },
    {
     "name": "stdout",
     "output_type": "stream",
     "text": [
      "1\n",
      "79 79\n",
      "1\n",
      "95 84\n",
      "1\n",
      "75 59\n"
     ]
    },
    {
     "name": "stderr",
     "output_type": "stream",
     "text": [
      "\n",
      "\n",
      "Классификация тестовых примеров:  36%|███▌      | 26/73 [00:01<00:03, 13.76it/s]\u001b[A\u001b[A\n",
      "\n",
      "Классификация тестовых примеров:  38%|███▊      | 28/73 [00:02<00:03, 13.19it/s]\u001b[A\u001b[A"
     ]
    },
    {
     "name": "stdout",
     "output_type": "stream",
     "text": [
      "1\n",
      "105 98\n",
      "1\n",
      "85 78\n",
      "1\n",
      "85 78\n",
      "1\n",
      "75 69\n"
     ]
    },
    {
     "name": "stderr",
     "output_type": "stream",
     "text": [
      "\n",
      "\n",
      "Классификация тестовых примеров:  41%|████      | 30/73 [00:02<00:03, 13.18it/s]\u001b[A\u001b[A\n",
      "\n",
      "Классификация тестовых примеров:  44%|████▍     | 32/73 [00:02<00:03, 12.90it/s]\u001b[A\u001b[A"
     ]
    },
    {
     "name": "stdout",
     "output_type": "stream",
     "text": [
      "1\n",
      "54 33\n",
      "1\n",
      "91 88\n",
      "1\n",
      "66 60\n"
     ]
    },
    {
     "name": "stderr",
     "output_type": "stream",
     "text": [
      "\n",
      "\n",
      "Классификация тестовых примеров:  47%|████▋     | 34/73 [00:02<00:03, 12.96it/s]\u001b[A\u001b[A\n",
      "\n",
      "Классификация тестовых примеров:  49%|████▉     | 36/73 [00:02<00:02, 12.68it/s]\u001b[A\u001b[A"
     ]
    },
    {
     "name": "stdout",
     "output_type": "stream",
     "text": [
      "1\n",
      "96 84\n",
      "1\n",
      "104 95\n",
      "1\n",
      "95 94\n",
      "1\n",
      "82 64\n"
     ]
    },
    {
     "name": "stderr",
     "output_type": "stream",
     "text": [
      "\n",
      "\n",
      "Классификация тестовых примеров:  52%|█████▏    | 38/73 [00:02<00:02, 12.85it/s]\u001b[A\u001b[A"
     ]
    },
    {
     "name": "stdout",
     "output_type": "stream",
     "text": [
      "1\n",
      "85 72\n",
      "1\n",
      "89 85\n",
      "1\n",
      "77 83\n"
     ]
    },
    {
     "name": "stderr",
     "output_type": "stream",
     "text": [
      "\n",
      "\n",
      "Классификация тестовых примеров:  55%|█████▍    | 40/73 [00:03<00:02, 12.99it/s]\u001b[A\u001b[A\n",
      "\n",
      "Классификация тестовых примеров:  58%|█████▊    | 42/73 [00:03<00:02, 13.12it/s]\u001b[A\u001b[A"
     ]
    },
    {
     "name": "stdout",
     "output_type": "stream",
     "text": [
      "1\n",
      "88 88\n",
      "1\n",
      "92 67\n",
      "1\n",
      "105 96\n",
      "1\n"
     ]
    },
    {
     "name": "stderr",
     "output_type": "stream",
     "text": [
      "\n",
      "\n",
      "Классификация тестовых примеров:  60%|██████    | 44/73 [00:03<00:02, 13.52it/s]\u001b[A\u001b[A\n",
      "\n",
      "Классификация тестовых примеров:  63%|██████▎   | 46/73 [00:03<00:01, 13.52it/s]\u001b[A\u001b[A"
     ]
    },
    {
     "name": "stdout",
     "output_type": "stream",
     "text": [
      "89 70\n",
      "1\n",
      "59 69\n",
      "1\n",
      "92 81\n",
      "1\n",
      "76 36\n",
      "1\n",
      "101 93\n"
     ]
    },
    {
     "name": "stderr",
     "output_type": "stream",
     "text": [
      "\n",
      "\n",
      "Классификация тестовых примеров:  66%|██████▌   | 48/73 [00:03<00:01, 13.47it/s]\u001b[A\u001b[A\n",
      "\n",
      "Классификация тестовых примеров:  68%|██████▊   | 50/73 [00:03<00:01, 13.48it/s]\u001b[A\u001b[A"
     ]
    },
    {
     "name": "stdout",
     "output_type": "stream",
     "text": [
      "1\n",
      "71 63\n",
      "1\n",
      "88 78\n",
      "1\n",
      "87 77\n"
     ]
    },
    {
     "name": "stderr",
     "output_type": "stream",
     "text": [
      "\n",
      "\n",
      "Классификация тестовых примеров:  71%|███████   | 52/73 [00:03<00:01, 13.37it/s]\u001b[A\u001b[A\n",
      "\n",
      "Классификация тестовых примеров:  74%|███████▍  | 54/73 [00:04<00:01, 13.41it/s]\u001b[A\u001b[A"
     ]
    },
    {
     "name": "stdout",
     "output_type": "stream",
     "text": [
      "1\n",
      "96 83\n",
      "1\n",
      "97 79\n",
      "1\n",
      "87 79\n",
      "1\n",
      "89 66\n"
     ]
    },
    {
     "name": "stderr",
     "output_type": "stream",
     "text": [
      "\n",
      "\n",
      "Классификация тестовых примеров:  77%|███████▋  | 56/73 [00:04<00:01, 12.80it/s]\u001b[A\u001b[A\n",
      "\n",
      "Классификация тестовых примеров:  79%|███████▉  | 58/73 [00:04<00:01, 13.13it/s]\u001b[A\u001b[A"
     ]
    },
    {
     "name": "stdout",
     "output_type": "stream",
     "text": [
      "1\n",
      "84 70\n",
      "1\n",
      "88 73\n",
      "1\n",
      "94 86\n",
      "1\n",
      "101 96\n"
     ]
    },
    {
     "name": "stderr",
     "output_type": "stream",
     "text": [
      "\n",
      "\n",
      "Классификация тестовых примеров:  82%|████████▏ | 60/73 [00:04<00:01, 12.77it/s]\u001b[A\u001b[A"
     ]
    },
    {
     "name": "stdout",
     "output_type": "stream",
     "text": [
      "1\n",
      "79 78\n",
      "1\n",
      "95 91\n",
      "1\n",
      "95 75\n",
      "1\n",
      "59 69\n"
     ]
    },
    {
     "name": "stderr",
     "output_type": "stream",
     "text": [
      "\n",
      "\n",
      "Классификация тестовых примеров:  85%|████████▍ | 62/73 [00:04<00:00, 12.98it/s]\u001b[A\u001b[A\n",
      "\n",
      "Классификация тестовых примеров:  88%|████████▊ | 64/73 [00:04<00:00, 13.02it/s]\u001b[A\u001b[A"
     ]
    },
    {
     "name": "stdout",
     "output_type": "stream",
     "text": [
      "1\n",
      "89 76\n",
      "1\n",
      "59 69\n",
      "1\n",
      "105 104\n",
      "1\n",
      "97 73\n"
     ]
    },
    {
     "name": "stderr",
     "output_type": "stream",
     "text": [
      "\n",
      "\n",
      "Классификация тестовых примеров:  90%|█████████ | 66/73 [00:05<00:00, 13.14it/s]\u001b[A\u001b[A\n",
      "\n",
      "Классификация тестовых примеров:  93%|█████████▎| 68/73 [00:05<00:00, 12.78it/s]\u001b[A\u001b[A"
     ]
    },
    {
     "name": "stdout",
     "output_type": "stream",
     "text": [
      "1\n",
      "93 70\n",
      "1\n",
      "92 89\n",
      "1\n",
      "74 43\n",
      "1\n",
      "88 78\n"
     ]
    },
    {
     "name": "stderr",
     "output_type": "stream",
     "text": [
      "\n",
      "\n",
      "Классификация тестовых примеров:  96%|█████████▌| 70/73 [00:05<00:00, 12.91it/s]\u001b[A\u001b[A\n",
      "\n",
      "Классификация тестовых примеров: 100%|██████████| 73/73 [00:05<00:00, 13.18it/s]\u001b[A\u001b[A\n",
      "\n",
      "Подбор min_cardinality:  25%|██▌       | 1/4 [00:05<00:16,  5.55s/it]\u001b[A"
     ]
    },
    {
     "name": "stdout",
     "output_type": "stream",
     "text": [
      "1\n",
      "59 60\n",
      "1\n",
      "100 92\n",
      "1\n",
      "86 65\n"
     ]
    },
    {
     "name": "stderr",
     "output_type": "stream",
     "text": [
      "\n",
      "\n",
      "Классификация тестовых примеров:   0%|          | 0/73 [00:00<?, ?it/s]\u001b[A\u001b[A"
     ]
    },
    {
     "name": "stdout",
     "output_type": "stream",
     "text": [
      "2\n",
      "104 92\n",
      "2\n",
      "100 96\n"
     ]
    },
    {
     "name": "stderr",
     "output_type": "stream",
     "text": [
      "\n",
      "\n",
      "Классификация тестовых примеров:   3%|▎         | 2/73 [00:00<00:04, 14.51it/s]\u001b[A\u001b[A\n",
      "\n",
      "Классификация тестовых примеров:   5%|▌         | 4/73 [00:00<00:04, 14.95it/s]\u001b[A\u001b[A"
     ]
    },
    {
     "name": "stdout",
     "output_type": "stream",
     "text": [
      "2\n",
      "104 92\n",
      "2\n",
      "59 60\n",
      "2\n",
      "85 78\n"
     ]
    },
    {
     "name": "stderr",
     "output_type": "stream",
     "text": [
      "\n",
      "\n",
      "Классификация тестовых примеров:   8%|▊         | 6/73 [00:00<00:04, 13.52it/s]\u001b[A\u001b[A\n",
      "\n",
      "Классификация тестовых примеров:  11%|█         | 8/73 [00:00<00:04, 14.55it/s]\u001b[A\u001b[A"
     ]
    },
    {
     "name": "stdout",
     "output_type": "stream",
     "text": [
      "2\n",
      "101 78\n",
      "2\n",
      "98 92\n",
      "2\n",
      "87 77\n",
      "2\n"
     ]
    },
    {
     "name": "stderr",
     "output_type": "stream",
     "text": [
      "\n",
      "\n",
      "Классификация тестовых примеров:  14%|█▎        | 10/73 [00:00<00:04, 13.36it/s]\u001b[A\u001b[A\n",
      "\n"
     ]
    },
    {
     "name": "stdout",
     "output_type": "stream",
     "text": [
      "91 68\n",
      "2\n",
      "96 84\n",
      "2\n",
      "98 83\n",
      "2\n",
      "106 105\n"
     ]
    },
    {
     "name": "stderr",
     "output_type": "stream",
     "text": [
      "Классификация тестовых примеров:  16%|█▋        | 12/73 [00:00<00:04, 12.65it/s]\u001b[A\u001b[A\n",
      "\n",
      "Классификация тестовых примеров:  19%|█▉        | 14/73 [00:01<00:04, 12.45it/s]\u001b[A\u001b[A"
     ]
    },
    {
     "name": "stdout",
     "output_type": "stream",
     "text": [
      "2\n",
      "74 77\n",
      "2\n",
      "85 81\n",
      "2\n",
      "74 49\n",
      "2\n",
      "68 72\n"
     ]
    },
    {
     "name": "stderr",
     "output_type": "stream",
     "text": [
      "\n",
      "\n",
      "Классификация тестовых примеров:  22%|██▏       | 16/73 [00:01<00:04, 12.29it/s]\u001b[A\u001b[A\n",
      "\n",
      "Классификация тестовых примеров:  25%|██▍       | 18/73 [00:01<00:04, 11.84it/s]\u001b[A\u001b[A"
     ]
    },
    {
     "name": "stdout",
     "output_type": "stream",
     "text": [
      "2\n",
      "103 100\n",
      "2\n",
      "99 93\n",
      "2\n",
      "95 70\n"
     ]
    },
    {
     "name": "stderr",
     "output_type": "stream",
     "text": [
      "\n",
      "\n",
      "Классификация тестовых примеров:  27%|██▋       | 20/73 [00:01<00:04, 11.87it/s]\u001b[A\u001b[A\n",
      "\n",
      "Классификация тестовых примеров:  30%|███       | 22/73 [00:01<00:04, 11.89it/s]\u001b[A\u001b[A"
     ]
    },
    {
     "name": "stdout",
     "output_type": "stream",
     "text": [
      "2\n",
      "89 70\n",
      "2\n",
      "96 84\n",
      "2\n",
      "59 60\n"
     ]
    },
    {
     "name": "stderr",
     "output_type": "stream",
     "text": [
      "\n",
      "\n",
      "Классификация тестовых примеров:  33%|███▎      | 24/73 [00:01<00:04, 11.60it/s]\u001b[A\u001b[A"
     ]
    },
    {
     "name": "stdout",
     "output_type": "stream",
     "text": [
      "2\n",
      "79 79\n",
      "2\n",
      "95 84\n",
      "2\n",
      "75 59\n"
     ]
    },
    {
     "name": "stderr",
     "output_type": "stream",
     "text": [
      "\n",
      "\n",
      "Классификация тестовых примеров:  36%|███▌      | 26/73 [00:02<00:03, 12.03it/s]\u001b[A\u001b[A\n",
      "\n",
      "Классификация тестовых примеров:  38%|███▊      | 28/73 [00:02<00:03, 12.04it/s]\u001b[A\u001b[A"
     ]
    },
    {
     "name": "stdout",
     "output_type": "stream",
     "text": [
      "2\n",
      "105 98\n",
      "2\n",
      "85 78\n",
      "2\n",
      "85 78\n"
     ]
    },
    {
     "name": "stderr",
     "output_type": "stream",
     "text": [
      "\n",
      "\n",
      "Классификация тестовых примеров:  41%|████      | 30/73 [00:02<00:03, 12.02it/s]\u001b[A\u001b[A"
     ]
    },
    {
     "name": "stdout",
     "output_type": "stream",
     "text": [
      "2\n",
      "75 69\n",
      "2\n",
      "54 33\n",
      "2\n",
      "91 88\n",
      "2\n"
     ]
    },
    {
     "name": "stderr",
     "output_type": "stream",
     "text": [
      "\n",
      "\n",
      "Классификация тестовых примеров:  44%|████▍     | 32/73 [00:02<00:03, 12.37it/s]\u001b[A\u001b[A\n",
      "\n",
      "Классификация тестовых примеров:  47%|████▋     | 34/73 [00:02<00:03, 12.68it/s]\u001b[A\u001b[A"
     ]
    },
    {
     "name": "stdout",
     "output_type": "stream",
     "text": [
      "66 60\n",
      "2\n",
      "96 84\n",
      "2\n",
      "104 95\n"
     ]
    },
    {
     "name": "stderr",
     "output_type": "stream",
     "text": [
      "\n",
      "\n",
      "Классификация тестовых примеров:  49%|████▉     | 36/73 [00:02<00:02, 12.87it/s]\u001b[A\u001b[A\n",
      "\n",
      "Классификация тестовых примеров:  52%|█████▏    | 38/73 [00:03<00:02, 12.98it/s]\u001b[A\u001b[A"
     ]
    },
    {
     "name": "stdout",
     "output_type": "stream",
     "text": [
      "2\n",
      "95 94\n",
      "2\n",
      "82 64\n",
      "2\n",
      "85 72\n",
      "2\n",
      "89 85\n"
     ]
    },
    {
     "name": "stderr",
     "output_type": "stream",
     "text": [
      "\n",
      "\n",
      "Классификация тестовых примеров:  55%|█████▍    | 40/73 [00:03<00:02, 12.72it/s]\u001b[A\u001b[A\n",
      "\n",
      "Классификация тестовых примеров:  58%|█████▊    | 42/73 [00:03<00:02, 12.87it/s]\u001b[A\u001b[A"
     ]
    },
    {
     "name": "stdout",
     "output_type": "stream",
     "text": [
      "2\n",
      "77 83\n",
      "2\n",
      "88 88\n",
      "2\n",
      "92 67\n",
      "2\n",
      "105 96\n"
     ]
    },
    {
     "name": "stderr",
     "output_type": "stream",
     "text": [
      "\n",
      "\n",
      "Классификация тестовых примеров:  60%|██████    | 44/73 [00:03<00:02, 12.96it/s]\u001b[A\u001b[A\n",
      "\n"
     ]
    },
    {
     "name": "stdout",
     "output_type": "stream",
     "text": [
      "2\n",
      "89 70\n",
      "2\n",
      "59 69\n",
      "2\n",
      "92 81\n",
      "2\n",
      "76 36\n"
     ]
    },
    {
     "name": "stderr",
     "output_type": "stream",
     "text": [
      "Классификация тестовых примеров:  63%|██████▎   | 46/73 [00:03<00:02, 13.10it/s]\u001b[A\u001b[A\n",
      "\n",
      "Классификация тестовых примеров:  66%|██████▌   | 48/73 [00:03<00:01, 13.20it/s]\u001b[A\u001b[A"
     ]
    },
    {
     "name": "stdout",
     "output_type": "stream",
     "text": [
      "2\n",
      "101 93\n",
      "2\n",
      "71 63\n",
      "2\n",
      "88 78\n"
     ]
    },
    {
     "name": "stderr",
     "output_type": "stream",
     "text": [
      "\n",
      "\n",
      "Классификация тестовых примеров:  68%|██████▊   | 50/73 [00:03<00:01, 12.79it/s]\u001b[A\u001b[A\n",
      "\n",
      "Классификация тестовых примеров:  71%|███████   | 52/73 [00:04<00:01, 12.99it/s]\u001b[A\u001b[A"
     ]
    },
    {
     "name": "stdout",
     "output_type": "stream",
     "text": [
      "2\n",
      "87 77\n",
      "2\n",
      "96 83\n",
      "2\n",
      "97 79\n"
     ]
    },
    {
     "name": "stderr",
     "output_type": "stream",
     "text": [
      "\n",
      "\n",
      "Классификация тестовых примеров:  74%|███████▍  | 54/73 [00:04<00:01, 12.24it/s]\u001b[A\u001b[A\n",
      "\n",
      "Классификация тестовых примеров:  77%|███████▋  | 56/73 [00:04<00:01, 12.58it/s]\u001b[A\u001b[A"
     ]
    },
    {
     "name": "stdout",
     "output_type": "stream",
     "text": [
      "2\n",
      "87 79\n",
      "2\n",
      "89 66\n",
      "2\n",
      "84 70\n",
      "2\n",
      "88 73\n"
     ]
    },
    {
     "name": "stderr",
     "output_type": "stream",
     "text": [
      "\n",
      "\n",
      "Классификация тестовых примеров:  79%|███████▉  | 58/73 [00:04<00:01, 12.04it/s]\u001b[A\u001b[A"
     ]
    },
    {
     "name": "stdout",
     "output_type": "stream",
     "text": [
      "2\n",
      "94 86\n",
      "2\n",
      "101 96\n",
      "2\n",
      "79 78\n"
     ]
    },
    {
     "name": "stderr",
     "output_type": "stream",
     "text": [
      "\n",
      "\n",
      "Классификация тестовых примеров:  82%|████████▏ | 60/73 [00:04<00:01, 12.38it/s]\u001b[A\u001b[A\n",
      "\n",
      "Классификация тестовых примеров:  85%|████████▍ | 62/73 [00:04<00:00, 12.69it/s]\u001b[A\u001b[A"
     ]
    },
    {
     "name": "stdout",
     "output_type": "stream",
     "text": [
      "2\n",
      "95 91\n",
      "2\n",
      "95 75\n",
      "2\n",
      "59 69\n"
     ]
    },
    {
     "name": "stderr",
     "output_type": "stream",
     "text": [
      "\n",
      "\n",
      "Классификация тестовых примеров:  88%|████████▊ | 64/73 [00:05<00:00, 12.86it/s]\u001b[A\u001b[A\n",
      "\n",
      "Классификация тестовых примеров:  90%|█████████ | 66/73 [00:05<00:00, 12.95it/s]\u001b[A\u001b[A"
     ]
    },
    {
     "name": "stdout",
     "output_type": "stream",
     "text": [
      "2\n",
      "89 76\n",
      "2\n",
      "59 69\n",
      "2\n",
      "105 104\n",
      "2\n",
      "97 73\n",
      "2\n",
      "93 70\n"
     ]
    },
    {
     "name": "stderr",
     "output_type": "stream",
     "text": [
      "\n",
      "\n",
      "Классификация тестовых примеров:  93%|█████████▎| 68/73 [00:05<00:00, 13.05it/s]\u001b[A\u001b[A\n",
      "\n",
      "Классификация тестовых примеров:  96%|█████████▌| 70/73 [00:05<00:00, 13.68it/s]\u001b[A\u001b[A"
     ]
    },
    {
     "name": "stdout",
     "output_type": "stream",
     "text": [
      "2\n",
      "92 89\n",
      "2\n",
      "74 43\n",
      "2\n",
      "88 78\n"
     ]
    },
    {
     "name": "stderr",
     "output_type": "stream",
     "text": [
      "\n",
      "\n",
      "Классификация тестовых примеров: 100%|██████████| 73/73 [00:05<00:00, 12.67it/s]\u001b[A\u001b[A\n",
      "\n",
      "Подбор min_cardinality:  50%|█████     | 2/4 [00:11<00:11,  5.68s/it]\u001b[A"
     ]
    },
    {
     "name": "stdout",
     "output_type": "stream",
     "text": [
      "2\n",
      "59 60\n",
      "2\n",
      "100 92\n",
      "2\n",
      "86 65\n"
     ]
    },
    {
     "name": "stderr",
     "output_type": "stream",
     "text": [
      "\n",
      "\n",
      "Классификация тестовых примеров:   0%|          | 0/73 [00:00<?, ?it/s]\u001b[A\u001b[A\n",
      "\n",
      "Классификация тестовых примеров:   3%|▎         | 2/73 [00:00<00:05, 13.68it/s]\u001b[A\u001b[A"
     ]
    },
    {
     "name": "stdout",
     "output_type": "stream",
     "text": [
      "3\n",
      "104 92\n",
      "3\n",
      "100 96\n",
      "3\n",
      "104 92\n"
     ]
    },
    {
     "name": "stderr",
     "output_type": "stream",
     "text": [
      "\n",
      "\n",
      "Классификация тестовых примеров:   5%|▌         | 4/73 [00:00<00:05, 13.48it/s]\u001b[A\u001b[A\n",
      "\n",
      "Классификация тестовых примеров:   8%|▊         | 6/73 [00:00<00:04, 13.42it/s]\u001b[A\u001b[A"
     ]
    },
    {
     "name": "stdout",
     "output_type": "stream",
     "text": [
      "3\n",
      "59 60\n",
      "3\n",
      "85 78\n",
      "3\n",
      "101 78\n"
     ]
    },
    {
     "name": "stderr",
     "output_type": "stream",
     "text": [
      "\n",
      "\n",
      "Классификация тестовых примеров:  11%|█         | 8/73 [00:00<00:05, 12.54it/s]\u001b[A\u001b[A\n",
      "\n",
      "Классификация тестовых примеров:  14%|█▎        | 10/73 [00:00<00:04, 12.63it/s]\u001b[A\u001b[A"
     ]
    },
    {
     "name": "stdout",
     "output_type": "stream",
     "text": [
      "3\n",
      "98 92\n",
      "3\n",
      "87 77\n",
      "3\n",
      "91 68\n",
      "3\n",
      "96 84\n"
     ]
    },
    {
     "name": "stderr",
     "output_type": "stream",
     "text": [
      "\n",
      "\n",
      "Классификация тестовых примеров:  16%|█▋        | 12/73 [00:00<00:04, 12.79it/s]\u001b[A\u001b[A\n",
      "\n"
     ]
    },
    {
     "name": "stdout",
     "output_type": "stream",
     "text": [
      "3\n",
      "98 83\n",
      "3\n",
      "106 105\n",
      "3\n",
      "74 77\n",
      "3\n",
      "85 81\n"
     ]
    },
    {
     "name": "stderr",
     "output_type": "stream",
     "text": [
      "Классификация тестовых примеров:  19%|█▉        | 14/73 [00:01<00:04, 12.99it/s]\u001b[A\u001b[A\n",
      "\n",
      "Классификация тестовых примеров:  22%|██▏       | 16/73 [00:01<00:04, 12.66it/s]\u001b[A\u001b[A"
     ]
    },
    {
     "name": "stdout",
     "output_type": "stream",
     "text": [
      "3\n",
      "74 49\n",
      "3\n",
      "68 72\n",
      "3\n",
      "103 100\n"
     ]
    },
    {
     "name": "stderr",
     "output_type": "stream",
     "text": [
      "\n",
      "\n",
      "Классификация тестовых примеров:  25%|██▍       | 18/73 [00:01<00:04, 12.90it/s]\u001b[A\u001b[A\n",
      "\n",
      "Классификация тестовых примеров:  27%|██▋       | 20/73 [00:01<00:04, 13.05it/s]\u001b[A\u001b[A"
     ]
    },
    {
     "name": "stdout",
     "output_type": "stream",
     "text": [
      "3\n",
      "99 93\n",
      "3\n",
      "95 70\n",
      "3\n",
      "89 70\n"
     ]
    },
    {
     "name": "stderr",
     "output_type": "stream",
     "text": [
      "\n",
      "\n",
      "Классификация тестовых примеров:  30%|███       | 22/73 [00:01<00:03, 13.11it/s]\u001b[A\u001b[A"
     ]
    },
    {
     "name": "stdout",
     "output_type": "stream",
     "text": [
      "3\n",
      "96 84\n",
      "3\n",
      "59 60\n",
      "3\n",
      "79 79\n"
     ]
    },
    {
     "name": "stderr",
     "output_type": "stream",
     "text": [
      "\n",
      "\n",
      "Классификация тестовых примеров:  33%|███▎      | 24/73 [00:01<00:03, 13.14it/s]\u001b[A\u001b[A\n",
      "\n",
      "Классификация тестовых примеров:  36%|███▌      | 26/73 [00:01<00:03, 13.75it/s]\u001b[A\u001b[A"
     ]
    },
    {
     "name": "stdout",
     "output_type": "stream",
     "text": [
      "3\n",
      "95 84\n",
      "3\n",
      "75 59\n",
      "3\n",
      "105 98\n"
     ]
    },
    {
     "name": "stderr",
     "output_type": "stream",
     "text": [
      "\n",
      "\n",
      "Классификация тестовых примеров:  38%|███▊      | 28/73 [00:02<00:03, 13.56it/s]\u001b[A\u001b[A"
     ]
    },
    {
     "name": "stdout",
     "output_type": "stream",
     "text": [
      "3\n",
      "85 78\n",
      "3\n",
      "85 78\n",
      "3\n",
      "75 69\n",
      "3\n"
     ]
    },
    {
     "name": "stderr",
     "output_type": "stream",
     "text": [
      "\n",
      "\n",
      "Классификация тестовых примеров:  41%|████      | 30/73 [00:02<00:03, 13.42it/s]\u001b[A\u001b[A\n",
      "\n",
      "Классификация тестовых примеров:  44%|████▍     | 32/73 [00:02<00:03, 13.43it/s]\u001b[A\u001b[A"
     ]
    },
    {
     "name": "stdout",
     "output_type": "stream",
     "text": [
      "54 33\n",
      "3\n",
      "91 88\n",
      "3\n",
      "66 60\n"
     ]
    },
    {
     "name": "stderr",
     "output_type": "stream",
     "text": [
      "\n",
      "\n",
      "Классификация тестовых примеров:  47%|████▋     | 34/73 [00:02<00:02, 13.39it/s]\u001b[A\u001b[A\n",
      "\n",
      "Классификация тестовых примеров:  49%|████▉     | 36/73 [00:02<00:02, 13.34it/s]\u001b[A\u001b[A"
     ]
    },
    {
     "name": "stdout",
     "output_type": "stream",
     "text": [
      "3\n",
      "96 84\n",
      "3\n",
      "104 95\n",
      "3\n",
      "95 94\n",
      "3\n",
      "82 64\n"
     ]
    },
    {
     "name": "stderr",
     "output_type": "stream",
     "text": [
      "\n",
      "\n",
      "Классификация тестовых примеров:  52%|█████▏    | 38/73 [00:02<00:02, 12.96it/s]\u001b[A\u001b[A"
     ]
    },
    {
     "name": "stdout",
     "output_type": "stream",
     "text": [
      "3\n",
      "85 72\n",
      "3\n",
      "89 85\n",
      "3\n",
      "77 83\n"
     ]
    },
    {
     "name": "stderr",
     "output_type": "stream",
     "text": [
      "\n",
      "\n",
      "Классификация тестовых примеров:  55%|█████▍    | 40/73 [00:03<00:02, 13.11it/s]\u001b[A\u001b[A\n",
      "\n",
      "Классификация тестовых примеров:  58%|█████▊    | 42/73 [00:03<00:02, 12.73it/s]\u001b[A\u001b[A"
     ]
    },
    {
     "name": "stdout",
     "output_type": "stream",
     "text": [
      "3\n",
      "88 88\n",
      "3\n",
      "92 67\n",
      "3\n",
      "105 96\n"
     ]
    },
    {
     "name": "stderr",
     "output_type": "stream",
     "text": [
      "\n",
      "\n",
      "Классификация тестовых примеров:  60%|██████    | 44/73 [00:03<00:02, 12.94it/s]\u001b[A\u001b[A\n",
      "\n",
      "Классификация тестовых примеров:  63%|██████▎   | 46/73 [00:03<00:02, 12.98it/s]\u001b[A\u001b[A"
     ]
    },
    {
     "name": "stdout",
     "output_type": "stream",
     "text": [
      "3\n",
      "89 70\n",
      "3\n",
      "59 69\n",
      "3\n",
      "92 81\n",
      "3\n",
      "76 36\n"
     ]
    },
    {
     "name": "stderr",
     "output_type": "stream",
     "text": [
      "\n",
      "\n",
      "Классификация тестовых примеров:  66%|██████▌   | 48/73 [00:03<00:01, 12.69it/s]\u001b[A\u001b[A"
     ]
    },
    {
     "name": "stdout",
     "output_type": "stream",
     "text": [
      "3\n",
      "101 93\n",
      "3\n",
      "71 63\n",
      "3\n",
      "88 78\n"
     ]
    },
    {
     "name": "stderr",
     "output_type": "stream",
     "text": [
      "\n",
      "\n",
      "Классификация тестовых примеров:  68%|██████▊   | 50/73 [00:03<00:01, 12.72it/s]\u001b[A\u001b[A\n",
      "\n",
      "Классификация тестовых примеров:  71%|███████   | 52/73 [00:03<00:01, 13.12it/s]\u001b[A\u001b[A"
     ]
    },
    {
     "name": "stdout",
     "output_type": "stream",
     "text": [
      "3\n",
      "87 77\n",
      "3\n",
      "96 83\n",
      "3\n",
      "97 79\n"
     ]
    },
    {
     "name": "stderr",
     "output_type": "stream",
     "text": [
      "\n",
      "\n",
      "Классификация тестовых примеров:  74%|███████▍  | 54/73 [00:04<00:01, 13.62it/s]\u001b[A\u001b[A\n",
      "\n",
      "Классификация тестовых примеров:  77%|███████▋  | 56/73 [00:04<00:01, 13.52it/s]\u001b[A\u001b[A"
     ]
    },
    {
     "name": "stdout",
     "output_type": "stream",
     "text": [
      "3\n",
      "87 79\n",
      "3\n",
      "89 66\n",
      "3\n",
      "84 70\n",
      "3\n",
      "88 73\n",
      "3\n",
      "94 86\n"
     ]
    },
    {
     "name": "stderr",
     "output_type": "stream",
     "text": [
      "\n",
      "\n",
      "Классификация тестовых примеров:  79%|███████▉  | 58/73 [00:04<00:01, 13.17it/s]\u001b[A\u001b[A\n",
      "\n",
      "Классификация тестовых примеров:  82%|████████▏ | 60/73 [00:04<00:00, 13.49it/s]\u001b[A\u001b[A"
     ]
    },
    {
     "name": "stdout",
     "output_type": "stream",
     "text": [
      "3\n",
      "101 96\n",
      "3\n",
      "79 78\n",
      "3\n",
      "95 91\n"
     ]
    },
    {
     "name": "stderr",
     "output_type": "stream",
     "text": [
      "\n",
      "\n",
      "Классификация тестовых примеров:  85%|████████▍ | 62/73 [00:04<00:00, 13.50it/s]\u001b[A\u001b[A\n",
      "\n"
     ]
    },
    {
     "name": "stdout",
     "output_type": "stream",
     "text": [
      "3\n",
      "95 75\n",
      "3\n",
      "59 69\n",
      "3\n",
      "89 76\n",
      "3\n",
      "59 69\n"
     ]
    },
    {
     "name": "stderr",
     "output_type": "stream",
     "text": [
      "Классификация тестовых примеров:  88%|████████▊ | 64/73 [00:04<00:00, 13.86it/s]\u001b[A\u001b[A\n",
      "\n",
      "Классификация тестовых примеров:  90%|█████████ | 66/73 [00:05<00:00, 13.30it/s]\u001b[A\u001b[A"
     ]
    },
    {
     "name": "stdout",
     "output_type": "stream",
     "text": [
      "3\n",
      "105 104\n",
      "3\n",
      "97 73\n",
      "3\n",
      "93 70\n",
      "3\n"
     ]
    },
    {
     "name": "stderr",
     "output_type": "stream",
     "text": [
      "\n",
      "\n",
      "Классификация тестовых примеров:  93%|█████████▎| 68/73 [00:05<00:00, 13.31it/s]\u001b[A\u001b[A\n",
      "\n",
      "Классификация тестовых примеров:  96%|█████████▌| 70/73 [00:05<00:00, 13.29it/s]\u001b[A\u001b[A"
     ]
    },
    {
     "name": "stdout",
     "output_type": "stream",
     "text": [
      "92 89\n",
      "3\n",
      "74 43\n",
      "3\n",
      "88 78\n",
      "3\n",
      "59 60\n"
     ]
    },
    {
     "name": "stderr",
     "output_type": "stream",
     "text": [
      "\n",
      "\n",
      "Классификация тестовых примеров: 100%|██████████| 73/73 [00:05<00:00, 13.15it/s]\u001b[A\u001b[A\n",
      "\n",
      "Подбор min_cardinality:  75%|███████▌  | 3/4 [00:16<00:05,  5.62s/it]\u001b[A"
     ]
    },
    {
     "name": "stdout",
     "output_type": "stream",
     "text": [
      "3\n",
      "100 92\n",
      "3\n",
      "86 65\n"
     ]
    },
    {
     "name": "stderr",
     "output_type": "stream",
     "text": [
      "\n",
      "\n",
      "Классификация тестовых примеров:   0%|          | 0/73 [00:00<?, ?it/s]\u001b[A\u001b[A"
     ]
    },
    {
     "name": "stdout",
     "output_type": "stream",
     "text": [
      "4\n",
      "104 92\n"
     ]
    },
    {
     "name": "stderr",
     "output_type": "stream",
     "text": [
      "\n",
      "\n",
      "Классификация тестовых примеров:   3%|▎         | 2/73 [00:00<00:05, 13.78it/s]\u001b[A\u001b[A"
     ]
    },
    {
     "name": "stdout",
     "output_type": "stream",
     "text": [
      "4\n",
      "100 96\n",
      "4\n",
      "104 92\n"
     ]
    },
    {
     "name": "stderr",
     "output_type": "stream",
     "text": [
      "\n",
      "\n",
      "Классификация тестовых примеров:   5%|▌         | 4/73 [00:00<00:05, 13.50it/s]\u001b[A\u001b[A"
     ]
    },
    {
     "name": "stdout",
     "output_type": "stream",
     "text": [
      "4\n",
      "59 60\n"
     ]
    },
    {
     "name": "stderr",
     "output_type": "stream",
     "text": [
      "\n",
      "\n",
      "Классификация тестовых примеров:   8%|▊         | 6/73 [00:00<00:04, 13.44it/s]\u001b[A\u001b[A"
     ]
    },
    {
     "name": "stdout",
     "output_type": "stream",
     "text": [
      "4\n",
      "85 78\n",
      "4\n",
      "101 78\n"
     ]
    },
    {
     "name": "stderr",
     "output_type": "stream",
     "text": [
      "\n",
      "\n",
      "Классификация тестовых примеров:  11%|█         | 8/73 [00:00<00:04, 13.29it/s]\u001b[A\u001b[A"
     ]
    },
    {
     "name": "stdout",
     "output_type": "stream",
     "text": [
      "4\n",
      "98 92\n",
      "4\n",
      "87 77\n",
      "4\n",
      "91 68\n",
      "4\n",
      "96 84\n"
     ]
    },
    {
     "name": "stderr",
     "output_type": "stream",
     "text": [
      "\n",
      "\n",
      "Классификация тестовых примеров:  14%|█▎        | 10/73 [00:00<00:04, 13.34it/s]\u001b[A\u001b[A\n",
      "\n",
      "Классификация тестовых примеров:  16%|█▋        | 12/73 [00:00<00:04, 13.87it/s]\u001b[A\u001b[A"
     ]
    },
    {
     "name": "stdout",
     "output_type": "stream",
     "text": [
      "4\n",
      "98 83\n",
      "4\n",
      "106 105\n",
      "4\n",
      "74 77\n",
      "4\n"
     ]
    },
    {
     "name": "stderr",
     "output_type": "stream",
     "text": [
      "\n",
      "\n",
      "Классификация тестовых примеров:  19%|█▉        | 14/73 [00:01<00:04, 13.18it/s]\u001b[A\u001b[A\n",
      "\n",
      "Классификация тестовых примеров:  22%|██▏       | 16/73 [00:01<00:04, 13.77it/s]\u001b[A\u001b[A"
     ]
    },
    {
     "name": "stdout",
     "output_type": "stream",
     "text": [
      "85 81\n",
      "4\n",
      "74 49\n",
      "4\n",
      "68 72\n"
     ]
    },
    {
     "name": "stderr",
     "output_type": "stream",
     "text": [
      "\n",
      "\n",
      "Классификация тестовых примеров:  25%|██▍       | 18/73 [00:01<00:03, 14.15it/s]\u001b[A\u001b[A\n",
      "\n",
      "Классификация тестовых примеров:  27%|██▋       | 20/73 [00:01<00:03, 13.41it/s]\u001b[A\u001b[A"
     ]
    },
    {
     "name": "stdout",
     "output_type": "stream",
     "text": [
      "4\n",
      "103 100\n",
      "4\n",
      "99 93\n",
      "4\n",
      "95 70\n",
      "4\n",
      "89 70\n"
     ]
    },
    {
     "name": "stderr",
     "output_type": "stream",
     "text": [
      "\n",
      "\n",
      "Классификация тестовых примеров:  30%|███       | 22/73 [00:01<00:03, 13.36it/s]\u001b[A\u001b[A"
     ]
    },
    {
     "name": "stdout",
     "output_type": "stream",
     "text": [
      "4\n",
      "96 84\n",
      "4\n",
      "59 60\n",
      "4\n",
      "79 79\n",
      "4\n",
      "95 84\n"
     ]
    },
    {
     "name": "stderr",
     "output_type": "stream",
     "text": [
      "\n",
      "\n",
      "Классификация тестовых примеров:  33%|███▎      | 24/73 [00:01<00:03, 13.36it/s]\u001b[A\u001b[A\n",
      "\n",
      "Классификация тестовых примеров:  36%|███▌      | 26/73 [00:01<00:03, 13.35it/s]\u001b[A\u001b[A"
     ]
    },
    {
     "name": "stdout",
     "output_type": "stream",
     "text": [
      "4\n",
      "75 59\n",
      "4\n",
      "105 98\n",
      "4\n",
      "85 78\n",
      "4\n",
      "85 78\n"
     ]
    },
    {
     "name": "stderr",
     "output_type": "stream",
     "text": [
      "\n",
      "\n",
      "Классификация тестовых примеров:  38%|███▊      | 28/73 [00:02<00:03, 13.32it/s]\u001b[A\u001b[A\n",
      "\n",
      "Классификация тестовых примеров:  41%|████      | 30/73 [00:02<00:03, 12.97it/s]\u001b[A\u001b[A\n",
      "\n"
     ]
    },
    {
     "name": "stdout",
     "output_type": "stream",
     "text": [
      "4\n",
      "75 69\n",
      "4\n",
      "54 33\n",
      "4\n",
      "91 88\n",
      "4\n",
      "66 60\n"
     ]
    },
    {
     "name": "stderr",
     "output_type": "stream",
     "text": [
      "Классификация тестовых примеров:  44%|████▍     | 32/73 [00:02<00:03, 13.46it/s]\u001b[A\u001b[A\n",
      "\n",
      "Классификация тестовых примеров:  47%|████▋     | 34/73 [00:02<00:02, 13.41it/s]\u001b[A\u001b[A"
     ]
    },
    {
     "name": "stdout",
     "output_type": "stream",
     "text": [
      "4\n",
      "96 84\n",
      "4\n",
      "104 95\n",
      "4\n",
      "95 94\n"
     ]
    },
    {
     "name": "stderr",
     "output_type": "stream",
     "text": [
      "\n",
      "\n",
      "Классификация тестовых примеров:  49%|████▉     | 36/73 [00:02<00:02, 13.43it/s]\u001b[A\u001b[A\n",
      "\n",
      "Классификация тестовых примеров:  52%|█████▏    | 38/73 [00:02<00:02, 13.81it/s]\u001b[A\u001b[A"
     ]
    },
    {
     "name": "stdout",
     "output_type": "stream",
     "text": [
      "4\n",
      "82 64\n",
      "4\n",
      "85 72\n",
      "4\n",
      "89 85\n",
      "4\n",
      "77 83\n"
     ]
    },
    {
     "name": "stderr",
     "output_type": "stream",
     "text": [
      "\n",
      "\n",
      "Классификация тестовых примеров:  55%|█████▍    | 40/73 [00:02<00:02, 13.67it/s]\u001b[A\u001b[A\n",
      "\n",
      "Классификация тестовых примеров:  58%|█████▊    | 42/73 [00:03<00:02, 13.55it/s]\u001b[A\u001b[A"
     ]
    },
    {
     "name": "stdout",
     "output_type": "stream",
     "text": [
      "4\n",
      "88 88\n",
      "4\n",
      "92 67\n",
      "4\n",
      "105 96\n",
      "4\n",
      "89 70\n"
     ]
    },
    {
     "name": "stderr",
     "output_type": "stream",
     "text": [
      "\n",
      "\n",
      "Классификация тестовых примеров:  60%|██████    | 44/73 [00:03<00:02, 13.48it/s]\u001b[A\u001b[A\n",
      "\n",
      "Классификация тестовых примеров:  63%|██████▎   | 46/73 [00:03<00:01, 13.93it/s]\u001b[A\u001b[A"
     ]
    },
    {
     "name": "stdout",
     "output_type": "stream",
     "text": [
      "4\n",
      "59 69\n",
      "4\n",
      "92 81\n",
      "4\n",
      "76 36\n"
     ]
    },
    {
     "name": "stderr",
     "output_type": "stream",
     "text": [
      "\n",
      "\n",
      "Классификация тестовых примеров:  66%|██████▌   | 48/73 [00:03<00:01, 13.32it/s]\u001b[A\u001b[A\n",
      "\n"
     ]
    },
    {
     "name": "stdout",
     "output_type": "stream",
     "text": [
      "4\n",
      "101 93\n",
      "4\n",
      "71 63\n",
      "4\n",
      "88 78\n",
      "4\n",
      "87 77\n"
     ]
    },
    {
     "name": "stderr",
     "output_type": "stream",
     "text": [
      "Классификация тестовых примеров:  68%|██████▊   | 50/73 [00:03<00:01, 13.32it/s]\u001b[A\u001b[A\n",
      "\n",
      "Классификация тестовых примеров:  71%|███████   | 52/73 [00:03<00:01, 12.93it/s]\u001b[A\u001b[A"
     ]
    },
    {
     "name": "stdout",
     "output_type": "stream",
     "text": [
      "4\n",
      "96 83\n",
      "4\n",
      "97 79\n",
      "4\n",
      "87 79\n"
     ]
    },
    {
     "name": "stderr",
     "output_type": "stream",
     "text": [
      "\n",
      "\n",
      "Классификация тестовых примеров:  74%|███████▍  | 54/73 [00:04<00:01, 12.86it/s]\u001b[A\u001b[A\n",
      "\n",
      "Классификация тестовых примеров:  77%|███████▋  | 56/73 [00:04<00:01, 13.12it/s]\u001b[A\u001b[A"
     ]
    },
    {
     "name": "stdout",
     "output_type": "stream",
     "text": [
      "4\n",
      "89 66\n",
      "4\n",
      "84 70\n",
      "4\n",
      "88 73\n"
     ]
    },
    {
     "name": "stderr",
     "output_type": "stream",
     "text": [
      "\n",
      "\n",
      "Классификация тестовых примеров:  79%|███████▉  | 58/73 [00:04<00:01, 13.20it/s]\u001b[A\u001b[A\n",
      "\n",
      "Классификация тестовых примеров:  82%|████████▏ | 60/73 [00:04<00:01, 12.87it/s]\u001b[A\u001b[A"
     ]
    },
    {
     "name": "stdout",
     "output_type": "stream",
     "text": [
      "4\n",
      "94 86\n",
      "4\n",
      "101 96\n",
      "4\n",
      "79 78\n",
      "4\n",
      "95 91\n"
     ]
    },
    {
     "name": "stderr",
     "output_type": "stream",
     "text": [
      "\n",
      "\n",
      "Классификация тестовых примеров:  85%|████████▍ | 62/73 [00:04<00:00, 12.97it/s]\u001b[A\u001b[A\n",
      "\n",
      "Классификация тестовых примеров:  88%|████████▊ | 64/73 [00:04<00:00, 13.10it/s]\u001b[A\u001b[A"
     ]
    },
    {
     "name": "stdout",
     "output_type": "stream",
     "text": [
      "4\n",
      "95 75\n",
      "4\n",
      "59 69\n",
      "4\n",
      "89 76\n",
      "4\n",
      "59 69\n"
     ]
    },
    {
     "name": "stderr",
     "output_type": "stream",
     "text": [
      "\n",
      "\n",
      "Классификация тестовых примеров:  90%|█████████ | 66/73 [00:04<00:00, 13.19it/s]\u001b[A\u001b[A\n",
      "\n",
      "Классификация тестовых примеров:  93%|█████████▎| 68/73 [00:05<00:00, 13.65it/s]\u001b[A\u001b[A"
     ]
    },
    {
     "name": "stdout",
     "output_type": "stream",
     "text": [
      "4\n",
      "105 104\n",
      "4\n",
      "97 73\n",
      "4\n",
      "93 70\n",
      "4\n",
      "92 89\n"
     ]
    },
    {
     "name": "stderr",
     "output_type": "stream",
     "text": [
      "\n",
      "\n",
      "Классификация тестовых примеров:  96%|█████████▌| 70/73 [00:05<00:00, 13.53it/s]\u001b[A\u001b[A"
     ]
    },
    {
     "name": "stdout",
     "output_type": "stream",
     "text": [
      "4\n",
      "74 43\n",
      "4\n",
      "88 78\n",
      "4\n",
      "59 60\n"
     ]
    },
    {
     "name": "stderr",
     "output_type": "stream",
     "text": [
      "\n",
      "\n",
      "Классификация тестовых примеров: 100%|██████████| 73/73 [00:05<00:00, 13.28it/s]\u001b[A\u001b[A\n",
      "\n",
      "Подбор min_cardinality: 100%|██████████| 4/4 [00:22<00:00,  5.58s/it]\u001b[A\n",
      "Подбор max_counter_examples:  89%|████████▉ | 8/9 [03:04<00:22, 22.59s/it]"
     ]
    },
    {
     "name": "stdout",
     "output_type": "stream",
     "text": [
      "4\n",
      "100 92\n",
      "4\n",
      "86 65\n"
     ]
    },
    {
     "name": "stderr",
     "output_type": "stream",
     "text": [
      "\n",
      "Подбор min_cardinality:   0%|          | 0/4 [00:00<?, ?it/s]\u001b[A\n",
      "\n",
      "Классификация тестовых примеров:   0%|          | 0/73 [00:00<?, ?it/s]\u001b[A\u001b[A\n",
      "\n",
      "Классификация тестовых примеров:   3%|▎         | 2/73 [00:00<00:05, 12.30it/s]\u001b[A\u001b[A"
     ]
    },
    {
     "name": "stdout",
     "output_type": "stream",
     "text": [
      "1\n",
      "104 92\n",
      "1\n",
      "100 96\n",
      "1\n",
      "104 92\n"
     ]
    },
    {
     "name": "stderr",
     "output_type": "stream",
     "text": [
      "\n",
      "\n",
      "Классификация тестовых примеров:   5%|▌         | 4/73 [00:00<00:05, 12.94it/s]\u001b[A\u001b[A\n",
      "\n"
     ]
    },
    {
     "name": "stdout",
     "output_type": "stream",
     "text": [
      "1\n",
      "59 60\n",
      "1\n",
      "85 78\n",
      "1\n",
      "101 78\n"
     ]
    },
    {
     "name": "stderr",
     "output_type": "stream",
     "text": [
      "Классификация тестовых примеров:   8%|▊         | 6/73 [00:00<00:05, 11.66it/s]\u001b[A\u001b[A\n",
      "\n",
      "Классификация тестовых примеров:  11%|█         | 8/73 [00:00<00:05, 12.01it/s]\u001b[A\u001b[A"
     ]
    },
    {
     "name": "stdout",
     "output_type": "stream",
     "text": [
      "1\n",
      "98 92\n",
      "1\n",
      "87 77\n",
      "1\n",
      "91 68\n"
     ]
    },
    {
     "name": "stderr",
     "output_type": "stream",
     "text": [
      "\n",
      "\n",
      "Классификация тестовых примеров:  14%|█▎        | 10/73 [00:00<00:05, 11.54it/s]\u001b[A\u001b[A\n",
      "\n",
      "Классификация тестовых примеров:  16%|█▋        | 12/73 [00:01<00:05, 11.76it/s]\u001b[A\u001b[A"
     ]
    },
    {
     "name": "stdout",
     "output_type": "stream",
     "text": [
      "1\n",
      "96 84\n",
      "1\n",
      "98 83\n",
      "1\n",
      "106 105\n"
     ]
    },
    {
     "name": "stderr",
     "output_type": "stream",
     "text": [
      "\n",
      "\n",
      "Классификация тестовых примеров:  19%|█▉        | 14/73 [00:01<00:04, 11.81it/s]\u001b[A\u001b[A"
     ]
    },
    {
     "name": "stdout",
     "output_type": "stream",
     "text": [
      "1\n",
      "74 77\n",
      "1\n",
      "85 81\n",
      "1\n",
      "74 49\n"
     ]
    },
    {
     "name": "stderr",
     "output_type": "stream",
     "text": [
      "\n",
      "\n",
      "Классификация тестовых примеров:  22%|██▏       | 16/73 [00:01<00:04, 11.90it/s]\u001b[A\u001b[A\n",
      "\n",
      "Классификация тестовых примеров:  25%|██▍       | 18/73 [00:01<00:04, 11.90it/s]"
     ]
    },
    {
     "name": "stdout",
     "output_type": "stream",
     "text": [
      "1\n",
      "68 72\n",
      "1\n",
      "103 100\n",
      "1\n",
      "99 93\n"
     ]
    },
    {
     "name": "stderr",
     "output_type": "stream",
     "text": [
      "\u001b[A\u001b[A\n",
      "\n",
      "Классификация тестовых примеров:  27%|██▋       | 20/73 [00:01<00:04, 11.59it/s]\u001b[A\u001b[A"
     ]
    },
    {
     "name": "stdout",
     "output_type": "stream",
     "text": [
      "1\n",
      "95 70\n",
      "1\n",
      "89 70\n",
      "1\n",
      "96 84\n",
      "1\n",
      "59 60\n"
     ]
    },
    {
     "name": "stderr",
     "output_type": "stream",
     "text": [
      "\n",
      "\n",
      "Классификация тестовых примеров:  30%|███       | 22/73 [00:01<00:04, 12.09it/s]\u001b[A\u001b[A\n",
      "\n",
      "Классификация тестовых примеров:  33%|███▎      | 24/73 [00:02<00:04, 11.76it/s]\u001b[A\u001b[A"
     ]
    },
    {
     "name": "stdout",
     "output_type": "stream",
     "text": [
      "1\n",
      "79 79\n",
      "1\n",
      "95 84\n",
      "1\n",
      "75 59\n",
      "1\n",
      "105 98\n"
     ]
    },
    {
     "name": "stderr",
     "output_type": "stream",
     "text": [
      "\n",
      "\n",
      "Классификация тестовых примеров:  36%|███▌      | 26/73 [00:02<00:03, 12.12it/s]\u001b[A\u001b[A\n",
      "\n",
      "Классификация тестовых примеров:  38%|███▊      | 28/73 [00:02<00:03, 12.41it/s]\u001b[A\u001b[A"
     ]
    },
    {
     "name": "stdout",
     "output_type": "stream",
     "text": [
      "1\n",
      "85 78\n",
      "1\n",
      "85 78\n",
      "1\n",
      "75 69\n",
      "1\n"
     ]
    },
    {
     "name": "stderr",
     "output_type": "stream",
     "text": [
      "\n",
      "\n",
      "Классификация тестовых примеров:  41%|████      | 30/73 [00:02<00:03, 12.36it/s]\u001b[A\u001b[A\n",
      "\n",
      "Классификация тестовых примеров:  44%|████▍     | 32/73 [00:02<00:03, 12.84it/s]\u001b[A\u001b[A"
     ]
    },
    {
     "name": "stdout",
     "output_type": "stream",
     "text": [
      "54 33\n",
      "1\n",
      "91 88\n",
      "1\n",
      "66 60\n",
      "1\n",
      "96 84\n"
     ]
    },
    {
     "name": "stderr",
     "output_type": "stream",
     "text": [
      "\n",
      "\n",
      "Классификация тестовых примеров:  47%|████▋     | 34/73 [00:02<00:02, 13.02it/s]\u001b[A\u001b[A\n",
      "\n",
      "Классификация тестовых примеров:  49%|████▉     | 36/73 [00:02<00:02, 13.30it/s]\u001b[A\u001b[A"
     ]
    },
    {
     "name": "stdout",
     "output_type": "stream",
     "text": [
      "1\n",
      "104 95\n",
      "1\n",
      "95 94\n",
      "1\n",
      "82 64\n",
      "1\n",
      "85 72\n"
     ]
    },
    {
     "name": "stderr",
     "output_type": "stream",
     "text": [
      "\n",
      "\n",
      "Классификация тестовых примеров:  52%|█████▏    | 38/73 [00:03<00:02, 12.88it/s]\u001b[A\u001b[A\n",
      "\n",
      "Классификация тестовых примеров:  55%|█████▍    | 40/73 [00:03<00:02, 12.99it/s]\u001b[A\u001b[A"
     ]
    },
    {
     "name": "stdout",
     "output_type": "stream",
     "text": [
      "1\n",
      "89 85\n",
      "1\n",
      "77 83\n",
      "1\n",
      "88 88\n"
     ]
    },
    {
     "name": "stderr",
     "output_type": "stream",
     "text": [
      "\n",
      "\n",
      "Классификация тестовых примеров:  58%|█████▊    | 42/73 [00:03<00:02, 13.09it/s]\u001b[A\u001b[A"
     ]
    },
    {
     "name": "stdout",
     "output_type": "stream",
     "text": [
      "1\n",
      "92 67\n",
      "1\n",
      "105 96\n",
      "1\n",
      "89 70\n"
     ]
    },
    {
     "name": "stderr",
     "output_type": "stream",
     "text": [
      "\n",
      "\n",
      "Классификация тестовых примеров:  60%|██████    | 44/73 [00:03<00:02, 13.13it/s]\u001b[A\u001b[A\n",
      "\n",
      "Классификация тестовых примеров:  63%|██████▎   | 46/73 [00:03<00:02, 13.27it/s]\u001b[A\u001b[A"
     ]
    },
    {
     "name": "stdout",
     "output_type": "stream",
     "text": [
      "1\n",
      "59 69\n",
      "1\n",
      "92 81\n",
      "1\n",
      "76 36\n",
      "1\n",
      "101 93\n"
     ]
    },
    {
     "name": "stderr",
     "output_type": "stream",
     "text": [
      "\n",
      "\n",
      "Классификация тестовых примеров:  66%|██████▌   | 48/73 [00:03<00:01, 13.02it/s]\u001b[A\u001b[A\n",
      "\n",
      "Классификация тестовых примеров:  68%|██████▊   | 50/73 [00:03<00:01, 13.35it/s]\u001b[A\u001b[A"
     ]
    },
    {
     "name": "stdout",
     "output_type": "stream",
     "text": [
      "1\n",
      "71 63\n",
      "1\n",
      "88 78\n",
      "1\n",
      "87 77\n"
     ]
    },
    {
     "name": "stderr",
     "output_type": "stream",
     "text": [
      "\n",
      "\n",
      "Классификация тестовых примеров:  71%|███████   | 52/73 [00:04<00:01, 12.77it/s]\u001b[A\u001b[A\n",
      "\n",
      "Классификация тестовых примеров:  74%|███████▍  | 54/73 [00:04<00:01, 13.11it/s]\u001b[A\u001b[A"
     ]
    },
    {
     "name": "stdout",
     "output_type": "stream",
     "text": [
      "1\n",
      "96 83\n",
      "1\n",
      "97 79\n",
      "1\n",
      "87 79\n",
      "1\n",
      "89 66\n"
     ]
    },
    {
     "name": "stderr",
     "output_type": "stream",
     "text": [
      "\n",
      "\n",
      "Классификация тестовых примеров:  77%|███████▋  | 56/73 [00:04<00:01, 13.10it/s]\u001b[A\u001b[A"
     ]
    },
    {
     "name": "stdout",
     "output_type": "stream",
     "text": [
      "1\n",
      "84 70\n",
      "1\n",
      "88 73\n",
      "1\n",
      "94 86\n",
      "1\n"
     ]
    },
    {
     "name": "stderr",
     "output_type": "stream",
     "text": [
      "\n",
      "\n",
      "Классификация тестовых примеров:  79%|███████▉  | 58/73 [00:04<00:01, 12.82it/s]\u001b[A\u001b[A\n",
      "\n",
      "Классификация тестовых примеров:  82%|████████▏ | 60/73 [00:04<00:01, 12.91it/s]\u001b[A\u001b[A"
     ]
    },
    {
     "name": "stdout",
     "output_type": "stream",
     "text": [
      "101 96\n",
      "1\n",
      "79 78\n",
      "1\n",
      "95 91\n",
      "1\n",
      "95 75\n"
     ]
    },
    {
     "name": "stderr",
     "output_type": "stream",
     "text": [
      "\n",
      "\n",
      "Классификация тестовых примеров:  85%|████████▍ | 62/73 [00:04<00:00, 13.28it/s]\u001b[A\u001b[A\n",
      "\n",
      "Классификация тестовых примеров:  88%|████████▊ | 64/73 [00:05<00:00, 13.36it/s]\u001b[A\u001b[A"
     ]
    },
    {
     "name": "stdout",
     "output_type": "stream",
     "text": [
      "1\n",
      "59 69\n",
      "1\n",
      "89 76\n",
      "1\n",
      "59 69\n",
      "1\n"
     ]
    },
    {
     "name": "stderr",
     "output_type": "stream",
     "text": [
      "\n",
      "\n",
      "Классификация тестовых примеров:  90%|█████████ | 66/73 [00:05<00:00, 13.01it/s]\u001b[A\u001b[A"
     ]
    },
    {
     "name": "stdout",
     "output_type": "stream",
     "text": [
      "105 104\n",
      "1\n",
      "97 73\n",
      "1\n",
      "93 70\n"
     ]
    },
    {
     "name": "stderr",
     "output_type": "stream",
     "text": [
      "\n",
      "\n",
      "Классификация тестовых примеров:  93%|█████████▎| 68/73 [00:05<00:00, 13.18it/s]\u001b[A\u001b[A\n",
      "\n",
      "Классификация тестовых примеров:  96%|█████████▌| 70/73 [00:05<00:00, 13.25it/s]\u001b[A\u001b[A"
     ]
    },
    {
     "name": "stdout",
     "output_type": "stream",
     "text": [
      "1\n",
      "92 89\n",
      "1\n",
      "74 43\n",
      "1\n",
      "88 78\n"
     ]
    },
    {
     "name": "stderr",
     "output_type": "stream",
     "text": [
      "\n",
      "\n",
      "Классификация тестовых примеров: 100%|██████████| 73/73 [00:05<00:00, 12.64it/s]\u001b[A\u001b[A\n",
      "\n",
      "Подбор min_cardinality:  25%|██▌       | 1/4 [00:05<00:17,  5.78s/it]\u001b[A"
     ]
    },
    {
     "name": "stdout",
     "output_type": "stream",
     "text": [
      "1\n",
      "59 60\n",
      "1\n",
      "100 92\n",
      "1\n",
      "86 65\n"
     ]
    },
    {
     "name": "stderr",
     "output_type": "stream",
     "text": [
      "\n",
      "\n",
      "Классификация тестовых примеров:   0%|          | 0/73 [00:00<?, ?it/s]\u001b[A\u001b[A\n",
      "\n",
      "Классификация тестовых примеров:   3%|▎         | 2/73 [00:00<00:05, 14.09it/s]\u001b[A\u001b[A"
     ]
    },
    {
     "name": "stdout",
     "output_type": "stream",
     "text": [
      "2\n",
      "104 92\n",
      "2\n",
      "100 96\n",
      "2\n",
      "104 92\n"
     ]
    },
    {
     "name": "stderr",
     "output_type": "stream",
     "text": [
      "\n",
      "\n",
      "Классификация тестовых примеров:   5%|▌         | 4/73 [00:00<00:05, 13.54it/s]\u001b[A\u001b[A\n",
      "\n",
      "Классификация тестовых примеров:   8%|▊         | 6/73 [00:00<00:05, 12.76it/s]\u001b[A\u001b[A"
     ]
    },
    {
     "name": "stdout",
     "output_type": "stream",
     "text": [
      "2\n",
      "59 60\n",
      "2\n",
      "85 78\n",
      "2\n",
      "101 78\n"
     ]
    },
    {
     "name": "stderr",
     "output_type": "stream",
     "text": [
      "\n",
      "\n",
      "Классификация тестовых примеров:  11%|█         | 8/73 [00:00<00:04, 13.02it/s]\u001b[A\u001b[A"
     ]
    },
    {
     "name": "stdout",
     "output_type": "stream",
     "text": [
      "2\n",
      "98 92\n",
      "2\n",
      "87 77\n",
      "2\n",
      "91 68\n"
     ]
    },
    {
     "name": "stderr",
     "output_type": "stream",
     "text": [
      "\n",
      "\n",
      "Классификация тестовых примеров:  14%|█▎        | 10/73 [00:00<00:05, 12.50it/s]\u001b[A\u001b[A\n",
      "\n",
      "Классификация тестовых примеров:  16%|█▋        | 12/73 [00:00<00:04, 12.95it/s]\u001b[A\u001b[A"
     ]
    },
    {
     "name": "stdout",
     "output_type": "stream",
     "text": [
      "2\n",
      "96 84\n",
      "2\n",
      "98 83\n",
      "2\n",
      "106 105\n"
     ]
    },
    {
     "name": "stderr",
     "output_type": "stream",
     "text": [
      "\n",
      "\n",
      "Классификация тестовых примеров:  19%|█▉        | 14/73 [00:01<00:04, 13.00it/s]\u001b[A\u001b[A"
     ]
    },
    {
     "name": "stdout",
     "output_type": "stream",
     "text": [
      "2\n",
      "74 77\n",
      "2\n",
      "85 81\n",
      "2\n",
      "74 49\n",
      "2\n",
      "68 72\n"
     ]
    },
    {
     "name": "stderr",
     "output_type": "stream",
     "text": [
      "\n",
      "\n",
      "Классификация тестовых примеров:  22%|██▏       | 16/73 [00:01<00:04, 13.14it/s]\u001b[A\u001b[A\n",
      "\n",
      "Классификация тестовых примеров:  25%|██▍       | 18/73 [00:01<00:04, 13.13it/s]\u001b[A\u001b[A\n",
      "\n"
     ]
    },
    {
     "name": "stdout",
     "output_type": "stream",
     "text": [
      "2\n",
      "103 100\n",
      "2\n",
      "99 93\n",
      "2\n",
      "95 70\n",
      "2\n",
      "89 70\n"
     ]
    },
    {
     "name": "stderr",
     "output_type": "stream",
     "text": [
      "Классификация тестовых примеров:  27%|██▋       | 20/73 [00:01<00:03, 13.52it/s]\u001b[A\u001b[A\n",
      "\n",
      "Классификация тестовых примеров:  30%|███       | 22/73 [00:01<00:03, 13.61it/s]\u001b[A\u001b[A"
     ]
    },
    {
     "name": "stdout",
     "output_type": "stream",
     "text": [
      "2\n",
      "96 84\n",
      "2\n",
      "59 60\n",
      "2\n",
      "79 79\n",
      "2\n"
     ]
    },
    {
     "name": "stderr",
     "output_type": "stream",
     "text": [
      "\n",
      "\n",
      "Классификация тестовых примеров:  33%|███▎      | 24/73 [00:01<00:03, 13.18it/s]\u001b[A\u001b[A\n",
      "\n",
      "Классификация тестовых примеров:  36%|███▌      | 26/73 [00:01<00:03, 13.63it/s]\u001b[A\u001b[A"
     ]
    },
    {
     "name": "stdout",
     "output_type": "stream",
     "text": [
      "95 84\n",
      "2\n",
      "75 59\n",
      "2\n",
      "105 98\n",
      "2\n",
      "85 78\n"
     ]
    },
    {
     "name": "stderr",
     "output_type": "stream",
     "text": [
      "\n",
      "\n",
      "Классификация тестовых примеров:  38%|███▊      | 28/73 [00:02<00:03, 13.42it/s]\u001b[A\u001b[A\n",
      "\n",
      "Классификация тестовых примеров:  41%|████      | 30/73 [00:02<00:03, 13.56it/s]\u001b[A\u001b[A"
     ]
    },
    {
     "name": "stdout",
     "output_type": "stream",
     "text": [
      "2\n",
      "85 78\n",
      "2\n",
      "75 69\n",
      "2\n",
      "54 33\n"
     ]
    },
    {
     "name": "stderr",
     "output_type": "stream",
     "text": [
      "\n",
      "\n",
      "Классификация тестовых примеров:  44%|████▍     | 32/73 [00:02<00:03, 13.45it/s]\u001b[A\u001b[A\n",
      "\n",
      "Классификация тестовых примеров:  47%|████▋     | 34/73 [00:02<00:02, 13.01it/s]\u001b[A\u001b[A"
     ]
    },
    {
     "name": "stdout",
     "output_type": "stream",
     "text": [
      "2\n",
      "91 88\n",
      "2\n",
      "66 60\n",
      "2\n",
      "96 84\n",
      "2\n",
      "104 95\n"
     ]
    },
    {
     "name": "stderr",
     "output_type": "stream",
     "text": [
      "\n",
      "\n",
      "Классификация тестовых примеров:  49%|████▉     | 36/73 [00:02<00:02, 13.02it/s]\u001b[A\u001b[A"
     ]
    },
    {
     "name": "stdout",
     "output_type": "stream",
     "text": [
      "2\n",
      "95 94\n",
      "2\n",
      "82 64\n",
      "2\n",
      "85 72\n"
     ]
    },
    {
     "name": "stderr",
     "output_type": "stream",
     "text": [
      "\n",
      "\n",
      "Классификация тестовых примеров:  52%|█████▏    | 38/73 [00:02<00:02, 12.75it/s]\u001b[A\u001b[A\n",
      "\n",
      "Классификация тестовых примеров:  55%|█████▍    | 40/73 [00:03<00:02, 12.96it/s]\u001b[A\u001b[A"
     ]
    },
    {
     "name": "stdout",
     "output_type": "stream",
     "text": [
      "2\n",
      "89 85\n",
      "2\n",
      "77 83\n",
      "2\n",
      "88 88\n"
     ]
    },
    {
     "name": "stderr",
     "output_type": "stream",
     "text": [
      "\n",
      "\n",
      "Классификация тестовых примеров:  58%|█████▊    | 42/73 [00:03<00:02, 13.06it/s]\u001b[A\u001b[A\n",
      "\n",
      "Классификация тестовых примеров:  60%|██████    | 44/73 [00:03<00:02, 13.09it/s]\u001b[A\u001b[A"
     ]
    },
    {
     "name": "stdout",
     "output_type": "stream",
     "text": [
      "2\n",
      "92 67\n",
      "2\n",
      "105 96\n",
      "2\n",
      "89 70\n",
      "2\n",
      "59 69\n"
     ]
    },
    {
     "name": "stderr",
     "output_type": "stream",
     "text": [
      "\n",
      "\n",
      "Классификация тестовых примеров:  63%|██████▎   | 46/73 [00:03<00:02, 13.16it/s]\u001b[A\u001b[A\n",
      "\n",
      "Классификация тестовых примеров:  66%|██████▌   | 48/73 [00:03<00:01, 13.24it/s]\u001b[A\u001b[A"
     ]
    },
    {
     "name": "stdout",
     "output_type": "stream",
     "text": [
      "2\n",
      "92 81\n",
      "2\n",
      "76 36\n",
      "2\n",
      "101 93\n",
      "2\n",
      "71 63\n"
     ]
    },
    {
     "name": "stderr",
     "output_type": "stream",
     "text": [
      "\n",
      "\n",
      "Классификация тестовых примеров:  68%|██████▊   | 50/73 [00:03<00:01, 13.70it/s]\u001b[A\u001b[A\n",
      "\n",
      "Классификация тестовых примеров:  71%|███████   | 52/73 [00:03<00:01, 13.65it/s]\u001b[A\u001b[A"
     ]
    },
    {
     "name": "stdout",
     "output_type": "stream",
     "text": [
      "2\n",
      "88 78\n",
      "2\n",
      "87 77\n",
      "2\n",
      "96 83\n",
      "2\n",
      "97 79\n"
     ]
    },
    {
     "name": "stderr",
     "output_type": "stream",
     "text": [
      "\n",
      "\n",
      "Классификация тестовых примеров:  74%|███████▍  | 54/73 [00:04<00:01, 13.55it/s]\u001b[A\u001b[A\n",
      "\n",
      "Классификация тестовых примеров:  77%|███████▋  | 56/73 [00:04<00:01, 14.40it/s]\u001b[A\u001b[A"
     ]
    },
    {
     "name": "stdout",
     "output_type": "stream",
     "text": [
      "2\n",
      "87 79\n",
      "2\n",
      "89 66\n",
      "2\n",
      "84 70\n",
      "2\n",
      "88 73\n",
      "2\n",
      "94 86\n"
     ]
    },
    {
     "name": "stderr",
     "output_type": "stream",
     "text": [
      "\n",
      "\n",
      "Классификация тестовых примеров:  79%|███████▉  | 58/73 [00:04<00:01, 13.63it/s]\u001b[A\u001b[A\n",
      "\n",
      "Классификация тестовых примеров:  82%|████████▏ | 60/73 [00:04<00:00, 13.47it/s]\u001b[A\u001b[A"
     ]
    },
    {
     "name": "stdout",
     "output_type": "stream",
     "text": [
      "2\n",
      "101 96\n",
      "2\n",
      "79 78\n",
      "2\n",
      "95 91\n",
      "2\n",
      "95 75\n"
     ]
    },
    {
     "name": "stderr",
     "output_type": "stream",
     "text": [
      "\n",
      "\n",
      "Классификация тестовых примеров:  85%|████████▍ | 62/73 [00:04<00:00, 13.43it/s]\u001b[A\u001b[A\n",
      "\n",
      "Классификация тестовых примеров:  88%|████████▊ | 64/73 [00:04<00:00, 13.06it/s]\u001b[A\u001b[A"
     ]
    },
    {
     "name": "stdout",
     "output_type": "stream",
     "text": [
      "2\n",
      "59 69\n",
      "2\n",
      "89 76\n",
      "2\n",
      "59 69\n"
     ]
    },
    {
     "name": "stderr",
     "output_type": "stream",
     "text": [
      "\n",
      "\n",
      "Классификация тестовых примеров:  90%|█████████ | 66/73 [00:04<00:00, 12.86it/s]\u001b[A\u001b[A\n",
      "\n"
     ]
    },
    {
     "name": "stdout",
     "output_type": "stream",
     "text": [
      "2\n",
      "105 104\n",
      "2\n",
      "97 73\n",
      "2\n",
      "93 70\n",
      "2\n",
      "92 89\n"
     ]
    },
    {
     "name": "stderr",
     "output_type": "stream",
     "text": [
      "Классификация тестовых примеров:  93%|█████████▎| 68/73 [00:05<00:00, 13.30it/s]\u001b[A\u001b[A\n",
      "\n",
      "Классификация тестовых примеров:  96%|█████████▌| 70/73 [00:05<00:00, 13.23it/s]\u001b[A\u001b[A"
     ]
    },
    {
     "name": "stdout",
     "output_type": "stream",
     "text": [
      "2\n",
      "74 43\n",
      "2\n",
      "88 78\n",
      "2\n",
      "59 60\n",
      "2\n",
      "100 92\n"
     ]
    },
    {
     "name": "stderr",
     "output_type": "stream",
     "text": [
      "\n",
      "\n",
      "Классификация тестовых примеров: 100%|██████████| 73/73 [00:05<00:00, 13.22it/s]\u001b[A\u001b[A\n",
      "\n",
      "Подбор min_cardinality:  50%|█████     | 2/4 [00:11<00:11,  5.63s/it]\u001b[A"
     ]
    },
    {
     "name": "stdout",
     "output_type": "stream",
     "text": [
      "2\n",
      "86 65\n"
     ]
    },
    {
     "name": "stderr",
     "output_type": "stream",
     "text": [
      "\n",
      "\n",
      "Классификация тестовых примеров:   0%|          | 0/73 [00:00<?, ?it/s]\u001b[A\u001b[A\n",
      "\n",
      "Классификация тестовых примеров:   3%|▎         | 2/73 [00:00<00:04, 15.60it/s]\u001b[A\u001b[A"
     ]
    },
    {
     "name": "stdout",
     "output_type": "stream",
     "text": [
      "3\n",
      "104 92\n",
      "3\n",
      "100 96\n"
     ]
    },
    {
     "name": "stderr",
     "output_type": "stream",
     "text": [
      "\n",
      "\n"
     ]
    },
    {
     "name": "stdout",
     "output_type": "stream",
     "text": [
      "3\n",
      "104 92\n",
      "3\n",
      "59 60\n"
     ]
    },
    {
     "name": "stderr",
     "output_type": "stream",
     "text": [
      "Классификация тестовых примеров:   5%|▌         | 4/73 [00:00<00:04, 14.24it/s]\u001b[A\u001b[A\n",
      "\n",
      "Классификация тестовых примеров:   8%|▊         | 6/73 [00:00<00:04, 13.88it/s]\u001b[A\u001b[A"
     ]
    },
    {
     "name": "stdout",
     "output_type": "stream",
     "text": [
      "3\n",
      "85 78\n",
      "3\n",
      "101 78\n"
     ]
    },
    {
     "name": "stderr",
     "output_type": "stream",
     "text": [
      "\n",
      "\n",
      "Классификация тестовых примеров:  11%|█         | 8/73 [00:00<00:04, 13.64it/s]\u001b[A\u001b[A"
     ]
    },
    {
     "name": "stdout",
     "output_type": "stream",
     "text": [
      "3\n",
      "98 92\n",
      "3\n",
      "87 77\n"
     ]
    },
    {
     "name": "stderr",
     "output_type": "stream",
     "text": [
      "\n",
      "\n",
      "Классификация тестовых примеров:  14%|█▎        | 10/73 [00:00<00:04, 13.47it/s]\u001b[A\u001b[A"
     ]
    },
    {
     "name": "stdout",
     "output_type": "stream",
     "text": [
      "3\n",
      "91 68\n",
      "3\n",
      "96 84\n"
     ]
    },
    {
     "name": "stderr",
     "output_type": "stream",
     "text": [
      "\n",
      "\n",
      "Классификация тестовых примеров:  16%|█▋        | 12/73 [00:00<00:04, 13.42it/s]\u001b[A\u001b[A"
     ]
    },
    {
     "name": "stdout",
     "output_type": "stream",
     "text": [
      "3\n",
      "98 83\n",
      "3\n",
      "106 105\n",
      "3\n",
      "74 77\n",
      "3\n",
      "85 81\n"
     ]
    },
    {
     "name": "stderr",
     "output_type": "stream",
     "text": [
      "\n",
      "\n",
      "Классификация тестовых примеров:  19%|█▉        | 14/73 [00:01<00:04, 13.33it/s]\u001b[A\u001b[A"
     ]
    },
    {
     "name": "stdout",
     "output_type": "stream",
     "text": [
      "3\n",
      "74 49\n",
      "3\n"
     ]
    },
    {
     "name": "stderr",
     "output_type": "stream",
     "text": [
      "\n",
      "\n",
      "Классификация тестовых примеров:  22%|██▏       | 16/73 [00:01<00:04, 12.96it/s]\u001b[A\u001b[A"
     ]
    },
    {
     "name": "stdout",
     "output_type": "stream",
     "text": [
      "68 72\n",
      "3\n",
      "103 100\n",
      "3\n",
      "99 93\n"
     ]
    },
    {
     "name": "stderr",
     "output_type": "stream",
     "text": [
      "\n",
      "\n",
      "Классификация тестовых примеров:  25%|██▍       | 18/73 [00:01<00:04, 13.09it/s]\u001b[A\u001b[A\n",
      "\n",
      "Классификация тестовых примеров:  27%|██▋       | 20/73 [00:01<00:04, 13.10it/s]\u001b[A\u001b[A"
     ]
    },
    {
     "name": "stdout",
     "output_type": "stream",
     "text": [
      "3\n",
      "95 70\n",
      "3\n",
      "89 70\n",
      "3\n",
      "96 84\n"
     ]
    },
    {
     "name": "stderr",
     "output_type": "stream",
     "text": [
      "\n",
      "\n",
      "Классификация тестовых примеров:  30%|███       | 22/73 [00:01<00:03, 12.81it/s]\u001b[A\u001b[A\n",
      "\n",
      "Классификация тестовых примеров:  33%|███▎      | 24/73 [00:01<00:03, 12.98it/s]\u001b[A\u001b[A"
     ]
    },
    {
     "name": "stdout",
     "output_type": "stream",
     "text": [
      "3\n",
      "59 60\n",
      "3\n",
      "79 79\n",
      "3\n",
      "95 84\n"
     ]
    },
    {
     "name": "stderr",
     "output_type": "stream",
     "text": [
      "\n",
      "\n",
      "Классификация тестовых примеров:  36%|███▌      | 26/73 [00:01<00:03, 13.06it/s]\u001b[A\u001b[A\n",
      "\n",
      "Классификация тестовых примеров:  38%|███▊      | 28/73 [00:02<00:03, 12.59it/s]\u001b[A\u001b[A"
     ]
    },
    {
     "name": "stdout",
     "output_type": "stream",
     "text": [
      "3\n",
      "75 59\n",
      "3\n",
      "105 98\n",
      "3\n",
      "85 78\n",
      "3\n",
      "85 78\n",
      "3\n",
      "75 69\n"
     ]
    },
    {
     "name": "stderr",
     "output_type": "stream",
     "text": [
      "\n",
      "\n",
      "Классификация тестовых примеров:  41%|████      | 30/73 [00:02<00:03, 12.92it/s]\u001b[A\u001b[A\n",
      "\n",
      "Классификация тестовых примеров:  44%|████▍     | 32/73 [00:02<00:03, 13.20it/s]\u001b[A\u001b[A"
     ]
    },
    {
     "name": "stdout",
     "output_type": "stream",
     "text": [
      "3\n",
      "54 33\n",
      "3\n",
      "91 88\n",
      "3\n",
      "66 60\n",
      "3\n",
      "96 84\n"
     ]
    },
    {
     "name": "stderr",
     "output_type": "stream",
     "text": [
      "\n",
      "\n",
      "Классификация тестовых примеров:  47%|████▋     | 34/73 [00:02<00:02, 13.54it/s]\u001b[A\u001b[A\n",
      "\n",
      "Классификация тестовых примеров:  49%|████▉     | 36/73 [00:02<00:02, 13.91it/s]\u001b[A\u001b[A"
     ]
    },
    {
     "name": "stdout",
     "output_type": "stream",
     "text": [
      "3\n",
      "104 95\n",
      "3\n",
      "95 94\n",
      "3\n",
      "82 64\n"
     ]
    },
    {
     "name": "stderr",
     "output_type": "stream",
     "text": [
      "\n",
      "\n",
      "Классификация тестовых примеров:  52%|█████▏    | 38/73 [00:02<00:02, 13.25it/s]\u001b[A\u001b[A"
     ]
    },
    {
     "name": "stdout",
     "output_type": "stream",
     "text": [
      "3\n",
      "85 72\n",
      "3\n",
      "89 85\n",
      "3\n",
      "77 83\n"
     ]
    },
    {
     "name": "stderr",
     "output_type": "stream",
     "text": [
      "\n",
      "\n",
      "Классификация тестовых примеров:  55%|█████▍    | 40/73 [00:03<00:02, 13.30it/s]\u001b[A\u001b[A\n",
      "\n",
      "Классификация тестовых примеров:  58%|█████▊    | 42/73 [00:03<00:02, 13.37it/s]\u001b[A\u001b[A"
     ]
    },
    {
     "name": "stdout",
     "output_type": "stream",
     "text": [
      "3\n",
      "88 88\n",
      "3\n",
      "92 67\n",
      "3\n",
      "105 96\n"
     ]
    },
    {
     "name": "stderr",
     "output_type": "stream",
     "text": [
      "\n",
      "\n",
      "Классификация тестовых примеров:  60%|██████    | 44/73 [00:03<00:02, 12.14it/s]\u001b[A\u001b[A"
     ]
    },
    {
     "name": "stdout",
     "output_type": "stream",
     "text": [
      "3\n",
      "89 70\n",
      "3\n",
      "59 69\n",
      "3\n",
      "92 81\n",
      "3\n",
      "76 36\n"
     ]
    },
    {
     "name": "stderr",
     "output_type": "stream",
     "text": [
      "\n",
      "\n",
      "Классификация тестовых примеров:  63%|██████▎   | 46/73 [00:03<00:02, 12.46it/s]\u001b[A\u001b[A\n",
      "\n",
      "Классификация тестовых примеров:  66%|██████▌   | 48/73 [00:03<00:02, 12.37it/s]\u001b[A\u001b[A\n",
      "\n"
     ]
    },
    {
     "name": "stdout",
     "output_type": "stream",
     "text": [
      "3\n",
      "101 93\n",
      "3\n",
      "71 63\n",
      "3\n",
      "88 78\n",
      "3\n",
      "87 77\n"
     ]
    },
    {
     "name": "stderr",
     "output_type": "stream",
     "text": [
      "Классификация тестовых примеров:  68%|██████▊   | 50/73 [00:03<00:01, 12.58it/s]\u001b[A\u001b[A\n",
      "\n",
      "Классификация тестовых примеров:  71%|███████   | 52/73 [00:03<00:01, 12.44it/s]\u001b[A\u001b[A"
     ]
    },
    {
     "name": "stdout",
     "output_type": "stream",
     "text": [
      "3\n",
      "96 83\n",
      "3\n",
      "97 79\n",
      "3\n",
      "87 79\n",
      "3\n",
      "89 66\n"
     ]
    },
    {
     "name": "stderr",
     "output_type": "stream",
     "text": [
      "\n",
      "\n",
      "Классификация тестовых примеров:  74%|███████▍  | 54/73 [00:04<00:01, 12.68it/s]\u001b[A\u001b[A\n",
      "\n",
      "Классификация тестовых примеров:  77%|███████▋  | 56/73 [00:04<00:01, 12.82it/s]\u001b[A\u001b[A"
     ]
    },
    {
     "name": "stdout",
     "output_type": "stream",
     "text": [
      "3\n",
      "84 70\n",
      "3\n",
      "88 73\n",
      "3\n",
      "94 86\n",
      "3\n"
     ]
    },
    {
     "name": "stderr",
     "output_type": "stream",
     "text": [
      "\n",
      "\n",
      "Классификация тестовых примеров:  79%|███████▉  | 58/73 [00:04<00:01, 12.58it/s]\u001b[A\u001b[A\n",
      "\n",
      "Классификация тестовых примеров:  82%|████████▏ | 60/73 [00:04<00:01, 12.83it/s]\u001b[A\u001b[A"
     ]
    },
    {
     "name": "stdout",
     "output_type": "stream",
     "text": [
      "101 96\n",
      "3\n",
      "79 78\n",
      "3\n",
      "95 91\n"
     ]
    },
    {
     "name": "stderr",
     "output_type": "stream",
     "text": [
      "\n",
      "\n",
      "Классификация тестовых примеров:  85%|████████▍ | 62/73 [00:04<00:00, 12.55it/s]\u001b[A\u001b[A\n",
      "\n"
     ]
    },
    {
     "name": "stdout",
     "output_type": "stream",
     "text": [
      "3\n",
      "95 75\n",
      "3\n",
      "59 69\n",
      "3\n",
      "89 76\n",
      "3\n",
      "59 69\n"
     ]
    },
    {
     "name": "stderr",
     "output_type": "stream",
     "text": [
      "Классификация тестовых примеров:  88%|████████▊ | 64/73 [00:04<00:00, 12.83it/s]\u001b[A\u001b[A\n",
      "\n",
      "Классификация тестовых примеров:  90%|█████████ | 66/73 [00:05<00:00, 12.55it/s]\u001b[A\u001b[A\n",
      "\n"
     ]
    },
    {
     "name": "stdout",
     "output_type": "stream",
     "text": [
      "3\n",
      "105 104\n",
      "3\n",
      "97 73\n",
      "3\n",
      "93 70\n",
      "3\n",
      "92 89\n"
     ]
    },
    {
     "name": "stderr",
     "output_type": "stream",
     "text": [
      "Классификация тестовых примеров:  93%|█████████▎| 68/73 [00:05<00:00, 12.81it/s]\u001b[A\u001b[A\n",
      "\n",
      "Классификация тестовых примеров:  96%|█████████▌| 70/73 [00:05<00:00, 12.54it/s]\u001b[A\u001b[A"
     ]
    },
    {
     "name": "stdout",
     "output_type": "stream",
     "text": [
      "3\n",
      "74 43\n",
      "3\n",
      "88 78\n",
      "3\n",
      "59 60\n"
     ]
    },
    {
     "name": "stderr",
     "output_type": "stream",
     "text": [
      "\n",
      "\n",
      "Классификация тестовых примеров: 100%|██████████| 73/73 [00:05<00:00, 12.90it/s]\u001b[A\u001b[A\n",
      "\n",
      "Подбор min_cardinality:  75%|███████▌  | 3/4 [00:16<00:05,  5.65s/it]\u001b[A"
     ]
    },
    {
     "name": "stdout",
     "output_type": "stream",
     "text": [
      "3\n",
      "100 92\n",
      "3\n",
      "86 65\n"
     ]
    },
    {
     "name": "stderr",
     "output_type": "stream",
     "text": [
      "\n",
      "\n",
      "Классификация тестовых примеров:   0%|          | 0/73 [00:00<?, ?it/s]\u001b[A\u001b[A"
     ]
    },
    {
     "name": "stdout",
     "output_type": "stream",
     "text": [
      "4\n",
      "104 92\n"
     ]
    },
    {
     "name": "stderr",
     "output_type": "stream",
     "text": [
      "\n",
      "\n",
      "Классификация тестовых примеров:   3%|▎         | 2/73 [00:00<00:04, 14.76it/s]\u001b[A\u001b[A"
     ]
    },
    {
     "name": "stdout",
     "output_type": "stream",
     "text": [
      "4\n",
      "100 96\n",
      "4\n",
      "104 92\n"
     ]
    },
    {
     "name": "stderr",
     "output_type": "stream",
     "text": [
      "\n",
      "\n",
      "Классификация тестовых примеров:   5%|▌         | 4/73 [00:00<00:05, 12.92it/s]\u001b[A\u001b[A"
     ]
    },
    {
     "name": "stdout",
     "output_type": "stream",
     "text": [
      "4\n",
      "59 60\n"
     ]
    },
    {
     "name": "stderr",
     "output_type": "stream",
     "text": [
      "\n",
      "\n",
      "Классификация тестовых примеров:   8%|▊         | 6/73 [00:00<00:05, 12.49it/s]\u001b[A\u001b[A"
     ]
    },
    {
     "name": "stdout",
     "output_type": "stream",
     "text": [
      "4\n",
      "85 78\n",
      "4\n",
      "101 78\n",
      "4\n",
      "98 92\n"
     ]
    },
    {
     "name": "stderr",
     "output_type": "stream",
     "text": [
      "\n",
      "\n",
      "Классификация тестовых примеров:  11%|█         | 8/73 [00:00<00:05, 11.82it/s]\u001b[A\u001b[A"
     ]
    },
    {
     "name": "stdout",
     "output_type": "stream",
     "text": [
      "4\n",
      "87 77\n",
      "4\n",
      "91 68\n"
     ]
    },
    {
     "name": "stderr",
     "output_type": "stream",
     "text": [
      "\n",
      "\n",
      "Классификация тестовых примеров:  14%|█▎        | 10/73 [00:00<00:05, 11.93it/s]"
     ]
    },
    {
     "name": "stdout",
     "output_type": "stream",
     "text": [
      "4\n",
      "96 84\n"
     ]
    },
    {
     "name": "stderr",
     "output_type": "stream",
     "text": [
      "\u001b[A\u001b[A\n",
      "\n",
      "Классификация тестовых примеров:  16%|█▋        | 12/73 [00:00<00:05, 11.93it/s]\u001b[A\u001b[A"
     ]
    },
    {
     "name": "stdout",
     "output_type": "stream",
     "text": [
      "4\n",
      "98 83\n",
      "4\n",
      "106 105\n",
      "4\n",
      "74 77\n"
     ]
    },
    {
     "name": "stderr",
     "output_type": "stream",
     "text": [
      "\n",
      "\n",
      "Классификация тестовых примеров:  19%|█▉        | 14/73 [00:01<00:05, 11.55it/s]\u001b[A\u001b[A"
     ]
    },
    {
     "name": "stdout",
     "output_type": "stream",
     "text": [
      "4\n",
      "85 81\n",
      "4\n",
      "74 49\n"
     ]
    },
    {
     "name": "stderr",
     "output_type": "stream",
     "text": [
      "\n",
      "\n",
      "Классификация тестовых примеров:  22%|██▏       | 16/73 [00:01<00:04, 11.71it/s]\u001b[A\u001b[A"
     ]
    },
    {
     "name": "stdout",
     "output_type": "stream",
     "text": [
      "4\n",
      "68 72\n"
     ]
    },
    {
     "name": "stderr",
     "output_type": "stream",
     "text": [
      "\n",
      "\n",
      "Классификация тестовых примеров:  25%|██▍       | 18/73 [00:01<00:04, 11.75it/s]\u001b[A\u001b[A"
     ]
    },
    {
     "name": "stdout",
     "output_type": "stream",
     "text": [
      "4\n",
      "103 100\n",
      "4\n",
      "99 93\n",
      "4\n",
      "95 70\n",
      "4\n",
      "89 70\n"
     ]
    },
    {
     "name": "stderr",
     "output_type": "stream",
     "text": [
      "\n",
      "\n",
      "Классификация тестовых примеров:  27%|██▋       | 20/73 [00:01<00:04, 12.17it/s]\u001b[A\u001b[A"
     ]
    },
    {
     "name": "stdout",
     "output_type": "stream",
     "text": [
      "4\n",
      "96 84\n"
     ]
    },
    {
     "name": "stderr",
     "output_type": "stream",
     "text": [
      "\n",
      "\n",
      "Классификация тестовых примеров:  30%|███       | 22/73 [00:01<00:04, 12.53it/s]\u001b[A\u001b[A\n",
      "\n"
     ]
    },
    {
     "name": "stdout",
     "output_type": "stream",
     "text": [
      "4\n",
      "59 60\n",
      "4\n",
      "79 79\n",
      "4\n",
      "95 84\n"
     ]
    },
    {
     "name": "stderr",
     "output_type": "stream",
     "text": [
      "Классификация тестовых примеров:  33%|███▎      | 24/73 [00:01<00:03, 12.61it/s]\u001b[A\u001b[A\n",
      "\n",
      "Классификация тестовых примеров:  36%|███▌      | 26/73 [00:02<00:03, 13.00it/s]\u001b[A\u001b[A\n",
      "\n"
     ]
    },
    {
     "name": "stdout",
     "output_type": "stream",
     "text": [
      "4\n",
      "75 59\n",
      "4\n",
      "105 98\n",
      "4\n",
      "85 78\n",
      "4\n",
      "85 78\n"
     ]
    },
    {
     "name": "stderr",
     "output_type": "stream",
     "text": [
      "Классификация тестовых примеров:  38%|███▊      | 28/73 [00:02<00:03, 13.13it/s]\u001b[A\u001b[A\n",
      "\n",
      "Классификация тестовых примеров:  41%|████      | 30/73 [00:02<00:03, 13.30it/s]\u001b[A\u001b[A\n",
      "\n",
      "Классификация тестовых примеров:  44%|████▍     | 32/73 [00:02<00:02, 13.71it/s]\u001b[A\u001b[A"
     ]
    },
    {
     "name": "stdout",
     "output_type": "stream",
     "text": [
      "4\n",
      "75 69\n",
      "4\n",
      "54 33\n",
      "4\n",
      "91 88\n",
      "4\n",
      "66 60\n"
     ]
    },
    {
     "name": "stderr",
     "output_type": "stream",
     "text": [
      "\n",
      "\n",
      "Классификация тестовых примеров:  47%|████▋     | 34/73 [00:02<00:02, 14.00it/s]\u001b[A\u001b[A"
     ]
    },
    {
     "name": "stdout",
     "output_type": "stream",
     "text": [
      "4\n",
      "96 84\n",
      "4\n",
      "104 95\n",
      "4\n",
      "95 94\n",
      "4\n"
     ]
    },
    {
     "name": "stderr",
     "output_type": "stream",
     "text": [
      "\n",
      "\n",
      "Классификация тестовых примеров:  49%|████▉     | 36/73 [00:02<00:02, 13.36it/s]\u001b[A\u001b[A\n",
      "\n",
      "Классификация тестовых примеров:  52%|█████▏    | 38/73 [00:02<00:02, 13.75it/s]\u001b[A\u001b[A"
     ]
    },
    {
     "name": "stdout",
     "output_type": "stream",
     "text": [
      "82 64\n",
      "4\n",
      "85 72\n",
      "4\n",
      "89 85\n",
      "4\n"
     ]
    },
    {
     "name": "stderr",
     "output_type": "stream",
     "text": [
      "\n",
      "\n",
      "Классификация тестовых примеров:  55%|█████▍    | 40/73 [00:03<00:02, 13.67it/s]\u001b[A\u001b[A\n",
      "\n",
      "Классификация тестовых примеров:  58%|█████▊    | 42/73 [00:03<00:02, 13.57it/s]\u001b[A\u001b[A"
     ]
    },
    {
     "name": "stdout",
     "output_type": "stream",
     "text": [
      "77 83\n",
      "4\n",
      "88 88\n",
      "4\n",
      "92 67\n",
      "4\n",
      "105 96\n"
     ]
    },
    {
     "name": "stderr",
     "output_type": "stream",
     "text": [
      "\n",
      "\n",
      "Классификация тестовых примеров:  60%|██████    | 44/73 [00:03<00:02, 13.00it/s]\u001b[A\u001b[A\n",
      "\n",
      "Классификация тестовых примеров:  63%|██████▎   | 46/73 [00:03<00:02, 13.16it/s]\u001b[A\u001b[A"
     ]
    },
    {
     "name": "stdout",
     "output_type": "stream",
     "text": [
      "4\n",
      "89 70\n",
      "4\n",
      "59 69\n",
      "4\n",
      "92 81\n",
      "4\n",
      "76 36\n"
     ]
    },
    {
     "name": "stderr",
     "output_type": "stream",
     "text": [
      "\n",
      "\n",
      "Классификация тестовых примеров:  66%|██████▌   | 48/73 [00:03<00:01, 13.16it/s]\u001b[A\u001b[A"
     ]
    },
    {
     "name": "stdout",
     "output_type": "stream",
     "text": [
      "4\n",
      "101 93\n",
      "4\n",
      "71 63\n",
      "4\n",
      "88 78\n",
      "4\n"
     ]
    },
    {
     "name": "stderr",
     "output_type": "stream",
     "text": [
      "\n",
      "\n",
      "Классификация тестовых примеров:  68%|██████▊   | 50/73 [00:03<00:01, 12.87it/s]\u001b[A\u001b[A\n",
      "\n",
      "Классификация тестовых примеров:  71%|███████   | 52/73 [00:04<00:01, 12.98it/s]\u001b[A\u001b[A"
     ]
    },
    {
     "name": "stdout",
     "output_type": "stream",
     "text": [
      "87 77\n",
      "4\n",
      "96 83\n",
      "4\n",
      "97 79\n"
     ]
    },
    {
     "name": "stderr",
     "output_type": "stream",
     "text": [
      "\n",
      "\n",
      "Классификация тестовых примеров:  74%|███████▍  | 54/73 [00:04<00:01, 12.65it/s]\u001b[A\u001b[A"
     ]
    },
    {
     "name": "stdout",
     "output_type": "stream",
     "text": [
      "4\n",
      "87 79\n",
      "4\n",
      "89 66\n",
      "4\n",
      "84 70\n",
      "4\n",
      "88 73\n"
     ]
    },
    {
     "name": "stderr",
     "output_type": "stream",
     "text": [
      "\n",
      "\n",
      "Классификация тестовых примеров:  77%|███████▋  | 56/73 [00:04<00:01, 12.91it/s]\u001b[A\u001b[A\n",
      "\n",
      "Классификация тестовых примеров:  79%|███████▉  | 58/73 [00:04<00:01, 12.96it/s]\u001b[A\u001b[A"
     ]
    },
    {
     "name": "stdout",
     "output_type": "stream",
     "text": [
      "4\n",
      "94 86\n",
      "4\n",
      "101 96\n",
      "4\n",
      "79 78\n"
     ]
    },
    {
     "name": "stderr",
     "output_type": "stream",
     "text": [
      "\n",
      "\n",
      "Классификация тестовых примеров:  82%|████████▏ | 60/73 [00:04<00:00, 13.50it/s]\u001b[A\u001b[A\n",
      "\n",
      "Классификация тестовых примеров:  85%|████████▍ | 62/73 [00:04<00:00, 13.43it/s]\u001b[A\u001b[A"
     ]
    },
    {
     "name": "stdout",
     "output_type": "stream",
     "text": [
      "4\n",
      "95 91\n",
      "4\n",
      "95 75\n",
      "4\n",
      "59 69\n"
     ]
    },
    {
     "name": "stderr",
     "output_type": "stream",
     "text": [
      "\n",
      "\n",
      "Классификация тестовых примеров:  88%|████████▊ | 64/73 [00:04<00:00, 13.47it/s]\u001b[A\u001b[A\n",
      "\n",
      "Классификация тестовых примеров:  90%|█████████ | 66/73 [00:05<00:00, 13.38it/s]\u001b[A\u001b[A"
     ]
    },
    {
     "name": "stdout",
     "output_type": "stream",
     "text": [
      "4\n",
      "89 76\n",
      "4\n",
      "59 69\n",
      "4\n",
      "105 104\n",
      "4\n",
      "97 73\n"
     ]
    },
    {
     "name": "stderr",
     "output_type": "stream",
     "text": [
      "\n",
      "\n",
      "Классификация тестовых примеров:  93%|█████████▎| 68/73 [00:05<00:00, 13.45it/s]\u001b[A\u001b[A\n",
      "\n",
      "Классификация тестовых примеров:  96%|█████████▌| 70/73 [00:05<00:00, 13.36it/s]\u001b[A\u001b[A"
     ]
    },
    {
     "name": "stdout",
     "output_type": "stream",
     "text": [
      "4\n",
      "93 70\n",
      "4\n",
      "92 89\n",
      "4\n",
      "74 43\n",
      "4\n",
      "88 78\n"
     ]
    },
    {
     "name": "stderr",
     "output_type": "stream",
     "text": [
      "\n",
      "\n",
      "Классификация тестовых примеров: 100%|██████████| 73/73 [00:05<00:00, 12.94it/s]\u001b[A\u001b[A\n",
      "\n",
      "Подбор min_cardinality: 100%|██████████| 4/4 [00:22<00:00,  5.65s/it]\u001b[A\n",
      "Подбор max_counter_examples: 100%|██████████| 9/9 [03:26<00:00, 22.99s/it]\n"
     ]
    },
    {
     "name": "stdout",
     "output_type": "stream",
     "text": [
      "4\n",
      "59 60\n",
      "4\n",
      "100 92\n",
      "4\n",
      "86 65\n",
      "Лучшие параметры: {'max_counter_examples': 1, 'min_cardinality': 1}, F1-Score: 0.79\n"
     ]
    },
    {
     "name": "stderr",
     "output_type": "stream",
     "text": [
      "\r",
      "Классификация тестовых примеров:   0%|          | 0/73 [00:00<?, ?it/s]"
     ]
    },
    {
     "name": "stdout",
     "output_type": "stream",
     "text": [
      "1"
     ]
    },
    {
     "name": "stderr",
     "output_type": "stream",
     "text": [
      "\r",
      "Классификация тестовых примеров:   3%|▎         | 2/73 [00:00<00:05, 13.76it/s]"
     ]
    },
    {
     "name": "stdout",
     "output_type": "stream",
     "text": [
      "\n",
      "104 92\n",
      "1\n",
      "100 96\n",
      "1\n",
      "104 92\n",
      "1\n",
      "59 60\n"
     ]
    },
    {
     "name": "stderr",
     "output_type": "stream",
     "text": [
      "Классификация тестовых примеров:  11%|█         | 8/73 [00:00<00:04, 13.31it/s]"
     ]
    },
    {
     "name": "stdout",
     "output_type": "stream",
     "text": [
      "1\n",
      "85 78\n",
      "1\n",
      "101 78\n",
      "1\n",
      "98 92\n",
      "1\n",
      "87 77\n"
     ]
    },
    {
     "name": "stderr",
     "output_type": "stream",
     "text": [
      "Классификация тестовых примеров:  16%|█▋        | 12/73 [00:00<00:04, 13.78it/s]"
     ]
    },
    {
     "name": "stdout",
     "output_type": "stream",
     "text": [
      "1\n",
      "91 68\n",
      "1\n",
      "96 84\n",
      "1\n",
      "98 83\n",
      "1\n",
      "106 105\n",
      "1\n",
      "74 77\n"
     ]
    },
    {
     "name": "stderr",
     "output_type": "stream",
     "text": [
      "Классификация тестовых примеров:  22%|██▏       | 16/73 [00:01<00:04, 14.18it/s]"
     ]
    },
    {
     "name": "stdout",
     "output_type": "stream",
     "text": [
      "1\n",
      "85 81\n",
      "1\n",
      "74 49\n",
      "1\n",
      "68 72\n",
      "1\n",
      "103 100\n"
     ]
    },
    {
     "name": "stderr",
     "output_type": "stream",
     "text": [
      "Классификация тестовых примеров:  29%|██▉       | 21/73 [00:01<00:03, 16.75it/s]"
     ]
    },
    {
     "name": "stdout",
     "output_type": "stream",
     "text": [
      "1\n",
      "99 93\n",
      "1\n",
      "95 70\n",
      "1\n",
      "89 70\n",
      "1\n",
      "96 84\n",
      "1\n",
      "59 60\n",
      "1\n",
      "79 79\n"
     ]
    },
    {
     "name": "stderr",
     "output_type": "stream",
     "text": [
      "Классификация тестовых примеров:  36%|███▌      | 26/73 [00:01<00:02, 17.25it/s]"
     ]
    },
    {
     "name": "stdout",
     "output_type": "stream",
     "text": [
      "1\n",
      "95 84\n",
      "1\n",
      "75 59\n",
      "1\n",
      "105 98\n",
      "1\n",
      "85 78\n"
     ]
    },
    {
     "name": "stderr",
     "output_type": "stream",
     "text": [
      "Классификация тестовых примеров:  41%|████      | 30/73 [00:01<00:02, 15.41it/s]"
     ]
    },
    {
     "name": "stdout",
     "output_type": "stream",
     "text": [
      "1\n",
      "85 78\n",
      "1\n",
      "75 69\n",
      "1\n",
      "54 33\n",
      "1\n",
      "91 88\n"
     ]
    },
    {
     "name": "stderr",
     "output_type": "stream",
     "text": [
      "Классификация тестовых примеров:  47%|████▋     | 34/73 [00:02<00:02, 14.71it/s]"
     ]
    },
    {
     "name": "stdout",
     "output_type": "stream",
     "text": [
      "1\n",
      "66 60\n",
      "1\n",
      "96 84\n",
      "1\n",
      "104 95\n",
      "1\n",
      "95 94\n"
     ]
    },
    {
     "name": "stderr",
     "output_type": "stream",
     "text": [
      "Классификация тестовых примеров:  52%|█████▏    | 38/73 [00:02<00:02, 13.83it/s]"
     ]
    },
    {
     "name": "stdout",
     "output_type": "stream",
     "text": [
      "1\n",
      "82 64\n",
      "1\n",
      "85 72\n",
      "1\n",
      "89 85\n"
     ]
    },
    {
     "name": "stderr",
     "output_type": "stream",
     "text": [
      "Классификация тестовых примеров:  58%|█████▊    | 42/73 [00:02<00:02, 13.71it/s]"
     ]
    },
    {
     "name": "stdout",
     "output_type": "stream",
     "text": [
      "1\n",
      "77 83\n",
      "1\n",
      "88 88\n",
      "1\n",
      "92 67\n",
      "1\n",
      "105 96\n"
     ]
    },
    {
     "name": "stderr",
     "output_type": "stream",
     "text": [
      "\r",
      "Классификация тестовых примеров:  60%|██████    | 44/73 [00:02<00:02, 14.00it/s]"
     ]
    },
    {
     "name": "stdout",
     "output_type": "stream",
     "text": [
      "1\n",
      "89 70\n",
      "1\n",
      "59 69\n",
      "1\n",
      "92 81\n",
      "1\n"
     ]
    },
    {
     "name": "stderr",
     "output_type": "stream",
     "text": [
      "Классификация тестовых примеров:  66%|██████▌   | 48/73 [00:03<00:01, 14.05it/s]"
     ]
    },
    {
     "name": "stdout",
     "output_type": "stream",
     "text": [
      "76 36\n",
      "1\n",
      "101 93\n",
      "1\n",
      "71 63\n",
      "1\n",
      "88 78\n"
     ]
    },
    {
     "name": "stderr",
     "output_type": "stream",
     "text": [
      "Классификация тестовых примеров:  71%|███████   | 52/73 [00:03<00:01, 14.10it/s]"
     ]
    },
    {
     "name": "stdout",
     "output_type": "stream",
     "text": [
      "1\n",
      "87 77\n",
      "1\n",
      "96 83\n",
      "1\n",
      "97 79\n",
      "1\n",
      "87 79\n",
      "1\n",
      "89 66\n"
     ]
    },
    {
     "name": "stderr",
     "output_type": "stream",
     "text": [
      "Классификация тестовых примеров:  79%|███████▉  | 58/73 [00:03<00:01, 14.07it/s]"
     ]
    },
    {
     "name": "stdout",
     "output_type": "stream",
     "text": [
      "1\n",
      "84 70\n",
      "1\n",
      "88 73\n",
      "1\n",
      "94 86\n",
      "1\n",
      "101 96\n"
     ]
    },
    {
     "name": "stderr",
     "output_type": "stream",
     "text": [
      "Классификация тестовых примеров:  85%|████████▍ | 62/73 [00:04<00:00, 13.85it/s]"
     ]
    },
    {
     "name": "stdout",
     "output_type": "stream",
     "text": [
      "1\n",
      "79 78\n",
      "1\n",
      "95 91\n",
      "1\n",
      "95 75\n",
      "1\n",
      "59 69\n",
      "1\n",
      "89 76\n"
     ]
    },
    {
     "name": "stderr",
     "output_type": "stream",
     "text": [
      "Классификация тестовых примеров:  90%|█████████ | 66/73 [00:04<00:00, 13.88it/s]"
     ]
    },
    {
     "name": "stdout",
     "output_type": "stream",
     "text": [
      "1\n",
      "59 69\n",
      "1\n",
      "105 104\n",
      "1\n",
      "97 73\n",
      "1\n",
      "93 70\n"
     ]
    },
    {
     "name": "stderr",
     "output_type": "stream",
     "text": [
      "Классификация тестовых примеров:  96%|█████████▌| 70/73 [00:04<00:00, 14.43it/s]"
     ]
    },
    {
     "name": "stdout",
     "output_type": "stream",
     "text": [
      "1\n",
      "92 89\n",
      "1\n",
      "74 43\n",
      "1\n",
      "88 78\n",
      "1\n",
      "59 60\n",
      "1\n",
      "100 92\n"
     ]
    },
    {
     "name": "stderr",
     "output_type": "stream",
     "text": [
      "Классификация тестовых примеров: 100%|██████████| 73/73 [00:04<00:00, 14.61it/s]"
     ]
    },
    {
     "name": "stdout",
     "output_type": "stream",
     "text": [
      "1\n",
      "86 65\n",
      "Итоговая оценка модели:\n",
      "              precision    recall  f1-score   support\n",
      "\n",
      "           0       0.00      0.00      0.00        25\n",
      "           1       0.66      1.00      0.79        48\n",
      "\n",
      "    accuracy                           0.66        73\n",
      "   macro avg       0.33      0.50      0.40        73\n",
      "weighted avg       0.43      0.66      0.52        73\n",
      "\n"
     ]
    },
    {
     "name": "stderr",
     "output_type": "stream",
     "text": [
      "\n",
      "C:\\ProgramData\\Anaconda3\\lib\\site-packages\\sklearn\\metrics\\_classification.py:1318: UndefinedMetricWarning: Precision and F-score are ill-defined and being set to 0.0 in labels with no predicted samples. Use `zero_division` parameter to control this behavior.\n",
      "  _warn_prf(average, modifier, msg_start, len(result))\n",
      "C:\\ProgramData\\Anaconda3\\lib\\site-packages\\sklearn\\metrics\\_classification.py:1318: UndefinedMetricWarning: Precision and F-score are ill-defined and being set to 0.0 in labels with no predicted samples. Use `zero_division` parameter to control this behavior.\n",
      "  _warn_prf(average, modifier, msg_start, len(result))\n",
      "C:\\ProgramData\\Anaconda3\\lib\\site-packages\\sklearn\\metrics\\_classification.py:1318: UndefinedMetricWarning: Precision and F-score are ill-defined and being set to 0.0 in labels with no predicted samples. Use `zero_division` parameter to control this behavior.\n",
      "  _warn_prf(average, modifier, msg_start, len(result))\n"
     ]
    }
   ],
   "source": [
    "import pandas as pd\n",
    "from sklearn.model_selection import train_test_split\n",
    "from sklearn.metrics import classification_report, f1_score\n",
    "from imblearn.over_sampling import RandomOverSampler\n",
    "from tqdm import tqdm  # Импорт tqdm для отображения прогресса\n",
    "\n",
    "# Разделение данных на признаки и целевую переменную\n",
    "X = data.drop(columns=['quality'])  # Удаляем ненужные колонки\n",
    "y = data['quality']\n",
    "\n",
    "# Разбиение на тренировочную и тестовую выборки\n",
    "X_train, X_test, y_train, y_test = train_test_split(X, y, test_size=0.3, random_state=42, stratify=y)\n",
    "\n",
    "# Выделение положительных и отрицательных примеров в тренировочном наборе\n",
    "C_plus = X_train[y_train == 1]\n",
    "C_minus = X_train[y_train == 0]\n",
    "\n",
    "print(f\"Количество положительных примеров (C+): {C_plus_balanced.shape[0]}\")\n",
    "print(f\"Количество отрицательных примеров (C-): {C_minus_balanced.shape[0]}\")\n",
    "\n",
    "# Реализация Lazy FCA классификатора\n",
    "def lazy_fca_classification(C_plus, C_minus, X_test, max_counter_examples=0, min_cardinality=1):\n",
    "    \"\"\"\n",
    "    Реализация метода Lazy FCA для классификации.\n",
    "\n",
    "    Параметры:\n",
    "    - C_plus: DataFrame с положительными примерами (контекст C+).\n",
    "    - C_minus: DataFrame с отрицательными примерами (контекст C-).\n",
    "    - X_test: DataFrame с тестовыми примерами.\n",
    "    - max_counter_examples: Максимально допустимое число контрпримеров.\n",
    "    - min_cardinality: Минимальный размер пересечения.\n",
    "\n",
    "    Возвращает:\n",
    "    - predictions: Список предсказанных меток для тестовых примеров.\n",
    "    \"\"\"\n",
    "    predictions = []\n",
    "\n",
    "    for _, test_example in tqdm(X_test.iterrows(), total=X_test.shape[0], desc=\"Классификация тестовых примеров\"):\n",
    "        # Преобразование тестового примера в множество признаков\n",
    "        test_set = set(test_example[test_example == 1].index)\n",
    "        \n",
    "        # Пересечения с положительными и отрицательными примерами\n",
    "        pos_intersections = [\n",
    "            set(pos_example[pos_example == 1].index) & test_set for _, pos_example in C_plus.iterrows()\n",
    "        ]\n",
    "        neg_intersections = [\n",
    "            set(neg_example[neg_example == 1].index) & test_set for _, neg_example in C_minus.iterrows()\n",
    "        ]\n",
    "        print(min_cardinality)\n",
    "        # Подсчет валидных пересечений для положительных примеров\n",
    "        pos_valid_count = sum(\n",
    "            1 for intersection in pos_intersections \n",
    "            if len(intersection) >= min_cardinality and not any(intersection == neg_intersection for neg_intersection in neg_intersections)\n",
    "        )\n",
    "        # Подсчет валидных пересечений для отрицательных примеров\n",
    "        neg_valid_count = sum(\n",
    "            1 for intersection in neg_intersections \n",
    "            if len(intersection) >= min_cardinality and not any(intersection == pos_intersection for pos_intersection in pos_intersections)\n",
    "        )\n",
    "        print(pos_valid_count, neg_valid_count)\n",
    "        # Принятие решения на основе правила агрегации\n",
    "        if pos_valid_count > max_counter_examples:\n",
    "            predictions.append(1)\n",
    "        elif neg_valid_count > max_counter_examples:\n",
    "            predictions.append(0)\n",
    "        else:\n",
    "            # Если не решено, выбираем большинство класса\n",
    "            predictions.append(1 if len(C_plus) > len(C_minus) else 0)\n",
    "    \n",
    "    return predictions\n",
    "\n",
    "# Эксперимент с настройкой параметров\n",
    "best_f1 = 0\n",
    "best_params = {}\n",
    "\n",
    "for max_ce in tqdm(range(1, 10), desc=\"Подбор max_counter_examples\"):  # Пробуем значения max_ce\n",
    "    for min_card in tqdm(range(1, 5), desc=\"Подбор min_cardinality\", leave=False):  # Пробуем значения min_card\n",
    "        predictions = lazy_fca_classification(C_plus_balanced, C_minus_balanced, X_test, \n",
    "                                              max_counter_examples=max_ce, \n",
    "                                              min_cardinality=min_card)\n",
    "        # Оценка\n",
    "        f1 = f1_score(y_test, predictions)\n",
    "        if f1 > best_f1:\n",
    "            best_f1 = f1\n",
    "            best_params = {'max_counter_examples': max_ce, 'min_cardinality': min_card}\n",
    "\n",
    "print(f\"Лучшие параметры: {best_params}, F1-Score: {best_f1:.2f}\")\n",
    "\n",
    "# Применение лучших параметров\n",
    "final_predictions = lazy_fca_classification(\n",
    "    C_plus_balanced, \n",
    "    C_minus_balanced, \n",
    "    X_test, \n",
    "    max_counter_examples=best_params['max_counter_examples'], \n",
    "    min_cardinality=best_params['min_cardinality']\n",
    ")\n",
    "\n",
    "# Оценка качества модели\n",
    "print(\"Итоговая оценка модели:\")\n",
    "print(classification_report(y_test, final_predictions))"
   ]
  },
  {
   "cell_type": "code",
   "execution_count": 238,
   "id": "035046e7",
   "metadata": {},
   "outputs": [
    {
     "name": "stdout",
     "output_type": "stream",
     "text": [
      "\n",
      "Quality Metrics:\n",
      "True Positive (TP): 48.0000\n",
      "True Negative (TN): 0.0000\n",
      "False Positive (FP): 25.0000\n",
      "False Negative (FN): 0.0000\n",
      "True Negative Rate (Specificity): 0.0000\n",
      "Negative Predictive Value (NPV): 0.0000\n",
      "False Positive Rate (FPR): 1.0000\n",
      "False Discovery Rate (FDR): 0.3425\n",
      "Accuracy: 0.6575\n",
      "Precision: 0.6575\n",
      "Recall (True Positive Rate): 1.0000\n",
      "F1 Score: 0.7934\n"
     ]
    }
   ],
   "source": [
    "from sklearn.metrics import confusion_matrix\n",
    "\n",
    "# Вычисление метрик качества\n",
    "def calculate_metrics(y_true, y_pred):\n",
    "    # Матрица ошибок\n",
    "    tn, fp, fn, tp = confusion_matrix(y_true, y_pred).ravel()\n",
    "    \n",
    "    # Метрики\n",
    "    metrics = {\n",
    "        'True Positive (TP)': tp,\n",
    "        'True Negative (TN)': tn,\n",
    "        'False Positive (FP)': fp,\n",
    "        'False Negative (FN)': fn,\n",
    "        'True Negative Rate (Specificity)': tn / (tn + fp) if (tn + fp) > 0 else 0,\n",
    "        'Negative Predictive Value (NPV)': tn / (tn + fn) if (tn + fn) > 0 else 0,\n",
    "        'False Positive Rate (FPR)': fp / (fp + tn) if (fp + tn) > 0 else 0,\n",
    "        'False Discovery Rate (FDR)': fp / (fp + tp) if (fp + tp) > 0 else 0,\n",
    "        'Accuracy': (tp + tn) / (tp + tn + fp + fn) if (tp + tn + fp + fn) > 0 else 0,\n",
    "        'Precision': tp / (tp + fp) if (tp + fp) > 0 else 0,\n",
    "        'Recall (True Positive Rate)': tp / (tp + fn) if (tp + fn) > 0 else 0,\n",
    "        'F1 Score': 2 * tp / (2 * tp + fp + fn) if (2 * tp + fp + fn) > 0 else 0\n",
    "    }\n",
    "    return metrics\n",
    "\n",
    "# Расчет метрик\n",
    "metrics = calculate_metrics(y_test, final_predictions)\n",
    "\n",
    "# Вывод метрик\n",
    "print(\"\\nQuality Metrics:\")\n",
    "for metric_name, value in metrics.items():\n",
    "    print(f\"{metric_name}: {value:.4f}\")"
   ]
  },
  {
   "cell_type": "code",
   "execution_count": 215,
   "id": "e3ea4626",
   "metadata": {},
   "outputs": [
    {
     "name": "stderr",
     "output_type": "stream",
     "text": [
      "Training classifiers:   0%|          | 0/7 [00:00<?, ?it/s]C:\\ProgramData\\Anaconda3\\lib\\site-packages\\sklearn\\neighbors\\_classification.py:228: FutureWarning: Unlike other reduction functions (e.g. `skew`, `kurtosis`), the default behavior of `mode` typically preserves the axis it acts along. In SciPy 1.11.0, this behavior will change: the default value of `keepdims` will become False, the `axis` over which the statistic is taken will be eliminated, and the value None will no longer be accepted. Set `keepdims` to True or False to avoid this warning.\n",
      "  mode, _ = stats.mode(_y[neigh_ind, k], axis=1)\n",
      "Training classifiers:  86%|████████▌ | 6/7 [00:00<00:00, 18.25it/s]C:\\ProgramData\\Anaconda3\\lib\\site-packages\\xgboost\\core.py:158: UserWarning: [21:44:09] WARNING: C:\\buildkite-agent\\builds\\buildkite-windows-cpu-autoscaling-group-i-0c55ff5f71b100e98-1\\xgboost\\xgboost-ci-windows\\src\\learner.cc:740: \n",
      "Parameters: { \"use_label_encoder\" } are not used.\n",
      "\n",
      "  warnings.warn(smsg, UserWarning)\n",
      "Training classifiers: 100%|██████████| 7/7 [00:00<00:00, 16.00it/s]"
     ]
    },
    {
     "name": "stdout",
     "output_type": "stream",
     "text": [
      "                        Accuracy  Precision    Recall  F1 Score\n",
      "Support Vector Machine  0.917808   0.917808  0.917808  0.917808\n",
      "Random Forest           0.904110   0.903516  0.904110  0.903625\n",
      "Decision Tree           0.890411   0.889577  0.890411  0.889246\n",
      "XGBoost                 0.876712   0.875943  0.876712  0.874646\n",
      "Logistic Regression     0.849315   0.848139  0.849315  0.848554\n",
      "K Nearest Neighbor      0.849315   0.847484  0.849315  0.846789\n",
      "Naive Bayes             0.767123   0.782680  0.767123  0.771311\n"
     ]
    },
    {
     "name": "stderr",
     "output_type": "stream",
     "text": [
      "\n"
     ]
    }
   ],
   "source": [
    "from sklearn.neighbors import KNeighborsClassifier\n",
    "from sklearn.naive_bayes import GaussianNB\n",
    "from sklearn.linear_model import LogisticRegression\n",
    "from sklearn.svm import SVC\n",
    "from sklearn.tree import DecisionTreeClassifier\n",
    "from sklearn.ensemble import RandomForestClassifier\n",
    "from xgboost import XGBClassifier\n",
    "# Prepare a dictionary to store results\n",
    "results = {}\n",
    "\n",
    "# List of classifiers to evaluate\n",
    "classifiers = {\n",
    "    \"K Nearest Neighbor\": KNeighborsClassifier(),\n",
    "    \"Naive Bayes\": GaussianNB(),\n",
    "    \"Logistic Regression\": LogisticRegression(max_iter=1000, random_state=42),\n",
    "    \"Support Vector Machine\": SVC(random_state=42),\n",
    "    \"Decision Tree\": DecisionTreeClassifier(random_state=42),\n",
    "    \"Random Forest\": RandomForestClassifier(random_state=42),\n",
    "    \"XGBoost\": XGBClassifier(use_label_encoder=False, eval_metric='logloss', random_state=42)\n",
    "}\n",
    "\n",
    "# Loop through classifiers\n",
    "for name, clf in tqdm(classifiers.items(), desc=\"Training classifiers\"):\n",
    "    # Train the classifier\n",
    "    clf.fit(X_train, y_train)\n",
    "    \n",
    "    # Make predictions\n",
    "    y_pred = clf.predict(X_test)\n",
    "    \n",
    "    # Evaluate the model\n",
    "    report = classification_report(y_test, y_pred, output_dict=True)\n",
    "    \n",
    "    # Store results\n",
    "    results[name] = {\n",
    "        \"Accuracy\": report['accuracy'],\n",
    "        \"Precision\": report['weighted avg']['precision'],\n",
    "        \"Recall\": report['weighted avg']['recall'],\n",
    "        \"F1 Score\": report['weighted avg']['f1-score']\n",
    "    }\n",
    "\n",
    "# Print the comparison table\n",
    "results_df = pd.DataFrame(results).T\n",
    "print(results_df.sort_values(by=\"F1 Score\", ascending=False))"
   ]
  },
  {
   "cell_type": "code",
   "execution_count": null,
   "id": "7242b3cf",
   "metadata": {},
   "outputs": [],
   "source": []
  },
  {
   "cell_type": "code",
   "execution_count": null,
   "id": "55d8024a",
   "metadata": {},
   "outputs": [],
   "source": []
  },
  {
   "cell_type": "code",
   "execution_count": null,
   "id": "022831d1",
   "metadata": {},
   "outputs": [],
   "source": []
  },
  {
   "cell_type": "code",
   "execution_count": null,
   "id": "aff4e4a7",
   "metadata": {},
   "outputs": [],
   "source": []
  },
  {
   "cell_type": "code",
   "execution_count": null,
   "id": "2173abe0",
   "metadata": {},
   "outputs": [],
   "source": []
  }
 ],
 "metadata": {
  "kernelspec": {
   "display_name": "Python 3 (ipykernel)",
   "language": "python",
   "name": "python3"
  },
  "language_info": {
   "codemirror_mode": {
    "name": "ipython",
    "version": 3
   },
   "file_extension": ".py",
   "mimetype": "text/x-python",
   "name": "python",
   "nbconvert_exporter": "python",
   "pygments_lexer": "ipython3",
   "version": "3.9.13"
  }
 },
 "nbformat": 4,
 "nbformat_minor": 5
}
